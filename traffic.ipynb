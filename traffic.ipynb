{
 "cells": [
  {
   "cell_type": "markdown",
   "metadata": {},
   "source": [
    "# **Traffic Incidents optimization**"
   ]
  },
  {
   "cell_type": "markdown",
   "metadata": {},
   "source": [
    "## **Context**"
   ]
  },
  {
   "cell_type": "markdown",
   "metadata": {},
   "source": [
    "## **Objectives**"
   ]
  },
  {
   "cell_type": "markdown",
   "metadata": {},
   "source": [
    "## **Model formulation**"
   ]
  },
  {
   "cell_type": "markdown",
   "metadata": {},
   "source": [
    "## **Model implementation**"
   ]
  },
  {
   "cell_type": "markdown",
   "metadata": {},
   "source": [
    "### Imports"
   ]
  },
  {
   "cell_type": "code",
   "execution_count": 1,
   "metadata": {},
   "outputs": [],
   "source": [
    "import cvxpy as cp\n",
    "import numpy as np\n",
    "np.set_printoptions(precision=3, suppress=True)"
   ]
  },
  {
   "cell_type": "markdown",
   "metadata": {},
   "source": [
    "First step is to maximize the severities of the incidents under current response resources(Number of available agents)"
   ]
  },
  {
   "cell_type": "code",
   "execution_count": 2,
   "metadata": {},
   "outputs": [
    {
     "data": {
      "text/plain": [
       "3.0"
      ]
     },
     "execution_count": 2,
     "metadata": {},
     "output_type": "execute_result"
    }
   ],
   "source": [
    "i = 3 # number of agents\n",
    "j = 5  # number of incidents\n",
    "\n",
    "b = np.array([1, 2, 3, 2, 1]) # agents needed per incidents\n",
    "\n",
    "x = cp.Variable((i, j), boolean=True) # agents-incidents matrix\n",
    "z = cp.Variable(j, boolean=True) # incidents coverage vector\n",
    "\n",
    "objective = cp.Maximize(b@z) \n",
    "\n",
    "constraints = [cp.sum(x, axis=0) >= cp.multiply(b, z), # required agents per incidents\n",
    "               cp.sum(x, axis=1) <= 1 # one agent covers at max. one incident\n",
    "               ]\n",
    "               \n",
    "problem = cp.Problem(objective, constraints)\n",
    "\n",
    "problem.solve()"
   ]
  },
  {
   "cell_type": "code",
   "execution_count": 3,
   "metadata": {},
   "outputs": [
    {
     "name": "stdout",
     "output_type": "stream",
     "text": [
      "Priotities\n",
      " [1 2 3 2 1]\n",
      "\n",
      "Agents :\n",
      " [[0. 0. 1. 0. 0.]\n",
      " [0. 0. 1. 0. 0.]\n",
      " [0. 0. 1. 0. 0.]]\n",
      "\n",
      "Incidents:\n",
      " [0. 0. 1. 0. 0.]\n",
      "\n"
     ]
    }
   ],
   "source": [
    "print(\"Priotities\\n\", b, end=\"\\n\\n\")\n",
    "print(\"Agents :\\n\", x.value, end=\"\\n\\n\")\n",
    "print(\"Incidents:\\n\", z.value, end=\"\\n\\n\")"
   ]
  },
  {
   "cell_type": "markdown",
   "metadata": {},
   "source": [
    "Next step is to minize the total travel time of all the agents"
   ]
  },
  {
   "cell_type": "code",
   "execution_count": 37,
   "metadata": {},
   "outputs": [
    {
     "name": "stdout",
     "output_type": "stream",
     "text": [
      "var37\n"
     ]
    },
    {
     "data": {
      "text/plain": [
       "inf"
      ]
     },
     "execution_count": 37,
     "metadata": {},
     "output_type": "execute_result"
    }
   ],
   "source": [
    "t = np.random.random((i, j)) \n",
    "\n",
    "print(x)\n",
    "objective = cp.Minimize(cp.sum(cp.sum(cp.multiply(x, t), axis=0)))\n",
    "\n",
    "\n",
    "constraints = [cp.sum(x, axis=0) >= b@z.value, # required agents per incidents\n",
    "               cp.sum(x, axis=1) <= 1 # one agent covers at max. one incident\n",
    "               ]\n",
    "               \n",
    "problem = cp.Problem(objective, constraints)\n",
    "\n",
    "problem.solve(solver=\"ECOS_BB\",) #verbose=True)"
   ]
  },
  {
   "cell_type": "markdown",
   "metadata": {},
   "source": [
    "## **Model in practice**"
   ]
  }
 ],
 "metadata": {
  "kernelspec": {
   "display_name": "Python 3.10.4 ('optimization')",
   "language": "python",
   "name": "python3"
  },
  "language_info": {
   "codemirror_mode": {
    "name": "ipython",
    "version": 3
   },
   "file_extension": ".py",
   "mimetype": "text/x-python",
   "name": "python",
   "nbconvert_exporter": "python",
   "pygments_lexer": "ipython3",
   "version": "3.10.4"
  },
  "orig_nbformat": 4,
  "vscode": {
   "interpreter": {
    "hash": "de77474a33fd8f1ee12bf12da6b5b7652dc21eff8e6790427496dec9667dc888"
   }
  }
 },
 "nbformat": 4,
 "nbformat_minor": 2
}
