{
 "cells": [
  {
   "cell_type": "markdown",
   "metadata": {},
   "source": [
    "# **Traffic Incidents optimization**"
   ]
  },
  {
   "cell_type": "markdown",
   "metadata": {},
   "source": [
    "## **Context**"
   ]
  },
  {
   "cell_type": "markdown",
   "metadata": {},
   "source": [
    "## **Objectives**"
   ]
  },
  {
   "cell_type": "markdown",
   "metadata": {},
   "source": [
    "## **Model formulation**"
   ]
  },
  {
   "cell_type": "markdown",
   "metadata": {},
   "source": [
    "## **Model implementation**"
   ]
  },
  {
   "cell_type": "markdown",
   "metadata": {},
   "source": [
    "Imports"
   ]
  },
  {
   "cell_type": "code",
   "execution_count": 4,
   "metadata": {},
   "outputs": [],
   "source": [
    "import cvxpy as cp\n",
    "import numpy as np\n",
    "import pandas as pd\n",
    "# np.set_printoptions(precision=3, suppress=True)"
   ]
  },
  {
   "cell_type": "markdown",
   "metadata": {},
   "source": [
    "First step is to maximize the severities of the incidents under current response resources(Number of available agents)"
   ]
  },
  {
   "cell_type": "code",
   "execution_count": 5,
   "metadata": {},
   "outputs": [],
   "source": [
    "i = 3 # number of agents\n",
    "j = 5  # number of incidents\n",
    "\n",
    "b = np.array([1, 2, 3, 2, 1]) # agents needed per incidents"
   ]
  },
  {
   "cell_type": "code",
   "execution_count": 6,
   "metadata": {},
   "outputs": [
    {
     "name": "stdout",
     "output_type": "stream",
     "text": [
      "Agents needed:\n",
      " [1 2 3 2 1]\n"
     ]
    }
   ],
   "source": [
    "print(\"Agents needed:\\n\", b, end=\"\\n\")"
   ]
  },
  {
   "cell_type": "code",
   "execution_count": 7,
   "metadata": {},
   "outputs": [
    {
     "name": "stdout",
     "output_type": "stream",
     "text": [
      "===============================================================================\n",
      "                                     CVXPY                                     \n",
      "                                     v1.2.1                                    \n",
      "===============================================================================\n",
      "(CVXPY) Jun 29 10:26:54 AM: Your problem has 20 variables, 2 constraints, and 0 parameters.\n",
      "(CVXPY) Jun 29 10:26:54 AM: It is compliant with the following grammars: DCP, DQCP\n",
      "(CVXPY) Jun 29 10:26:54 AM: (If you need to solve this problem multiple times, but with different data, consider using parameters.)\n",
      "(CVXPY) Jun 29 10:26:54 AM: CVXPY will first compile your problem; then, it will invoke a numerical solver to obtain a solution.\n"
     ]
    },
    {
     "ename": "SolverError",
     "evalue": "\n\n                    You need a mixed-integer solver for this model. Refer to the documentation\n                        https://www.cvxpy.org/tutorial/advanced/index.html#mixed-integer-programs\n                    for discussion on this topic.\n\n                    Quick fix 1: if you install the python package CVXOPT (pip install cvxopt),\n                    then CVXPY can use the open-source mixed-integer linear programming\n                    solver `GLPK`. If your problem is nonlinear then you can install SCIP\n                    (pip install pyscipopt).\n\n                    Quick fix 2: you can explicitly specify solver='ECOS_BB'. This may result\n                    in incorrect solutions and is not recommended.\n                ",
     "output_type": "error",
     "traceback": [
      "\u001b[1;31m---------------------------------------------------------------------------\u001b[0m",
      "\u001b[1;31mSolverError\u001b[0m                               Traceback (most recent call last)",
      "\u001b[1;32mc:\\Users\\itrmi\\OneDrive\\Documentos\\JPGR\\GitHub\\traffic-incident-optimization\\traffic.ipynb Cell 11'\u001b[0m in \u001b[0;36m<cell line: 12>\u001b[1;34m()\u001b[0m\n\u001b[0;32m      <a href='vscode-notebook-cell:/c%3A/Users/itrmi/OneDrive/Documentos/JPGR/GitHub/traffic-incident-optimization/traffic.ipynb#ch0000010?line=5'>6</a>\u001b[0m constraints \u001b[39m=\u001b[39m [cp\u001b[39m.\u001b[39msum(x, axis\u001b[39m=\u001b[39m\u001b[39m0\u001b[39m) \u001b[39m>\u001b[39m\u001b[39m=\u001b[39m cp\u001b[39m.\u001b[39mmultiply(b, z), \u001b[39m# required agents per incidents\u001b[39;00m\n\u001b[0;32m      <a href='vscode-notebook-cell:/c%3A/Users/itrmi/OneDrive/Documentos/JPGR/GitHub/traffic-incident-optimization/traffic.ipynb#ch0000010?line=6'>7</a>\u001b[0m                cp\u001b[39m.\u001b[39msum(x, axis\u001b[39m=\u001b[39m\u001b[39m1\u001b[39m) \u001b[39m<\u001b[39m\u001b[39m=\u001b[39m \u001b[39m1\u001b[39m \u001b[39m# one agent covers at max. one incident\u001b[39;00m\n\u001b[0;32m      <a href='vscode-notebook-cell:/c%3A/Users/itrmi/OneDrive/Documentos/JPGR/GitHub/traffic-incident-optimization/traffic.ipynb#ch0000010?line=7'>8</a>\u001b[0m                ]\n\u001b[0;32m     <a href='vscode-notebook-cell:/c%3A/Users/itrmi/OneDrive/Documentos/JPGR/GitHub/traffic-incident-optimization/traffic.ipynb#ch0000010?line=9'>10</a>\u001b[0m problem \u001b[39m=\u001b[39m cp\u001b[39m.\u001b[39mProblem(objective, constraints)\n\u001b[1;32m---> <a href='vscode-notebook-cell:/c%3A/Users/itrmi/OneDrive/Documentos/JPGR/GitHub/traffic-incident-optimization/traffic.ipynb#ch0000010?line=11'>12</a>\u001b[0m problem\u001b[39m.\u001b[39;49msolve(verbose\u001b[39m=\u001b[39;49m\u001b[39m1\u001b[39;49m)\n",
      "File \u001b[1;32mc:\\Python310\\lib\\site-packages\\cvxpy\\problems\\problem.py:481\u001b[0m, in \u001b[0;36mProblem.solve\u001b[1;34m(self, *args, **kwargs)\u001b[0m\n\u001b[0;32m    479\u001b[0m \u001b[39melse\u001b[39;00m:\n\u001b[0;32m    480\u001b[0m     solve_func \u001b[39m=\u001b[39m Problem\u001b[39m.\u001b[39m_solve\n\u001b[1;32m--> 481\u001b[0m \u001b[39mreturn\u001b[39;00m solve_func(\u001b[39mself\u001b[39m, \u001b[39m*\u001b[39margs, \u001b[39m*\u001b[39m\u001b[39m*\u001b[39mkwargs)\n",
      "File \u001b[1;32mc:\\Python310\\lib\\site-packages\\cvxpy\\problems\\problem.py:1007\u001b[0m, in \u001b[0;36mProblem._solve\u001b[1;34m(self, solver, warm_start, verbose, gp, qcp, requires_grad, enforce_dpp, ignore_dpp, **kwargs)\u001b[0m\n\u001b[0;32m   1004\u001b[0m         \u001b[39mself\u001b[39m\u001b[39m.\u001b[39munpack(chain\u001b[39m.\u001b[39mretrieve(soln))\n\u001b[0;32m   1005\u001b[0m         \u001b[39mreturn\u001b[39;00m \u001b[39mself\u001b[39m\u001b[39m.\u001b[39mvalue\n\u001b[1;32m-> 1007\u001b[0m data, solving_chain, inverse_data \u001b[39m=\u001b[39m \u001b[39mself\u001b[39;49m\u001b[39m.\u001b[39;49mget_problem_data(\n\u001b[0;32m   1008\u001b[0m     solver, gp, enforce_dpp, ignore_dpp, verbose)\n\u001b[0;32m   1010\u001b[0m \u001b[39mif\u001b[39;00m verbose:\n\u001b[0;32m   1011\u001b[0m     \u001b[39mprint\u001b[39m(_NUM_SOLVER_STR)\n",
      "File \u001b[1;32mc:\\Python310\\lib\\site-packages\\cvxpy\\problems\\problem.py:607\u001b[0m, in \u001b[0;36mProblem.get_problem_data\u001b[1;34m(self, solver, gp, enforce_dpp, ignore_dpp, verbose)\u001b[0m\n\u001b[0;32m    605\u001b[0m \u001b[39mif\u001b[39;00m key \u001b[39m!=\u001b[39m \u001b[39mself\u001b[39m\u001b[39m.\u001b[39m_cache\u001b[39m.\u001b[39mkey:\n\u001b[0;32m    606\u001b[0m     \u001b[39mself\u001b[39m\u001b[39m.\u001b[39m_cache\u001b[39m.\u001b[39minvalidate()\n\u001b[1;32m--> 607\u001b[0m     solving_chain \u001b[39m=\u001b[39m \u001b[39mself\u001b[39;49m\u001b[39m.\u001b[39;49m_construct_chain(\n\u001b[0;32m    608\u001b[0m         solver\u001b[39m=\u001b[39;49msolver, gp\u001b[39m=\u001b[39;49mgp,\n\u001b[0;32m    609\u001b[0m         enforce_dpp\u001b[39m=\u001b[39;49menforce_dpp,\n\u001b[0;32m    610\u001b[0m         ignore_dpp\u001b[39m=\u001b[39;49mignore_dpp)\n\u001b[0;32m    611\u001b[0m     \u001b[39mself\u001b[39m\u001b[39m.\u001b[39m_cache\u001b[39m.\u001b[39mkey \u001b[39m=\u001b[39m key\n\u001b[0;32m    612\u001b[0m     \u001b[39mself\u001b[39m\u001b[39m.\u001b[39m_cache\u001b[39m.\u001b[39msolving_chain \u001b[39m=\u001b[39m solving_chain\n",
      "File \u001b[1;32mc:\\Python310\\lib\\site-packages\\cvxpy\\problems\\problem.py:843\u001b[0m, in \u001b[0;36mProblem._construct_chain\u001b[1;34m(self, solver, gp, enforce_dpp, ignore_dpp)\u001b[0m\n\u001b[0;32m    813\u001b[0m \u001b[39mdef\u001b[39;00m \u001b[39m_construct_chain\u001b[39m(\n\u001b[0;32m    814\u001b[0m     \u001b[39mself\u001b[39m, solver: Optional[\u001b[39mstr\u001b[39m] \u001b[39m=\u001b[39m \u001b[39mNone\u001b[39;00m, gp: \u001b[39mbool\u001b[39m \u001b[39m=\u001b[39m \u001b[39mFalse\u001b[39;00m,\n\u001b[0;32m    815\u001b[0m     enforce_dpp: \u001b[39mbool\u001b[39m \u001b[39m=\u001b[39m \u001b[39mFalse\u001b[39;00m, ignore_dpp: \u001b[39mbool\u001b[39m \u001b[39m=\u001b[39m \u001b[39mFalse\u001b[39;00m\n\u001b[0;32m    816\u001b[0m ) \u001b[39m-\u001b[39m\u001b[39m>\u001b[39m SolvingChain:\n\u001b[0;32m    817\u001b[0m     \u001b[39m\"\"\"\u001b[39;00m\n\u001b[0;32m    818\u001b[0m \u001b[39m    Construct the chains required to reformulate and solve the problem.\u001b[39;00m\n\u001b[0;32m    819\u001b[0m \n\u001b[1;32m   (...)\u001b[0m\n\u001b[0;32m    841\u001b[0m \u001b[39m    A solving chain\u001b[39;00m\n\u001b[0;32m    842\u001b[0m \u001b[39m    \"\"\"\u001b[39;00m\n\u001b[1;32m--> 843\u001b[0m     candidate_solvers \u001b[39m=\u001b[39m \u001b[39mself\u001b[39;49m\u001b[39m.\u001b[39;49m_find_candidate_solvers(solver\u001b[39m=\u001b[39;49msolver, gp\u001b[39m=\u001b[39;49mgp)\n\u001b[0;32m    844\u001b[0m     \u001b[39mself\u001b[39m\u001b[39m.\u001b[39m_sort_candidate_solvers(candidate_solvers)\n\u001b[0;32m    845\u001b[0m     \u001b[39mreturn\u001b[39;00m construct_solving_chain(\u001b[39mself\u001b[39m, candidate_solvers, gp\u001b[39m=\u001b[39mgp,\n\u001b[0;32m    846\u001b[0m                                    enforce_dpp\u001b[39m=\u001b[39menforce_dpp,\n\u001b[0;32m    847\u001b[0m                                    ignore_dpp\u001b[39m=\u001b[39mignore_dpp)\n",
      "File \u001b[1;32mc:\\Python310\\lib\\site-packages\\cvxpy\\problems\\problem.py:760\u001b[0m, in \u001b[0;36mProblem._find_candidate_solvers\u001b[1;34m(self, solver, gp)\u001b[0m\n\u001b[0;32m    745\u001b[0m \u001b[39mif\u001b[39;00m slv_def\u001b[39m.\u001b[39mINSTALLED_MI_SOLVERS \u001b[39m==\u001b[39m [s\u001b[39m.\u001b[39mECOS_BB] \u001b[39mand\u001b[39;00m solver \u001b[39m!=\u001b[39m s\u001b[39m.\u001b[39mECOS_BB:\n\u001b[0;32m    746\u001b[0m     msg \u001b[39m=\u001b[39m \u001b[39m\"\"\"\u001b[39m\n\u001b[0;32m    747\u001b[0m \n\u001b[0;32m    748\u001b[0m \u001b[39m        You need a mixed-integer solver for this model. Refer to the documentation\u001b[39m\n\u001b[1;32m   (...)\u001b[0m\n\u001b[0;32m    758\u001b[0m \u001b[39m        in incorrect solutions and is not recommended.\u001b[39m\n\u001b[0;32m    759\u001b[0m \u001b[39m    \u001b[39m\u001b[39m\"\"\"\u001b[39m\n\u001b[1;32m--> 760\u001b[0m     \u001b[39mraise\u001b[39;00m error\u001b[39m.\u001b[39mSolverError(msg)\n\u001b[0;32m    761\u001b[0m \u001b[39m# TODO: provide a useful error message when the problem is nonlinear but\u001b[39;00m\n\u001b[0;32m    762\u001b[0m \u001b[39m#  the only installed mixed-integer solvers are MILP solvers (e.g., GLPK_MI).\u001b[39;00m\n\u001b[0;32m    763\u001b[0m candidates[\u001b[39m'\u001b[39m\u001b[39mqp_solvers\u001b[39m\u001b[39m'\u001b[39m] \u001b[39m=\u001b[39m [\n\u001b[0;32m    764\u001b[0m     s \u001b[39mfor\u001b[39;00m s \u001b[39min\u001b[39;00m candidates[\u001b[39m'\u001b[39m\u001b[39mqp_solvers\u001b[39m\u001b[39m'\u001b[39m]\n\u001b[0;32m    765\u001b[0m     \u001b[39mif\u001b[39;00m slv_def\u001b[39m.\u001b[39mSOLVER_MAP_QP[s]\u001b[39m.\u001b[39mMIP_CAPABLE]\n",
      "\u001b[1;31mSolverError\u001b[0m: \n\n                    You need a mixed-integer solver for this model. Refer to the documentation\n                        https://www.cvxpy.org/tutorial/advanced/index.html#mixed-integer-programs\n                    for discussion on this topic.\n\n                    Quick fix 1: if you install the python package CVXOPT (pip install cvxopt),\n                    then CVXPY can use the open-source mixed-integer linear programming\n                    solver `GLPK`. If your problem is nonlinear then you can install SCIP\n                    (pip install pyscipopt).\n\n                    Quick fix 2: you can explicitly specify solver='ECOS_BB'. This may result\n                    in incorrect solutions and is not recommended.\n                "
     ]
    }
   ],
   "source": [
    "x = cp.Variable((i, j), boolean=True) # agents-incidents matrix\n",
    "z = cp.Variable(j, boolean=True) # incidents coverage vector\n",
    "\n",
    "objective = cp.Maximize(b@z) \n",
    "\n",
    "constraints = [cp.sum(x, axis=0) >= cp.multiply(b, z), # required agents per incidents\n",
    "               cp.sum(x, axis=1) <= 1 # one agent covers at max. one incident\n",
    "               ]\n",
    "               \n",
    "problem = cp.Problem(objective, constraints)\n",
    "\n",
    "problem.solve(verbose=1)"
   ]
  },
  {
   "cell_type": "code",
   "execution_count": null,
   "metadata": {},
   "outputs": [
    {
     "name": "stdout",
     "output_type": "stream",
     "text": [
      "Agents :\n",
      " [[0. 0. 1. 0. 0.]\n",
      " [0. 0. 1. 0. 0.]\n",
      " [0. 0. 1. 0. 0.]]\n",
      "\n",
      "Incidents:\n",
      " [0. 0. 1. 0. 0.]\n"
     ]
    }
   ],
   "source": [
    "print(\"Agents :\\n\", x.value, end=\"\\n\\n\")\n",
    "print(\"Incidents:\\n\", z.value)"
   ]
  },
  {
   "cell_type": "markdown",
   "metadata": {},
   "source": [
    "Next step is to minize the total travel time of all the agents"
   ]
  },
  {
   "cell_type": "code",
   "execution_count": null,
   "metadata": {},
   "outputs": [
    {
     "ename": "NameError",
     "evalue": "name 'pd' is not defined",
     "output_type": "error",
     "traceback": [
      "\u001b[1;31m---------------------------------------------------------------------------\u001b[0m",
      "\u001b[1;31mNameError\u001b[0m                                 Traceback (most recent call last)",
      "\u001b[1;32mc:\\Users\\itrmi\\OneDrive\\Documentos\\JPGR\\GitHub\\traffic-incident-optimization\\traffic.ipynb Cell 7'\u001b[0m in \u001b[0;36m<cell line: 1>\u001b[1;34m()\u001b[0m\n\u001b[1;32m----> <a href='vscode-notebook-cell:/c%3A/Users/itrmi/OneDrive/Documentos/JPGR/GitHub/traffic-incident-optimization/traffic.ipynb#ch0000006?line=0'>1</a>\u001b[0m t \u001b[39m=\u001b[39m pd\u001b[39m.\u001b[39mread_csv(\u001b[39m\"\u001b[39m\u001b[39mdurations.csv\u001b[39m\u001b[39m\"\u001b[39m)\n\u001b[0;32m      <a href='vscode-notebook-cell:/c%3A/Users/itrmi/OneDrive/Documentos/JPGR/GitHub/traffic-incident-optimization/traffic.ipynb#ch0000006?line=1'>2</a>\u001b[0m t\n",
      "\u001b[1;31mNameError\u001b[0m: name 'pd' is not defined"
     ]
    }
   ],
   "source": [
    "t = pd.read_csv(\"durations.csv\")\n",
    "t"
   ]
  },
  {
   "cell_type": "code",
   "execution_count": null,
   "metadata": {},
   "outputs": [
    {
     "data": {
      "text/plain": [
       "1.693996824207376"
      ]
     },
     "execution_count": 14,
     "metadata": {},
     "output_type": "execute_result"
    }
   ],
   "source": [
    "objective = cp.Minimize(cp.sum(cp.sum(cp.multiply(x, t), axis=0)))\n",
    "\n",
    "\n",
    "constraints = [cp.sum(x, axis=0) >= cp.multiply(b, z.value), # required agents per incidents\n",
    "               cp.sum(x, axis=1) <= 1 # one agent covers at max. one incident\n",
    "               ]\n",
    "               \n",
    "problem = cp.Problem(objective, constraints)\n",
    "\n",
    "problem.solve()"
   ]
  },
  {
   "cell_type": "code",
   "execution_count": null,
   "metadata": {},
   "outputs": [
    {
     "data": {
      "text/plain": [
       "array([[0., 0., 1., 0., 0.],\n",
       "       [0., 0., 1., 0., 0.],\n",
       "       [0., 0., 1., 0., 0.]])"
      ]
     },
     "execution_count": 15,
     "metadata": {},
     "output_type": "execute_result"
    }
   ],
   "source": [
    "x.value"
   ]
  },
  {
   "cell_type": "markdown",
   "metadata": {},
   "source": [
    "## **Model in practice**"
   ]
  },
  {
   "cell_type": "code",
   "execution_count": null,
   "metadata": {},
   "outputs": [],
   "source": [
    "import pandas as pd"
   ]
  },
  {
   "cell_type": "code",
   "execution_count": null,
   "metadata": {},
   "outputs": [],
   "source": [
    "agents = pd.read_csv(\"agents_may.csv\")\n",
    "incidents = pd.read_csv(\"incidents_may.csv\")"
   ]
  },
  {
   "cell_type": "code",
   "execution_count": null,
   "metadata": {},
   "outputs": [
    {
     "data": {
      "text/html": [
       "<div>\n",
       "<style scoped>\n",
       "    .dataframe tbody tr th:only-of-type {\n",
       "        vertical-align: middle;\n",
       "    }\n",
       "\n",
       "    .dataframe tbody tr th {\n",
       "        vertical-align: top;\n",
       "    }\n",
       "\n",
       "    .dataframe thead th {\n",
       "        text-align: right;\n",
       "    }\n",
       "</style>\n",
       "<table border=\"1\" class=\"dataframe\">\n",
       "  <thead>\n",
       "    <tr style=\"text-align: right;\">\n",
       "      <th></th>\n",
       "      <th>id</th>\n",
       "      <th>source</th>\n",
       "      <th>type</th>\n",
       "      <th>state</th>\n",
       "      <th>priority</th>\n",
       "      <th>gravity</th>\n",
       "      <th>class</th>\n",
       "      <th>object</th>\n",
       "      <th>latitude</th>\n",
       "      <th>longitude</th>\n",
       "      <th>...</th>\n",
       "      <th>address</th>\n",
       "      <th>zone_id</th>\n",
       "      <th>orient</th>\n",
       "      <th>incident_time</th>\n",
       "      <th>incident_day</th>\n",
       "      <th>incident_weekday</th>\n",
       "      <th>incident_hour</th>\n",
       "      <th>implicated_type</th>\n",
       "      <th>injured_count</th>\n",
       "      <th>dead_count</th>\n",
       "    </tr>\n",
       "  </thead>\n",
       "  <tbody>\n",
       "    <tr>\n",
       "      <th>0</th>\n",
       "      <td>57518</td>\n",
       "      <td>NUSE</td>\n",
       "      <td>Choque</td>\n",
       "      <td>Cerrado</td>\n",
       "      <td>2</td>\n",
       "      <td>Simple</td>\n",
       "      <td>Siniestro</td>\n",
       "      <td>NaN</td>\n",
       "      <td>4.705279</td>\n",
       "      <td>-74.127686</td>\n",
       "      <td>...</td>\n",
       "      <td>Carrera 110 Calle 69 B</td>\n",
       "      <td>Zona 1</td>\n",
       "      <td>Sur - Norte</td>\n",
       "      <td>2022-04-30 23:59:00</td>\n",
       "      <td>30</td>\n",
       "      <td>5</td>\n",
       "      <td>23</td>\n",
       "      <td>Automóvil</td>\n",
       "      <td>0.0</td>\n",
       "      <td>0.0</td>\n",
       "    </tr>\n",
       "    <tr>\n",
       "      <th>1</th>\n",
       "      <td>57518</td>\n",
       "      <td>NUSE</td>\n",
       "      <td>Choque</td>\n",
       "      <td>Cerrado</td>\n",
       "      <td>2</td>\n",
       "      <td>Simple</td>\n",
       "      <td>Siniestro</td>\n",
       "      <td>NaN</td>\n",
       "      <td>4.705279</td>\n",
       "      <td>-74.127686</td>\n",
       "      <td>...</td>\n",
       "      <td>Carrera 110 Calle 69 B</td>\n",
       "      <td>Zona 1</td>\n",
       "      <td>Sur - Norte</td>\n",
       "      <td>2022-04-30 23:59:00</td>\n",
       "      <td>30</td>\n",
       "      <td>5</td>\n",
       "      <td>23</td>\n",
       "      <td>Automóvil</td>\n",
       "      <td>0.0</td>\n",
       "      <td>0.0</td>\n",
       "    </tr>\n",
       "    <tr>\n",
       "      <th>2</th>\n",
       "      <td>57519</td>\n",
       "      <td>NUSE</td>\n",
       "      <td>Choque</td>\n",
       "      <td>Cerrado</td>\n",
       "      <td>1</td>\n",
       "      <td>Simple</td>\n",
       "      <td>Siniestro</td>\n",
       "      <td>NaN</td>\n",
       "      <td>4.600571</td>\n",
       "      <td>-74.143379</td>\n",
       "      <td>...</td>\n",
       "      <td>Carrera 68I Calle 43 B SUR</td>\n",
       "      <td>Zona 2</td>\n",
       "      <td>Norte - sur</td>\n",
       "      <td>2022-04-30 23:54:00</td>\n",
       "      <td>30</td>\n",
       "      <td>5</td>\n",
       "      <td>23</td>\n",
       "      <td>Automóvil</td>\n",
       "      <td>0.0</td>\n",
       "      <td>0.0</td>\n",
       "    </tr>\n",
       "    <tr>\n",
       "      <th>3</th>\n",
       "      <td>57519</td>\n",
       "      <td>NUSE</td>\n",
       "      <td>Choque</td>\n",
       "      <td>Cerrado</td>\n",
       "      <td>1</td>\n",
       "      <td>Simple</td>\n",
       "      <td>Siniestro</td>\n",
       "      <td>NaN</td>\n",
       "      <td>4.600571</td>\n",
       "      <td>-74.143379</td>\n",
       "      <td>...</td>\n",
       "      <td>Carrera 68I Calle 43 B SUR</td>\n",
       "      <td>Zona 2</td>\n",
       "      <td>Norte - sur</td>\n",
       "      <td>2022-04-30 23:54:00</td>\n",
       "      <td>30</td>\n",
       "      <td>5</td>\n",
       "      <td>23</td>\n",
       "      <td>Automóvil</td>\n",
       "      <td>0.0</td>\n",
       "      <td>0.0</td>\n",
       "    </tr>\n",
       "    <tr>\n",
       "      <th>4</th>\n",
       "      <td>57519</td>\n",
       "      <td>NUSE</td>\n",
       "      <td>Choque</td>\n",
       "      <td>Cerrado</td>\n",
       "      <td>1</td>\n",
       "      <td>Simple</td>\n",
       "      <td>Siniestro</td>\n",
       "      <td>NaN</td>\n",
       "      <td>4.600571</td>\n",
       "      <td>-74.143379</td>\n",
       "      <td>...</td>\n",
       "      <td>Carrera 68I Calle 43 B SUR</td>\n",
       "      <td>Zona 2</td>\n",
       "      <td>Norte - sur</td>\n",
       "      <td>2022-04-30 23:54:00</td>\n",
       "      <td>30</td>\n",
       "      <td>5</td>\n",
       "      <td>23</td>\n",
       "      <td>Automóvil</td>\n",
       "      <td>0.0</td>\n",
       "      <td>0.0</td>\n",
       "    </tr>\n",
       "  </tbody>\n",
       "</table>\n",
       "<p>5 rows × 23 columns</p>\n",
       "</div>"
      ],
      "text/plain": [
       "      id source    type    state  priority gravity      class object  \\\n",
       "0  57518   NUSE  Choque  Cerrado         2  Simple  Siniestro    NaN   \n",
       "1  57518   NUSE  Choque  Cerrado         2  Simple  Siniestro    NaN   \n",
       "2  57519   NUSE  Choque  Cerrado         1  Simple  Siniestro    NaN   \n",
       "3  57519   NUSE  Choque  Cerrado         1  Simple  Siniestro    NaN   \n",
       "4  57519   NUSE  Choque  Cerrado         1  Simple  Siniestro    NaN   \n",
       "\n",
       "   latitude  longitude  ...                     address zone_id       orient  \\\n",
       "0  4.705279 -74.127686  ...      Carrera 110 Calle 69 B  Zona 1  Sur - Norte   \n",
       "1  4.705279 -74.127686  ...      Carrera 110 Calle 69 B  Zona 1  Sur - Norte   \n",
       "2  4.600571 -74.143379  ...  Carrera 68I Calle 43 B SUR  Zona 2  Norte - sur   \n",
       "3  4.600571 -74.143379  ...  Carrera 68I Calle 43 B SUR  Zona 2  Norte - sur   \n",
       "4  4.600571 -74.143379  ...  Carrera 68I Calle 43 B SUR  Zona 2  Norte - sur   \n",
       "\n",
       "         incident_time incident_day incident_weekday incident_hour  \\\n",
       "0  2022-04-30 23:59:00           30                5            23   \n",
       "1  2022-04-30 23:59:00           30                5            23   \n",
       "2  2022-04-30 23:54:00           30                5            23   \n",
       "3  2022-04-30 23:54:00           30                5            23   \n",
       "4  2022-04-30 23:54:00           30                5            23   \n",
       "\n",
       "   implicated_type  injured_count  dead_count  \n",
       "0        Automóvil            0.0         0.0  \n",
       "1        Automóvil            0.0         0.0  \n",
       "2        Automóvil            0.0         0.0  \n",
       "3        Automóvil            0.0         0.0  \n",
       "4        Automóvil            0.0         0.0  \n",
       "\n",
       "[5 rows x 23 columns]"
      ]
     },
     "execution_count": 3,
     "metadata": {},
     "output_type": "execute_result"
    }
   ],
   "source": [
    "incidents.head()"
   ]
  },
  {
   "cell_type": "code",
   "execution_count": null,
   "metadata": {},
   "outputs": [
    {
     "data": {
      "text/html": [
       "<div>\n",
       "<style scoped>\n",
       "    .dataframe tbody tr th:only-of-type {\n",
       "        vertical-align: middle;\n",
       "    }\n",
       "\n",
       "    .dataframe tbody tr th {\n",
       "        vertical-align: top;\n",
       "    }\n",
       "\n",
       "    .dataframe thead th {\n",
       "        text-align: right;\n",
       "    }\n",
       "</style>\n",
       "<table border=\"1\" class=\"dataframe\">\n",
       "  <thead>\n",
       "    <tr style=\"text-align: right;\">\n",
       "      <th></th>\n",
       "      <th>id</th>\n",
       "      <th>dev_id</th>\n",
       "      <th>read_time</th>\n",
       "      <th>time_stamp</th>\n",
       "      <th>speed</th>\n",
       "      <th>grp_name</th>\n",
       "      <th>localidad</th>\n",
       "      <th>latitude</th>\n",
       "      <th>longitude</th>\n",
       "      <th>devicegroupid</th>\n",
       "    </tr>\n",
       "  </thead>\n",
       "  <tbody>\n",
       "    <tr>\n",
       "      <th>0</th>\n",
       "      <td>1651381596</td>\n",
       "      <td>868033050089715</td>\n",
       "      <td>2022-05-01 00:06:36</td>\n",
       "      <td>2022-05-01 00:01:40</td>\n",
       "      <td>0.053087</td>\n",
       "      <td>S60</td>\n",
       "      <td>RAFAEL URIBE URIBE</td>\n",
       "      <td>4.551646</td>\n",
       "      <td>-74.108515</td>\n",
       "      <td>6</td>\n",
       "    </tr>\n",
       "    <tr>\n",
       "      <th>1</th>\n",
       "      <td>1651381596</td>\n",
       "      <td>868033050102534</td>\n",
       "      <td>2022-05-01 00:06:36</td>\n",
       "      <td>2022-05-01 00:01:42</td>\n",
       "      <td>0.000000</td>\n",
       "      <td>S60</td>\n",
       "      <td>KENNEDY</td>\n",
       "      <td>4.650030</td>\n",
       "      <td>-74.147322</td>\n",
       "      <td>6</td>\n",
       "    </tr>\n",
       "    <tr>\n",
       "      <th>2</th>\n",
       "      <td>1651381596</td>\n",
       "      <td>868033050090085</td>\n",
       "      <td>2022-05-01 00:06:36</td>\n",
       "      <td>2022-05-01 00:01:47</td>\n",
       "      <td>0.000000</td>\n",
       "      <td>S60</td>\n",
       "      <td>RAFAEL URIBE URIBE</td>\n",
       "      <td>4.581688</td>\n",
       "      <td>-74.128348</td>\n",
       "      <td>6</td>\n",
       "    </tr>\n",
       "    <tr>\n",
       "      <th>3</th>\n",
       "      <td>1651381596</td>\n",
       "      <td>868033050103508</td>\n",
       "      <td>2022-05-01 00:06:36</td>\n",
       "      <td>2022-05-01 00:01:52</td>\n",
       "      <td>0.000000</td>\n",
       "      <td>S60</td>\n",
       "      <td>CIUDAD BOLIVAR</td>\n",
       "      <td>4.551098</td>\n",
       "      <td>-74.147635</td>\n",
       "      <td>6</td>\n",
       "    </tr>\n",
       "    <tr>\n",
       "      <th>4</th>\n",
       "      <td>1651381596</td>\n",
       "      <td>868033050101650</td>\n",
       "      <td>2022-05-01 00:06:36</td>\n",
       "      <td>2022-05-01 00:01:55</td>\n",
       "      <td>0.000000</td>\n",
       "      <td>S60</td>\n",
       "      <td>KENNEDY</td>\n",
       "      <td>4.619840</td>\n",
       "      <td>-74.159668</td>\n",
       "      <td>6</td>\n",
       "    </tr>\n",
       "  </tbody>\n",
       "</table>\n",
       "</div>"
      ],
      "text/plain": [
       "           id           dev_id            read_time           time_stamp  \\\n",
       "0  1651381596  868033050089715  2022-05-01 00:06:36  2022-05-01 00:01:40   \n",
       "1  1651381596  868033050102534  2022-05-01 00:06:36  2022-05-01 00:01:42   \n",
       "2  1651381596  868033050090085  2022-05-01 00:06:36  2022-05-01 00:01:47   \n",
       "3  1651381596  868033050103508  2022-05-01 00:06:36  2022-05-01 00:01:52   \n",
       "4  1651381596  868033050101650  2022-05-01 00:06:36  2022-05-01 00:01:55   \n",
       "\n",
       "      speed grp_name           localidad  latitude  longitude  devicegroupid  \n",
       "0  0.053087      S60  RAFAEL URIBE URIBE  4.551646 -74.108515              6  \n",
       "1  0.000000      S60             KENNEDY  4.650030 -74.147322              6  \n",
       "2  0.000000      S60  RAFAEL URIBE URIBE  4.581688 -74.128348              6  \n",
       "3  0.000000      S60      CIUDAD BOLIVAR  4.551098 -74.147635              6  \n",
       "4  0.000000      S60             KENNEDY  4.619840 -74.159668              6  "
      ]
     },
     "execution_count": 4,
     "metadata": {},
     "output_type": "execute_result"
    }
   ],
   "source": [
    "agents.head()"
   ]
  }
 ],
 "metadata": {
  "kernelspec": {
   "display_name": "Python 3.10.5 64-bit",
   "language": "python",
   "name": "python3"
  },
  "language_info": {
   "codemirror_mode": {
    "name": "ipython",
    "version": 3
   },
   "file_extension": ".py",
   "mimetype": "text/x-python",
   "name": "python",
   "nbconvert_exporter": "python",
   "pygments_lexer": "ipython3",
   "version": "3.10.5"
  },
  "orig_nbformat": 4,
  "vscode": {
   "interpreter": {
    "hash": "369f2c481f4da34e4445cda3fffd2e751bd1c4d706f27375911949ba6bb62e1c"
   }
  }
 },
 "nbformat": 4,
 "nbformat_minor": 2
}
