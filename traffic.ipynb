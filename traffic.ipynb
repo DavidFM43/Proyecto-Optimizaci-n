{
 "cells": [
  {
   "cell_type": "markdown",
   "metadata": {},
   "source": [
    "# **Traffic Incidents optimization**"
   ]
  },
  {
   "cell_type": "markdown",
   "metadata": {},
   "source": [
    "## **Context**"
   ]
  },
  {
   "cell_type": "markdown",
   "metadata": {},
   "source": [
    "In some high-density traffic cities like Bogotá, slow attention to traffic incidents remains an issue, and a method to deal with it is yet to be implemented. Quick response is important for most drivers. Those involved in accidents would have higher chances of survival, and even those never involved in an incident would see the benefit of faster moving traffic.\n",
    "\n",
    "Let us define what we mean by traffic incident or accident. Firstly, an accident implies the happening of a crash, which could be one of a car against an object, or between vehicles. On the other hand, incident is a more general term, it refers to any event that negatively affects traffic flow, so in those terms, an accident is a specific kind of incident.\n",
    "\n",
    "In 2019, Bogotá had the alarming rate of a traffic accident every five to six minutes, and in 2018 there were a total of 50 800 traffic incidents, a number excessively high, that if it were to be reduced, a great quantity of time would be saved. This of course puts interest on projects trying to fix this problem, which can take many different approaches and focal points. Among these are \n",
    "\n"
   ]
  },
  {
   "cell_type": "markdown",
   "metadata": {},
   "source": [
    "## **Objectives**"
   ]
  },
  {
   "cell_type": "markdown",
   "metadata": {},
   "source": [
    "## **Model formulation**"
   ]
  },
  {
   "cell_type": "markdown",
   "metadata": {},
   "source": [
    "El modelo para la solución a nuestro problema se divide en 2 partes, la primera parte  se encarga de  maximizar los pesos totales  de la gravedad de los incidentes que se abordarán con los recursos de respuesta actualmente  disponible, y la  segunda parte se encarga de minimizar el tiempo total de viaje de la respuesta de todas las unidades.\n",
    "\n",
    "$\\textbf{Fase 1:}$\n",
    "La función objetivo en esta fase es: \n",
    "\n",
    "$(1a)$ $$\\max \\sum_{j=1}^{N_i}a_{s(j)}z_j$$\n",
    "\n",
    "bajo las restricciones:\n",
    "\n",
    "$(1b)$ $$\\sum_{i=1}^{N_t} x_{ij}\\geq b_{s(j)} z_j,\\hspace{1cm} \\forall j\\in N_i$$ \n",
    "\n",
    "$(1c)$  $$\\sum_{i=1}^{N_i} x_{ij}\\leq 1,\\hspace{1cm} \\forall i\\in RU $$ \n",
    "\n",
    "$(1d)$  $$x_{ij}=0 \\text{ o } 1, \\hspace{1cm} \\forall i\\in RU, \\forall j\\in N_i$$\n",
    "\n",
    "$(1e)$   $$z_{j}=0 \\text{ o } 1, \\hspace{1cm}, \\forall j\\in N_i$$\n",
    "\n",
    "$\\textbf{Fase 2: }$ La función objetivo en esta parte es:\n",
    "\n",
    "$(2a)$ $$\\min \\sum_{i=1}^{N_t}\\sum_{j=1}^{N_i} x_{ij}t_{ij}(t)$$\n",
    "\n",
    "bajo las restricciones: \n",
    "\n",
    "$(2b)$ $$\\sum_{i=1}^{N_t} x_{ij}\\geq b_{s(j)} z_j,\\hspace{1cm} \\forall j\\in N_i$$ \n",
    "\n",
    "$(2c)$  $$\\sum_{i=1}^{N_i} x_{ij}\\leq 1,\\hspace{1cm} \\forall i\\in RU $$ \n",
    "\n",
    "$(2d)$  $$x_{ij}=0 \\text{ o } 1, \\hspace{1cm} \\forall i\\in RU, \\forall j\\in N_i$$\n",
    "\n",
    "\n",
    "Donde \n",
    "\n",
    "$t_{ij}(t): $ tiempo de viaje del camino más corte entre los puntos $i$, $j$ en el paso de tiempo $t$\n",
    "\n",
    "$S(j): $ La función que devuelve la prioridad de un incidente dado $j$ (este es un número entre 1 y 4, donde 1 es la menor prioridad)\n",
    "\n",
    "$a_l: $ El peso de la gravedad de los incidentes con l-ésima prioridad\n",
    "\n",
    "$b_l:$ El número de grúas necesarias para ser despachadas a un incidente con l-ésima prioridad(se necesitan 2 para una prioridad de 4, 1 para una prioridad de 3, 1 para una prioridad de 2, y 0 para una prioridad de 1)\n",
    "\n",
    "$N_i:$ El número de incidentes que están esperando grúas \n",
    "\n",
    "$N_t:$ El número de grúas en todo en sistema\n",
    "\n",
    "$RU: $ Unidades de respuesta \n",
    "\n",
    "\n",
    "Variables de decisión\n",
    "\n",
    "$z_j=1$  Si el incidente j-ésimo será tratado por ciertas grúas, de lo contrario 0\n",
    "\n",
    "$x_{ij}=1$ Si la grúa i se despacha al incidente j, de lo contrario 0 \n",
    "\n",
    "En la fase 1 del modelo, la función objetivo (1a) es maximizar los pesos totales de la gravedad de los incidentes a tratar\n",
    "sin exceder la limitación de número de unidades de respuesta  disponibles. La restricción (1b) garantiza que se envíe una cantidad suficiente\n",
    "de grúas a cada lugar del incidente. La restricción (1c) indica que una grúa solo puede atender un solo incidente en un\n",
    "momento dado. Las restricciones (1d) y (1e) representan restricciones de enteros, la ecuación (2a) se encarga de minimizar el tipo de viaje estimado de las unidades que se requieren para moverse desde sus ubicaciones actuales a las ubicaciones de los incidentes asignados.\n",
    "\n",
    "Este problema pertenece a la programación lineal entera (puesto que la función objetivo es lineal, tanto en la fase 1 como en la fase 2 es un producto punto entre 2 vectores, y las restricciones son lineales y las variables de decisión son entera), dado que este problema en el fondo es lineal tiene solución por medio de algoritmos que involucren convexidad, pero por las restricciones enteras resulta que este problema no siempre va a tener solución de hecho es un problema NP-completo."
   ]
  },
  {
   "cell_type": "markdown",
   "metadata": {},
   "source": [
    "## **Model implementation**"
   ]
  },
  {
   "cell_type": "markdown",
   "metadata": {},
   "source": [
    "Imports"
   ]
  },
  {
   "cell_type": "code",
   "execution_count": 1,
   "metadata": {},
   "outputs": [],
   "source": [
    "import cvxpy as cp\n",
    "import numpy as np\n",
    "import pandas as pd\n",
    "# np.set_printoptions(precision=3, suppress=True)"
   ]
  },
  {
   "cell_type": "markdown",
   "metadata": {},
   "source": [
    "First step is to maximize the severities of the incidents under current response resources(Number of available agents)"
   ]
  },
  {
   "cell_type": "code",
   "execution_count": 19,
   "metadata": {},
   "outputs": [],
   "source": [
    "t = pd.read_csv(\"durations.csv\").iloc[:,1:]\n",
    "i = t.shape[0] # number of agents\n",
    "j = t.shape[1] # number of incidents\n",
    "\n",
    "b = np.array([np.random.randint(1, 4) for i in range(j)])"
   ]
  },
  {
   "cell_type": "code",
   "execution_count": 24,
   "metadata": {},
   "outputs": [
    {
     "data": {
      "text/plain": [
       "100.0"
      ]
     },
     "execution_count": 24,
     "metadata": {},
     "output_type": "execute_result"
    }
   ],
   "source": [
    "x = cp.Variable((i, j), boolean=True) # agents-incidents matrix\n",
    "z = cp.Variable(j, boolean=True) # incidents coverage vector\n",
    "\n",
    "objective = cp.Maximize(b@z) \n",
    "\n",
    "constraints = [cp.sum(x, axis=0) >= cp.multiply(b, z), # required agents per incidents\n",
    "               cp.sum(x, axis=1) <= 1 # one agent covers at max. one incident\n",
    "               ]\n",
    "               \n",
    "problem = cp.Problem(objective, constraints)\n",
    "\n",
    "problem.solve(verbose=0)"
   ]
  },
  {
   "cell_type": "code",
   "execution_count": 26,
   "metadata": {},
   "outputs": [
    {
     "name": "stdout",
     "output_type": "stream",
     "text": [
      "Agents :\n",
      " [[0. 0. 0. ... 0. 0. 0.]\n",
      " [0. 0. 0. ... 0. 0. 0.]\n",
      " [0. 0. 0. ... 0. 0. 0.]\n",
      " ...\n",
      " [0. 0. 0. ... 0. 0. 0.]\n",
      " [0. 0. 0. ... 0. 0. 0.]\n",
      " [0. 0. 0. ... 0. 0. 0.]]\n",
      "\n",
      "Incidents:\n",
      " [0. 1. 0. 0. 0. 0. 0. 1. 0. 0. 0. 0. 0. 0. 0. 0. 0. 0. 0. 0. 0. 0. 1. 0.\n",
      " 0. 0. 0. 0. 0. 1. 0. 0. 0. 0. 0. 1. 0. 0. 0. 0. 0. 1. 0. 0. 0. 0. 0. 0.\n",
      " 0. 0. 0. 0. 0. 0. 0. 0. 1. 0. 0. 0. 0. 0. 0. 1. 1. 0. 0. 0. 0. 0. 0. 0.\n",
      " 1. 0. 0. 0. 0. 0. 0. 0. 0. 0. 0. 0. 0. 0. 0. 1. 0. 0. 1. 0. 1. 0. 0. 0.\n",
      " 0. 0. 0. 0. 1. 0. 1. 0. 0. 1. 0. 0. 0. 0. 1. 0. 0. 0. 1. 0. 1. 0. 1. 0.\n",
      " 0. 0. 0. 0. 0. 0. 0. 0. 0. 0. 0. 0. 0. 0. 1. 0. 0. 0. 0. 1. 0. 1. 0. 0.\n",
      " 0. 0. 1. 0. 0. 0. 0. 0. 0. 0. 0. 0. 0. 0. 0. 0. 0. 0. 0. 1. 0. 0. 0. 0.\n",
      " 0. 0. 0. 0. 0. 0. 0. 0. 1. 1. 0. 0. 0. 0. 0. 0. 0. 0. 1. 1. 0. 0. 1. 0.\n",
      " 0. 0. 0. 1. 1. 0. 0. 0. 0. 0. 0. 1. 0. 1. 0. 0. 0. 1. 0. 0. 0. 0. 0. 0.\n",
      " 0. 0. 0. 1. 0. 0. 0. 0. 0. 0. 0. 0. 0. 0. 0. 0. 0. 0. 0. 0. 0. 0. 0. 0.\n",
      " 0. 0. 0. 0. 0. 0. 0. 0. 0. 0. 1. 0. 0. 1. 0. 0. 0. 0. 0. 0. 1. 0. 0. 0.\n",
      " 0. 0. 0. 1. 0. 0. 0. 0. 0. 0. 0. 0. 0. 0. 0. 0. 0. 0. 0. 0. 0. 0. 1. 0.\n",
      " 0. 0. 0. 0. 0. 0. 0. 0. 0. 1. 0. 0. 0. 0. 0. 0. 0. 0. 0. 1. 0. 0. 0. 1.\n",
      " 0. 0. 0. 0. 0. 0. 0. 0. 0. 0. 0. 0. 0. 0. 0. 0. 0. 0. 0. 0. 0. 0. 0. 1.\n",
      " 0. 0. 0. 0. 1. 0. 0. 0. 0. 0. 0. 0. 0. 0. 0. 0. 0. 0. 0. 0. 0. 0. 0. 0.\n",
      " 0. 0. 0. 1. 0. 0. 0. 0. 0. 0. 0. 0. 1. 0. 0. 0. 1. 0. 1. 1. 1. 0. 1. 0.\n",
      " 0. 0. 0. 0. 0. 0. 0.]\n"
     ]
    }
   ],
   "source": [
    "print(\"Agents :\\n\", x.value, end=\"\\n\\n\")\n",
    "print(\"Incidents:\\n\", z.value)"
   ]
  },
  {
   "cell_type": "markdown",
   "metadata": {},
   "source": [
    "Next step is to minize the total travel time of all the agents"
   ]
  },
  {
   "cell_type": "code",
   "execution_count": 29,
   "metadata": {},
   "outputs": [
    {
     "data": {
      "text/plain": [
       "56575.899999999994"
      ]
     },
     "execution_count": 29,
     "metadata": {},
     "output_type": "execute_result"
    }
   ],
   "source": [
    "objective = cp.Minimize(cp.sum(cp.sum(cp.multiply(x, t), axis=0)))\n",
    "\n",
    "\n",
    "constraints = [cp.sum(x, axis=0) >= cp.multiply(b, z.value), # required agents per incidents\n",
    "               cp.sum(x, axis=1) <= 1 # one agent covers at max. one incident\n",
    "               ]\n",
    "               \n",
    "problem = cp.Problem(objective, constraints)\n",
    "\n",
    "problem.solve()"
   ]
  },
  {
   "cell_type": "code",
   "execution_count": 34,
   "metadata": {},
   "outputs": [
    {
     "data": {
      "text/plain": [
       "array([1., 1., 1., 1., 1., 1., 1., 1., 1., 1., 1., 1., 1., 1., 1., 1., 1.,\n",
       "       1., 1., 1., 1., 1., 1., 1., 1., 1., 1., 1., 1., 1., 1., 1., 1., 1.,\n",
       "       1., 1., 1., 1., 1., 1., 1., 1., 1., 1., 1., 1., 1., 1., 1., 1., 1.,\n",
       "       1., 1., 1., 1., 1., 1., 1., 1., 1., 1., 1., 1., 1., 1., 1., 1., 1.,\n",
       "       1., 1., 1., 1., 1., 1., 1., 1., 1., 1., 1., 1., 1., 1., 1., 1., 1.,\n",
       "       1., 1., 1., 1., 1., 1., 1., 1., 1., 1., 1., 1., 1., 1., 1.])"
      ]
     },
     "execution_count": 34,
     "metadata": {},
     "output_type": "execute_result"
    }
   ],
   "source": [
    "np.sum(x.value, axis=1)"
   ]
  },
  {
   "cell_type": "markdown",
   "metadata": {},
   "source": [
    "## **Model in practice**"
   ]
  },
  {
   "cell_type": "code",
   "execution_count": null,
   "metadata": {},
   "outputs": [],
   "source": [
    "import pandas as pd"
   ]
  },
  {
   "cell_type": "code",
   "execution_count": 35,
   "metadata": {},
   "outputs": [],
   "source": [
    "agents = pd.read_csv(\"agents_may.csv\", parse_dates=[\"read_time\", \"time_stamp\"])\n",
    "incidents = pd.read_csv(\"incidents_may.csv\", parse_dates=[\"incident_time\"])"
   ]
  },
  {
   "cell_type": "code",
   "execution_count": null,
   "metadata": {},
   "outputs": [
    {
     "data": {
      "text/html": [
       "<div>\n",
       "<style scoped>\n",
       "    .dataframe tbody tr th:only-of-type {\n",
       "        vertical-align: middle;\n",
       "    }\n",
       "\n",
       "    .dataframe tbody tr th {\n",
       "        vertical-align: top;\n",
       "    }\n",
       "\n",
       "    .dataframe thead th {\n",
       "        text-align: right;\n",
       "    }\n",
       "</style>\n",
       "<table border=\"1\" class=\"dataframe\">\n",
       "  <thead>\n",
       "    <tr style=\"text-align: right;\">\n",
       "      <th></th>\n",
       "      <th>id</th>\n",
       "      <th>dev_id</th>\n",
       "      <th>read_time</th>\n",
       "      <th>time_stamp</th>\n",
       "      <th>speed</th>\n",
       "      <th>grp_name</th>\n",
       "      <th>localidad</th>\n",
       "      <th>latitude</th>\n",
       "      <th>longitude</th>\n",
       "      <th>devicegroupid</th>\n",
       "    </tr>\n",
       "  </thead>\n",
       "  <tbody>\n",
       "    <tr>\n",
       "      <th>0</th>\n",
       "      <td>1651381596</td>\n",
       "      <td>868033050089715</td>\n",
       "      <td>2022-05-01 00:06:36</td>\n",
       "      <td>2022-05-01 00:01:40</td>\n",
       "      <td>0.053087</td>\n",
       "      <td>S60</td>\n",
       "      <td>RAFAEL URIBE URIBE</td>\n",
       "      <td>4.551646</td>\n",
       "      <td>-74.108515</td>\n",
       "      <td>6</td>\n",
       "    </tr>\n",
       "    <tr>\n",
       "      <th>1</th>\n",
       "      <td>1651381596</td>\n",
       "      <td>868033050102534</td>\n",
       "      <td>2022-05-01 00:06:36</td>\n",
       "      <td>2022-05-01 00:01:42</td>\n",
       "      <td>0.000000</td>\n",
       "      <td>S60</td>\n",
       "      <td>KENNEDY</td>\n",
       "      <td>4.650030</td>\n",
       "      <td>-74.147322</td>\n",
       "      <td>6</td>\n",
       "    </tr>\n",
       "    <tr>\n",
       "      <th>2</th>\n",
       "      <td>1651381596</td>\n",
       "      <td>868033050090085</td>\n",
       "      <td>2022-05-01 00:06:36</td>\n",
       "      <td>2022-05-01 00:01:47</td>\n",
       "      <td>0.000000</td>\n",
       "      <td>S60</td>\n",
       "      <td>RAFAEL URIBE URIBE</td>\n",
       "      <td>4.581688</td>\n",
       "      <td>-74.128348</td>\n",
       "      <td>6</td>\n",
       "    </tr>\n",
       "    <tr>\n",
       "      <th>3</th>\n",
       "      <td>1651381596</td>\n",
       "      <td>868033050103508</td>\n",
       "      <td>2022-05-01 00:06:36</td>\n",
       "      <td>2022-05-01 00:01:52</td>\n",
       "      <td>0.000000</td>\n",
       "      <td>S60</td>\n",
       "      <td>CIUDAD BOLIVAR</td>\n",
       "      <td>4.551098</td>\n",
       "      <td>-74.147635</td>\n",
       "      <td>6</td>\n",
       "    </tr>\n",
       "    <tr>\n",
       "      <th>4</th>\n",
       "      <td>1651381596</td>\n",
       "      <td>868033050101650</td>\n",
       "      <td>2022-05-01 00:06:36</td>\n",
       "      <td>2022-05-01 00:01:55</td>\n",
       "      <td>0.000000</td>\n",
       "      <td>S60</td>\n",
       "      <td>KENNEDY</td>\n",
       "      <td>4.619840</td>\n",
       "      <td>-74.159668</td>\n",
       "      <td>6</td>\n",
       "    </tr>\n",
       "  </tbody>\n",
       "</table>\n",
       "</div>"
      ],
      "text/plain": [
       "           id           dev_id           read_time          time_stamp  \\\n",
       "0  1651381596  868033050089715 2022-05-01 00:06:36 2022-05-01 00:01:40   \n",
       "1  1651381596  868033050102534 2022-05-01 00:06:36 2022-05-01 00:01:42   \n",
       "2  1651381596  868033050090085 2022-05-01 00:06:36 2022-05-01 00:01:47   \n",
       "3  1651381596  868033050103508 2022-05-01 00:06:36 2022-05-01 00:01:52   \n",
       "4  1651381596  868033050101650 2022-05-01 00:06:36 2022-05-01 00:01:55   \n",
       "\n",
       "      speed grp_name           localidad  latitude  longitude  devicegroupid  \n",
       "0  0.053087      S60  RAFAEL URIBE URIBE  4.551646 -74.108515              6  \n",
       "1  0.000000      S60             KENNEDY  4.650030 -74.147322              6  \n",
       "2  0.000000      S60  RAFAEL URIBE URIBE  4.581688 -74.128348              6  \n",
       "3  0.000000      S60      CIUDAD BOLIVAR  4.551098 -74.147635              6  \n",
       "4  0.000000      S60             KENNEDY  4.619840 -74.159668              6  "
      ]
     },
     "execution_count": 13,
     "metadata": {},
     "output_type": "execute_result"
    }
   ],
   "source": [
    "agents.head()"
   ]
  }
 ],
 "metadata": {
  "kernelspec": {
   "display_name": "Python 3.10.4 ('optimization')",
   "language": "python",
   "name": "python3"
  },
  "language_info": {
   "codemirror_mode": {
    "name": "ipython",
    "version": 3
   },
   "file_extension": ".py",
   "mimetype": "text/x-python",
   "name": "python",
   "nbconvert_exporter": "python",
   "pygments_lexer": "ipython3",
   "version": "3.10.4"
  },
  "orig_nbformat": 4,
  "vscode": {
   "interpreter": {
    "hash": "de77474a33fd8f1ee12bf12da6b5b7652dc21eff8e6790427496dec9667dc888"
   }
  }
 },
 "nbformat": 4,
 "nbformat_minor": 2
}
