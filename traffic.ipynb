{
 "cells": [
  {
   "cell_type": "markdown",
   "metadata": {},
   "source": [
    "# **Traffic Incidents optimization**"
   ]
  },
  {
   "cell_type": "markdown",
   "metadata": {},
   "source": [
    "## **Context**"
   ]
  },
  {
   "cell_type": "markdown",
   "metadata": {},
   "source": [
    "In some high-density traffic cities like Bogotá, slow attention to traffic incidents remains an issue, and a method to deal with it is yet to be implemented. Quick response is important for most drivers. Those involved in accidents would have higher chances of survival, having an incident wouldn't be as time-consuming, and even those never involved in an incident would see the benefit of faster-moving traffic.\n",
    "\n",
    "Let us define what we mean by traffic incident or accident. Firstly, an accident implies the happening of a crash, which could be one of a car against an object, or between vehicles. On the other hand, incident is a more general term, it refers to any event that negatively affects traffic flow, so in those terms, an accident is a specific kind of incident.\n",
    "\n",
    "In 2019, Bogotá had the alarming rate of a traffic accident every five to six minutes, and in 2018 there were a total of 50 800 traffic incidents, a number so excessively high, that if it were to be reduced, a great quantity of time would be saved. This of course puts interest on projects trying to fix this problem, which can take many different approaches and focal points. Among these are some that recollect data for further study, others that aim to implement early incident detection and those that try to reduce the time spent on clearing these incidents by optimally assigning the resources necessary, which is what we worked on for this project."
   ]
  },
  {
   "cell_type": "markdown",
   "metadata": {},
   "source": [
    "## **Objectives**"
   ]
  },
  {
   "cell_type": "markdown",
   "metadata": {},
   "source": [
    "We aim to make an algorithm that can provide ways to minimize the total time spent trying to clear incidents, by being able to optimally allocate resources. In this example we'll assign transit police officers to traffic incidents, but the same algorithm, coupled with the right datasets, could be used in a plethora of other ways, such as assigning tow-trucks to stranded vehicles, ambulances to life-threatening crashes, taxis to users requesting the service or, in an abstract sense, any pairing of sources-destinations with a cost per source-destination pairing.\n",
    "\n",
    "The first step to this optimization is used in case there's a shortage in police officers. In this case, the best thing we can do is to select which incidents should be taken care of, such that the highest amount of individuals are accounted for considering the available officers. Of course, these would need to be tagged with a level of priority for this to be possible. Here, the priority is set by Bogota's mobility secretariat. It primarily takes into account the threat to the involved's life or health, and secondarily, how much traffic the incident is causing.\n",
    "\n",
    "Once we know which incidents will be taken care of, we'll need to know which officer will be assigned to each selected incident. These pairings are made taking into account the total time each configuration would take to clear the incidents.\n",
    "\n",
    "In this example the algorithm will be run at every hour, although this could be left to the user's choice and needs."
   ]
  },
  {
   "cell_type": "markdown",
   "metadata": {},
   "source": [
    "## **Model formulation**"
   ]
  },
  {
   "cell_type": "markdown",
   "metadata": {},
   "source": [
    "The model for the solution to our problem is divided into 2 parts, the first part is responsible for maximizing the total weights of the severity of the incidents that will be addressed with the response resources currently available, and the second part is responsible for minimizing the total travel time of the response of all units.\n",
    "\n",
    "$\\textbf{Phase 1:}$ \n",
    "The objective function in this phase is: \n",
    "\n",
    "$(1a)$ $$\\max \\sum_{j=1}^{N_i}a_{s(j)}z_j$$\n",
    "\n",
    "$\\textit{under the restrictions}$: \n",
    "\n",
    "$(1b)$ $$\\sum_{i=1}^{N_t} x_{ij}\\geq b_{s(j)} z_j,\\hspace{1cm} \\forall j\\in N_i$$ \n",
    "\n",
    "$(1c)$  $$\\sum_{i=1}^{N_i} x_{ij}\\leq 1,\\hspace{1cm} \\forall i\\in RU $$ \n",
    "\n",
    "$(1d)$  $$x_{ij}=0 \\text{ o } 1, \\hspace{1cm} \\forall i\\in RU, \\forall j\\in N_i$$\n",
    "\n",
    "$(1e)$   $$z_{j}=0 \\text{ o } 1, \\hspace{1cm}, \\forall j\\in N_i$$\n",
    "\n",
    "$\\textbf{Phase 2: }$ The objective function in this phase is:\n",
    "\n",
    "$(2a)$ $$\\min \\sum_{i=1}^{N_t}\\sum_{j=1}^{N_i} x_{ij}t_{ij}(t)$$\n",
    "\n",
    "$\\textit{under the restrictions}$: \n",
    "\n",
    "$(2b)$ $$\\sum_{i=1}^{N_t} x_{ij}\\geq b_{s(j)} z_j,\\hspace{1cm} \\forall j\\in N_i$$ \n",
    "\n",
    "$(2c)$  $$\\sum_{i=1}^{N_i} x_{ij}\\leq 1,\\hspace{1cm} \\forall i\\in RU $$ \n",
    "\n",
    "$(2d)$  $$x_{ij}=0 \\text{ o } 1, \\hspace{1cm} \\forall i\\in RU, \\forall j\\in N_i$$\n",
    "\n",
    "\n",
    "$\\textit{Where}$: \n",
    "\n",
    "$t_{ij}(t): $ shortest path travel time between points $i$, $j$ in time step $t$\n",
    "\n",
    "$S(j): $ The function that returns the priority of a given incident $j$ (this is a number between 1 and 4, where 1 is the lowest priority)\n",
    "\n",
    "$a_l: $ The weight of the severity of incidents with l-th priority\n",
    "\n",
    "$b_l:$ The number of agents needed to be dispatched to an incident with lth priority (2 needed for a priority of 4, 1 for a priority of 3, 1 for a priority of 2, and 0 for a priority of 1)\n",
    "\n",
    "$N_i:$ The number of incidents that are waiting for agents\n",
    "\n",
    "$N_t:$ The number of agents in the entire system\n",
    "\n",
    "$RU: $ response units \n",
    "\n",
    "\n",
    "$\\textit{Decision variables}$\n",
    "\n",
    "$z_j=1$  Whether the j-th incident will be handled by certain agents, otherwise 0\n",
    "\n",
    "$x_{ij}=1$ If agent i is dispatched to incident j, otherwise 0\n",
    "\n",
    "In phase 1 of the model, the objective function (1a) is to maximize the total weights of the severity of the incidents to be treated\n",
    "without exceeding the limitation of the number of response units available. Constraint (1b) ensures that a sufficient quantity is sent\n",
    "agents to each incident site. Restriction (1c) indicates that a crane can only handle a single incident in a\n",
    "Given moment. Constraints (1d) and (1e) represent integer constraints, Equation (2a) is in charge of minimizing the estimated travel type of units required to move from their current locations to the assigned incident locations.\n",
    "\n",
    "This problem belongs to integer linear programming (since the objective function is linear, both in phase 1 and in phase 2 it is a dot product between 2 vectors, the constraints are linear and the choice variables are integers), since Basically, this problem is linear and has a solution through algorithms that involve convexity, but due to the integer restrictions, it turns out that this problem will not always have a solution. In fact, it is an NP-complete problem.The model for the solution to our problem is divided into 2 parts, the first part is responsible for maximizing the total weights of the severity of the incidents that will be addressed with the response resources currently available, and the second part is responsible for minimizing the total travel time of the response of all units.\n",
    "\n",
    "$\\textbf{Phase 1:}$ \n",
    "The objective function in this phase is: \n",
    "\n",
    "$(1a)$ $$\\max \\sum_{j=1}^{N_i}a_{s(j)}z_j$$\n",
    "\n",
    "$\\textit{under the restrictions}$: \n",
    "\n",
    "$(1b)$ $$\\sum_{i=1}^{N_t} x_{ij}\\geq b_{s(j)} z_j,\\hspace{1cm} \\forall j\\in N_i$$ \n",
    "\n",
    "$(1c)$  $$\\sum_{i=1}^{N_i} x_{ij}\\leq 1,\\hspace{1cm} \\forall i\\in RU $$ \n",
    "\n",
    "$(1d)$  $$x_{ij}=0 \\text{ o } 1, \\hspace{1cm} \\forall i\\in RU, \\forall j\\in N_i$$\n",
    "\n",
    "$(1e)$   $$z_{j}=0 \\text{ o } 1, \\hspace{1cm}, \\forall j\\in N_i$$\n",
    "\n",
    "$\\textbf{Phase 2: }$ The objective function in this phase is:\n",
    "\n",
    "$(2a)$ $$\\min \\sum_{i=1}^{N_t}\\sum_{j=1}^{N_i} x_{ij}t_{ij}(t)$$\n",
    "\n",
    "$\\textit{under the restrictions}$: \n",
    "\n",
    "$(2b)$ $$\\sum_{i=1}^{N_t} x_{ij}\\geq b_{s(j)} z_j,\\hspace{1cm} \\forall j\\in N_i$$ \n",
    "\n",
    "$(2c)$  $$\\sum_{i=1}^{N_i} x_{ij}\\leq 1,\\hspace{1cm} \\forall i\\in RU $$ \n",
    "\n",
    "$(2d)$  $$x_{ij}=0 \\text{ o } 1, \\hspace{1cm} \\forall i\\in RU, \\forall j\\in N_i$$\n",
    "\n",
    "\n",
    "$\\textit{Where}$: \n",
    "\n",
    "$t_{ij}(t): $ shortest path travel time between points $i$, $j$ in time step $t$\n",
    "\n",
    "$S(j): $ The function that returns the priority of a given incident $j$ (this is a number between 1 and 4, where 1 is the lowest priority)\n",
    "\n",
    "$a_l: $ The weight of the severity of incidents with l-th priority\n",
    "\n",
    "$b_l:$ The number of agents needed to be dispatched to an incident with lth priority (2 needed for a priority of 4, 1 for a priority of 3, 1 for a priority of 2, and 0 for a priority of 1)\n",
    "\n",
    "$N_i:$ The number of incidents that are waiting for agents\n",
    "\n",
    "$N_t:$ The number of agents in the entire system\n",
    "\n",
    "$RU: $ response units \n",
    "\n",
    "\n",
    "$\\textit{Decision variables}$\n",
    "\n",
    "$z_j=1$  Whether the j-th incident will be handled by certain agents, otherwise 0\n",
    "\n",
    "$x_{ij}=1$ If agent i is dispatched to incident j, otherwise 0\n",
    "\n",
    "In phase 1 of the model, the objective function (1a) is to maximize the total weights of the severity of the incidents to be treated\n",
    "without exceeding the limitation of the number of response units available. Constraint (1b) ensures that a sufficient quantity is sent\n",
    "agents to each incident site. Restriction (1c) indicates that a crane can only handle a single incident in a\n",
    "Given moment. Constraints (1d) and (1e) represent integer constraints, Equation (2a) is in charge of minimizing the estimated travel type of units required to move from their current locations to the assigned incident locations.\n",
    "\n",
    "This problem belongs to integer linear programming (since the objective function is linear, both in phase 1 and in phase 2 it is a dot product between 2 vectors, the constraints are linear and the choice variables are integers), since Basically, this problem is linear and has a solution through algorithms that involve convexity, but due to the integer restrictions, it turns out that this problem will not always have a solution. In fact, it is an NP-complete problem."
   ]
  },
  {
   "cell_type": "markdown",
   "metadata": {},
   "source": [
    "## **Model implementation**"
   ]
  },
  {
   "cell_type": "markdown",
   "metadata": {},
   "source": [
    "Imports"
   ]
  },
  {
   "cell_type": "code",
   "execution_count": 8,
   "metadata": {},
   "outputs": [],
   "source": [
    "import pandas as pd\n",
    "import cvxpy as cp\n",
    "import numpy as np"
   ]
  },
  {
   "cell_type": "markdown",
   "metadata": {},
   "source": [
    "The first step is the selection of incidents to maximize the sum of the severities of the incidents considering current response resources (Number of available agents)."
   ]
  },
  {
   "cell_type": "markdown",
   "metadata": {},
   "source": [
    "First we read our sample dataset, these are taken from a time frame of one hour from our distance calculator later on."
   ]
  },
  {
   "cell_type": "code",
   "execution_count": 9,
   "metadata": {},
   "outputs": [],
   "source": [
    "t = pd.read_csv(\"data/durations.csv\").iloc[:,1:] # read in the sample data\n",
    "\n",
    "i = t.shape[0] # number of agents\n",
    "j = t.shape[1] # number of incidents\n",
    "\n",
    "b = np.array([np.random.randint(1, 4) for i in range(j)]) # list of priorities"
   ]
  },
  {
   "cell_type": "markdown",
   "metadata": {},
   "source": [
    "Here is the code for the first step in the optimization algorithm."
   ]
  },
  {
   "cell_type": "code",
   "execution_count": 10,
   "metadata": {},
   "outputs": [
    {
     "data": {
      "text/plain": [
       "44.0"
      ]
     },
     "execution_count": 10,
     "metadata": {},
     "output_type": "execute_result"
    }
   ],
   "source": [
    "x = cp.Variable((i, j), boolean=True) # agents-incidents matrix\n",
    "z = cp.Variable(j, boolean=True) # incidents coverage vector\n",
    "\n",
    "objective = cp.Maximize(b@z) \n",
    "\n",
    "constraints = [cp.sum(x, axis=0) >= cp.multiply(b, z), # required agents per incidents\n",
    "               cp.sum(x, axis=1) <= 1 # one agent covers at max. one incident\n",
    "               ]\n",
    "               \n",
    "problem = cp.Problem(objective, constraints)\n",
    "\n",
    "problem.solve(verbose=0)"
   ]
  },
  {
   "cell_type": "markdown",
   "metadata": {},
   "source": [
    "As we can see, after maximizing. We get 38 as an answer. This is the sum of the priorities of the chosen incidents."
   ]
  },
  {
   "cell_type": "markdown",
   "metadata": {},
   "source": [
    "When looking at the assigned pairs, we can notice that all incidents were selected. However, the pairing matrix is not final, as one more step of optimization is needed."
   ]
  },
  {
   "cell_type": "code",
   "execution_count": 11,
   "metadata": {},
   "outputs": [
    {
     "name": "stdout",
     "output_type": "stream",
     "text": [
      "Agents :\n",
      " [[0. 0. 0. ... 1. 0. 0.]\n",
      " [0. 0. 0. ... 0. 0. 0.]\n",
      " [0. 0. 0. ... 0. 0. 0.]\n",
      " ...\n",
      " [0. 0. 0. ... 0. 0. 0.]\n",
      " [0. 0. 0. ... 0. 0. 0.]\n",
      " [0. 0. 0. ... 0. 0. 1.]]\n",
      "\n",
      "Incidents:\n",
      " [1. 1. 1. 1. 1. 1. 1. 1. 1. 1. 1. 1. 1. 1. 1. 1. 1. 1. 1.]\n"
     ]
    }
   ],
   "source": [
    "print(\"Agents :\\n\", x.value, end=\"\\n\\n\")\n",
    "print(\"Incidents:\\n\", z.value)"
   ]
  },
  {
   "cell_type": "markdown",
   "metadata": {},
   "source": [
    "Next step is to minize the total travel time of all the agents."
   ]
  },
  {
   "cell_type": "code",
   "execution_count": 12,
   "metadata": {},
   "outputs": [
    {
     "data": {
      "text/plain": [
       "16725.399999999998"
      ]
     },
     "execution_count": 12,
     "metadata": {},
     "output_type": "execute_result"
    }
   ],
   "source": [
    "objective = cp.Minimize(cp.sum(cp.sum(cp.multiply(x, t), axis=0)))\n",
    "\n",
    "\n",
    "constraints = [cp.sum(x, axis=0) >= cp.multiply(b, z.value), # required agents per incidents\n",
    "               cp.sum(x, axis=1) <= 1 # one agent covers at max. one incident\n",
    "               ]\n",
    "               \n",
    "problem = cp.Problem(objective, constraints)\n",
    "\n",
    "problem.solve()"
   ]
  },
  {
   "cell_type": "markdown",
   "metadata": {},
   "source": [
    "Our final answer is 11076.2, this is the sum of all response times of all selected incidents by the necessary agents. Next, we will print the pairing matrix."
   ]
  },
  {
   "cell_type": "code",
   "execution_count": 13,
   "metadata": {},
   "outputs": [
    {
     "data": {
      "text/plain": [
       "array([[0., 0., 0., ..., 0., 0., 0.],\n",
       "       [0., 0., 0., ..., 1., 0., 0.],\n",
       "       [0., 0., 0., ..., 0., 0., 0.],\n",
       "       ...,\n",
       "       [0., 0., 0., ..., 0., 0., 0.],\n",
       "       [0., 0., 0., ..., 0., 0., 0.],\n",
       "       [0., 0., 0., ..., 0., 0., 0.]])"
      ]
     },
     "execution_count": 13,
     "metadata": {},
     "output_type": "execute_result"
    }
   ],
   "source": [
    "x.value"
   ]
  },
  {
   "cell_type": "markdown",
   "metadata": {},
   "source": [
    "We can verify that an agent was not assigned to more than one incident by adding element-wise all rows."
   ]
  },
  {
   "cell_type": "code",
   "execution_count": 14,
   "metadata": {},
   "outputs": [
    {
     "data": {
      "text/plain": [
       "array([0., 1., 0., 1., 1., 1., 1., 0., 1., 0., 1., 1., 1., 0., 1., 1., 0.,\n",
       "       0., 0., 0., 1., 1., 0., 0., 1., 1., 0., 1., 1., 1., 1., 0., 0., 1.,\n",
       "       1., 1., 1., 1., 1., 0., 0., 0., 1., 1., 1., 1., 0., 1., 0., 1., 0.,\n",
       "       0., 1., 0., 1., 1., 0., 1., 0., 1., 0., 0., 0., 1., 0., 1., 1., 1.,\n",
       "       1., 0., 1., 0., 0., 1., 1., 0.])"
      ]
     },
     "execution_count": 14,
     "metadata": {},
     "output_type": "execute_result"
    }
   ],
   "source": [
    "np.sum(x.value, axis=1)"
   ]
  },
  {
   "cell_type": "markdown",
   "metadata": {},
   "source": [
    "## **Model in practice**"
   ]
  },
  {
   "cell_type": "code",
   "execution_count": 15,
   "metadata": {},
   "outputs": [],
   "source": [
    "import pandas as pd\n",
    "import plotly.graph_objects as go"
   ]
  },
  {
   "cell_type": "markdown",
   "metadata": {},
   "source": [
    "Load incidents dataset:"
   ]
  },
  {
   "cell_type": "code",
   "execution_count": 16,
   "metadata": {},
   "outputs": [
    {
     "data": {
      "text/html": [
       "<div>\n",
       "<style scoped>\n",
       "    .dataframe tbody tr th:only-of-type {\n",
       "        vertical-align: middle;\n",
       "    }\n",
       "\n",
       "    .dataframe tbody tr th {\n",
       "        vertical-align: top;\n",
       "    }\n",
       "\n",
       "    .dataframe thead th {\n",
       "        text-align: right;\n",
       "    }\n",
       "</style>\n",
       "<table border=\"1\" class=\"dataframe\">\n",
       "  <thead>\n",
       "    <tr style=\"text-align: right;\">\n",
       "      <th></th>\n",
       "      <th></th>\n",
       "      <th>priority</th>\n",
       "      <th>latitude</th>\n",
       "      <th>longitude</th>\n",
       "      <th>implicated</th>\n",
       "      <th>incident_time</th>\n",
       "    </tr>\n",
       "    <tr>\n",
       "      <th>interval</th>\n",
       "      <th>id</th>\n",
       "      <th></th>\n",
       "      <th></th>\n",
       "      <th></th>\n",
       "      <th></th>\n",
       "      <th></th>\n",
       "    </tr>\n",
       "  </thead>\n",
       "  <tbody>\n",
       "    <tr>\n",
       "      <th rowspan=\"2\" valign=\"top\">2022-04-30 23:00:00</th>\n",
       "      <th>57518</th>\n",
       "      <td>2</td>\n",
       "      <td>4.705279</td>\n",
       "      <td>-74.127686</td>\n",
       "      <td>2</td>\n",
       "      <td>2022-04-30 23:59:00</td>\n",
       "    </tr>\n",
       "    <tr>\n",
       "      <th>57519</th>\n",
       "      <td>1</td>\n",
       "      <td>4.600571</td>\n",
       "      <td>-74.143379</td>\n",
       "      <td>3</td>\n",
       "      <td>2022-04-30 23:54:00</td>\n",
       "    </tr>\n",
       "    <tr>\n",
       "      <th rowspan=\"3\" valign=\"top\">2022-05-01 00:00:00</th>\n",
       "      <th>57520</th>\n",
       "      <td>1</td>\n",
       "      <td>4.647777</td>\n",
       "      <td>-74.137123</td>\n",
       "      <td>1</td>\n",
       "      <td>2022-05-01 00:08:00</td>\n",
       "    </tr>\n",
       "    <tr>\n",
       "      <th>57521</th>\n",
       "      <td>1</td>\n",
       "      <td>4.720405</td>\n",
       "      <td>-74.075302</td>\n",
       "      <td>2</td>\n",
       "      <td>2022-05-01 00:10:00</td>\n",
       "    </tr>\n",
       "    <tr>\n",
       "      <th>57522</th>\n",
       "      <td>1</td>\n",
       "      <td>4.614258</td>\n",
       "      <td>-74.167252</td>\n",
       "      <td>2</td>\n",
       "      <td>2022-05-01 00:11:00</td>\n",
       "    </tr>\n",
       "  </tbody>\n",
       "</table>\n",
       "</div>"
      ],
      "text/plain": [
       "                           priority  latitude  longitude  implicated  \\\n",
       "interval            id                                                 \n",
       "2022-04-30 23:00:00 57518         2  4.705279 -74.127686           2   \n",
       "                    57519         1  4.600571 -74.143379           3   \n",
       "2022-05-01 00:00:00 57520         1  4.647777 -74.137123           1   \n",
       "                    57521         1  4.720405 -74.075302           2   \n",
       "                    57522         1  4.614258 -74.167252           2   \n",
       "\n",
       "                                incident_time  \n",
       "interval            id                         \n",
       "2022-04-30 23:00:00 57518 2022-04-30 23:59:00  \n",
       "                    57519 2022-04-30 23:54:00  \n",
       "2022-05-01 00:00:00 57520 2022-05-01 00:08:00  \n",
       "                    57521 2022-05-01 00:10:00  \n",
       "                    57522 2022-05-01 00:11:00  "
      ]
     },
     "execution_count": 16,
     "metadata": {},
     "output_type": "execute_result"
    }
   ],
   "source": [
    "incidentsdf = pd.read_csv('data/incidents_may.csv', usecols=[\"id\", \"priority\", \"implicated\", \"incident_time\", \"latitude\", \"longitude\"])\n",
    "\n",
    "# drop duplicates\n",
    "incidentsdf = incidentsdf.drop_duplicates(subset=\"id\", keep=\"first\")\n",
    "\n",
    "# cast incident_time to datetime\n",
    "incidentsdf[\"incident_time\"] = pd.to_datetime(incidentsdf[\"incident_time\"])\n",
    "\n",
    "# fill nan to 0 and cast implicated to int\n",
    "incidentsdf[\"implicated\"] = incidentsdf[\"implicated\"].fillna(0)\n",
    "incidentsdf[\"implicated\"] = incidentsdf[\"implicated\"].astype(int)\n",
    "\n",
    "# calculate intervals and create column\n",
    "new = incidentsdf.groupby(pd.Grouper(key=\"incident_time\", freq='1H')).apply(lambda x: x['incident_time'])\n",
    "incidentsdf[\"interval\"] = new.index.get_level_values(0)\n",
    "\n",
    "# multiindex by interval, then id\n",
    "incidentsdf = incidentsdf.set_index([\"interval\", \"id\"])\n",
    "\n",
    "# print head\n",
    "incidentsdf.head()"
   ]
  },
  {
   "cell_type": "code",
   "execution_count": 17,
   "metadata": {},
   "outputs": [
    {
     "data": {
      "text/plain": [
       "interval\n",
       "2022-05-20 18:00:00    50\n",
       "2022-05-19 18:00:00    48\n",
       "2022-05-24 17:00:00    48\n",
       "2022-05-23 10:00:00    46\n",
       "2022-05-20 20:00:00    44\n",
       "                       ..\n",
       "2022-05-10 02:00:00     1\n",
       "2022-05-23 02:00:00     1\n",
       "2022-05-12 01:00:00     1\n",
       "2022-05-11 04:00:00     1\n",
       "2022-05-06 00:00:00     1\n",
       "Length: 592, dtype: int64"
      ]
     },
     "execution_count": 17,
     "metadata": {},
     "output_type": "execute_result"
    }
   ],
   "source": [
    "# number of incindents per interval\n",
    "incidentsdf.groupby([\"interval\"]).size().sort_values(ascending=False)"
   ]
  },
  {
   "cell_type": "markdown",
   "metadata": {},
   "source": [
    "Load agents dataset:"
   ]
  },
  {
   "cell_type": "code",
   "execution_count": 18,
   "metadata": {},
   "outputs": [
    {
     "data": {
      "text/html": [
       "<div>\n",
       "<style scoped>\n",
       "    .dataframe tbody tr th:only-of-type {\n",
       "        vertical-align: middle;\n",
       "    }\n",
       "\n",
       "    .dataframe tbody tr th {\n",
       "        vertical-align: top;\n",
       "    }\n",
       "\n",
       "    .dataframe thead th {\n",
       "        text-align: right;\n",
       "    }\n",
       "</style>\n",
       "<table border=\"1\" class=\"dataframe\">\n",
       "  <thead>\n",
       "    <tr style=\"text-align: right;\">\n",
       "      <th></th>\n",
       "      <th></th>\n",
       "      <th>time_stamp</th>\n",
       "      <th>latitude</th>\n",
       "      <th>longitude</th>\n",
       "    </tr>\n",
       "    <tr>\n",
       "      <th>interval</th>\n",
       "      <th>dev_id</th>\n",
       "      <th></th>\n",
       "      <th></th>\n",
       "      <th></th>\n",
       "    </tr>\n",
       "  </thead>\n",
       "  <tbody>\n",
       "    <tr>\n",
       "      <th rowspan=\"5\" valign=\"top\">2022-05-01</th>\n",
       "      <th>868033050102534</th>\n",
       "      <td>2022-05-01 00:01:42</td>\n",
       "      <td>4.650030</td>\n",
       "      <td>-74.147322</td>\n",
       "    </tr>\n",
       "    <tr>\n",
       "      <th>868033050090085</th>\n",
       "      <td>2022-05-01 00:01:47</td>\n",
       "      <td>4.581688</td>\n",
       "      <td>-74.128348</td>\n",
       "    </tr>\n",
       "    <tr>\n",
       "      <th>868033050103508</th>\n",
       "      <td>2022-05-01 00:01:52</td>\n",
       "      <td>4.551098</td>\n",
       "      <td>-74.147635</td>\n",
       "    </tr>\n",
       "    <tr>\n",
       "      <th>868033050101650</th>\n",
       "      <td>2022-05-01 00:01:55</td>\n",
       "      <td>4.619840</td>\n",
       "      <td>-74.159668</td>\n",
       "    </tr>\n",
       "    <tr>\n",
       "      <th>868033050102989</th>\n",
       "      <td>2022-05-01 00:01:56</td>\n",
       "      <td>4.651116</td>\n",
       "      <td>-74.136658</td>\n",
       "    </tr>\n",
       "  </tbody>\n",
       "</table>\n",
       "</div>"
      ],
      "text/plain": [
       "                                    time_stamp  latitude  longitude\n",
       "interval   dev_id                                                  \n",
       "2022-05-01 868033050102534 2022-05-01 00:01:42  4.650030 -74.147322\n",
       "           868033050090085 2022-05-01 00:01:47  4.581688 -74.128348\n",
       "           868033050103508 2022-05-01 00:01:52  4.551098 -74.147635\n",
       "           868033050101650 2022-05-01 00:01:55  4.619840 -74.159668\n",
       "           868033050102989 2022-05-01 00:01:56  4.651116 -74.136658"
      ]
     },
     "execution_count": 18,
     "metadata": {},
     "output_type": "execute_result"
    }
   ],
   "source": [
    "agentsdf = pd.read_csv('data/agents_may.csv', usecols=[\"dev_id\", \"time_stamp\", \"latitude\", \"longitude\"])\n",
    "\n",
    "# cast time_stamp to datetime\n",
    "agentsdf[\"time_stamp\"] = pd.to_datetime(agentsdf[\"time_stamp\"])\n",
    "\n",
    "# calculate intervals and create column\n",
    "new = agentsdf.groupby(pd.Grouper(key=\"time_stamp\", freq='1H')).apply(lambda x: x['time_stamp'])\n",
    "agentsdf[\"interval\"] = new.index.get_level_values(0)\n",
    "\n",
    "# multiindex by interval, then id\n",
    "agentsdf = agentsdf.set_index([\"interval\", \"dev_id\"]).reset_index().drop_duplicates(subset=[\"interval\", \"dev_id\"], keep=\"last\").set_index([\"interval\", \"dev_id\"])\n",
    "\n",
    "# print head\n",
    "agentsdf.head()"
   ]
  },
  {
   "cell_type": "code",
   "execution_count": 19,
   "metadata": {},
   "outputs": [],
   "source": [
    "fixed_day = \"2022-05-15\"\n",
    "incidentsdf_subset = incidentsdf[incidentsdf[\"incident_time\"].dt.to_period(\"d\") == fixed_day]\n",
    "agentsdf_subset = agentsdf[agentsdf[\"time_stamp\"].dt.to_period(\"d\") == fixed_day]"
   ]
  },
  {
   "cell_type": "code",
   "execution_count": 20,
   "metadata": {},
   "outputs": [
    {
     "data": {
      "text/plain": [
       "interval             id   \n",
       "2022-05-15 00:00:00  63576     -74.12568664550781,4.711182117462158\n",
       "                     63577     -74.12039947509766,4.668450355529785\n",
       "                     63578       -74.187255859375,4.615567684173584\n",
       "                     63579        -74.08935546875,4.571099281311035\n",
       "                     63580      -74.1615982055664,4.615560531616211\n",
       "                                              ...                  \n",
       "2022-05-15 22:00:00  63904     -74.10940551757812,4.679540634155273\n",
       "2022-05-15 23:00:00  63905     -74.18651580810547,4.569133758544922\n",
       "                     63906    -74.13054656982422,4.6656575202941895\n",
       "                     63907      -74.0887451171875,4.725343227386475\n",
       "                     63908     -74.13822174072266,4.557262420654297\n",
       "Length: 333, dtype: object"
      ]
     },
     "execution_count": 20,
     "metadata": {},
     "output_type": "execute_result"
    }
   ],
   "source": [
    "# format incident locations according to the routing API\n",
    "incidents_locations = incidentsdf_subset[[\"longitude\",\"latitude\"]].apply(lambda x: ','.join(x.values.astype(str)), axis=1)\n",
    "incidents_locations"
   ]
  },
  {
   "cell_type": "code",
   "execution_count": 21,
   "metadata": {},
   "outputs": [
    {
     "data": {
      "text/plain": [
       "interval             dev_id         \n",
       "2022-05-15 00:00:00  868033050139668    -74.0573678,4.7182193\n",
       "                     868033050103862    -74.0768264,4.6618975\n",
       "                     868033050100603    -74.1171796,4.7138703\n",
       "                     868033050138876    -74.1032533,4.7273083\n",
       "                     868033050103508    -74.0851146,4.5977981\n",
       "                                                ...          \n",
       "2022-05-15 23:00:00  868033050101908    -74.1627083,4.6149867\n",
       "                     868033050102203    -74.2210367,4.7095467\n",
       "                     868033050089939    -74.1495259,4.6356699\n",
       "                     868033050099839    -74.1403013,4.6968925\n",
       "                     868033050102005    -74.1546772,4.6312973\n",
       "Length: 1211, dtype: object"
      ]
     },
     "execution_count": 21,
     "metadata": {},
     "output_type": "execute_result"
    }
   ],
   "source": [
    "# format agent locations according to the routing API\n",
    "agents_locations = agentsdf_subset[[\"longitude\",\"latitude\"]].apply(lambda x: ','.join(x.values.astype(str)), axis=1)\n",
    "agents_locations"
   ]
  },
  {
   "cell_type": "markdown",
   "metadata": {},
   "source": [
    "Let's pick a fixed day for our example:"
   ]
  },
  {
   "cell_type": "code",
   "execution_count": 22,
   "metadata": {},
   "outputs": [],
   "source": [
    "# select a subset of one day to display\n",
    "fixed_day = \"2022-05-15\"\n",
    "incidentsdf_subset = incidentsdf_subset.reset_index().copy()\n",
    "agentsdf_subset = agentsdf_subset.reset_index().copy()\n",
    "# add hour colums for slider purposes\n",
    "incidentsdf_subset[\"hour\"] = incidentsdf_subset[\"incident_time\"].dt.hour.astype(str)\n",
    "agentsdf_subset[\"hour\"] = agentsdf_subset[\"time_stamp\"].dt.hour.astype(str)"
   ]
  },
  {
   "cell_type": "markdown",
   "metadata": {},
   "source": [
    "We will now plot the agents and incidents per hour in the day we fixed previously"
   ]
  },
  {
   "cell_type": "code",
   "execution_count": 23,
   "metadata": {},
   "outputs": [
    {
     "data": {
      "application/vnd.plotly.v1+json": {
       "config": {
        "plotlyServerURL": "https://plot.ly"
       },
       "data": [
        {
         "lat": [
          4.612185,
          4.6100281,
          4.6425904,
          4.612451,
          4.6467887,
          4.6143667,
          4.6500251,
          4.7682233,
          4.6171333,
          4.6224082,
          4.6432983,
          4.6184974,
          4.5948333,
          4.6149867,
          4.7095467,
          4.6356699,
          4.6968925,
          4.6312973
         ],
         "lon": [
          -74.1612417,
          -74.1419852,
          -74.12847,
          -74.1746927,
          -74.1687497,
          -74.11079,
          -74.1473394,
          -74.032265,
          -74.1374183,
          -74.1220686,
          -74.107885,
          -74.0869571,
          -74.128735,
          -74.1627083,
          -74.2210367,
          -74.1495259,
          -74.1403013,
          -74.1546772
         ],
         "marker": {
          "color": "rgb(255, 0, 0)",
          "opacity": 0.7,
          "size": 8
         },
         "mode": "markers",
         "name": "Agents",
         "type": "scattermapbox"
        },
        {
         "lat": [
          4.679540634155273,
          4.569133758544922,
          4.6656575202941895,
          4.725343227386475
         ],
         "lon": [
          -74.10940551757812,
          -74.18651580810547,
          -74.13054656982422,
          -74.0887451171875
         ],
         "marker": {
          "color": "rgb(0, 0, 255)",
          "opacity": 0.7,
          "size": 8
         },
         "mode": "markers",
         "name": "Incidents",
         "type": "scattermapbox"
        }
       ],
       "frames": [
        {
         "data": [
          {
           "lat": [
            4.7182193,
            4.6618975,
            4.7138703,
            4.7273083,
            4.5977981,
            4.6008149,
            4.6491067,
            4.6058285,
            4.7357798,
            4.5468542,
            4.5766229,
            4.6048073,
            4.7319789,
            4.6373505,
            4.6686993,
            4.610075,
            4.6185287,
            4.5982896,
            4.5913708,
            4.7639842,
            4.5975933,
            4.5972387,
            4.6146097,
            4.7443333,
            4.5808476,
            4.5870233,
            4.5699667,
            4.6662613,
            4.6340033,
            4.7289235,
            4.70209,
            4.6168874
           ],
           "lon": [
            -74.0573678,
            -74.0768264,
            -74.1171796,
            -74.1032533,
            -74.0851146,
            -74.1861975,
            -74.07946,
            -74.1719909,
            -74.1006879,
            -74.1082986,
            -74.1503863,
            -74.1479364,
            -74.0690788,
            -74.1838495,
            -74.0527494,
            -74.168585,
            -74.102506,
            -74.140554,
            -74.0655673,
            -74.0241403,
            -74.10767,
            -74.1115189,
            -74.1136777,
            -74.047595,
            -74.1682006,
            -74.154575,
            -74.1440833,
            -74.1307859,
            -74.0738417,
            -74.2656652,
            -74.1116983,
            -74.1707251
           ],
           "marker": {
            "color": "rgb(255, 0, 0)",
            "opacity": 0.7,
            "size": 8
           },
           "mode": "markers",
           "name": "Agents",
           "type": "scattermapbox"
          },
          {
           "lat": [
            4.711182117462158,
            4.668450355529785,
            4.571099281311035,
            4.615560531616211,
            4.615081787109375,
            4.614508628845215,
            4.593765735626221,
            4.557262420654297
           ],
           "lon": [
            -74.12568664550781,
            -74.12039947509766,
            -74.08935546875,
            -74.1615982055664,
            -74.16263580322266,
            -74.16738891601562,
            -74.14527893066406,
            -74.13822174072266
           ],
           "marker": {
            "color": "rgb(0, 0, 255)",
            "opacity": 0.7,
            "size": 8
           },
           "mode": "markers",
           "name": "Incidents",
           "type": "scattermapbox"
          }
         ],
         "name": "0"
        },
        {
         "data": [
          {
           "lat": [
            4.5766484,
            4.5939617,
            4.6011764,
            4.6976167,
            4.7168971,
            4.6591217,
            4.6134465,
            4.6278292,
            4.64968,
            4.5982567,
            4.5878367,
            4.7138968,
            4.7090967,
            4.6117818,
            4.70482,
            4.6158211,
            4.6100019,
            4.72606,
            4.7190627,
            4.6662613,
            4.615895,
            4.5774725,
            4.6275567,
            4.7639842,
            4.5520634,
            4.5136603,
            4.59423,
            5.6406046
           ],
           "lon": [
            -74.0955488,
            -74.1589767,
            -74.188399,
            -74.1416183,
            -74.0909169,
            -74.1304767,
            -74.1711076,
            -74.1135352,
            -74.0841117,
            -74.0790517,
            -74.1449867,
            -74.1171959,
            -74.220465,
            -74.1060909,
            -74.113795,
            -74.1872241,
            -74.1141205,
            -74.1045117,
            -74.0550484,
            -74.1307859,
            -74.0981233,
            -74.1105833,
            -74.106985,
            -74.0241403,
            -74.1094976,
            -74.1156908,
            -74.069325,
            -73.5264667
           ],
           "marker": {
            "color": "rgb(255, 0, 0)",
            "opacity": 0.7,
            "size": 8
           },
           "mode": "markers",
           "name": "Agents",
           "type": "scattermapbox"
          },
          {
           "lat": [
            4.619862079620361,
            4.764862060546875,
            4.712726593017578,
            4.624926567077637,
            4.668622970581055,
            4.637330055236816,
            4.606982231140137,
            4.591319561004639,
            4.628884792327881,
            4.598271369934082,
            4.611900329589844,
            4.637351989746094
           ],
           "lon": [
            -74.17003631591797,
            -74.02581787109375,
            -74.03275299072266,
            -74.19892120361328,
            -74.05992126464844,
            -74.11803436279297,
            -74.07742309570312,
            -74.09355926513672,
            -74.12236022949219,
            -74.16090393066406,
            -74.17745208740234,
            -74.11833190917969
           ],
           "marker": {
            "color": "rgb(0, 0, 255)",
            "opacity": 0.7,
            "size": 8
           },
           "mode": "markers",
           "name": "Incidents",
           "type": "scattermapbox"
          }
         ],
         "name": "1"
        },
        {
         "data": [
          {
           "lat": [
            4.5781945,
            4.6662613,
            4.6936499,
            4.6362,
            4.6468168,
            4.6425754,
            4.5967287,
            4.5520634,
            4.6726277,
            4.7411061,
            4.6043767,
            4.6298325,
            4.5870233,
            4.634581,
            4.5915517,
            4.6519856,
            4.6078267,
            4.6080233,
            4.5789699,
            4.5701643,
            4.6078185,
            4.5638141,
            5.6406046,
            4.5957433,
            4.7102992,
            4.5926681
           ],
           "lon": [
            -74.1430447,
            -74.1307859,
            -74.1223752,
            -74.1772083,
            -74.168765,
            -74.1285037,
            -74.1775761,
            -74.1094976,
            -74.0592148,
            -74.0589717,
            -74.1873417,
            -74.132988,
            -74.154575,
            -74.1634477,
            -74.1450933,
            -74.1128201,
            -74.1066167,
            -74.107,
            -74.1983052,
            -74.1392272,
            -74.108118,
            -74.1436467,
            -73.5264667,
            -74.0806267,
            -74.1223822,
            -74.089816
           ],
           "marker": {
            "color": "rgb(255, 0, 0)",
            "opacity": 0.7,
            "size": 8
           },
           "mode": "markers",
           "name": "Agents",
           "type": "scattermapbox"
          },
          {
           "lat": [
            4.557809829711914,
            4.721714019775391,
            4.613260269165039,
            4.595458507537842,
            4.563513278961182,
            4.640211582183838
           ],
           "lon": [
            -74.12208557128906,
            -74.08972930908203,
            -74.20851135253906,
            -74.0857925415039,
            -74.10823822021484,
            -74.06507873535156
           ],
           "marker": {
            "color": "rgb(0, 0, 255)",
            "opacity": 0.7,
            "size": 8
           },
           "mode": "markers",
           "name": "Incidents",
           "type": "scattermapbox"
          }
         ],
         "name": "2"
        },
        {
         "data": [
          {
           "lat": [
            4.6743388,
            4.6089983,
            4.6095205,
            4.606805,
            4.6512376,
            4.7120769,
            4.649285,
            4.656689,
            4.7102992,
            4.6196533,
            4.6419768,
            4.611932,
            4.5261617,
            4.6986183,
            4.5520634,
            4.6020583,
            4.6089133,
            4.5808428,
            4.7168955,
            4.5866617,
            4.60871,
            4.7367567,
            4.7138733,
            4.6500179
           ],
           "lon": [
            -74.1428971,
            -74.1026483,
            -74.1885468,
            -74.1791679,
            -74.164341,
            -74.1382165,
            -74.1769333,
            -74.0686518,
            -74.1223822,
            -74.170195,
            -74.0760097,
            -74.1944176,
            -74.1127467,
            -74.14321,
            -74.1094976,
            -74.13939,
            -74.1576633,
            -74.1682011,
            -74.0909201,
            -74.1998367,
            -74.0727717,
            -74.0797317,
            -74.1171797,
            -74.1473139
           ],
           "marker": {
            "color": "rgb(255, 0, 0)",
            "opacity": 0.7,
            "size": 8
           },
           "mode": "markers",
           "name": "Agents",
           "type": "scattermapbox"
          },
          {
           "lat": [
            4.581630706787109,
            4.595458507537842,
            4.737720966339111,
            4.726970195770264
           ],
           "lon": [
            -74.1187515258789,
            -74.0857925415039,
            -74.0849838256836,
            -74.09449768066406
           ],
           "marker": {
            "color": "rgb(0, 0, 255)",
            "opacity": 0.7,
            "size": 8
           },
           "mode": "markers",
           "name": "Incidents",
           "type": "scattermapbox"
          }
         ],
         "name": "3"
        },
        {
         "data": [
          {
           "lat": [
            4.6126406,
            4.697565,
            4.501622,
            4.5261133,
            4.6429733,
            4.6498467,
            4.729775,
            4.5738614,
            4.6515847,
            4.5789633,
            4.7289235,
            5.6450986,
            4.5683695,
            4.615375,
            4.6020583,
            4.5325801,
            4.6046993,
            4.6040942,
            4.649365,
            4.658831,
            4.6492167,
            4.622
           ],
           "lon": [
            -74.21298,
            -74.1412433,
            -74.1157817,
            -74.1125267,
            -74.0788578,
            -74.0802867,
            -74.0478668,
            -74.1389805,
            -74.1128106,
            -74.0912583,
            -74.2656652,
            -73.5176311,
            -74.0891064,
            -74.1868583,
            -74.13939,
            -74.1425302,
            -74.09665,
            -74.1071032,
            -74.0795033,
            -74.0575705,
            -74.176955,
            -74.1494217
           ],
           "marker": {
            "color": "rgb(255, 0, 0)",
            "opacity": 0.7,
            "size": 8
           },
           "mode": "markers",
           "name": "Agents",
           "type": "scattermapbox"
          },
          {
           "lat": [
            4.6511640548706055,
            4.646847724914551,
            4.697005748748779,
            4.708889007568359,
            4.624240398406982,
            4.653903484344482,
            4.524176120758057,
            4.6313066482543945,
            4.706799030303955,
            4.5425519943237305,
            4.769060134887695,
            4.63873291015625,
            4.737889289855957,
            4.667274951934815,
            4.683706283569336,
            4.630399703979492
           ],
           "lon": [
            -74.06217193603516,
            -74.06021118164062,
            -74.08384704589844,
            -74.06448364257812,
            -74.17901611328125,
            -74.10344696044922,
            -74.12249755859375,
            -74.18838500976562,
            -74.05436706542969,
            -74.08391571044922,
            -74.04390716552734,
            -74.1905517578125,
            -74.08504486083984,
            -74.11869049072266,
            -74.09134674072266,
            -74.16796112060547
           ],
           "marker": {
            "color": "rgb(0, 0, 255)",
            "opacity": 0.7,
            "size": 8
           },
           "mode": "markers",
           "name": "Incidents",
           "type": "scattermapbox"
          }
         ],
         "name": "4"
        },
        {
         "data": [
          {
           "lat": [
            4.6512567,
            4.6794517,
            4.6975692,
            4.6218382,
            4.6095195,
            4.6494517,
            4.6152585,
            4.5229136,
            4.6100019,
            4.6164325,
            4.61642,
            4.6671547,
            4.6123983,
            4.6168316,
            4.5948117,
            4.61444,
            4.595555,
            4.6343,
            4.6272449,
            4.6342583,
            4.6267316,
            5.6450986,
            4.6394477,
            4.5325801,
            4.6802505,
            4.59463,
            4.604288,
            4.7377183,
            4.6028383,
            4.58201,
            4.5944617,
            4.5550401,
            4.6799233,
            4.6291717,
            4.6955737
           ],
           "lon": [
            -74.1643319,
            -74.0956683,
            -74.0951817,
            -74.1033802,
            -74.1885457,
            -74.15157,
            -74.0863728,
            -74.1238002,
            -74.1141205,
            -74.0987824,
            -74.0987383,
            -74.1289508,
            -74.0945467,
            -74.1544427,
            -74.0780317,
            -74.1003209,
            -74.1260783,
            -74.1656817,
            -74.1249386,
            -74.0762083,
            -74.1248318,
            -73.5176311,
            -74.1516871,
            -74.1425302,
            -74.0614065,
            -74.07794,
            -74.1302651,
            -74.08042,
            -74.1793583,
            -74.13329,
            -74.1357183,
            -74.1065366,
            -74.0579433,
            -74.1235567,
            -74.1400007
           ],
           "marker": {
            "color": "rgb(255, 0, 0)",
            "opacity": 0.7,
            "size": 8
           },
           "mode": "markers",
           "name": "Agents",
           "type": "scattermapbox"
          },
          {
           "lat": [
            4.684780120849609,
            4.609814643859863,
            4.629308223724365,
            4.627455234527588,
            4.610971450805664
           ],
           "lon": [
            -74.05756378173828,
            -74.06787109375,
            -74.12244415283203,
            -74.10745239257812,
            -74.18223571777344
           ],
           "marker": {
            "color": "rgb(0, 0, 255)",
            "opacity": 0.7,
            "size": 8
           },
           "mode": "markers",
           "name": "Incidents",
           "type": "scattermapbox"
          }
         ],
         "name": "5"
        },
        {
         "data": [
          {
           "lat": [
            4.5944617,
            4.6087275,
            4.6163517,
            4.5982375,
            4.6168183,
            4.61567,
            4.6191517,
            4.6803767,
            4.6100019,
            4.602015,
            4.5751638,
            4.6010535,
            4.5870812,
            4.60648,
            4.59042,
            5.6406046,
            4.6145145,
            4.6174033,
            4.5854567,
            4.570025,
            4.5808533,
            4.7357798,
            4.5957544,
            4.6070483,
            4.6155169,
            4.678295,
            4.594215,
            4.5259333,
            4.6667045,
            4.5857841,
            4.55411,
            4.5886067,
            4.7273917,
            4.5996917,
            4.6698495,
            4.7572724,
            4.61554,
            4.6689295,
            4.6522552,
            4.6140617,
            4.6497433,
            4.5520634,
            4.7043883,
            4.6153733,
            4.5954629,
            4.6776892,
            4.6272683,
            4.6099687,
            4.5840738,
            4.7357775,
            4.6227667,
            4.6040933,
            4.6161558,
            4.7572724,
            4.5955138,
            4.6197112,
            4.4781605,
            4.6094318,
            4.61578,
            4.6492167
           ],
           "lon": [
            -74.1357183,
            -74.1083771,
            -74.0984717,
            -74.1407276,
            -74.09861,
            -74.0983583,
            -74.1430917,
            -74.05807,
            -74.1141205,
            -74.1395383,
            -74.1107094,
            -74.1035254,
            -74.0835008,
            -74.1159883,
            -74.0789331,
            -73.5264667,
            -74.100257,
            -74.1004967,
            -74.1332789,
            -74.1439717,
            -74.1682056,
            -74.1006879,
            -74.1131528,
            -74.1241883,
            -74.0984586,
            -74.05638,
            -74.12186,
            -74.1126817,
            -74.0736762,
            -74.1551371,
            -74.0847275,
            -74.1974367,
            -74.0503983,
            -74.075525,
            -74.146389,
            -74.045251,
            -74.098315,
            -74.0977513,
            -74.11313,
            -74.110785,
            -74.079945,
            -74.1094976,
            -74.113925,
            -74.1139023,
            -74.0795708,
            -74.0581741,
            -74.0673717,
            -74.1288638,
            -74.1576974,
            -74.1274277,
            -74.09342,
            -74.1001967,
            -74.0977168,
            -74.045251,
            -74.1670578,
            -74.1051985,
            -74.0945221,
            -74.1814277,
            -74.0982483,
            -74.176955
           ],
           "marker": {
            "color": "rgb(255, 0, 0)",
            "opacity": 0.7,
            "size": 8
           },
           "mode": "markers",
           "name": "Agents",
           "type": "scattermapbox"
          },
          {
           "lat": [
            4.667993545532227,
            4.758011341094971,
            4.604458332061768,
            4.649033069610596,
            4.5151190757751465,
            4.628507137298584,
            4.59604549407959,
            4.724581241607666,
            4.763920307159424,
            4.646127223968506,
            4.727888584136963,
            4.578139781951904,
            4.485190391540527
           ],
           "lon": [
            -74.14874267578125,
            -74.04509735107422,
            -74.07942199707031,
            -74.12714385986328,
            -74.11648559570312,
            -74.17078399658203,
            -74.16197967529297,
            -74.07705688476562,
            -74.03134155273438,
            -74.1301498413086,
            -74.1253890991211,
            -74.15607452392578,
            -74.10355377197266
           ],
           "marker": {
            "color": "rgb(0, 0, 255)",
            "opacity": 0.7,
            "size": 8
           },
           "mode": "markers",
           "name": "Incidents",
           "type": "scattermapbox"
          }
         ],
         "name": "6"
        },
        {
         "data": [
          {
           "lat": [
            4.615966,
            4.623295,
            4.5940364,
            4.5955337,
            4.723755,
            4.7410898,
            4.6054067,
            4.7376317,
            4.65435,
            4.5016304,
            4.642561,
            4.588025,
            4.60921,
            4.6152602,
            4.5580217,
            4.765567,
            4.6162506,
            4.65278,
            4.6428823,
            4.5811204,
            4.6944467,
            4.6131083,
            4.5902338,
            4.5453827,
            4.6116267,
            4.7203576,
            4.6581312,
            4.6140617,
            4.573021,
            4.68481,
            4.5520634,
            4.6052167,
            4.6087393,
            4.5801017,
            4.7084667,
            4.7594859,
            4.5451624,
            4.630445,
            4.5817342,
            4.6048073,
            4.57629,
            4.648505,
            4.6312776,
            4.6164183,
            4.7048983,
            4.6652738,
            4.7572724,
            4.6156817,
            4.6508,
            4.7572724,
            4.7168946,
            4.598505,
            4.5963318,
            4.5815633,
            4.5899619,
            4.6259562,
            4.7422955,
            4.75268,
            4.6165685,
            4.7440033
           ],
           "lon": [
            -74.0978373,
            -74.1024467,
            -74.1486984,
            -74.1667758,
            -74.0969917,
            -74.0589793,
            -74.1866576,
            -74.1260667,
            -74.11441,
            -74.1157684,
            -74.1285532,
            -74.14455,
            -74.180645,
            -74.1051856,
            -74.1236383,
            -74.0790291,
            -74.0977513,
            -74.1133517,
            -74.1447321,
            -74.1417962,
            -74.169275,
            -74.091535,
            -74.1179398,
            -74.120935,
            -74.0760183,
            -74.0848756,
            -74.1329974,
            -74.110785,
            -74.24571,
            -74.1339,
            -74.1094976,
            -74.1094333,
            -74.1083976,
            -74.15031,
            -74.110935,
            -74.0446992,
            -74.1208761,
            -74.1556333,
            -74.1284449,
            -74.1479364,
            -74.1535933,
            -74.0975233,
            -74.1552592,
            -74.0987463,
            -74.1133083,
            -74.0610393,
            -74.045251,
            -74.098485,
            -74.0619283,
            -74.045251,
            -74.0909162,
            -74.1177433,
            -74.0916847,
            -74.1310583,
            -74.1985218,
            -74.087759,
            -74.1388602,
            -74.0903583,
            -74.1868,
            -74.0865233
           ],
           "marker": {
            "color": "rgb(255, 0, 0)",
            "opacity": 0.7,
            "size": 8
           },
           "mode": "markers",
           "name": "Agents",
           "type": "scattermapbox"
          },
          {
           "lat": [
            4.596035480499268,
            4.720500946044922,
            4.710030555725098,
            4.639309883117676,
            4.604847431182861,
            4.599655628204346,
            4.735466480255127,
            4.609838485717773,
            4.637311458587647,
            4.593716144561768,
            4.738250255584717,
            4.621854305267334,
            4.716438293457031,
            4.667898178100586,
            4.777798175811768,
            4.747550964355469,
            4.59869909286499,
            4.595202922821045
           ],
           "lon": [
            -74.1580581665039,
            -74.07512664794922,
            -74.094482421875,
            -74.13568115234375,
            -74.1917495727539,
            -74.16209411621094,
            -74.10337829589844,
            -74.07196807861328,
            -74.1183090209961,
            -74.12677764892578,
            -74.08638763427734,
            -74.05848693847656,
            -74.09674835205078,
            -74.05152130126953,
            -74.04183197021484,
            -74.10089874267578,
            -74.0845718383789,
            -74.1473617553711
           ],
           "marker": {
            "color": "rgb(0, 0, 255)",
            "opacity": 0.7,
            "size": 8
           },
           "mode": "markers",
           "name": "Incidents",
           "type": "scattermapbox"
          }
         ],
         "name": "7"
        },
        {
         "data": [
          {
           "lat": [
            4.5761079,
            4.7595733,
            4.5898817,
            4.63066,
            4.6063392,
            4.5963318,
            4.6197282,
            4.5870467,
            4.6253,
            4.6185733,
            4.5805142,
            4.6278133,
            4.6201812,
            4.7708596,
            4.614495,
            4.6525248,
            4.66321,
            4.6216533,
            4.5797756,
            4.5974407,
            4.6174968,
            4.6095291,
            4.6493183,
            4.6140617,
            4.6031649,
            5.6450986,
            4.6073459,
            4.5509533,
            4.6508,
            4.6118994,
            4.6653467,
            4.5451367,
            4.5839733,
            4.6468112,
            4.6261365,
            4.6742388,
            4.6418747,
            4.7685161,
            4.7050056,
            4.62532,
            4.7724997,
            4.6164337,
            4.6881294,
            4.5520634,
            4.6158224,
            4.5570127,
            4.6097168,
            4.7220883
           ],
           "lon": [
            -74.1536348,
            -74.0448533,
            -74.118155,
            -74.1555317,
            -74.0980797,
            -74.0916847,
            -74.0999538,
            -74.122805,
            -74.194495,
            -74.1091483,
            -74.1425302,
            -74.07912,
            -74.119775,
            -74.041879,
            -74.1106483,
            -74.1135356,
            -74.0610417,
            -74.09085,
            -74.1511934,
            -74.1798558,
            -74.0977513,
            -74.1172057,
            -74.104555,
            -74.110785,
            -74.1113329,
            -73.5176311,
            -74.0841897,
            -74.1477526,
            -74.0619283,
            -74.1945671,
            -74.1097917,
            -74.12089,
            -74.1117317,
            -74.1687504,
            -74.0875211,
            -74.0816143,
            -74.1249487,
            -74.0320319,
            -74.2060211,
            -74.08779,
            -74.0419463,
            -74.1647123,
            -74.0514931,
            -74.1094976,
            -74.0979656,
            -74.1219772,
            -74.1085538,
            -74.0644033
           ],
           "marker": {
            "color": "rgb(255, 0, 0)",
            "opacity": 0.7,
            "size": 8
           },
           "mode": "markers",
           "name": "Agents",
           "type": "scattermapbox"
          },
          {
           "lat": [
            4.618696212768555,
            4.66633415222168,
            4.630840301513672,
            4.69085168838501,
            4.572155952453613,
            4.679454803466797,
            4.762457847595215,
            4.526815891265869,
            4.604503631591797
           ],
           "lon": [
            -74.18632507324219,
            -74.01365661621094,
            -74.20370483398438,
            -74.0926742553711,
            -74.09808349609375,
            -74.10047912597656,
            -74.0682144165039,
            -74.08708190917969,
            -74.09539031982422
           ],
           "marker": {
            "color": "rgb(0, 0, 255)",
            "opacity": 0.7,
            "size": 8
           },
           "mode": "markers",
           "name": "Incidents",
           "type": "scattermapbox"
          }
         ],
         "name": "8"
        },
        {
         "data": [
          {
           "lat": [
            4.5814979,
            4.6146079,
            4.6291483,
            4.671685,
            4.6001947,
            4.6671547,
            4.6140617,
            4.6588421,
            4.6630583,
            4.6200628,
            4.5445542,
            4.7538383,
            4.586555,
            4.61641,
            4.6232533,
            4.6164362,
            4.6468112,
            4.6172472,
            4.681245,
            4.5959807,
            4.760475,
            4.6975177,
            4.6390433,
            4.595595,
            4.6213386,
            4.6526453,
            4.6332009,
            4.7047033,
            4.7731567,
            5.4884387,
            4.6977688,
            4.6781237,
            4.6117718,
            4.5853981,
            4.639689,
            4.5455581,
            4.5966783,
            4.6845734,
            4.6383183,
            4.5818567,
            4.7289235,
            4.6154487,
            4.5920041,
            4.6161517,
            4.5902421,
            4.714506,
            4.61838,
            4.5510916
           ],
           "lon": [
            -74.1172057,
            -74.1136839,
            -74.0894767,
            -74.0581783,
            -74.081373,
            -74.1289508,
            -74.110785,
            -74.1065611,
            -74.0610133,
            -74.1721331,
            -74.1192958,
            -74.0579717,
            -74.1999817,
            -74.0986667,
            -74.1948817,
            -74.1647154,
            -74.1687504,
            -74.1382986,
            -74.1204517,
            -74.0830674,
            -74.0437367,
            -74.1424667,
            -74.114935,
            -74.0733267,
            -74.0912479,
            -74.1137126,
            -74.1762165,
            -74.11375,
            -74.0411183,
            -73.4793392,
            -74.1414546,
            -74.1407629,
            -74.1060863,
            -74.062316,
            -74.1414292,
            -74.1384932,
            -74.15431,
            -74.1568335,
            -74.1415983,
            -74.0899767,
            -74.2656652,
            -74.1172057,
            -74.1410622,
            -74.0981,
            -74.1183068,
            -74.2232719,
            -74.1091305,
            -74.1476467
           ],
           "marker": {
            "color": "rgb(255, 0, 0)",
            "opacity": 0.7,
            "size": 8
           },
           "mode": "markers",
           "name": "Agents",
           "type": "scattermapbox"
          },
          {
           "lat": [
            4.661438465118408,
            4.513833045959473,
            4.603055000305176,
            4.581827163696289,
            4.580506324768066,
            4.807321548461914,
            4.757629871368408,
            4.64923620223999,
            4.597247123718262,
            4.579835414886475,
            4.66963005065918,
            4.577205181121826,
            4.65362548828125
           ],
           "lon": [
            -74.1157455444336,
            -74.11566925048828,
            -74.12114715576172,
            -74.08271789550781,
            -74.14226531982422,
            -74.03680419921875,
            -74.04517364501953,
            -74.12664031982422,
            -74.1793212890625,
            -74.1084976196289,
            -74.06632232666016,
            -74.11326599121094,
            -74.10334014892578
           ],
           "marker": {
            "color": "rgb(0, 0, 255)",
            "opacity": 0.7,
            "size": 8
           },
           "mode": "markers",
           "name": "Incidents",
           "type": "scattermapbox"
          }
         ],
         "name": "9"
        },
        {
         "data": [
          {
           "lat": [
            4.6975733,
            4.604308,
            4.6145853,
            4.5781797,
            4.7533967,
            4.5450367,
            4.5858783,
            4.6492167,
            4.5857283,
            4.5817353,
            4.5877282,
            4.5859667,
            4.6116797,
            4.5254865,
            5.4139478,
            4.6168305,
            4.633825,
            4.7467867,
            4.635249,
            4.590205,
            4.7846534,
            4.705332,
            4.5886517,
            4.5912262,
            4.6131717,
            4.5956024,
            4.6128257,
            4.616892,
            4.6164055,
            4.6665151,
            4.6332005,
            4.6845096,
            4.6301779,
            4.5946542,
            4.69471,
            4.6275033,
            4.7597623,
            4.617522,
            4.631785,
            4.6139567,
            4.5954645,
            4.591475,
            4.5929894,
            4.7597641,
            4.6716117,
            4.6048073,
            4.7607759,
            4.5856173,
            4.5582967,
            4.6058055,
            4.73052
           ],
           "lon": [
            -74.1421017,
            -74.161613,
            -74.1837914,
            -74.143056,
            -74.12418,
            -74.1209733,
            -74.1379467,
            -74.176955,
            -74.11035,
            -74.1282829,
            -74.190258,
            -74.061585,
            -74.1437003,
            -74.0873024,
            -73.4612217,
            -74.1094976,
            -74.079765,
            -74.0954683,
            -74.1381261,
            -74.1179567,
            -74.041521,
            -74.1069282,
            -74.1168387,
            -74.0793962,
            -74.1673208,
            -74.166823,
            -74.0705851,
            -74.1707398,
            -74.0977451,
            -74.0742565,
            -74.1762204,
            -74.1537022,
            -74.1390884,
            -74.0861187,
            -74.1694517,
            -74.0863867,
            -74.0448838,
            -74.0988525,
            -74.1533067,
            -74.1106983,
            -74.1674126,
            -74.1241417,
            -74.1356496,
            -74.0457635,
            -74.0584733,
            -74.1479364,
            -74.0447606,
            -74.1104517,
            -74.0956783,
            -74.1719858,
            -74.0500167
           ],
           "marker": {
            "color": "rgb(255, 0, 0)",
            "opacity": 0.7,
            "size": 8
           },
           "mode": "markers",
           "name": "Agents",
           "type": "scattermapbox"
          },
          {
           "lat": [
            4.735379695892334,
            4.787565231323242,
            4.719406127929688,
            4.6664204597473145,
            4.768012523651123,
            4.578948020935059,
            4.5771074295043945,
            4.617066860198975,
            4.625959396362305,
            4.696834564208984
           ],
           "lon": [
            -74.08536529541016,
            -74.04070281982422,
            -74.1196060180664,
            -74.13123321533203,
            -74.04338836669922,
            -74.13465118408203,
            -74.12981414794922,
            -74.15277099609375,
            -74.07080078125,
            -74.03150177001953
           ],
           "marker": {
            "color": "rgb(0, 0, 255)",
            "opacity": 0.7,
            "size": 8
           },
           "mode": "markers",
           "name": "Incidents",
           "type": "scattermapbox"
          }
         ],
         "name": "10"
        },
        {
         "data": [
          {
           "lat": [
            4.6101717,
            4.6042938,
            4.649565,
            4.6164974,
            4.587375,
            4.5956812,
            4.73052,
            4.5779142,
            4.5704517,
            4.6139567,
            4.6200592,
            4.5808533,
            4.6697166,
            4.6276633,
            4.5809001,
            4.5153633,
            4.5779183,
            4.613655,
            4.7538383,
            4.5147317,
            4.6164351,
            4.5804616,
            4.694645,
            4.6498576,
            4.6187417,
            4.73335,
            4.6193122,
            4.5771941,
            4.6146119,
            4.7532533,
            4.5932956,
            4.6095291,
            4.6487258,
            4.6512995,
            4.7288749,
            4.5637417,
            4.761094,
            4.6968783,
            4.7357798,
            4.6022767,
            4.5794684,
            4.628208,
            4.6720918,
            4.6185667,
            4.6261633,
            4.7155367,
            4.7227867,
            4.5865908,
            4.5850964,
            4.7533074,
            4.6324917,
            4.6042794,
            4.633905
           ],
           "lon": [
            -74.1385533,
            -74.106194,
            -74.09544,
            -74.0977953,
            -74.12838,
            -74.1109658,
            -74.0500167,
            -74.0966169,
            -74.1255633,
            -74.1106983,
            -74.1721381,
            -74.1682056,
            -74.0664664,
            -74.0987183,
            -74.1183068,
            -74.1165467,
            -74.0994767,
            -74.110895,
            -74.0579717,
            -74.1174717,
            -74.164716,
            -74.0787438,
            -74.1695233,
            -74.1658405,
            -74.1024683,
            -74.0439533,
            -74.0871675,
            -74.1506937,
            -74.113676,
            -74.0450367,
            -74.1585483,
            -74.1172057,
            -74.1100452,
            -74.164311,
            -74.2812261,
            -74.1077217,
            -74.0922029,
            -74.1413267,
            -74.1006879,
            -74.06784,
            -74.1124318,
            -74.1164716,
            -74.0167483,
            -74.1019917,
            -74.0884455,
            -74.0780567,
            -74.1219167,
            -74.1996621,
            -74.109376,
            -74.0457307,
            -74.1350483,
            -74.1303062,
            -74.0899913
           ],
           "marker": {
            "color": "rgb(255, 0, 0)",
            "opacity": 0.7,
            "size": 8
           },
           "mode": "markers",
           "name": "Agents",
           "type": "scattermapbox"
          },
          {
           "lat": [
            4.595442771911621,
            4.6309967041015625,
            4.73740291595459,
            4.50656270980835,
            4.49882173538208,
            4.595647811889648,
            4.637125015258789,
            4.538775444030762,
            4.6595377922058105,
            4.77665901184082,
            4.578693866729736,
            4.6970534324646,
            4.640368938446045,
            4.5017924308776855,
            4.570099353790283
           ],
           "lon": [
            -74.14109802246094,
            -74.16719818115234,
            -74.04852294921875,
            -74.10626983642578,
            -74.1031494140625,
            -74.1618881225586,
            -74.13867950439453,
            -74.13209533691406,
            -74.13594818115234,
            -74.04251861572266,
            -74.13567352294922,
            -74.1146011352539,
            -74.15589141845703,
            -74.11334228515625,
            -74.12334442138672
           ],
           "marker": {
            "color": "rgb(0, 0, 255)",
            "opacity": 0.7,
            "size": 8
           },
           "mode": "markers",
           "name": "Incidents",
           "type": "scattermapbox"
          }
         ],
         "name": "11"
        },
        {
         "data": [
          {
           "lat": [
            4.6781273,
            4.683977,
            4.6165033,
            4.6781502,
            4.5877304,
            4.6178156,
            4.5640327,
            4.634581,
            4.6164222,
            4.7556533,
            4.616855,
            4.6102211,
            4.585141,
            4.5786967,
            4.603202,
            4.6150227,
            4.5971193,
            4.581515,
            4.5947293,
            4.5439967,
            4.7053064,
            4.6701266,
            4.7453661,
            4.536865,
            4.6183968,
            4.6274217,
            4.7503098,
            4.5982914,
            4.5779148,
            4.5694217,
            4.6203844,
            4.7090174,
            4.5817667,
            4.58522,
            4.73489,
            4.67217,
            4.49884,
            4.6317442,
            4.5967811,
            4.6727431,
            4.5854722,
            4.6106874,
            4.5853889,
            4.6526417,
            4.606697,
            4.6596788,
            4.7752017,
            4.5949837,
            4.5805355,
            4.6179483,
            4.6512995,
            4.587375,
            4.6154082,
            4.6200617,
            4.6662613,
            4.7532916,
            4.7497067,
            4.5849088,
            4.6170367,
            4.6655817,
            4.5893055,
            4.5932817,
            4.58598,
            4.6231527,
            4.5808493,
            4.5455581,
            4.6347283,
            4.66275,
            4.6594751,
            4.7532964,
            4.5953012,
            4.6095291
           ],
           "lon": [
            -74.1425205,
            -74.0970894,
            -74.0982167,
            -74.140792,
            -74.1902575,
            -74.1116999,
            -74.1439563,
            -74.1634477,
            -74.0978311,
            -74.0453617,
            -74.09842,
            -74.1385922,
            -74.1094159,
            -74.12941,
            -74.1002127,
            -74.1050654,
            -74.0937369,
            -74.1256617,
            -74.0861213,
            -74.1355633,
            -74.105827,
            -74.0551648,
            -74.09665,
            -74.13855,
            -74.1098647,
            -74.0903817,
            -74.0432875,
            -74.1805795,
            -74.0966259,
            -74.12357,
            -74.1696859,
            -74.0531635,
            -74.1282928,
            -74.1369667,
            -74.0856833,
            -74.0700417,
            -74.1033767,
            -74.0800397,
            -74.0771935,
            -74.0197931,
            -74.1103268,
            -74.2093114,
            -74.0623474,
            -74.1131033,
            -74.1117829,
            -74.0617737,
            -74.042925,
            -74.1458371,
            -74.1986721,
            -74.11122,
            -74.164311,
            -74.12838,
            -74.1017892,
            -74.1721378,
            -74.1307859,
            -74.0450962,
            -74.04741,
            -74.133181,
            -74.1115617,
            -74.0568383,
            -74.1203986,
            -74.158591,
            -74.13377,
            -74.0930671,
            -74.1682032,
            -74.1384932,
            -74.16241,
            -74.0626217,
            -74.0618945,
            -74.04509,
            -74.0792799,
            -74.1172057
           ],
           "marker": {
            "color": "rgb(255, 0, 0)",
            "opacity": 0.7,
            "size": 8
           },
           "mode": "markers",
           "name": "Agents",
           "type": "scattermapbox"
          },
          {
           "lat": [
            4.579400062561035,
            4.642887592315674,
            4.665625095367432,
            4.533382415771484,
            4.719387531280518,
            4.619975090026856,
            4.634762763977051,
            4.629268169403076,
            4.590093612670898,
            4.710346698760986,
            4.687553882598877,
            4.628320693969727,
            4.576735496520996,
            4.638096332550049,
            4.685914039611816
           ],
           "lon": [
            -74.0919189453125,
            -74.0581283569336,
            -74.0608139038086,
            -74.0827865600586,
            -74.11962890625,
            -74.1019515991211,
            -74.15655517578125,
            -74.12784576416016,
            -74.10823822021484,
            -74.07695770263672,
            -74.09488677978516,
            -74.17056274414062,
            -74.13065338134766,
            -74.2052993774414,
            -74.03704071044922
           ],
           "marker": {
            "color": "rgb(0, 0, 255)",
            "opacity": 0.7,
            "size": 8
           },
           "mode": "markers",
           "name": "Incidents",
           "type": "scattermapbox"
          }
         ],
         "name": "12"
        },
        {
         "data": [
          {
           "lat": [
            4.610075,
            4.6299583,
            4.5760538,
            4.6302952,
            4.6042938,
            4.6063529,
            4.6099483,
            4.58904,
            4.643,
            4.5683694,
            4.5932819,
            4.6996147,
            4.6201767,
            4.6450563,
            4.61948,
            4.6430396,
            4.6441851,
            4.5966016,
            4.6709283,
            4.6155441,
            4.6158783,
            4.6291533,
            4.4984217,
            4.7682483,
            4.5808451,
            4.7453661,
            4.6183968,
            4.56726,
            4.5944691,
            4.7319633,
            4.583819,
            4.6183942,
            4.6327333,
            4.6153467,
            4.6063167,
            4.5713067,
            4.5601358,
            4.61769,
            4.6066715,
            4.683977,
            4.6273663,
            4.6627707,
            4.5761168,
            4.6330093,
            4.5571217,
            4.5009637,
            4.793085,
            4.7532871,
            4.597116,
            4.6324917,
            4.580465,
            4.5520634,
            4.648945,
            4.6996378,
            4.6039883,
            4.5017281,
            4.6185605,
            4.7083192,
            4.5771941,
            4.6951833,
            4.615815,
            4.5818409,
            4.7533167,
            4.7046383,
            4.7698467,
            4.5569175,
            4.615015,
            4.5857717,
            4.7532325,
            4.6115991,
            4.6641344,
            4.5790939,
            4.5751669,
            4.6363983,
            4.6512995,
            4.6058307
           ],
           "lon": [
            -74.168585,
            -74.111375,
            -74.0958089,
            -74.1395942,
            -74.106194,
            -74.124104,
            -74.1139733,
            -74.0806267,
            -74.1740717,
            -74.0891172,
            -74.1585439,
            -74.1053517,
            -74.08705,
            -74.1475679,
            -74.087775,
            -74.0566334,
            -74.1206477,
            -74.1802577,
            -74.0707767,
            -74.1171454,
            -74.1101917,
            -74.1258617,
            -74.103005,
            -74.043395,
            -74.1681934,
            -74.09665,
            -74.1098647,
            -74.15171,
            -74.0761664,
            -74.067675,
            -74.1234454,
            -74.1091832,
            -74.0642167,
            -74.109945,
            -74.114915,
            -74.1244933,
            -74.0975911,
            -74.1111567,
            -74.111783,
            -74.0970894,
            -74.1069282,
            -74.0625847,
            -74.1546406,
            -74.067648,
            -74.1224967,
            -74.1054599,
            -74.038435,
            -74.0450843,
            -74.0937428,
            -74.1350483,
            -74.0787459,
            -74.1094976,
            -74.12671,
            -74.1036245,
            -74.110095,
            -74.1134895,
            -74.1205341,
            -74.2147489,
            -74.1506937,
            -74.14196,
            -74.1072733,
            -74.1282356,
            -74.0456583,
            -74.1134767,
            -74.032735,
            -74.1074158,
            -74.0932483,
            -74.110865,
            -74.0456459,
            -74.1223428,
            -74.0522274,
            -74.1072952,
            -74.1107047,
            -74.1808864,
            -74.164311,
            -74.1719975
           ],
           "marker": {
            "color": "rgb(255, 0, 0)",
            "opacity": 0.7,
            "size": 8
           },
           "mode": "markers",
           "name": "Agents",
           "type": "scattermapbox"
          },
          {
           "lat": [
            4.71732759475708,
            4.751465797424316,
            4.667107105255127,
            4.579406261444092,
            4.653269767761231,
            4.7071533203125,
            4.6959662437438965,
            4.646115303039551,
            4.615696907043457,
            4.625730037689209,
            4.604852676391602,
            4.623661518096924,
            4.73216724395752,
            4.680020332336426,
            4.608146190643311,
            4.59554386138916,
            4.629444122314453,
            4.7183451652526855,
            4.7333574295043945,
            4.743048667907715,
            4.566404819488525,
            4.711905956268311,
            4.631433963775635,
            4.696288585662842
           ],
           "lon": [
            -74.14033508300781,
            -74.04580688476562,
            -74.13591766357422,
            -74.1431884765625,
            -74.142822265625,
            -74.13771057128906,
            -74.08802032470703,
            -74.13013458251953,
            -74.08832550048828,
            -74.09171295166016,
            -74.18804931640625,
            -74.09359741210938,
            -74.04108428955078,
            -74.08765411376953,
            -74.08084869384766,
            -74.16188049316406,
            -74.19192504882812,
            -74.04695129394531,
            -74.09662628173828,
            -74.10977172851562,
            -74.1292953491211,
            -74.078369140625,
            -74.16676330566406,
            -74.02896881103516
           ],
           "marker": {
            "color": "rgb(0, 0, 255)",
            "opacity": 0.7,
            "size": 8
           },
           "mode": "markers",
           "name": "Incidents",
           "type": "scattermapbox"
          }
         ],
         "name": "13"
        },
        {
         "data": [
          {
           "lat": [
            4.615275,
            4.5965607,
            4.585415,
            4.6478383,
            4.6222376,
            4.5852642,
            4.7503821,
            4.6326702,
            4.6162583,
            4.7139077,
            4.6126117,
            4.6204928,
            4.6175375,
            4.6158275,
            4.6178156,
            4.7019773,
            4.6500617,
            4.6291933,
            4.6391912,
            4.6185605,
            4.6324917,
            4.6662613,
            4.5017523,
            4.7321467,
            4.5481309,
            4.6441411,
            4.6152917,
            4.5601358,
            4.6155441,
            4.6117755,
            4.5779483,
            4.5480429,
            4.5089901,
            4.606697,
            4.6291717,
            4.6099857,
            4.615584,
            4.609095,
            4.5781978,
            4.61388,
            4.5665726,
            4.6338283,
            4.6183968,
            4.6027091,
            4.613655,
            4.6494433,
            4.7453661,
            4.6284449,
            4.5907299,
            4.6281308,
            4.683977,
            4.6160183,
            4.5974767,
            4.72323,
            4.65324
           ],
           "lon": [
            -74.09653,
            -74.1334299,
            -74.087595,
            -74.0786183,
            -74.1006879,
            -74.132254,
            -74.0430743,
            -74.148035,
            -74.0984767,
            -74.1171966,
            -74.0918733,
            -74.119775,
            -74.1131682,
            -74.1073428,
            -74.1116999,
            -74.1304963,
            -74.0618217,
            -74.12425,
            -74.0654452,
            -74.1205341,
            -74.1350483,
            -74.1307859,
            -74.1132464,
            -74.049735,
            -74.1087608,
            -74.0997837,
            -74.1056,
            -74.0975911,
            -74.1171454,
            -74.1060889,
            -74.1116999,
            -74.1105988,
            -74.1168387,
            -74.1117829,
            -74.1235567,
            -74.1104126,
            -74.1151157,
            -74.1084683,
            -74.1430202,
            -74.110525,
            -74.1164977,
            -74.1099283,
            -74.1098647,
            -74.1220614,
            -74.110895,
            -74.07997,
            -74.09665,
            -74.0860042,
            -74.092207,
            -74.0855749,
            -74.0970894,
            -74.0985417,
            -74.0793933,
            -74.051265,
            -74.050658
           ],
           "marker": {
            "color": "rgb(255, 0, 0)",
            "opacity": 0.7,
            "size": 8
           },
           "mode": "markers",
           "name": "Agents",
           "type": "scattermapbox"
          },
          {
           "lat": [
            4.633738040924072,
            4.6656575202941895,
            4.708113670349121,
            4.624306678771973,
            4.656266212463379,
            4.618651866912842,
            4.687875747680664,
            4.611748695373535,
            4.645324230194092,
            4.698456764221191,
            4.738367080688477,
            4.595386505126953,
            4.578544616699219,
            4.646657466888428,
            4.650595664978027,
            4.647689342498779,
            4.62821102142334
           ],
           "lon": [
            -74.1375503540039,
            -74.13054656982422,
            -74.10468292236328,
            -74.08311462402344,
            -74.08826446533203,
            -74.10604858398438,
            -74.14541625976562,
            -74.16132354736328,
            -74.06123352050781,
            -74.05972290039062,
            -74.05194854736328,
            -74.1446762084961,
            -74.10614776611328,
            -74.17298889160156,
            -74.07051086425781,
            -74.1642074584961,
            -74.2024917602539
           ],
           "marker": {
            "color": "rgb(0, 0, 255)",
            "opacity": 0.7,
            "size": 8
           },
           "mode": "markers",
           "name": "Incidents",
           "type": "scattermapbox"
          }
         ],
         "name": "14"
        },
        {
         "data": [
          {
           "lat": [
            4.6255967,
            4.7375905,
            4.8772434,
            4.6203844,
            4.5738665,
            4.7094835,
            4.737635,
            4.6106874,
            4.5942812,
            4.5480429,
            4.7181933,
            4.6307712,
            4.6042938,
            4.5981143,
            4.598692,
            4.6224128,
            4.62252,
            4.6020035,
            4.6101133,
            4.608594,
            4.7181333,
            4.6689295,
            4.5853017,
            4.6518684,
            4.6498617,
            4.5884833,
            4.6752858,
            4.6418601,
            4.69338,
            4.713882,
            4.695283,
            4.5725896,
            4.5577488,
            4.6529467,
            4.5992851,
            4.6787917,
            4.5752613,
            4.69468,
            4.7440683,
            4.4997471,
            4.604701,
            4.6201105,
            4.5663336,
            4.6583469,
            4.61778,
            4.7534617,
            4.7640118,
            4.699467,
            4.6169051,
            4.6048183,
            4.614295,
            4.4998417,
            4.6112467,
            4.4980833,
            4.7536483,
            4.658831,
            4.55411,
            4.5848997,
            4.5464683,
            4.6591217,
            4.59902,
            4.5668367,
            4.6492183,
            4.6324917,
            4.6210093,
            4.6156466,
            4.6262317,
            4.6155517,
            4.7046868,
            4.5983867,
            4.670275,
            4.501005,
            4.6146817,
            4.6194683,
            4.6190523,
            4.5037502
           ],
           "lon": [
            -74.1818917,
            -74.0998077,
            -74.1352384,
            -74.1696859,
            -74.1503911,
            -74.1109658,
            -74.02274,
            -74.2093114,
            -74.0761027,
            -74.1105988,
            -74.0475883,
            -74.0991542,
            -74.106194,
            -74.0685331,
            -74.1887659,
            -74.1219772,
            -74.19293,
            -74.0793708,
            -74.1174333,
            -74.1091533,
            -74.0476167,
            -74.0977513,
            -74.13743,
            -74.0610393,
            -74.0617567,
            -74.116035,
            -74.0282633,
            -74.1249476,
            -74.1073633,
            -74.1171809,
            -74.0294282,
            -74.092734,
            -74.114207,
            -74.1134333,
            -74.1050928,
            -74.0559967,
            -74.1361866,
            -74.16959,
            -74.0870917,
            -74.1013017,
            -74.1880183,
            -74.08599,
            -74.1294221,
            -74.0581021,
            -74.1113783,
            -74.044945,
            -74.0275877,
            -74.0962829,
            -74.1707179,
            -74.120495,
            -74.1136817,
            -74.1014583,
            -74.1610383,
            -74.1028967,
            -74.044865,
            -74.0575705,
            -74.0847275,
            -74.1331428,
            -74.1373583,
            -74.1304767,
            -74.0746267,
            -74.1506033,
            -74.0629183,
            -74.1350483,
            -74.1875572,
            -74.0884497,
            -74.099685,
            -74.0884177,
            -74.1036668,
            -74.0800017,
            -74.1425302,
            -74.1043883,
            -74.10813,
            -74.0955183,
            -74.1165764,
            -74.1049649
           ],
           "marker": {
            "color": "rgb(255, 0, 0)",
            "opacity": 0.7,
            "size": 8
           },
           "mode": "markers",
           "name": "Agents",
           "type": "scattermapbox"
          },
          {
           "lat": [
            4.615567684173584,
            4.749125957489014,
            4.589162826538086,
            4.618958950042725,
            4.595011234283447,
            4.643462657928467,
            4.578937530517578,
            4.583502292633057,
            4.564809799194336,
            4.675656318664551,
            4.661743640899658,
            4.626443386077881,
            4.584422111511231,
            4.686480522155762,
            4.680356502532959,
            4.694759368896484,
            4.62001895904541,
            4.674635887145996,
            4.742080211639404,
            4.572216033935547
           ],
           "lon": [
            -74.187255859375,
            -74.10057830810547,
            -74.10900115966797,
            -74.14481353759766,
            -74.14762878417969,
            -74.13732147216797,
            -74.1205825805664,
            -74.11334228515625,
            -74.12882995605469,
            -74.15107727050781,
            -74.13790130615234,
            -74.12286376953125,
            -74.07255554199219,
            -74.10216522216797,
            -74.10017395019531,
            -74.08782958984375,
            -74.16114807128906,
            -74.14395141601562,
            -74.0855712890625,
            -74.15109252929688
           ],
           "marker": {
            "color": "rgb(0, 0, 255)",
            "opacity": 0.7,
            "size": 8
           },
           "mode": "markers",
           "name": "Incidents",
           "type": "scattermapbox"
          }
         ],
         "name": "15"
        },
        {
         "data": [
          {
           "lat": [
            4.50037,
            4.613615,
            4.4790333,
            4.6403218,
            4.6108776,
            4.5901467,
            4.5989783,
            4.6085264,
            4.6140983,
            4.584945,
            4.5146667,
            4.606478,
            4.6042938,
            4.6183968,
            4.7319623,
            4.6164292,
            4.560075,
            4.5825787,
            4.6551379,
            4.6704144,
            4.6502287,
            4.5951033,
            4.6056487,
            4.6689295,
            4.5695022,
            4.6884715,
            4.6198667,
            4.567745,
            4.7138651,
            4.6196167,
            4.7453661,
            4.5980351,
            4.7854817,
            4.5945804,
            4.7055868,
            4.6723087,
            4.60896,
            4.6279734,
            4.6087358,
            4.6803283,
            4.6200647,
            4.5520634,
            4.6953233,
            4.6195169,
            4.6992321,
            4.7288871,
            4.585355,
            4.5941133,
            4.7367183,
            4.675387,
            4.6544033,
            4.6138824,
            4.7010943,
            4.6534779,
            4.6752858,
            4.598835,
            4.6063467,
            4.7369567,
            4.5929954,
            4.645015,
            4.6217533,
            4.6092967,
            4.486435,
            4.583505,
            4.5725896,
            4.6484633,
            4.73987,
            4.5870817,
            4.600864,
            4.565755,
            4.6974583,
            4.599028
           ],
           "lon": [
            -74.1059933,
            -74.1046333,
            -74.0948933,
            -74.1555441,
            -74.0932296,
            -74.1244833,
            -74.0793283,
            -74.1072382,
            -74.1076017,
            -74.1379217,
            -74.1161287,
            -74.0836847,
            -74.106194,
            -74.1098647,
            -74.0683485,
            -74.0987804,
            -74.2430667,
            -74.1295385,
            -74.0626928,
            -74.1526177,
            -74.0623373,
            -74.1447917,
            -74.1205989,
            -74.0977513,
            -74.1018413,
            -74.0785167,
            -74.0867217,
            -74.1475267,
            -74.1171721,
            -74.0869883,
            -74.09665,
            -74.0793271,
            -74.028085,
            -74.1470167,
            -74.0488641,
            -74.0489754,
            -74.108555,
            -74.1133698,
            -74.1091003,
            -74.038465,
            -74.1721336,
            -74.1094976,
            -74.1400283,
            -74.0874594,
            -74.1042404,
            -74.2812572,
            -74.072255,
            -74.076355,
            -74.02482,
            -74.0675231,
            -74.0630583,
            -74.1168387,
            -74.0456182,
            -74.0632423,
            -74.0282633,
            -74.07938,
            -74.0837433,
            -74.079885,
            -74.135658,
            -74.0788567,
            -74.1229217,
            -74.1029067,
            -74.11962,
            -74.1579317,
            -74.092734,
            -74.097275,
            -74.049695,
            -74.1351483,
            -74.0720158,
            -74.1292083,
            -74.1413517,
            -74.0801304
           ],
           "marker": {
            "color": "rgb(255, 0, 0)",
            "opacity": 0.7,
            "size": 8
           },
           "mode": "markers",
           "name": "Agents",
           "type": "scattermapbox"
          },
          {
           "lat": [
            4.719904899597168,
            4.719904899597168,
            4.575785160064697,
            4.632702350616455,
            4.743387699127197,
            4.618695259094238,
            4.57632303237915,
            4.618259906768799,
            4.746356010437012,
            4.621035099029541,
            4.556220054626465,
            4.628559589385986,
            4.611050605773926,
            4.818822860717773,
            4.728018760681152,
            4.592953681945801,
            4.759010314941406,
            4.686472415924072,
            4.800594806671143,
            4.656580924987793,
            4.7452712059021,
            4.595497131347656,
            4.609916687011719,
            4.674019813537598
           ],
           "lon": [
            -74.03254699707031,
            -74.03254699707031,
            -74.10050964355469,
            -74.06635284423828,
            -74.02052307128906,
            -74.13970947265625,
            -74.1174087524414,
            -74.14688873291016,
            -74.0225601196289,
            -74.16609191894531,
            -74.1355972290039,
            -74.1854248046875,
            -74.08479309082031,
            -74.03104400634766,
            -74.10078430175781,
            -74.0947036743164,
            -74.06364440917969,
            -74.14466094970703,
            -74.03040313720703,
            -74.0698471069336,
            -74.09471893310547,
            -74.14016723632812,
            -74.19445037841797,
            -74.11693572998047
           ],
           "marker": {
            "color": "rgb(0, 0, 255)",
            "opacity": 0.7,
            "size": 8
           },
           "mode": "markers",
           "name": "Incidents",
           "type": "scattermapbox"
          }
         ],
         "name": "16"
        },
        {
         "data": [
          {
           "lat": [
            4.6644069,
            4.6065054,
            4.585355,
            4.5804923,
            4.562035,
            4.651281,
            4.5618648,
            4.6135434,
            4.5852762,
            4.712078,
            4.6178156,
            4.617345,
            4.6955757,
            4.6254071,
            4.5850073,
            4.6695211,
            4.6137117,
            4.5769543,
            4.6544083,
            4.5866283,
            4.6006238,
            4.6089283,
            4.6207392,
            4.634581,
            4.5992851,
            4.7420965,
            4.5944883,
            4.6147633,
            4.6133187,
            4.5601567,
            4.7019914,
            4.5853956,
            4.6106874,
            4.596674,
            4.638905,
            4.6812383,
            4.6871133,
            4.5673167,
            4.6215248,
            4.6164071,
            4.4856717,
            4.6484167,
            4.5942366,
            4.628225,
            4.5949933,
            4.6991379,
            4.65553,
            4.7492721,
            4.6187153,
            4.61418,
            4.55604,
            4.5822933,
            4.7173567,
            4.5895,
            4.57516,
            4.6296215,
            4.6188533,
            4.4911617,
            4.6474683,
            4.6770667,
            4.6729899
           ],
           "lon": [
            -74.1315199,
            -74.0836975,
            -74.072255,
            -74.1305181,
            -74.1103183,
            -74.1643081,
            -74.1108188,
            -74.1079943,
            -74.0722333,
            -74.1382185,
            -74.1116999,
            -74.1058833,
            -74.139579,
            -74.1575764,
            -74.0797633,
            -74.1460944,
            -74.1109833,
            -74.0952323,
            -74.063075,
            -74.1996467,
            -74.1777584,
            -74.108575,
            -74.0877536,
            -74.1634477,
            -74.1050928,
            -74.0904095,
            -74.0763683,
            -74.104985,
            -74.1984713,
            -74.0975583,
            -74.1305263,
            -74.0623259,
            -74.2093114,
            -74.1135352,
            -74.0791783,
            -74.1039916,
            -74.159495,
            -74.1514767,
            -74.137279,
            -74.0978411,
            -74.1198,
            -74.09746,
            -74.0762373,
            -74.135985,
            -74.158645,
            -74.0955488,
            -74.0624017,
            -74.039374,
            -74.1238124,
            -74.113495,
            -74.13545,
            -74.1220133,
            -74.0314283,
            -74.1223033,
            -74.12079,
            -74.1373921,
            -74.0881717,
            -74.1189767,
            -74.1489183,
            -74.035135,
            -74.0845358
           ],
           "marker": {
            "color": "rgb(255, 0, 0)",
            "opacity": 0.7,
            "size": 8
           },
           "mode": "markers",
           "name": "Agents",
           "type": "scattermapbox"
          },
          {
           "lat": [
            4.618958950042725,
            4.614597320556641,
            4.58519983291626,
            4.61340856552124,
            4.69279146194458,
            4.593562126159668,
            4.692584991455078,
            4.596457004547119,
            4.69476318359375,
            4.713223457336426,
            4.571990489959717,
            4.751033306121826,
            4.562366485595703,
            4.728747367858887,
            4.572011947631836,
            4.562709808349609,
            4.595386505126953,
            4.604137897491455,
            4.590696811676025,
            4.643787384033203,
            4.543036937713623
           ],
           "lon": [
            -74.14481353759766,
            -74.15567779541016,
            -74.09419250488281,
            -74.20016479492188,
            -74.16168212890625,
            -74.1242904663086,
            -74.14967346191406,
            -74.17460632324219,
            -74.09830474853516,
            -74.11521911621094,
            -74.09208679199219,
            -74.10912322998047,
            -74.09661865234375,
            -74.08840942382812,
            -74.09793853759766,
            -74.14334106445312,
            -74.1446762084961,
            -74.12389373779297,
            -74.10433959960938,
            -74.18756103515625,
            -74.11495971679688
           ],
           "marker": {
            "color": "rgb(0, 0, 255)",
            "opacity": 0.7,
            "size": 8
           },
           "mode": "markers",
           "name": "Incidents",
           "type": "scattermapbox"
          }
         ],
         "name": "17"
        },
        {
         "data": [
          {
           "lat": [
            4.7493467,
            4.5035833,
            4.5618648,
            4.4857817,
            4.7562617,
            4.6180017,
            4.7047283,
            4.584065,
            4.6960483,
            4.6081739,
            4.6389017,
            4.7138697,
            4.716095,
            4.7228435,
            4.6002416,
            4.5853934,
            4.65024,
            4.5965275,
            4.6461267,
            4.6138824,
            4.6601113,
            4.598735,
            4.6085872,
            4.6130467,
            4.764295,
            4.6502267,
            4.62149,
            4.6099957,
            4.6167683,
            4.6164489,
            4.6282416,
            4.5797317,
            4.5945533,
            4.8192132,
            4.6492067,
            5.0604517,
            4.6161567,
            4.6741367,
            4.601745,
            4.5786208,
            4.6995732,
            4.6682283,
            4.8257883,
            4.61552
           ],
           "lon": [
            -74.0939717,
            -74.1174065,
            -74.1108188,
            -74.1200517,
            -74.02498,
            -74.087475,
            -74.1137567,
            -74.157682,
            -74.07311,
            -74.1066061,
            -74.1150333,
            -74.1171729,
            -74.02862,
            -74.0506878,
            -74.188399,
            -74.0623338,
            -74.0954017,
            -74.133379,
            -74.130715,
            -74.1168387,
            -74.05312,
            -74.0863883,
            -74.1091191,
            -74.0927333,
            -74.0274767,
            -74.06201,
            -74.091118,
            -74.1104071,
            -74.0993817,
            -74.1647121,
            -74.1179398,
            -74.1170083,
            -74.07621,
            -74.0349695,
            -74.1768583,
            -73.9932017,
            -74.098225,
            -74.0372233,
            -74.10262,
            -74.1139023,
            -74.1142693,
            -74.14886,
            -74.03465,
            -74.10537
           ],
           "marker": {
            "color": "rgb(255, 0, 0)",
            "opacity": 0.7,
            "size": 8
           },
           "mode": "markers",
           "name": "Agents",
           "type": "scattermapbox"
          },
          {
           "lat": [
            4.759984493255615,
            4.673806190490723,
            4.547527313232422,
            4.755641937255859,
            4.753592491149902,
            4.607078075408936,
            4.714132785797119,
            4.714132785797119,
            4.694306373596191,
            4.5967559814453125,
            4.652578353881836,
            4.602137088775635,
            4.618695259094238,
            4.645260810852051,
            4.758481979370117,
            4.670402526855469,
            4.628791332244873,
            4.70842981338501,
            4.589547157287598,
            4.716589450836182,
            4.4678730964660645
           ],
           "lon": [
            -74.0933609008789,
            -74.07994842529297,
            -74.017578125,
            -74.1032485961914,
            -74.0899658203125,
            -74.0691146850586,
            -74.14131164550781,
            -74.14131164550781,
            -74.09136199951172,
            -74.17938995361328,
            -74.12390899658203,
            -74.12923431396484,
            -74.13970947265625,
            -74.15746307373047,
            -74.03318786621094,
            -74.11463928222656,
            -74.11813354492188,
            -74.0326156616211,
            -74.09142303466797,
            -74.11772155761719,
            -74.15286254882812
           ],
           "marker": {
            "color": "rgb(0, 0, 255)",
            "opacity": 0.7,
            "size": 8
           },
           "mode": "markers",
           "name": "Incidents",
           "type": "scattermapbox"
          }
         ],
         "name": "18"
        },
        {
         "data": [
          {
           "lat": [
            4.6968883,
            5.06041,
            4.5759759,
            4.696575,
            4.6134067,
            4.5975235,
            4.5651018,
            4.598675,
            4.7408459,
            4.5840434,
            4.6224128,
            4.6058162,
            4.596155,
            4.5858467,
            4.693895,
            4.4857583,
            4.6046196,
            4.4788345,
            4.7675033,
            4.5970872,
            4.500585,
            4.5853989,
            4.652977,
            4.5982767,
            4.6146142,
            4.6287032,
            4.6468284,
            4.6523346,
            4.6702683,
            4.6326702,
            4.6200567,
            4.586195,
            4.6742483,
            4.6492017,
            4.5808451,
            4.580102,
            4.6156333,
            4.62326,
            4.6225317,
            4.6884757,
            4.6169126,
            4.5846217,
            4.575199,
            4.6020533,
            4.580905,
            4.5858833,
            4.6466267,
            4.5993574,
            4.6163933,
            4.608075,
            4.6729417,
            4.578505,
            4.6626257,
            4.6163183,
            4.5916733,
            4.591705,
            4.7288941,
            4.7360813,
            4.610016,
            4.6923017,
            4.5800783,
            4.5923859,
            4.5619083,
            4.6625433,
            4.5481353,
            4.5953368,
            4.70541,
            4.6094318,
            4.629313,
            4.6486417,
            4.5930298,
            4.5875667,
            4.7645817
           ],
           "lon": [
            -74.1414117,
            -73.9933133,
            -74.1545246,
            -74.1180967,
            -74.111,
            -74.1765424,
            -74.1080293,
            -74.1249967,
            -74.0476212,
            -74.133355,
            -74.1219772,
            -74.1719842,
            -74.1580517,
            -74.1337567,
            -74.1203583,
            -74.1201833,
            -74.161613,
            -74.0952208,
            -74.0267883,
            -74.1789737,
            -74.11709,
            -74.0623073,
            -74.1091305,
            -74.0791017,
            -74.1136728,
            -74.1381261,
            -74.1687708,
            -74.0957967,
            -74.1145568,
            -74.148035,
            -74.172136,
            -74.1357733,
            -74.0819083,
            -74.17741,
            -74.1681934,
            -74.1919479,
            -74.1691517,
            -74.1946817,
            -74.1928433,
            -74.0785563,
            -74.1707046,
            -74.0885383,
            -74.1107045,
            -74.1393383,
            -74.2110433,
            -74.1107667,
            -74.097915,
            -74.1051744,
            -74.098505,
            -74.0956833,
            -74.0379983,
            -74.1293783,
            -74.0626725,
            -74.0984583,
            -74.1238683,
            -74.0705783,
            -74.281241,
            -74.2648553,
            -74.1419984,
            -74.0658733,
            -74.112475,
            -74.0893082,
            -74.0983683,
            -74.0587499,
            -74.1087749,
            -74.0768025,
            -74.1073535,
            -74.1814277,
            -74.1352374,
            -74.0619867,
            -74.1414683,
            -74.1226617,
            -74.02782
           ],
           "marker": {
            "color": "rgb(255, 0, 0)",
            "opacity": 0.7,
            "size": 8
           },
           "mode": "markers",
           "name": "Agents",
           "type": "scattermapbox"
          },
          {
           "lat": [
            4.818822860717773,
            4.595386505126953,
            4.72093391418457,
            4.613033771514893,
            4.622215747833252,
            4.508086681365967,
            4.508086681365967,
            4.74721622467041,
            4.639347553253174,
            4.673806190490723,
            4.640921115875244,
            4.629860877990723,
            4.578330993652344,
            4.575625419616699,
            4.748134613037109,
            4.539846420288086,
            4.620584964752197,
            4.733658313751221
           ],
           "lon": [
            -74.03104400634766,
            -74.1446762084961,
            -74.12603759765625,
            -74.07688903808594,
            -74.11031341552734,
            -74.10582733154297,
            -74.10582733154297,
            -74.0929946899414,
            -74.13587188720703,
            -74.07994842529297,
            -74.15585327148438,
            -74.18824768066406,
            -74.09806060791016,
            -74.0945816040039,
            -74.10985565185547,
            -74.08381652832031,
            -74.1253662109375,
            -74.01908111572266
           ],
           "marker": {
            "color": "rgb(0, 0, 255)",
            "opacity": 0.7,
            "size": 8
           },
           "mode": "markers",
           "name": "Incidents",
           "type": "scattermapbox"
          }
         ],
         "name": "19"
        },
        {
         "data": [
          {
           "lat": [
            4.77085,
            4.5953368,
            4.6369136,
            4.586815,
            4.609095,
            4.6718474,
            4.6099774,
            4.6186733,
            4.6829517,
            4.5975123,
            4.6287032,
            4.705884,
            4.6225317,
            4.58289,
            4.6689295,
            4.6161667,
            4.630155,
            4.75071,
            4.6492017,
            4.7360813,
            4.6169659,
            4.5808518,
            4.6129,
            4.6187153,
            4.5767968,
            4.5959915,
            4.7189258,
            4.695615,
            4.6805117,
            4.7288941,
            4.8166483,
            4.5861618,
            4.5985867,
            4.5901417,
            4.6669706,
            4.634581,
            4.7324931,
            4.6737133,
            4.5969217,
            4.80602,
            4.5936406,
            4.5864317,
            4.596135,
            4.6163417,
            4.618765,
            4.5857341,
            4.4901089,
            4.6404967,
            4.74435,
            4.749315,
            4.5794888,
            4.6175375,
            4.6326702,
            4.62142,
            4.585286,
            4.7319623,
            4.6559317,
            4.7290054,
            4.5850947,
            4.6116723,
            4.8098305,
            4.69884,
            4.5035785,
            4.604308,
            4.6161068,
            4.6197594,
            4.6058411,
            4.753165,
            4.6200587
           ],
           "lon": [
            -74.0322517,
            -74.0768025,
            -74.154833,
            -74.1351917,
            -74.1025933,
            -74.0700874,
            -74.1104345,
            -74.1028,
            -74.15649,
            -74.1762345,
            -74.1381261,
            -74.1073098,
            -74.1928433,
            -74.1367417,
            -74.0977513,
            -74.09818,
            -74.1554833,
            -74.0443367,
            -74.17741,
            -74.2648553,
            -74.1058125,
            -74.1681963,
            -74.0931333,
            -74.1238124,
            -74.2313622,
            -74.1520718,
            -74.0471194,
            -74.1155567,
            -74.0585567,
            -74.281241,
            -74.0306833,
            -74.1549601,
            -74.079605,
            -74.122605,
            -74.148035,
            -74.1634477,
            -74.1055426,
            -74.038595,
            -74.1070983,
            -74.0377833,
            -74.1222056,
            -74.1992617,
            -74.1582167,
            -74.097175,
            -74.1023467,
            -74.1107802,
            -74.0992365,
            -74.066325,
            -74.020442,
            -74.039095,
            -74.1123909,
            -74.1131682,
            -74.148035,
            -74.0915083,
            -74.110822,
            -74.0683485,
            -74.1105233,
            -74.2657998,
            -74.1093698,
            -74.1436869,
            -74.0378227,
            -74.1410567,
            -74.1174025,
            -74.161613,
            -74.1050928,
            -74.0870853,
            -74.1719973,
            -74.0461517,
            -74.1721388
           ],
           "marker": {
            "color": "rgb(255, 0, 0)",
            "opacity": 0.7,
            "size": 8
           },
           "mode": "markers",
           "name": "Agents",
           "type": "scattermapbox"
          },
          {
           "lat": [
            4.598923206329346,
            4.645976066589356,
            4.507930278778076,
            4.614001750946045,
            4.620060443878174,
            4.638947010040283,
            4.58743143081665,
            4.578690052032471,
            4.715568542480469,
            4.542963981628418,
            4.618695259094238,
            4.5841474533081055,
            4.7106242179870605,
            4.626585006713867,
            4.62139892578125,
            4.628791332244873,
            4.753506183624268,
            4.5584797859191895,
            4.646624565124512,
            4.6101393699646
           ],
           "lon": [
            -74.14466094970703,
            -74.0575180053711,
            -74.10749816894531,
            -74.18147277832031,
            -74.13394927978516,
            -74.1527328491211,
            -74.17505645751953,
            -74.1593017578125,
            -74.10006713867188,
            -74.09748077392578,
            -74.13970947265625,
            -74.09061431884766,
            -74.12493896484375,
            -74.1697769165039,
            -74.06702423095703,
            -74.11813354492188,
            -74.04664611816406,
            -74.09526824951172,
            -74.1555404663086,
            -74.0661849975586
           ],
           "marker": {
            "color": "rgb(0, 0, 255)",
            "opacity": 0.7,
            "size": 8
           },
           "mode": "markers",
           "name": "Incidents",
           "type": "scattermapbox"
          }
         ],
         "name": "20"
        },
        {
         "data": [
          {
           "lat": [
            4.6146211,
            4.631765,
            4.6140395,
            4.6183417,
            4.6193982,
            4.7433433,
            4.6198701,
            4.6191941,
            4.6151783,
            4.7120754,
            4.6341067,
            4.5860962,
            4.6165449,
            4.5962334,
            4.547687,
            4.6162758,
            4.5759223,
            4.616555,
            4.6735167,
            4.5850989,
            4.6626083,
            4.618855,
            4.6184467,
            4.5794233,
            4.7182193,
            4.628875,
            4.597,
            4.5934517,
            4.5808648,
            4.5954496,
            4.5846567,
            4.5772629,
            4.616259,
            4.7684767,
            4.6680133,
            4.7122067,
            4.555955,
            4.6512691,
            4.6156965,
            4.5840284,
            4.5949733,
            4.5860442,
            4.5805355,
            4.6862067,
            4.6164137,
            4.6077017,
            4.7453661,
            4.6164983,
            4.5828333,
            4.6100096,
            4.58709,
            4.5939033,
            4.61643,
            4.616318,
            4.6320294,
            4.5963267,
            4.6212609,
            4.602125,
            4.7423785,
            4.5971283,
            4.6859092,
            4.6311258,
            4.7357798,
            4.6655918,
            4.6085887,
            4.6500339,
            4.728921
           ],
           "lon": [
            -74.1136736,
            -74.0745133,
            -74.1010143,
            -74.1023383,
            -74.1431612,
            -74.0868717,
            -74.0888202,
            -74.1038508,
            -74.136475,
            -74.1382139,
            -74.165775,
            -74.1109947,
            -74.0980236,
            -74.1261777,
            -74.1362911,
            -74.0988525,
            -74.0961099,
            -74.0983817,
            -74.06842,
            -74.1093821,
            -74.0762883,
            -74.1024133,
            -74.1029367,
            -74.148125,
            -74.0573678,
            -74.1366433,
            -74.182145,
            -74.129145,
            -74.1682346,
            -74.0767954,
            -74.14137,
            -74.1502369,
            -74.0981184,
            -74.031995,
            -74.1486183,
            -74.0298283,
            -74.1376433,
            -74.1643125,
            -74.0984814,
            -74.1576883,
            -74.128935,
            -74.133677,
            -74.1986721,
            -74.1587633,
            -74.0986969,
            -74.1000783,
            -74.09665,
            -74.0983983,
            -74.1567767,
            -74.1104101,
            -74.12848,
            -74.1291667,
            -74.0988117,
            -74.0980227,
            -74.1449263,
            -74.1575183,
            -74.0988525,
            -74.1783275,
            -74.022891,
            -74.1794383,
            -74.1036245,
            -74.1502867,
            -74.1006879,
            -74.0454914,
            -74.0998011,
            -74.1473083,
            -74.2812553
           ],
           "marker": {
            "color": "rgb(255, 0, 0)",
            "opacity": 0.7,
            "size": 8
           },
           "mode": "markers",
           "name": "Agents",
           "type": "scattermapbox"
          },
          {
           "lat": [
            4.619220733642578,
            4.716864585876465,
            4.629574298858643,
            4.591538429260254,
            4.604137897491455,
            4.590040683746338,
            4.689120769500732,
            4.596768379211426,
            4.557981491088867
           ],
           "lon": [
            -74.1685791015625,
            -74.14306640625,
            -74.18890380859375,
            -74.18182373046875,
            -74.12389373779297,
            -74.1126937866211,
            -74.10530090332031,
            -74.17742156982422,
            -74.11988067626953
           ],
           "marker": {
            "color": "rgb(0, 0, 255)",
            "opacity": 0.7,
            "size": 8
           },
           "mode": "markers",
           "name": "Incidents",
           "type": "scattermapbox"
          }
         ],
         "name": "21"
        },
        {
         "data": [
          {
           "lat": [
            4.6316763,
            4.5807233,
            4.59883,
            4.622635,
            4.6193667,
            4.60699,
            4.6689295,
            4.587015,
            4.6246641,
            4.6162583,
            4.6160467,
            4.60799,
            4.5948599,
            4.6358039,
            4.5946117,
            4.5965441,
            4.6823917,
            4.6341067,
            4.5883125,
            4.6898383,
            4.59679,
            4.6661242,
            4.6767183,
            4.6171567,
            4.64705,
            4.5956317,
            4.6898379,
            4.7510816,
            4.5808657,
            4.5926226,
            4.6100111,
            4.5938983,
            4.6425755,
            4.4960553,
            4.6164717,
            4.6139183,
            4.6968925,
            4.7357798,
            4.5669364,
            4.5948333,
            4.6644069
           ],
           "lon": [
            -74.1454661,
            -74.11176,
            -74.1341783,
            -74.1924383,
            -74.1036551,
            -74.0979267,
            -74.0977513,
            -74.1351667,
            -74.0662142,
            -74.0984767,
            -74.098335,
            -74.16544,
            -74.1880602,
            -74.0791689,
            -74.1124417,
            -74.1773269,
            -74.0631367,
            -74.165775,
            -74.0796784,
            -74.1062483,
            -74.1137117,
            -74.0573678,
            -74.0302183,
            -74.1379017,
            -74.078375,
            -74.15212,
            -74.106263,
            -74.1156409,
            -74.1682218,
            -74.127728,
            -74.1103869,
            -74.1238233,
            -74.1285068,
            -74.1083964,
            -74.09858,
            -74.1080617,
            -74.1403013,
            -74.1006879,
            -74.1279365,
            -74.128735,
            -74.1315199
           ],
           "marker": {
            "color": "rgb(255, 0, 0)",
            "opacity": 0.7,
            "size": 8
           },
           "mode": "markers",
           "name": "Agents",
           "type": "scattermapbox"
          },
          {
           "lat": [
            4.677666664123535,
            4.627293109893799,
            4.602004528045654,
            4.693684101104736,
            4.615081787109375,
            4.685744285583496,
            4.7439703941345215,
            4.625308513641357,
            4.7042236328125,
            4.5388503074646,
            4.670006275177002
           ],
           "lon": [
            -74.11813354492188,
            -74.17076110839844,
            -74.12081909179688,
            -74.03314971923828,
            -74.16263580322266,
            -74.09624481201172,
            -74.1048583984375,
            -74.19913482666016,
            -74.0539779663086,
            -74.150634765625,
            -74.02035522460938
           ],
           "marker": {
            "color": "rgb(0, 0, 255)",
            "opacity": 0.7,
            "size": 8
           },
           "mode": "markers",
           "name": "Incidents",
           "type": "scattermapbox"
          }
         ],
         "name": "22"
        },
        {
         "data": [
          {
           "lat": [
            4.612185,
            4.6100281,
            4.6425904,
            4.612451,
            4.6467887,
            4.6143667,
            4.6500251,
            4.7682233,
            4.6171333,
            4.6224082,
            4.6432983,
            4.6184974,
            4.5948333,
            4.6149867,
            4.7095467,
            4.6356699,
            4.6968925,
            4.6312973
           ],
           "lon": [
            -74.1612417,
            -74.1419852,
            -74.12847,
            -74.1746927,
            -74.1687497,
            -74.11079,
            -74.1473394,
            -74.032265,
            -74.1374183,
            -74.1220686,
            -74.107885,
            -74.0869571,
            -74.128735,
            -74.1627083,
            -74.2210367,
            -74.1495259,
            -74.1403013,
            -74.1546772
           ],
           "marker": {
            "color": "rgb(255, 0, 0)",
            "opacity": 0.7,
            "size": 8
           },
           "mode": "markers",
           "name": "Agents",
           "type": "scattermapbox"
          },
          {
           "lat": [
            4.679540634155273,
            4.569133758544922,
            4.6656575202941895,
            4.725343227386475
           ],
           "lon": [
            -74.10940551757812,
            -74.18651580810547,
            -74.13054656982422,
            -74.0887451171875
           ],
           "marker": {
            "color": "rgb(0, 0, 255)",
            "opacity": 0.7,
            "size": 8
           },
           "mode": "markers",
           "name": "Incidents",
           "type": "scattermapbox"
          }
         ],
         "name": "23"
        }
       ],
       "layout": {
        "autosize": true,
        "height": 800,
        "hovermode": "closest",
        "mapbox": {
         "bearing": 0,
         "center": {
          "lat": 4.624335,
          "lon": -74.063644
         },
         "pitch": 0,
         "style": "open-street-map",
         "zoom": 11
        },
        "showlegend": true,
        "sliders": [
         {
          "active": 0,
          "currentvalue": {
           "font": {
            "size": 20
           },
           "prefix": "Hour: ",
           "visible": true,
           "xanchor": "right"
          },
          "len": 0.9,
          "pad": {
           "b": 10,
           "t": 10
          },
          "steps": [
           {
            "args": [
             [
              "0"
             ],
             {
              "frame": {
               "duration": 300,
               "redraw": true
              },
              "mode": "immediate",
              "transition": {
               "duration": 300
              }
             }
            ],
            "label": "0",
            "method": "animate"
           },
           {
            "args": [
             [
              "1"
             ],
             {
              "frame": {
               "duration": 300,
               "redraw": true
              },
              "mode": "immediate",
              "transition": {
               "duration": 300
              }
             }
            ],
            "label": "1",
            "method": "animate"
           },
           {
            "args": [
             [
              "2"
             ],
             {
              "frame": {
               "duration": 300,
               "redraw": true
              },
              "mode": "immediate",
              "transition": {
               "duration": 300
              }
             }
            ],
            "label": "2",
            "method": "animate"
           },
           {
            "args": [
             [
              "3"
             ],
             {
              "frame": {
               "duration": 300,
               "redraw": true
              },
              "mode": "immediate",
              "transition": {
               "duration": 300
              }
             }
            ],
            "label": "3",
            "method": "animate"
           },
           {
            "args": [
             [
              "4"
             ],
             {
              "frame": {
               "duration": 300,
               "redraw": true
              },
              "mode": "immediate",
              "transition": {
               "duration": 300
              }
             }
            ],
            "label": "4",
            "method": "animate"
           },
           {
            "args": [
             [
              "5"
             ],
             {
              "frame": {
               "duration": 300,
               "redraw": true
              },
              "mode": "immediate",
              "transition": {
               "duration": 300
              }
             }
            ],
            "label": "5",
            "method": "animate"
           },
           {
            "args": [
             [
              "6"
             ],
             {
              "frame": {
               "duration": 300,
               "redraw": true
              },
              "mode": "immediate",
              "transition": {
               "duration": 300
              }
             }
            ],
            "label": "6",
            "method": "animate"
           },
           {
            "args": [
             [
              "7"
             ],
             {
              "frame": {
               "duration": 300,
               "redraw": true
              },
              "mode": "immediate",
              "transition": {
               "duration": 300
              }
             }
            ],
            "label": "7",
            "method": "animate"
           },
           {
            "args": [
             [
              "8"
             ],
             {
              "frame": {
               "duration": 300,
               "redraw": true
              },
              "mode": "immediate",
              "transition": {
               "duration": 300
              }
             }
            ],
            "label": "8",
            "method": "animate"
           },
           {
            "args": [
             [
              "9"
             ],
             {
              "frame": {
               "duration": 300,
               "redraw": true
              },
              "mode": "immediate",
              "transition": {
               "duration": 300
              }
             }
            ],
            "label": "9",
            "method": "animate"
           },
           {
            "args": [
             [
              "10"
             ],
             {
              "frame": {
               "duration": 300,
               "redraw": true
              },
              "mode": "immediate",
              "transition": {
               "duration": 300
              }
             }
            ],
            "label": "10",
            "method": "animate"
           },
           {
            "args": [
             [
              "11"
             ],
             {
              "frame": {
               "duration": 300,
               "redraw": true
              },
              "mode": "immediate",
              "transition": {
               "duration": 300
              }
             }
            ],
            "label": "11",
            "method": "animate"
           },
           {
            "args": [
             [
              "12"
             ],
             {
              "frame": {
               "duration": 300,
               "redraw": true
              },
              "mode": "immediate",
              "transition": {
               "duration": 300
              }
             }
            ],
            "label": "12",
            "method": "animate"
           },
           {
            "args": [
             [
              "13"
             ],
             {
              "frame": {
               "duration": 300,
               "redraw": true
              },
              "mode": "immediate",
              "transition": {
               "duration": 300
              }
             }
            ],
            "label": "13",
            "method": "animate"
           },
           {
            "args": [
             [
              "14"
             ],
             {
              "frame": {
               "duration": 300,
               "redraw": true
              },
              "mode": "immediate",
              "transition": {
               "duration": 300
              }
             }
            ],
            "label": "14",
            "method": "animate"
           },
           {
            "args": [
             [
              "15"
             ],
             {
              "frame": {
               "duration": 300,
               "redraw": true
              },
              "mode": "immediate",
              "transition": {
               "duration": 300
              }
             }
            ],
            "label": "15",
            "method": "animate"
           },
           {
            "args": [
             [
              "16"
             ],
             {
              "frame": {
               "duration": 300,
               "redraw": true
              },
              "mode": "immediate",
              "transition": {
               "duration": 300
              }
             }
            ],
            "label": "16",
            "method": "animate"
           },
           {
            "args": [
             [
              "17"
             ],
             {
              "frame": {
               "duration": 300,
               "redraw": true
              },
              "mode": "immediate",
              "transition": {
               "duration": 300
              }
             }
            ],
            "label": "17",
            "method": "animate"
           },
           {
            "args": [
             [
              "18"
             ],
             {
              "frame": {
               "duration": 300,
               "redraw": true
              },
              "mode": "immediate",
              "transition": {
               "duration": 300
              }
             }
            ],
            "label": "18",
            "method": "animate"
           },
           {
            "args": [
             [
              "19"
             ],
             {
              "frame": {
               "duration": 300,
               "redraw": true
              },
              "mode": "immediate",
              "transition": {
               "duration": 300
              }
             }
            ],
            "label": "19",
            "method": "animate"
           },
           {
            "args": [
             [
              "20"
             ],
             {
              "frame": {
               "duration": 300,
               "redraw": true
              },
              "mode": "immediate",
              "transition": {
               "duration": 300
              }
             }
            ],
            "label": "20",
            "method": "animate"
           },
           {
            "args": [
             [
              "21"
             ],
             {
              "frame": {
               "duration": 300,
               "redraw": true
              },
              "mode": "immediate",
              "transition": {
               "duration": 300
              }
             }
            ],
            "label": "21",
            "method": "animate"
           },
           {
            "args": [
             [
              "22"
             ],
             {
              "frame": {
               "duration": 300,
               "redraw": true
              },
              "mode": "immediate",
              "transition": {
               "duration": 300
              }
             }
            ],
            "label": "22",
            "method": "animate"
           },
           {
            "args": [
             [
              "23"
             ],
             {
              "frame": {
               "duration": 300,
               "redraw": true
              },
              "mode": "immediate",
              "transition": {
               "duration": 300
              }
             }
            ],
            "label": "23",
            "method": "animate"
           }
          ],
          "transition": {
           "duration": 300,
           "easing": "cubic-in-out"
          },
          "x": 0.1,
          "xanchor": "left",
          "y": 0,
          "yanchor": "top"
         }
        ],
        "template": {
         "data": {
          "bar": [
           {
            "error_x": {
             "color": "#2a3f5f"
            },
            "error_y": {
             "color": "#2a3f5f"
            },
            "marker": {
             "line": {
              "color": "#E5ECF6",
              "width": 0.5
             },
             "pattern": {
              "fillmode": "overlay",
              "size": 10,
              "solidity": 0.2
             }
            },
            "type": "bar"
           }
          ],
          "barpolar": [
           {
            "marker": {
             "line": {
              "color": "#E5ECF6",
              "width": 0.5
             },
             "pattern": {
              "fillmode": "overlay",
              "size": 10,
              "solidity": 0.2
             }
            },
            "type": "barpolar"
           }
          ],
          "carpet": [
           {
            "aaxis": {
             "endlinecolor": "#2a3f5f",
             "gridcolor": "white",
             "linecolor": "white",
             "minorgridcolor": "white",
             "startlinecolor": "#2a3f5f"
            },
            "baxis": {
             "endlinecolor": "#2a3f5f",
             "gridcolor": "white",
             "linecolor": "white",
             "minorgridcolor": "white",
             "startlinecolor": "#2a3f5f"
            },
            "type": "carpet"
           }
          ],
          "choropleth": [
           {
            "colorbar": {
             "outlinewidth": 0,
             "ticks": ""
            },
            "type": "choropleth"
           }
          ],
          "contour": [
           {
            "colorbar": {
             "outlinewidth": 0,
             "ticks": ""
            },
            "colorscale": [
             [
              0,
              "#0d0887"
             ],
             [
              0.1111111111111111,
              "#46039f"
             ],
             [
              0.2222222222222222,
              "#7201a8"
             ],
             [
              0.3333333333333333,
              "#9c179e"
             ],
             [
              0.4444444444444444,
              "#bd3786"
             ],
             [
              0.5555555555555556,
              "#d8576b"
             ],
             [
              0.6666666666666666,
              "#ed7953"
             ],
             [
              0.7777777777777778,
              "#fb9f3a"
             ],
             [
              0.8888888888888888,
              "#fdca26"
             ],
             [
              1,
              "#f0f921"
             ]
            ],
            "type": "contour"
           }
          ],
          "contourcarpet": [
           {
            "colorbar": {
             "outlinewidth": 0,
             "ticks": ""
            },
            "type": "contourcarpet"
           }
          ],
          "heatmap": [
           {
            "colorbar": {
             "outlinewidth": 0,
             "ticks": ""
            },
            "colorscale": [
             [
              0,
              "#0d0887"
             ],
             [
              0.1111111111111111,
              "#46039f"
             ],
             [
              0.2222222222222222,
              "#7201a8"
             ],
             [
              0.3333333333333333,
              "#9c179e"
             ],
             [
              0.4444444444444444,
              "#bd3786"
             ],
             [
              0.5555555555555556,
              "#d8576b"
             ],
             [
              0.6666666666666666,
              "#ed7953"
             ],
             [
              0.7777777777777778,
              "#fb9f3a"
             ],
             [
              0.8888888888888888,
              "#fdca26"
             ],
             [
              1,
              "#f0f921"
             ]
            ],
            "type": "heatmap"
           }
          ],
          "heatmapgl": [
           {
            "colorbar": {
             "outlinewidth": 0,
             "ticks": ""
            },
            "colorscale": [
             [
              0,
              "#0d0887"
             ],
             [
              0.1111111111111111,
              "#46039f"
             ],
             [
              0.2222222222222222,
              "#7201a8"
             ],
             [
              0.3333333333333333,
              "#9c179e"
             ],
             [
              0.4444444444444444,
              "#bd3786"
             ],
             [
              0.5555555555555556,
              "#d8576b"
             ],
             [
              0.6666666666666666,
              "#ed7953"
             ],
             [
              0.7777777777777778,
              "#fb9f3a"
             ],
             [
              0.8888888888888888,
              "#fdca26"
             ],
             [
              1,
              "#f0f921"
             ]
            ],
            "type": "heatmapgl"
           }
          ],
          "histogram": [
           {
            "marker": {
             "pattern": {
              "fillmode": "overlay",
              "size": 10,
              "solidity": 0.2
             }
            },
            "type": "histogram"
           }
          ],
          "histogram2d": [
           {
            "colorbar": {
             "outlinewidth": 0,
             "ticks": ""
            },
            "colorscale": [
             [
              0,
              "#0d0887"
             ],
             [
              0.1111111111111111,
              "#46039f"
             ],
             [
              0.2222222222222222,
              "#7201a8"
             ],
             [
              0.3333333333333333,
              "#9c179e"
             ],
             [
              0.4444444444444444,
              "#bd3786"
             ],
             [
              0.5555555555555556,
              "#d8576b"
             ],
             [
              0.6666666666666666,
              "#ed7953"
             ],
             [
              0.7777777777777778,
              "#fb9f3a"
             ],
             [
              0.8888888888888888,
              "#fdca26"
             ],
             [
              1,
              "#f0f921"
             ]
            ],
            "type": "histogram2d"
           }
          ],
          "histogram2dcontour": [
           {
            "colorbar": {
             "outlinewidth": 0,
             "ticks": ""
            },
            "colorscale": [
             [
              0,
              "#0d0887"
             ],
             [
              0.1111111111111111,
              "#46039f"
             ],
             [
              0.2222222222222222,
              "#7201a8"
             ],
             [
              0.3333333333333333,
              "#9c179e"
             ],
             [
              0.4444444444444444,
              "#bd3786"
             ],
             [
              0.5555555555555556,
              "#d8576b"
             ],
             [
              0.6666666666666666,
              "#ed7953"
             ],
             [
              0.7777777777777778,
              "#fb9f3a"
             ],
             [
              0.8888888888888888,
              "#fdca26"
             ],
             [
              1,
              "#f0f921"
             ]
            ],
            "type": "histogram2dcontour"
           }
          ],
          "mesh3d": [
           {
            "colorbar": {
             "outlinewidth": 0,
             "ticks": ""
            },
            "type": "mesh3d"
           }
          ],
          "parcoords": [
           {
            "line": {
             "colorbar": {
              "outlinewidth": 0,
              "ticks": ""
             }
            },
            "type": "parcoords"
           }
          ],
          "pie": [
           {
            "automargin": true,
            "type": "pie"
           }
          ],
          "scatter": [
           {
            "marker": {
             "colorbar": {
              "outlinewidth": 0,
              "ticks": ""
             }
            },
            "type": "scatter"
           }
          ],
          "scatter3d": [
           {
            "line": {
             "colorbar": {
              "outlinewidth": 0,
              "ticks": ""
             }
            },
            "marker": {
             "colorbar": {
              "outlinewidth": 0,
              "ticks": ""
             }
            },
            "type": "scatter3d"
           }
          ],
          "scattercarpet": [
           {
            "marker": {
             "colorbar": {
              "outlinewidth": 0,
              "ticks": ""
             }
            },
            "type": "scattercarpet"
           }
          ],
          "scattergeo": [
           {
            "marker": {
             "colorbar": {
              "outlinewidth": 0,
              "ticks": ""
             }
            },
            "type": "scattergeo"
           }
          ],
          "scattergl": [
           {
            "marker": {
             "colorbar": {
              "outlinewidth": 0,
              "ticks": ""
             }
            },
            "type": "scattergl"
           }
          ],
          "scattermapbox": [
           {
            "marker": {
             "colorbar": {
              "outlinewidth": 0,
              "ticks": ""
             }
            },
            "type": "scattermapbox"
           }
          ],
          "scatterpolar": [
           {
            "marker": {
             "colorbar": {
              "outlinewidth": 0,
              "ticks": ""
             }
            },
            "type": "scatterpolar"
           }
          ],
          "scatterpolargl": [
           {
            "marker": {
             "colorbar": {
              "outlinewidth": 0,
              "ticks": ""
             }
            },
            "type": "scatterpolargl"
           }
          ],
          "scatterternary": [
           {
            "marker": {
             "colorbar": {
              "outlinewidth": 0,
              "ticks": ""
             }
            },
            "type": "scatterternary"
           }
          ],
          "surface": [
           {
            "colorbar": {
             "outlinewidth": 0,
             "ticks": ""
            },
            "colorscale": [
             [
              0,
              "#0d0887"
             ],
             [
              0.1111111111111111,
              "#46039f"
             ],
             [
              0.2222222222222222,
              "#7201a8"
             ],
             [
              0.3333333333333333,
              "#9c179e"
             ],
             [
              0.4444444444444444,
              "#bd3786"
             ],
             [
              0.5555555555555556,
              "#d8576b"
             ],
             [
              0.6666666666666666,
              "#ed7953"
             ],
             [
              0.7777777777777778,
              "#fb9f3a"
             ],
             [
              0.8888888888888888,
              "#fdca26"
             ],
             [
              1,
              "#f0f921"
             ]
            ],
            "type": "surface"
           }
          ],
          "table": [
           {
            "cells": {
             "fill": {
              "color": "#EBF0F8"
             },
             "line": {
              "color": "white"
             }
            },
            "header": {
             "fill": {
              "color": "#C8D4E3"
             },
             "line": {
              "color": "white"
             }
            },
            "type": "table"
           }
          ]
         },
         "layout": {
          "annotationdefaults": {
           "arrowcolor": "#2a3f5f",
           "arrowhead": 0,
           "arrowwidth": 1
          },
          "autotypenumbers": "strict",
          "coloraxis": {
           "colorbar": {
            "outlinewidth": 0,
            "ticks": ""
           }
          },
          "colorscale": {
           "diverging": [
            [
             0,
             "#8e0152"
            ],
            [
             0.1,
             "#c51b7d"
            ],
            [
             0.2,
             "#de77ae"
            ],
            [
             0.3,
             "#f1b6da"
            ],
            [
             0.4,
             "#fde0ef"
            ],
            [
             0.5,
             "#f7f7f7"
            ],
            [
             0.6,
             "#e6f5d0"
            ],
            [
             0.7,
             "#b8e186"
            ],
            [
             0.8,
             "#7fbc41"
            ],
            [
             0.9,
             "#4d9221"
            ],
            [
             1,
             "#276419"
            ]
           ],
           "sequential": [
            [
             0,
             "#0d0887"
            ],
            [
             0.1111111111111111,
             "#46039f"
            ],
            [
             0.2222222222222222,
             "#7201a8"
            ],
            [
             0.3333333333333333,
             "#9c179e"
            ],
            [
             0.4444444444444444,
             "#bd3786"
            ],
            [
             0.5555555555555556,
             "#d8576b"
            ],
            [
             0.6666666666666666,
             "#ed7953"
            ],
            [
             0.7777777777777778,
             "#fb9f3a"
            ],
            [
             0.8888888888888888,
             "#fdca26"
            ],
            [
             1,
             "#f0f921"
            ]
           ],
           "sequentialminus": [
            [
             0,
             "#0d0887"
            ],
            [
             0.1111111111111111,
             "#46039f"
            ],
            [
             0.2222222222222222,
             "#7201a8"
            ],
            [
             0.3333333333333333,
             "#9c179e"
            ],
            [
             0.4444444444444444,
             "#bd3786"
            ],
            [
             0.5555555555555556,
             "#d8576b"
            ],
            [
             0.6666666666666666,
             "#ed7953"
            ],
            [
             0.7777777777777778,
             "#fb9f3a"
            ],
            [
             0.8888888888888888,
             "#fdca26"
            ],
            [
             1,
             "#f0f921"
            ]
           ]
          },
          "colorway": [
           "#636efa",
           "#EF553B",
           "#00cc96",
           "#ab63fa",
           "#FFA15A",
           "#19d3f3",
           "#FF6692",
           "#B6E880",
           "#FF97FF",
           "#FECB52"
          ],
          "font": {
           "color": "#2a3f5f"
          },
          "geo": {
           "bgcolor": "white",
           "lakecolor": "white",
           "landcolor": "#E5ECF6",
           "showlakes": true,
           "showland": true,
           "subunitcolor": "white"
          },
          "hoverlabel": {
           "align": "left"
          },
          "hovermode": "closest",
          "mapbox": {
           "style": "light"
          },
          "paper_bgcolor": "white",
          "plot_bgcolor": "#E5ECF6",
          "polar": {
           "angularaxis": {
            "gridcolor": "white",
            "linecolor": "white",
            "ticks": ""
           },
           "bgcolor": "#E5ECF6",
           "radialaxis": {
            "gridcolor": "white",
            "linecolor": "white",
            "ticks": ""
           }
          },
          "scene": {
           "xaxis": {
            "backgroundcolor": "#E5ECF6",
            "gridcolor": "white",
            "gridwidth": 2,
            "linecolor": "white",
            "showbackground": true,
            "ticks": "",
            "zerolinecolor": "white"
           },
           "yaxis": {
            "backgroundcolor": "#E5ECF6",
            "gridcolor": "white",
            "gridwidth": 2,
            "linecolor": "white",
            "showbackground": true,
            "ticks": "",
            "zerolinecolor": "white"
           },
           "zaxis": {
            "backgroundcolor": "#E5ECF6",
            "gridcolor": "white",
            "gridwidth": 2,
            "linecolor": "white",
            "showbackground": true,
            "ticks": "",
            "zerolinecolor": "white"
           }
          },
          "shapedefaults": {
           "line": {
            "color": "#2a3f5f"
           }
          },
          "ternary": {
           "aaxis": {
            "gridcolor": "white",
            "linecolor": "white",
            "ticks": ""
           },
           "baxis": {
            "gridcolor": "white",
            "linecolor": "white",
            "ticks": ""
           },
           "bgcolor": "#E5ECF6",
           "caxis": {
            "gridcolor": "white",
            "linecolor": "white",
            "ticks": ""
           }
          },
          "title": {
           "x": 0.05
          },
          "xaxis": {
           "automargin": true,
           "gridcolor": "white",
           "linecolor": "white",
           "ticks": "",
           "title": {
            "standoff": 15
           },
           "zerolinecolor": "white",
           "zerolinewidth": 2
          },
          "yaxis": {
           "automargin": true,
           "gridcolor": "white",
           "linecolor": "white",
           "ticks": "",
           "title": {
            "standoff": 15
           },
           "zerolinecolor": "white",
           "zerolinewidth": 2
          }
         }
        },
        "title": {
         "text": "Incident and Agents in the 2022-05-15"
        },
        "updatemenus": [
         {
          "buttons": [
           {
            "args": [
             null,
             {
              "frame": {
               "duration": 500,
               "redraw": true
              },
              "fromcurrent": true,
              "transition": {
               "duration": 300,
               "easing": "quadratic-in-out"
              }
             }
            ],
            "label": "Play",
            "method": "animate"
           },
           {
            "args": [
             [
              null
             ],
             {
              "frame": {
               "duration": 0,
               "redraw": true
              },
              "mode": "immediate",
              "transition": {
               "duration": 0
              }
             }
            ],
            "label": "Pause",
            "method": "animate"
           }
          ],
          "direction": "left",
          "pad": {
           "r": 10,
           "t": 87
          },
          "showactive": false,
          "type": "buttons",
          "x": 0.1,
          "xanchor": "right",
          "y": 0,
          "yanchor": "top"
         }
        ]
       }
      }
     },
     "metadata": {},
     "output_type": "display_data"
    }
   ],
   "source": [
    "hour = 0\n",
    "agentsdf_subset_hour = agentsdf_subset[agentsdf_subset[\"hour\"] == hour] \n",
    "incidentsdf_subset_hour = incidentsdf_subset[incidentsdf_subset[\"hour\"] == hour] \n",
    "\n",
    "# hour range\n",
    "hours = [str(i) for i in range(24)]\n",
    "map_frames = []\n",
    "\n",
    "# frames\n",
    "for hour in hours:\n",
    "    agentsdf_subset_hour = agentsdf_subset[agentsdf_subset[\"hour\"] == hour] \n",
    "    incidentsdf_subset_hour = incidentsdf_subset[incidentsdf_subset[\"hour\"] == hour] \n",
    "    map_frames.append(go.Frame(data=[go.Scattermapbox(\n",
    "                                        lat=agentsdf_subset_hour[\"latitude\"],\n",
    "                                        lon=agentsdf_subset_hour[\"longitude\"],\n",
    "                                        mode='markers',\n",
    "                                        marker=go.scattermapbox.Marker(\n",
    "                                                size=8,\n",
    "                                                color='rgb(255, 0, 0)',\n",
    "                                                opacity=0.7),\n",
    "                                        name=\"Agents\"), \n",
    "                                    go.Scattermapbox(\n",
    "                                        lat=incidentsdf_subset_hour[\"latitude\"],\n",
    "                                        lon=incidentsdf_subset_hour[\"longitude\"],\n",
    "                                        mode='markers',\n",
    "                                        marker=go.scattermapbox.Marker(\n",
    "                                                size=8,\n",
    "                                                color='rgb(0, 0, 255)',\n",
    "                                                opacity=0.7),\n",
    "                                        name=\"Incidents\")],\n",
    "                                name=hour))\n",
    "\n",
    "# hour_steps\n",
    "hour_steps = []\n",
    "for hour in hours:\n",
    "    slider_step = {\"args\": [\n",
    "                    [hour],\n",
    "                    {\"frame\": {\"duration\": 300, \"redraw\": True},\n",
    "                    \"mode\": \"immediate\",\n",
    "                    \"transition\": {\"duration\": 300}\n",
    "                    }\n",
    "                    ],\n",
    "                    \"label\": hour,\n",
    "                    \"method\": \"animate\"} \n",
    "    hour_steps.append(slider_step)\n",
    "\n",
    "# hour slider\n",
    "hour_slider = {\n",
    "    \"active\": 0,\n",
    "    \"yanchor\": \"top\",\n",
    "    \"xanchor\": \"left\",\n",
    "    \"currentvalue\": {\n",
    "        \"font\": {\"size\": 20},\n",
    "        \"prefix\": \"Hour: \",\n",
    "        \"visible\": True,\n",
    "        \"xanchor\": \"right\"\n",
    "    },\n",
    "    \"transition\": {\"duration\": 300, \"easing\": \"cubic-in-out\"},\n",
    "    \"pad\": {\"b\": 10, \"t\": 10},\n",
    "    \"len\": 0.9,\n",
    "    \"x\": 0.1,\n",
    "    \"y\": 0,\n",
    "    \"steps\": hour_steps\n",
    "}\n",
    "\n",
    "fig = go.Figure(data=[go.Scattermapbox(\n",
    "                            lat=agentsdf_subset_hour[\"latitude\"],\n",
    "                            lon=agentsdf_subset_hour[\"longitude\"],\n",
    "                            mode='markers',\n",
    "                            marker=go.scattermapbox.Marker(\n",
    "                                size=8,\n",
    "                                color='rgb(255, 0, 0)',\n",
    "                                opacity=0.7),\n",
    "                            name=\"Agents\"), \n",
    "                      go.Scattermapbox(\n",
    "                            lat=incidentsdf_subset_hour[\"latitude\"],\n",
    "                            lon=incidentsdf_subset_hour[\"longitude\"],\n",
    "                            mode='markers',\n",
    "                            marker=go.scattermapbox.Marker(\n",
    "                                size=8,\n",
    "                                color='rgb(0, 0, 255)',\n",
    "                                opacity=0.7),\n",
    "                            name=\"Incidents\")],\n",
    "                layout=go.Layout(\n",
    "                    title=f\"Incident and Agents in the {fixed_day}\",\n",
    "                    updatemenus=[{\n",
    "                        \"type\":\"buttons\",\n",
    "                        \"buttons\":[{\n",
    "                            \"args\": [None, {\"frame\": {\"duration\": 500, \"redraw\": True},\n",
    "                                            \"fromcurrent\": True, \"transition\": {\"duration\": 300,\n",
    "                                                                                \"easing\": \"quadratic-in-out\"}}],\n",
    "                            \"label\": \"Play\",\n",
    "                            \"method\": \"animate\"\n",
    "                        },\n",
    "                        {\n",
    "                            \"args\": [[None], {\"frame\": {\"duration\": 0, \"redraw\": True},\n",
    "                                            \"mode\": \"immediate\",\n",
    "                                            \"transition\": {\"duration\": 0}}],\n",
    "                            \"label\": \"Pause\",\n",
    "                            \"method\": \"animate\"\n",
    "                        }],\n",
    "                        \"direction\": \"left\",\n",
    "                        \"pad\": {\"r\": 10, \"t\": 87},\n",
    "                        \"showactive\": False,\n",
    "                        \"type\": \"buttons\",\n",
    "                        \"x\": 0.1,\n",
    "                        \"xanchor\": \"right\",\n",
    "                        \"y\": 0,\n",
    "                        \"yanchor\": \"top\"}],\n",
    "                    autosize=True,\n",
    "                    hovermode='closest',\n",
    "                    showlegend=True,\n",
    "                    mapbox=dict(\n",
    "                        bearing=0,\n",
    "                        center=dict(\n",
    "                            lat=4.624335,\n",
    "                            lon=-74.063644),\n",
    "                        pitch=0,\n",
    "                        zoom=11,\n",
    "                        style='open-street-map'),\n",
    "                    height=800,\n",
    "                    sliders=[hour_slider]),\n",
    "                frames=map_frames\n",
    "            )\n",
    "\n",
    "fig.show()"
   ]
  },
  {
   "cell_type": "markdown",
   "metadata": {},
   "source": [
    "Fix a one hour to run the priorization algorithm."
   ]
  },
  {
   "cell_type": "code",
   "execution_count": 24,
   "metadata": {},
   "outputs": [],
   "source": [
    "fixed_hour = \"15:00:00\"\n",
    "\n",
    "incidents_locations_hour = incidents_locations.xs(f\"{fixed_day} {fixed_hour}\")\n",
    "agents_locations_hour = agents_locations.xs(f\"{fixed_day} {fixed_hour}\")"
   ]
  },
  {
   "cell_type": "code",
   "execution_count": 25,
   "metadata": {},
   "outputs": [
    {
     "data": {
      "text/plain": [
       "dev_id\n",
       "868033050089541    -74.1818917,4.6255967\n",
       "868033050100017    -74.0998077,4.7375905\n",
       "868033050140419    -74.1352384,4.8772434\n",
       "868033050089442    -74.1696859,4.6203844\n",
       "868033050099144    -74.1503911,4.5738665\n",
       "                           ...          \n",
       "868033050101692     -74.1043883,4.501005\n",
       "868033050104324      -74.10813,4.6146817\n",
       "868033050103854    -74.0955183,4.6194683\n",
       "868033050102013    -74.1165764,4.6190523\n",
       "868033050099128    -74.1049649,4.5037502\n",
       "Length: 76, dtype: object"
      ]
     },
     "execution_count": 25,
     "metadata": {},
     "output_type": "execute_result"
    }
   ],
   "source": [
    "agents_locations_hour"
   ]
  },
  {
   "cell_type": "markdown",
   "metadata": {},
   "source": [
    "In order to get the travel times from each agent to each incident we used the OSRM API and the following code:\n",
    "```python\n",
    "agents_coordinates = \";\".join(agents_locations_hour)\n",
    "incidents_coordinates = \";\".join(incidents_locations_hour)\n",
    "coordinates = agents_coordinates + \";\" + incidents_coordinates\n",
    "\n",
    "agents_count = agents_locations_hour.shape[0]\n",
    "sources = \";\".join(str(i) for i in range(agents_count))\n",
    "\n",
    "incidents_count = incidents_locations_hour.shape[0]\n",
    "destinations = \";\".join(\n",
    "    str(i) for i in range(agents_count, agents_count + incidents_count)\n",
    ")\n",
    "\n",
    "# Ojo con correr esto sin estar corriendo el servicio.\n",
    "durations = json.loads(\n",
    "    requests.get(\n",
    "        f\"http://127.0.0.1:5000/table/v1/driving/{coordinates}?sources={sources}&destinations={destinations}\"\n",
    "    ).text\n",
    ")[\"durations\"]\n",
    "```\n",
    "For this example though, we have alredy consulted the travel time and are now saved in the `durations.csv` file."
   ]
  },
  {
   "cell_type": "markdown",
   "metadata": {},
   "source": [
    "Now let's run the model:"
   ]
  },
  {
   "cell_type": "code",
   "execution_count": 26,
   "metadata": {},
   "outputs": [],
   "source": [
    "t = pd.read_csv(\"data/durations.csv\") # duration matrixj\n",
    "i = t.shape[0] # number of agents\n",
    "j = t.shape[1] # number of incidents\n",
    "\n",
    "b = np.array([np.random.randint(1, 4) for i in range(j)])"
   ]
  },
  {
   "cell_type": "code",
   "execution_count": 27,
   "metadata": {},
   "outputs": [
    {
     "data": {
      "text/plain": [
       "42.0"
      ]
     },
     "execution_count": 27,
     "metadata": {},
     "output_type": "execute_result"
    }
   ],
   "source": [
    "x = cp.Variable((i, j), boolean=True) # agents-incidents matrix\n",
    "z = cp.Variable(j, boolean=True) # incidents coverage vector\n",
    "\n",
    "objective = cp.Maximize(b@z) \n",
    "\n",
    "constraints = [cp.sum(x, axis=0) >= cp.multiply(b, z), # required agents per incidents\n",
    "               cp.sum(x, axis=1) <= 1 # one agent covers at max. one incident\n",
    "               ]\n",
    "               \n",
    "problem = cp.Problem(objective, constraints)\n",
    "\n",
    "problem.solve(verbose=0)"
   ]
  },
  {
   "cell_type": "code",
   "execution_count": 28,
   "metadata": {},
   "outputs": [
    {
     "name": "stdout",
     "output_type": "stream",
     "text": [
      "Agents :\n",
      " [[0. 0. 0. ... 0. 0. 0.]\n",
      " [0. 0. 0. ... 0. 0. 0.]\n",
      " [0. 0. 0. ... 0. 0. 0.]\n",
      " ...\n",
      " [0. 0. 0. ... 0. 0. 1.]\n",
      " [0. 0. 0. ... 1. 0. 0.]\n",
      " [0. 0. 0. ... 1. 0. 0.]]\n",
      "\n",
      "Incidents:\n",
      " [1. 1. 1. 1. 1. 1. 1. 1. 1. 1. 1. 1. 1. 1. 1. 1. 1. 1. 1. 1.]\n"
     ]
    }
   ],
   "source": [
    "print(\"Agents :\\n\", x.value, end=\"\\n\\n\")\n",
    "print(\"Incidents:\\n\", z.value)"
   ]
  },
  {
   "cell_type": "code",
   "execution_count": 29,
   "metadata": {},
   "outputs": [
    {
     "data": {
      "text/plain": [
       "14942.000000000002"
      ]
     },
     "execution_count": 29,
     "metadata": {},
     "output_type": "execute_result"
    }
   ],
   "source": [
    "objective = cp.Minimize(cp.sum(cp.sum(cp.multiply(x, t), axis=0)))\n",
    "\n",
    "\n",
    "constraints = [cp.sum(x, axis=0) >= cp.multiply(b, z.value), # required agents per incidents\n",
    "               cp.sum(x, axis=1) <= 1 # one agent covers at max. one incident\n",
    "               ]\n",
    "               \n",
    "problem = cp.Problem(objective, constraints)\n",
    "\n",
    "problem.solve()"
   ]
  },
  {
   "cell_type": "code",
   "execution_count": 30,
   "metadata": {},
   "outputs": [],
   "source": [
    "x = pd.DataFrame(x.value)"
   ]
  },
  {
   "cell_type": "code",
   "execution_count": 31,
   "metadata": {},
   "outputs": [],
   "source": [
    "agents_selected = x.sum(axis=1) > 0\n",
    "x = x[agents_selected].astype(int)"
   ]
  },
  {
   "cell_type": "markdown",
   "metadata": {},
   "source": [
    "The matrix below represents the response strategy suggested by the algorithm. In here each row represent an agent and each column represents an incident, therefore a 1 on the ith row and jth column indicated that the agent i will responde to the incident j."
   ]
  },
  {
   "cell_type": "code",
   "execution_count": 32,
   "metadata": {},
   "outputs": [
    {
     "data": {
      "text/html": [
       "<div>\n",
       "<style scoped>\n",
       "    .dataframe tbody tr th:only-of-type {\n",
       "        vertical-align: middle;\n",
       "    }\n",
       "\n",
       "    .dataframe tbody tr th {\n",
       "        vertical-align: top;\n",
       "    }\n",
       "\n",
       "    .dataframe thead th {\n",
       "        text-align: right;\n",
       "    }\n",
       "</style>\n",
       "<table border=\"1\" class=\"dataframe\">\n",
       "  <thead>\n",
       "    <tr style=\"text-align: right;\">\n",
       "      <th></th>\n",
       "      <th>0</th>\n",
       "      <th>1</th>\n",
       "      <th>2</th>\n",
       "      <th>3</th>\n",
       "      <th>4</th>\n",
       "      <th>5</th>\n",
       "      <th>6</th>\n",
       "      <th>7</th>\n",
       "      <th>8</th>\n",
       "      <th>9</th>\n",
       "      <th>10</th>\n",
       "      <th>11</th>\n",
       "      <th>12</th>\n",
       "      <th>13</th>\n",
       "      <th>14</th>\n",
       "      <th>15</th>\n",
       "      <th>16</th>\n",
       "      <th>17</th>\n",
       "      <th>18</th>\n",
       "      <th>19</th>\n",
       "    </tr>\n",
       "  </thead>\n",
       "  <tbody>\n",
       "    <tr>\n",
       "      <th>0</th>\n",
       "      <td>0</td>\n",
       "      <td>0</td>\n",
       "      <td>0</td>\n",
       "      <td>0</td>\n",
       "      <td>0</td>\n",
       "      <td>0</td>\n",
       "      <td>0</td>\n",
       "      <td>0</td>\n",
       "      <td>0</td>\n",
       "      <td>0</td>\n",
       "      <td>0</td>\n",
       "      <td>0</td>\n",
       "      <td>0</td>\n",
       "      <td>0</td>\n",
       "      <td>0</td>\n",
       "      <td>1</td>\n",
       "      <td>0</td>\n",
       "      <td>0</td>\n",
       "      <td>0</td>\n",
       "      <td>0</td>\n",
       "    </tr>\n",
       "    <tr>\n",
       "      <th>1</th>\n",
       "      <td>1</td>\n",
       "      <td>0</td>\n",
       "      <td>0</td>\n",
       "      <td>0</td>\n",
       "      <td>0</td>\n",
       "      <td>0</td>\n",
       "      <td>0</td>\n",
       "      <td>0</td>\n",
       "      <td>0</td>\n",
       "      <td>0</td>\n",
       "      <td>0</td>\n",
       "      <td>0</td>\n",
       "      <td>0</td>\n",
       "      <td>0</td>\n",
       "      <td>0</td>\n",
       "      <td>0</td>\n",
       "      <td>0</td>\n",
       "      <td>0</td>\n",
       "      <td>0</td>\n",
       "      <td>0</td>\n",
       "    </tr>\n",
       "    <tr>\n",
       "      <th>3</th>\n",
       "      <td>0</td>\n",
       "      <td>0</td>\n",
       "      <td>0</td>\n",
       "      <td>0</td>\n",
       "      <td>0</td>\n",
       "      <td>0</td>\n",
       "      <td>0</td>\n",
       "      <td>0</td>\n",
       "      <td>0</td>\n",
       "      <td>0</td>\n",
       "      <td>0</td>\n",
       "      <td>0</td>\n",
       "      <td>0</td>\n",
       "      <td>0</td>\n",
       "      <td>0</td>\n",
       "      <td>1</td>\n",
       "      <td>0</td>\n",
       "      <td>0</td>\n",
       "      <td>0</td>\n",
       "      <td>0</td>\n",
       "    </tr>\n",
       "    <tr>\n",
       "      <th>4</th>\n",
       "      <td>0</td>\n",
       "      <td>0</td>\n",
       "      <td>0</td>\n",
       "      <td>0</td>\n",
       "      <td>0</td>\n",
       "      <td>0</td>\n",
       "      <td>0</td>\n",
       "      <td>1</td>\n",
       "      <td>0</td>\n",
       "      <td>0</td>\n",
       "      <td>0</td>\n",
       "      <td>0</td>\n",
       "      <td>0</td>\n",
       "      <td>0</td>\n",
       "      <td>0</td>\n",
       "      <td>0</td>\n",
       "      <td>0</td>\n",
       "      <td>0</td>\n",
       "      <td>0</td>\n",
       "      <td>0</td>\n",
       "    </tr>\n",
       "    <tr>\n",
       "      <th>5</th>\n",
       "      <td>0</td>\n",
       "      <td>0</td>\n",
       "      <td>0</td>\n",
       "      <td>0</td>\n",
       "      <td>0</td>\n",
       "      <td>0</td>\n",
       "      <td>0</td>\n",
       "      <td>0</td>\n",
       "      <td>0</td>\n",
       "      <td>0</td>\n",
       "      <td>0</td>\n",
       "      <td>0</td>\n",
       "      <td>1</td>\n",
       "      <td>0</td>\n",
       "      <td>0</td>\n",
       "      <td>0</td>\n",
       "      <td>0</td>\n",
       "      <td>0</td>\n",
       "      <td>0</td>\n",
       "      <td>0</td>\n",
       "    </tr>\n",
       "    <tr>\n",
       "      <th>6</th>\n",
       "      <td>0</td>\n",
       "      <td>0</td>\n",
       "      <td>0</td>\n",
       "      <td>0</td>\n",
       "      <td>0</td>\n",
       "      <td>0</td>\n",
       "      <td>0</td>\n",
       "      <td>0</td>\n",
       "      <td>0</td>\n",
       "      <td>0</td>\n",
       "      <td>0</td>\n",
       "      <td>0</td>\n",
       "      <td>0</td>\n",
       "      <td>0</td>\n",
       "      <td>0</td>\n",
       "      <td>0</td>\n",
       "      <td>0</td>\n",
       "      <td>0</td>\n",
       "      <td>1</td>\n",
       "      <td>0</td>\n",
       "    </tr>\n",
       "    <tr>\n",
       "      <th>8</th>\n",
       "      <td>0</td>\n",
       "      <td>0</td>\n",
       "      <td>0</td>\n",
       "      <td>0</td>\n",
       "      <td>0</td>\n",
       "      <td>0</td>\n",
       "      <td>0</td>\n",
       "      <td>0</td>\n",
       "      <td>0</td>\n",
       "      <td>0</td>\n",
       "      <td>0</td>\n",
       "      <td>1</td>\n",
       "      <td>0</td>\n",
       "      <td>0</td>\n",
       "      <td>0</td>\n",
       "      <td>0</td>\n",
       "      <td>0</td>\n",
       "      <td>0</td>\n",
       "      <td>0</td>\n",
       "      <td>0</td>\n",
       "    </tr>\n",
       "    <tr>\n",
       "      <th>10</th>\n",
       "      <td>0</td>\n",
       "      <td>0</td>\n",
       "      <td>0</td>\n",
       "      <td>0</td>\n",
       "      <td>0</td>\n",
       "      <td>0</td>\n",
       "      <td>0</td>\n",
       "      <td>0</td>\n",
       "      <td>0</td>\n",
       "      <td>0</td>\n",
       "      <td>0</td>\n",
       "      <td>0</td>\n",
       "      <td>0</td>\n",
       "      <td>0</td>\n",
       "      <td>0</td>\n",
       "      <td>0</td>\n",
       "      <td>0</td>\n",
       "      <td>0</td>\n",
       "      <td>0</td>\n",
       "      <td>1</td>\n",
       "    </tr>\n",
       "    <tr>\n",
       "      <th>12</th>\n",
       "      <td>0</td>\n",
       "      <td>1</td>\n",
       "      <td>0</td>\n",
       "      <td>0</td>\n",
       "      <td>0</td>\n",
       "      <td>0</td>\n",
       "      <td>0</td>\n",
       "      <td>0</td>\n",
       "      <td>0</td>\n",
       "      <td>0</td>\n",
       "      <td>0</td>\n",
       "      <td>0</td>\n",
       "      <td>0</td>\n",
       "      <td>0</td>\n",
       "      <td>0</td>\n",
       "      <td>0</td>\n",
       "      <td>0</td>\n",
       "      <td>0</td>\n",
       "      <td>0</td>\n",
       "      <td>0</td>\n",
       "    </tr>\n",
       "    <tr>\n",
       "      <th>14</th>\n",
       "      <td>0</td>\n",
       "      <td>0</td>\n",
       "      <td>0</td>\n",
       "      <td>1</td>\n",
       "      <td>0</td>\n",
       "      <td>0</td>\n",
       "      <td>0</td>\n",
       "      <td>0</td>\n",
       "      <td>0</td>\n",
       "      <td>0</td>\n",
       "      <td>0</td>\n",
       "      <td>0</td>\n",
       "      <td>0</td>\n",
       "      <td>0</td>\n",
       "      <td>0</td>\n",
       "      <td>0</td>\n",
       "      <td>0</td>\n",
       "      <td>0</td>\n",
       "      <td>0</td>\n",
       "      <td>0</td>\n",
       "    </tr>\n",
       "    <tr>\n",
       "      <th>15</th>\n",
       "      <td>0</td>\n",
       "      <td>0</td>\n",
       "      <td>0</td>\n",
       "      <td>0</td>\n",
       "      <td>0</td>\n",
       "      <td>0</td>\n",
       "      <td>0</td>\n",
       "      <td>0</td>\n",
       "      <td>0</td>\n",
       "      <td>0</td>\n",
       "      <td>1</td>\n",
       "      <td>0</td>\n",
       "      <td>0</td>\n",
       "      <td>0</td>\n",
       "      <td>0</td>\n",
       "      <td>0</td>\n",
       "      <td>0</td>\n",
       "      <td>0</td>\n",
       "      <td>0</td>\n",
       "      <td>0</td>\n",
       "    </tr>\n",
       "    <tr>\n",
       "      <th>20</th>\n",
       "      <td>0</td>\n",
       "      <td>0</td>\n",
       "      <td>0</td>\n",
       "      <td>0</td>\n",
       "      <td>0</td>\n",
       "      <td>0</td>\n",
       "      <td>0</td>\n",
       "      <td>0</td>\n",
       "      <td>0</td>\n",
       "      <td>0</td>\n",
       "      <td>0</td>\n",
       "      <td>0</td>\n",
       "      <td>0</td>\n",
       "      <td>0</td>\n",
       "      <td>0</td>\n",
       "      <td>0</td>\n",
       "      <td>0</td>\n",
       "      <td>0</td>\n",
       "      <td>0</td>\n",
       "      <td>1</td>\n",
       "    </tr>\n",
       "    <tr>\n",
       "      <th>21</th>\n",
       "      <td>0</td>\n",
       "      <td>0</td>\n",
       "      <td>0</td>\n",
       "      <td>0</td>\n",
       "      <td>0</td>\n",
       "      <td>0</td>\n",
       "      <td>0</td>\n",
       "      <td>0</td>\n",
       "      <td>0</td>\n",
       "      <td>0</td>\n",
       "      <td>0</td>\n",
       "      <td>0</td>\n",
       "      <td>0</td>\n",
       "      <td>1</td>\n",
       "      <td>0</td>\n",
       "      <td>0</td>\n",
       "      <td>0</td>\n",
       "      <td>0</td>\n",
       "      <td>0</td>\n",
       "      <td>0</td>\n",
       "    </tr>\n",
       "    <tr>\n",
       "      <th>22</th>\n",
       "      <td>0</td>\n",
       "      <td>0</td>\n",
       "      <td>0</td>\n",
       "      <td>0</td>\n",
       "      <td>0</td>\n",
       "      <td>0</td>\n",
       "      <td>1</td>\n",
       "      <td>0</td>\n",
       "      <td>0</td>\n",
       "      <td>0</td>\n",
       "      <td>0</td>\n",
       "      <td>0</td>\n",
       "      <td>0</td>\n",
       "      <td>0</td>\n",
       "      <td>0</td>\n",
       "      <td>0</td>\n",
       "      <td>0</td>\n",
       "      <td>0</td>\n",
       "      <td>0</td>\n",
       "      <td>0</td>\n",
       "    </tr>\n",
       "    <tr>\n",
       "      <th>25</th>\n",
       "      <td>0</td>\n",
       "      <td>0</td>\n",
       "      <td>0</td>\n",
       "      <td>0</td>\n",
       "      <td>0</td>\n",
       "      <td>1</td>\n",
       "      <td>0</td>\n",
       "      <td>0</td>\n",
       "      <td>0</td>\n",
       "      <td>0</td>\n",
       "      <td>0</td>\n",
       "      <td>0</td>\n",
       "      <td>0</td>\n",
       "      <td>0</td>\n",
       "      <td>0</td>\n",
       "      <td>0</td>\n",
       "      <td>0</td>\n",
       "      <td>0</td>\n",
       "      <td>0</td>\n",
       "      <td>0</td>\n",
       "    </tr>\n",
       "    <tr>\n",
       "      <th>27</th>\n",
       "      <td>0</td>\n",
       "      <td>0</td>\n",
       "      <td>0</td>\n",
       "      <td>0</td>\n",
       "      <td>0</td>\n",
       "      <td>0</td>\n",
       "      <td>0</td>\n",
       "      <td>0</td>\n",
       "      <td>0</td>\n",
       "      <td>1</td>\n",
       "      <td>0</td>\n",
       "      <td>0</td>\n",
       "      <td>0</td>\n",
       "      <td>0</td>\n",
       "      <td>0</td>\n",
       "      <td>0</td>\n",
       "      <td>0</td>\n",
       "      <td>0</td>\n",
       "      <td>0</td>\n",
       "      <td>0</td>\n",
       "    </tr>\n",
       "    <tr>\n",
       "      <th>28</th>\n",
       "      <td>0</td>\n",
       "      <td>0</td>\n",
       "      <td>0</td>\n",
       "      <td>0</td>\n",
       "      <td>0</td>\n",
       "      <td>0</td>\n",
       "      <td>0</td>\n",
       "      <td>0</td>\n",
       "      <td>0</td>\n",
       "      <td>0</td>\n",
       "      <td>0</td>\n",
       "      <td>0</td>\n",
       "      <td>1</td>\n",
       "      <td>0</td>\n",
       "      <td>0</td>\n",
       "      <td>0</td>\n",
       "      <td>0</td>\n",
       "      <td>0</td>\n",
       "      <td>0</td>\n",
       "      <td>0</td>\n",
       "    </tr>\n",
       "    <tr>\n",
       "      <th>29</th>\n",
       "      <td>0</td>\n",
       "      <td>0</td>\n",
       "      <td>0</td>\n",
       "      <td>0</td>\n",
       "      <td>0</td>\n",
       "      <td>0</td>\n",
       "      <td>0</td>\n",
       "      <td>0</td>\n",
       "      <td>0</td>\n",
       "      <td>0</td>\n",
       "      <td>0</td>\n",
       "      <td>0</td>\n",
       "      <td>0</td>\n",
       "      <td>0</td>\n",
       "      <td>0</td>\n",
       "      <td>0</td>\n",
       "      <td>1</td>\n",
       "      <td>0</td>\n",
       "      <td>0</td>\n",
       "      <td>0</td>\n",
       "    </tr>\n",
       "    <tr>\n",
       "      <th>30</th>\n",
       "      <td>0</td>\n",
       "      <td>0</td>\n",
       "      <td>0</td>\n",
       "      <td>0</td>\n",
       "      <td>0</td>\n",
       "      <td>0</td>\n",
       "      <td>0</td>\n",
       "      <td>0</td>\n",
       "      <td>0</td>\n",
       "      <td>0</td>\n",
       "      <td>0</td>\n",
       "      <td>0</td>\n",
       "      <td>0</td>\n",
       "      <td>0</td>\n",
       "      <td>0</td>\n",
       "      <td>0</td>\n",
       "      <td>0</td>\n",
       "      <td>0</td>\n",
       "      <td>0</td>\n",
       "      <td>1</td>\n",
       "    </tr>\n",
       "    <tr>\n",
       "      <th>33</th>\n",
       "      <td>0</td>\n",
       "      <td>0</td>\n",
       "      <td>0</td>\n",
       "      <td>0</td>\n",
       "      <td>0</td>\n",
       "      <td>0</td>\n",
       "      <td>0</td>\n",
       "      <td>0</td>\n",
       "      <td>0</td>\n",
       "      <td>0</td>\n",
       "      <td>0</td>\n",
       "      <td>0</td>\n",
       "      <td>0</td>\n",
       "      <td>0</td>\n",
       "      <td>0</td>\n",
       "      <td>0</td>\n",
       "      <td>1</td>\n",
       "      <td>0</td>\n",
       "      <td>0</td>\n",
       "      <td>0</td>\n",
       "    </tr>\n",
       "    <tr>\n",
       "      <th>34</th>\n",
       "      <td>0</td>\n",
       "      <td>0</td>\n",
       "      <td>0</td>\n",
       "      <td>0</td>\n",
       "      <td>0</td>\n",
       "      <td>0</td>\n",
       "      <td>1</td>\n",
       "      <td>0</td>\n",
       "      <td>0</td>\n",
       "      <td>0</td>\n",
       "      <td>0</td>\n",
       "      <td>0</td>\n",
       "      <td>0</td>\n",
       "      <td>0</td>\n",
       "      <td>0</td>\n",
       "      <td>0</td>\n",
       "      <td>0</td>\n",
       "      <td>0</td>\n",
       "      <td>0</td>\n",
       "      <td>0</td>\n",
       "    </tr>\n",
       "    <tr>\n",
       "      <th>35</th>\n",
       "      <td>0</td>\n",
       "      <td>0</td>\n",
       "      <td>0</td>\n",
       "      <td>0</td>\n",
       "      <td>0</td>\n",
       "      <td>0</td>\n",
       "      <td>0</td>\n",
       "      <td>0</td>\n",
       "      <td>0</td>\n",
       "      <td>0</td>\n",
       "      <td>0</td>\n",
       "      <td>0</td>\n",
       "      <td>0</td>\n",
       "      <td>0</td>\n",
       "      <td>0</td>\n",
       "      <td>0</td>\n",
       "      <td>0</td>\n",
       "      <td>0</td>\n",
       "      <td>1</td>\n",
       "      <td>0</td>\n",
       "    </tr>\n",
       "    <tr>\n",
       "      <th>36</th>\n",
       "      <td>0</td>\n",
       "      <td>0</td>\n",
       "      <td>0</td>\n",
       "      <td>0</td>\n",
       "      <td>0</td>\n",
       "      <td>1</td>\n",
       "      <td>0</td>\n",
       "      <td>0</td>\n",
       "      <td>0</td>\n",
       "      <td>0</td>\n",
       "      <td>0</td>\n",
       "      <td>0</td>\n",
       "      <td>0</td>\n",
       "      <td>0</td>\n",
       "      <td>0</td>\n",
       "      <td>0</td>\n",
       "      <td>0</td>\n",
       "      <td>0</td>\n",
       "      <td>0</td>\n",
       "      <td>0</td>\n",
       "    </tr>\n",
       "    <tr>\n",
       "      <th>37</th>\n",
       "      <td>0</td>\n",
       "      <td>0</td>\n",
       "      <td>0</td>\n",
       "      <td>0</td>\n",
       "      <td>0</td>\n",
       "      <td>0</td>\n",
       "      <td>0</td>\n",
       "      <td>0</td>\n",
       "      <td>1</td>\n",
       "      <td>0</td>\n",
       "      <td>0</td>\n",
       "      <td>0</td>\n",
       "      <td>0</td>\n",
       "      <td>0</td>\n",
       "      <td>0</td>\n",
       "      <td>0</td>\n",
       "      <td>0</td>\n",
       "      <td>0</td>\n",
       "      <td>0</td>\n",
       "      <td>0</td>\n",
       "    </tr>\n",
       "    <tr>\n",
       "      <th>38</th>\n",
       "      <td>0</td>\n",
       "      <td>0</td>\n",
       "      <td>0</td>\n",
       "      <td>0</td>\n",
       "      <td>0</td>\n",
       "      <td>0</td>\n",
       "      <td>0</td>\n",
       "      <td>0</td>\n",
       "      <td>0</td>\n",
       "      <td>0</td>\n",
       "      <td>0</td>\n",
       "      <td>0</td>\n",
       "      <td>0</td>\n",
       "      <td>0</td>\n",
       "      <td>0</td>\n",
       "      <td>0</td>\n",
       "      <td>0</td>\n",
       "      <td>1</td>\n",
       "      <td>0</td>\n",
       "      <td>0</td>\n",
       "    </tr>\n",
       "    <tr>\n",
       "      <th>42</th>\n",
       "      <td>0</td>\n",
       "      <td>0</td>\n",
       "      <td>0</td>\n",
       "      <td>0</td>\n",
       "      <td>0</td>\n",
       "      <td>0</td>\n",
       "      <td>0</td>\n",
       "      <td>1</td>\n",
       "      <td>0</td>\n",
       "      <td>0</td>\n",
       "      <td>0</td>\n",
       "      <td>0</td>\n",
       "      <td>0</td>\n",
       "      <td>0</td>\n",
       "      <td>0</td>\n",
       "      <td>0</td>\n",
       "      <td>0</td>\n",
       "      <td>0</td>\n",
       "      <td>0</td>\n",
       "      <td>0</td>\n",
       "    </tr>\n",
       "    <tr>\n",
       "      <th>43</th>\n",
       "      <td>0</td>\n",
       "      <td>0</td>\n",
       "      <td>0</td>\n",
       "      <td>0</td>\n",
       "      <td>0</td>\n",
       "      <td>0</td>\n",
       "      <td>0</td>\n",
       "      <td>0</td>\n",
       "      <td>0</td>\n",
       "      <td>0</td>\n",
       "      <td>0</td>\n",
       "      <td>0</td>\n",
       "      <td>0</td>\n",
       "      <td>0</td>\n",
       "      <td>1</td>\n",
       "      <td>0</td>\n",
       "      <td>0</td>\n",
       "      <td>0</td>\n",
       "      <td>0</td>\n",
       "      <td>0</td>\n",
       "    </tr>\n",
       "    <tr>\n",
       "      <th>45</th>\n",
       "      <td>0</td>\n",
       "      <td>0</td>\n",
       "      <td>0</td>\n",
       "      <td>0</td>\n",
       "      <td>0</td>\n",
       "      <td>0</td>\n",
       "      <td>0</td>\n",
       "      <td>0</td>\n",
       "      <td>0</td>\n",
       "      <td>0</td>\n",
       "      <td>0</td>\n",
       "      <td>0</td>\n",
       "      <td>0</td>\n",
       "      <td>0</td>\n",
       "      <td>0</td>\n",
       "      <td>0</td>\n",
       "      <td>0</td>\n",
       "      <td>1</td>\n",
       "      <td>0</td>\n",
       "      <td>0</td>\n",
       "    </tr>\n",
       "    <tr>\n",
       "      <th>46</th>\n",
       "      <td>0</td>\n",
       "      <td>0</td>\n",
       "      <td>0</td>\n",
       "      <td>0</td>\n",
       "      <td>0</td>\n",
       "      <td>0</td>\n",
       "      <td>0</td>\n",
       "      <td>0</td>\n",
       "      <td>0</td>\n",
       "      <td>0</td>\n",
       "      <td>0</td>\n",
       "      <td>0</td>\n",
       "      <td>0</td>\n",
       "      <td>0</td>\n",
       "      <td>0</td>\n",
       "      <td>0</td>\n",
       "      <td>0</td>\n",
       "      <td>0</td>\n",
       "      <td>1</td>\n",
       "      <td>0</td>\n",
       "    </tr>\n",
       "    <tr>\n",
       "      <th>47</th>\n",
       "      <td>1</td>\n",
       "      <td>0</td>\n",
       "      <td>0</td>\n",
       "      <td>0</td>\n",
       "      <td>0</td>\n",
       "      <td>0</td>\n",
       "      <td>0</td>\n",
       "      <td>0</td>\n",
       "      <td>0</td>\n",
       "      <td>0</td>\n",
       "      <td>0</td>\n",
       "      <td>0</td>\n",
       "      <td>0</td>\n",
       "      <td>0</td>\n",
       "      <td>0</td>\n",
       "      <td>0</td>\n",
       "      <td>0</td>\n",
       "      <td>0</td>\n",
       "      <td>0</td>\n",
       "      <td>0</td>\n",
       "    </tr>\n",
       "    <tr>\n",
       "      <th>48</th>\n",
       "      <td>0</td>\n",
       "      <td>0</td>\n",
       "      <td>0</td>\n",
       "      <td>0</td>\n",
       "      <td>0</td>\n",
       "      <td>0</td>\n",
       "      <td>0</td>\n",
       "      <td>0</td>\n",
       "      <td>0</td>\n",
       "      <td>0</td>\n",
       "      <td>0</td>\n",
       "      <td>0</td>\n",
       "      <td>0</td>\n",
       "      <td>0</td>\n",
       "      <td>0</td>\n",
       "      <td>1</td>\n",
       "      <td>0</td>\n",
       "      <td>0</td>\n",
       "      <td>0</td>\n",
       "      <td>0</td>\n",
       "    </tr>\n",
       "    <tr>\n",
       "      <th>49</th>\n",
       "      <td>0</td>\n",
       "      <td>1</td>\n",
       "      <td>0</td>\n",
       "      <td>0</td>\n",
       "      <td>0</td>\n",
       "      <td>0</td>\n",
       "      <td>0</td>\n",
       "      <td>0</td>\n",
       "      <td>0</td>\n",
       "      <td>0</td>\n",
       "      <td>0</td>\n",
       "      <td>0</td>\n",
       "      <td>0</td>\n",
       "      <td>0</td>\n",
       "      <td>0</td>\n",
       "      <td>0</td>\n",
       "      <td>0</td>\n",
       "      <td>0</td>\n",
       "      <td>0</td>\n",
       "      <td>0</td>\n",
       "    </tr>\n",
       "    <tr>\n",
       "      <th>52</th>\n",
       "      <td>0</td>\n",
       "      <td>0</td>\n",
       "      <td>1</td>\n",
       "      <td>0</td>\n",
       "      <td>0</td>\n",
       "      <td>0</td>\n",
       "      <td>0</td>\n",
       "      <td>0</td>\n",
       "      <td>0</td>\n",
       "      <td>0</td>\n",
       "      <td>0</td>\n",
       "      <td>0</td>\n",
       "      <td>0</td>\n",
       "      <td>0</td>\n",
       "      <td>0</td>\n",
       "      <td>0</td>\n",
       "      <td>0</td>\n",
       "      <td>0</td>\n",
       "      <td>0</td>\n",
       "      <td>0</td>\n",
       "    </tr>\n",
       "    <tr>\n",
       "      <th>54</th>\n",
       "      <td>0</td>\n",
       "      <td>0</td>\n",
       "      <td>0</td>\n",
       "      <td>0</td>\n",
       "      <td>0</td>\n",
       "      <td>0</td>\n",
       "      <td>0</td>\n",
       "      <td>0</td>\n",
       "      <td>0</td>\n",
       "      <td>0</td>\n",
       "      <td>0</td>\n",
       "      <td>0</td>\n",
       "      <td>0</td>\n",
       "      <td>0</td>\n",
       "      <td>0</td>\n",
       "      <td>0</td>\n",
       "      <td>0</td>\n",
       "      <td>1</td>\n",
       "      <td>0</td>\n",
       "      <td>0</td>\n",
       "    </tr>\n",
       "    <tr>\n",
       "      <th>57</th>\n",
       "      <td>0</td>\n",
       "      <td>0</td>\n",
       "      <td>0</td>\n",
       "      <td>0</td>\n",
       "      <td>0</td>\n",
       "      <td>0</td>\n",
       "      <td>1</td>\n",
       "      <td>0</td>\n",
       "      <td>0</td>\n",
       "      <td>0</td>\n",
       "      <td>0</td>\n",
       "      <td>0</td>\n",
       "      <td>0</td>\n",
       "      <td>0</td>\n",
       "      <td>0</td>\n",
       "      <td>0</td>\n",
       "      <td>0</td>\n",
       "      <td>0</td>\n",
       "      <td>0</td>\n",
       "      <td>0</td>\n",
       "    </tr>\n",
       "    <tr>\n",
       "      <th>58</th>\n",
       "      <td>0</td>\n",
       "      <td>0</td>\n",
       "      <td>0</td>\n",
       "      <td>0</td>\n",
       "      <td>0</td>\n",
       "      <td>0</td>\n",
       "      <td>0</td>\n",
       "      <td>1</td>\n",
       "      <td>0</td>\n",
       "      <td>0</td>\n",
       "      <td>0</td>\n",
       "      <td>0</td>\n",
       "      <td>0</td>\n",
       "      <td>0</td>\n",
       "      <td>0</td>\n",
       "      <td>0</td>\n",
       "      <td>0</td>\n",
       "      <td>0</td>\n",
       "      <td>0</td>\n",
       "      <td>0</td>\n",
       "    </tr>\n",
       "    <tr>\n",
       "      <th>59</th>\n",
       "      <td>0</td>\n",
       "      <td>0</td>\n",
       "      <td>0</td>\n",
       "      <td>0</td>\n",
       "      <td>0</td>\n",
       "      <td>0</td>\n",
       "      <td>0</td>\n",
       "      <td>0</td>\n",
       "      <td>0</td>\n",
       "      <td>0</td>\n",
       "      <td>0</td>\n",
       "      <td>0</td>\n",
       "      <td>0</td>\n",
       "      <td>0</td>\n",
       "      <td>0</td>\n",
       "      <td>0</td>\n",
       "      <td>1</td>\n",
       "      <td>0</td>\n",
       "      <td>0</td>\n",
       "      <td>0</td>\n",
       "    </tr>\n",
       "    <tr>\n",
       "      <th>60</th>\n",
       "      <td>0</td>\n",
       "      <td>0</td>\n",
       "      <td>0</td>\n",
       "      <td>0</td>\n",
       "      <td>0</td>\n",
       "      <td>0</td>\n",
       "      <td>0</td>\n",
       "      <td>0</td>\n",
       "      <td>0</td>\n",
       "      <td>0</td>\n",
       "      <td>0</td>\n",
       "      <td>1</td>\n",
       "      <td>0</td>\n",
       "      <td>0</td>\n",
       "      <td>0</td>\n",
       "      <td>0</td>\n",
       "      <td>0</td>\n",
       "      <td>0</td>\n",
       "      <td>0</td>\n",
       "      <td>0</td>\n",
       "    </tr>\n",
       "    <tr>\n",
       "      <th>63</th>\n",
       "      <td>0</td>\n",
       "      <td>0</td>\n",
       "      <td>0</td>\n",
       "      <td>0</td>\n",
       "      <td>1</td>\n",
       "      <td>0</td>\n",
       "      <td>0</td>\n",
       "      <td>0</td>\n",
       "      <td>0</td>\n",
       "      <td>0</td>\n",
       "      <td>0</td>\n",
       "      <td>0</td>\n",
       "      <td>0</td>\n",
       "      <td>0</td>\n",
       "      <td>0</td>\n",
       "      <td>0</td>\n",
       "      <td>0</td>\n",
       "      <td>0</td>\n",
       "      <td>0</td>\n",
       "      <td>0</td>\n",
       "    </tr>\n",
       "    <tr>\n",
       "      <th>68</th>\n",
       "      <td>0</td>\n",
       "      <td>0</td>\n",
       "      <td>0</td>\n",
       "      <td>0</td>\n",
       "      <td>0</td>\n",
       "      <td>0</td>\n",
       "      <td>0</td>\n",
       "      <td>0</td>\n",
       "      <td>0</td>\n",
       "      <td>0</td>\n",
       "      <td>0</td>\n",
       "      <td>0</td>\n",
       "      <td>1</td>\n",
       "      <td>0</td>\n",
       "      <td>0</td>\n",
       "      <td>0</td>\n",
       "      <td>0</td>\n",
       "      <td>0</td>\n",
       "      <td>0</td>\n",
       "      <td>0</td>\n",
       "    </tr>\n",
       "    <tr>\n",
       "      <th>70</th>\n",
       "      <td>0</td>\n",
       "      <td>0</td>\n",
       "      <td>0</td>\n",
       "      <td>0</td>\n",
       "      <td>0</td>\n",
       "      <td>0</td>\n",
       "      <td>0</td>\n",
       "      <td>0</td>\n",
       "      <td>1</td>\n",
       "      <td>0</td>\n",
       "      <td>0</td>\n",
       "      <td>0</td>\n",
       "      <td>0</td>\n",
       "      <td>0</td>\n",
       "      <td>0</td>\n",
       "      <td>0</td>\n",
       "      <td>0</td>\n",
       "      <td>0</td>\n",
       "      <td>0</td>\n",
       "      <td>0</td>\n",
       "    </tr>\n",
       "    <tr>\n",
       "      <th>73</th>\n",
       "      <td>0</td>\n",
       "      <td>0</td>\n",
       "      <td>0</td>\n",
       "      <td>0</td>\n",
       "      <td>0</td>\n",
       "      <td>0</td>\n",
       "      <td>0</td>\n",
       "      <td>0</td>\n",
       "      <td>0</td>\n",
       "      <td>1</td>\n",
       "      <td>0</td>\n",
       "      <td>0</td>\n",
       "      <td>0</td>\n",
       "      <td>0</td>\n",
       "      <td>0</td>\n",
       "      <td>0</td>\n",
       "      <td>0</td>\n",
       "      <td>0</td>\n",
       "      <td>0</td>\n",
       "      <td>0</td>\n",
       "    </tr>\n",
       "  </tbody>\n",
       "</table>\n",
       "</div>"
      ],
      "text/plain": [
       "    0   1   2   3   4   5   6   7   8   9   10  11  12  13  14  15  16  17  \\\n",
       "0    0   0   0   0   0   0   0   0   0   0   0   0   0   0   0   1   0   0   \n",
       "1    1   0   0   0   0   0   0   0   0   0   0   0   0   0   0   0   0   0   \n",
       "3    0   0   0   0   0   0   0   0   0   0   0   0   0   0   0   1   0   0   \n",
       "4    0   0   0   0   0   0   0   1   0   0   0   0   0   0   0   0   0   0   \n",
       "5    0   0   0   0   0   0   0   0   0   0   0   0   1   0   0   0   0   0   \n",
       "6    0   0   0   0   0   0   0   0   0   0   0   0   0   0   0   0   0   0   \n",
       "8    0   0   0   0   0   0   0   0   0   0   0   1   0   0   0   0   0   0   \n",
       "10   0   0   0   0   0   0   0   0   0   0   0   0   0   0   0   0   0   0   \n",
       "12   0   1   0   0   0   0   0   0   0   0   0   0   0   0   0   0   0   0   \n",
       "14   0   0   0   1   0   0   0   0   0   0   0   0   0   0   0   0   0   0   \n",
       "15   0   0   0   0   0   0   0   0   0   0   1   0   0   0   0   0   0   0   \n",
       "20   0   0   0   0   0   0   0   0   0   0   0   0   0   0   0   0   0   0   \n",
       "21   0   0   0   0   0   0   0   0   0   0   0   0   0   1   0   0   0   0   \n",
       "22   0   0   0   0   0   0   1   0   0   0   0   0   0   0   0   0   0   0   \n",
       "25   0   0   0   0   0   1   0   0   0   0   0   0   0   0   0   0   0   0   \n",
       "27   0   0   0   0   0   0   0   0   0   1   0   0   0   0   0   0   0   0   \n",
       "28   0   0   0   0   0   0   0   0   0   0   0   0   1   0   0   0   0   0   \n",
       "29   0   0   0   0   0   0   0   0   0   0   0   0   0   0   0   0   1   0   \n",
       "30   0   0   0   0   0   0   0   0   0   0   0   0   0   0   0   0   0   0   \n",
       "33   0   0   0   0   0   0   0   0   0   0   0   0   0   0   0   0   1   0   \n",
       "34   0   0   0   0   0   0   1   0   0   0   0   0   0   0   0   0   0   0   \n",
       "35   0   0   0   0   0   0   0   0   0   0   0   0   0   0   0   0   0   0   \n",
       "36   0   0   0   0   0   1   0   0   0   0   0   0   0   0   0   0   0   0   \n",
       "37   0   0   0   0   0   0   0   0   1   0   0   0   0   0   0   0   0   0   \n",
       "38   0   0   0   0   0   0   0   0   0   0   0   0   0   0   0   0   0   1   \n",
       "42   0   0   0   0   0   0   0   1   0   0   0   0   0   0   0   0   0   0   \n",
       "43   0   0   0   0   0   0   0   0   0   0   0   0   0   0   1   0   0   0   \n",
       "45   0   0   0   0   0   0   0   0   0   0   0   0   0   0   0   0   0   1   \n",
       "46   0   0   0   0   0   0   0   0   0   0   0   0   0   0   0   0   0   0   \n",
       "47   1   0   0   0   0   0   0   0   0   0   0   0   0   0   0   0   0   0   \n",
       "48   0   0   0   0   0   0   0   0   0   0   0   0   0   0   0   1   0   0   \n",
       "49   0   1   0   0   0   0   0   0   0   0   0   0   0   0   0   0   0   0   \n",
       "52   0   0   1   0   0   0   0   0   0   0   0   0   0   0   0   0   0   0   \n",
       "54   0   0   0   0   0   0   0   0   0   0   0   0   0   0   0   0   0   1   \n",
       "57   0   0   0   0   0   0   1   0   0   0   0   0   0   0   0   0   0   0   \n",
       "58   0   0   0   0   0   0   0   1   0   0   0   0   0   0   0   0   0   0   \n",
       "59   0   0   0   0   0   0   0   0   0   0   0   0   0   0   0   0   1   0   \n",
       "60   0   0   0   0   0   0   0   0   0   0   0   1   0   0   0   0   0   0   \n",
       "63   0   0   0   0   1   0   0   0   0   0   0   0   0   0   0   0   0   0   \n",
       "68   0   0   0   0   0   0   0   0   0   0   0   0   1   0   0   0   0   0   \n",
       "70   0   0   0   0   0   0   0   0   1   0   0   0   0   0   0   0   0   0   \n",
       "73   0   0   0   0   0   0   0   0   0   1   0   0   0   0   0   0   0   0   \n",
       "\n",
       "    18  19  \n",
       "0    0   0  \n",
       "1    0   0  \n",
       "3    0   0  \n",
       "4    0   0  \n",
       "5    0   0  \n",
       "6    1   0  \n",
       "8    0   0  \n",
       "10   0   1  \n",
       "12   0   0  \n",
       "14   0   0  \n",
       "15   0   0  \n",
       "20   0   1  \n",
       "21   0   0  \n",
       "22   0   0  \n",
       "25   0   0  \n",
       "27   0   0  \n",
       "28   0   0  \n",
       "29   0   0  \n",
       "30   0   1  \n",
       "33   0   0  \n",
       "34   0   0  \n",
       "35   1   0  \n",
       "36   0   0  \n",
       "37   0   0  \n",
       "38   0   0  \n",
       "42   0   0  \n",
       "43   0   0  \n",
       "45   0   0  \n",
       "46   1   0  \n",
       "47   0   0  \n",
       "48   0   0  \n",
       "49   0   0  \n",
       "52   0   0  \n",
       "54   0   0  \n",
       "57   0   0  \n",
       "58   0   0  \n",
       "59   0   0  \n",
       "60   0   0  \n",
       "63   0   0  \n",
       "68   0   0  \n",
       "70   0   0  \n",
       "73   0   0  "
      ]
     },
     "execution_count": 32,
     "metadata": {},
     "output_type": "execute_result"
    }
   ],
   "source": [
    "x"
   ]
  },
  {
   "cell_type": "markdown",
   "metadata": {},
   "source": [
    "Dispatch pairings:"
   ]
  },
  {
   "cell_type": "code",
   "execution_count": 33,
   "metadata": {},
   "outputs": [
    {
     "data": {
      "text/plain": [
       "array([(0, 15), (1, 0), (3, 15), (4, 7), (5, 12), (6, 18), (8, 11),\n",
       "       (10, 19), (12, 1), (14, 3), (15, 10), (20, 19), (21, 13), (22, 6),\n",
       "       (25, 5), (27, 9), (28, 12), (29, 16), (30, 19), (33, 16), (34, 6),\n",
       "       (35, 18), (36, 5), (37, 8), (38, 17), (42, 7), (43, 14), (45, 17),\n",
       "       (46, 18), (47, 0), (48, 15), (49, 1), (52, 2), (54, 17), (57, 6),\n",
       "       (58, 7), (59, 16), (60, 11), (63, 4), (68, 12), (70, 8), (73, 9)],\n",
       "      dtype=object)"
      ]
     },
     "execution_count": 33,
     "metadata": {},
     "output_type": "execute_result"
    }
   ],
   "source": [
    "response_dispatch = np.array(x[x == 1].stack().index)\n",
    "response_dispatch"
   ]
  },
  {
   "cell_type": "code",
   "execution_count": 34,
   "metadata": {},
   "outputs": [],
   "source": [
    "agentsdf_subset_hour = agentsdf_subset.set_index([\"interval\", \"dev_id\"]).xs(f\"{fixed_day} {fixed_hour}\")\n",
    "incidentsdf_subset_hour = incidentsdf_subset.set_index([\"interval\", \"id\"]).xs(f\"{fixed_day} {fixed_hour}\")"
   ]
  },
  {
   "cell_type": "code",
   "execution_count": 35,
   "metadata": {},
   "outputs": [],
   "source": [
    "lines = []\n",
    "for agent_idx, incident_idx in response_dispatch:\n",
    "    agent_coords = agentsdf_subset_hour.iloc[agent_idx, [1,2]]\n",
    "    incident_coords = incidentsdf_subset_hour.iloc[incident_idx, [1, 2]]\n",
    "    coords = [[x, y] for x,y in zip(agent_coords, incident_coords)]\n",
    "    line = go.Scattermapbox(lat=coords[0], lon=coords[1], mode=\"lines\")\n",
    "    lines.append(line)"
   ]
  },
  {
   "cell_type": "code",
   "execution_count": 36,
   "metadata": {},
   "outputs": [
    {
     "data": {
      "application/vnd.plotly.v1+json": {
       "config": {
        "plotlyServerURL": "https://plot.ly"
       },
       "data": [
        {
         "lat": [
          4.6255967,
          4.7375905,
          4.8772434,
          4.6203844,
          4.5738665,
          4.7094835,
          4.737635,
          4.6106874,
          4.5942812,
          4.5480429,
          4.7181933,
          4.6307712,
          4.6042938,
          4.5981143,
          4.598692,
          4.6224128,
          4.62252,
          4.6020035,
          4.6101133,
          4.608594,
          4.7181333,
          4.6689295,
          4.5853017,
          4.6518684,
          4.6498617,
          4.5884833,
          4.6752858,
          4.6418601,
          4.69338,
          4.713882,
          4.695283,
          4.5725896,
          4.5577488,
          4.6529467,
          4.5992851,
          4.6787917,
          4.5752613,
          4.69468,
          4.7440683,
          4.4997471,
          4.604701,
          4.6201105,
          4.5663336,
          4.6583469,
          4.61778,
          4.7534617,
          4.7640118,
          4.699467,
          4.6169051,
          4.6048183,
          4.614295,
          4.4998417,
          4.6112467,
          4.4980833,
          4.7536483,
          4.658831,
          4.55411,
          4.5848997,
          4.5464683,
          4.6591217,
          4.59902,
          4.5668367,
          4.6492183,
          4.6324917,
          4.6210093,
          4.6156466,
          4.6262317,
          4.6155517,
          4.7046868,
          4.5983867,
          4.670275,
          4.501005,
          4.6146817,
          4.6194683,
          4.6190523,
          4.5037502
         ],
         "lon": [
          -74.1818917,
          -74.0998077,
          -74.1352384,
          -74.1696859,
          -74.1503911,
          -74.1109658,
          -74.02274,
          -74.2093114,
          -74.0761027,
          -74.1105988,
          -74.0475883,
          -74.0991542,
          -74.106194,
          -74.0685331,
          -74.1887659,
          -74.1219772,
          -74.19293,
          -74.0793708,
          -74.1174333,
          -74.1091533,
          -74.0476167,
          -74.0977513,
          -74.13743,
          -74.0610393,
          -74.0617567,
          -74.116035,
          -74.0282633,
          -74.1249476,
          -74.1073633,
          -74.1171809,
          -74.0294282,
          -74.092734,
          -74.114207,
          -74.1134333,
          -74.1050928,
          -74.0559967,
          -74.1361866,
          -74.16959,
          -74.0870917,
          -74.1013017,
          -74.1880183,
          -74.08599,
          -74.1294221,
          -74.0581021,
          -74.1113783,
          -74.044945,
          -74.0275877,
          -74.0962829,
          -74.1707179,
          -74.120495,
          -74.1136817,
          -74.1014583,
          -74.1610383,
          -74.1028967,
          -74.044865,
          -74.0575705,
          -74.0847275,
          -74.1331428,
          -74.1373583,
          -74.1304767,
          -74.0746267,
          -74.1506033,
          -74.0629183,
          -74.1350483,
          -74.1875572,
          -74.0884497,
          -74.099685,
          -74.0884177,
          -74.1036668,
          -74.0800017,
          -74.1425302,
          -74.1043883,
          -74.10813,
          -74.0955183,
          -74.1165764,
          -74.1049649
         ],
         "marker": {
          "color": "rgb(255, 0, 0)",
          "opacity": 0.7,
          "size": 8
         },
         "mode": "markers",
         "name": "Agents",
         "type": "scattermapbox"
        },
        {
         "lat": [
          4.749125957489014,
          4.589162826538086,
          4.618958950042725,
          4.595011234283447,
          4.643462657928467,
          4.578937530517578,
          4.583502292633057,
          4.564809799194336,
          4.675656318664551,
          4.661743640899658,
          4.626443386077881,
          4.584422111511231,
          4.686480522155762,
          4.680356502532959,
          4.694759368896484,
          4.62001895904541,
          4.674635887145996,
          4.742080211639404,
          4.719904899597168,
          4.719904899597168
         ],
         "lon": [
          -74.10057830810547,
          -74.10900115966797,
          -74.14481353759766,
          -74.14762878417969,
          -74.13732147216797,
          -74.1205825805664,
          -74.11334228515625,
          -74.12882995605469,
          -74.15107727050781,
          -74.13790130615234,
          -74.12286376953125,
          -74.07255554199219,
          -74.10216522216797,
          -74.10017395019531,
          -74.08782958984375,
          -74.16114807128906,
          -74.14395141601562,
          -74.0855712890625,
          -74.03254699707031,
          -74.03254699707031
         ],
         "marker": {
          "color": "rgb(0, 0, 255)",
          "opacity": 0.7,
          "size": 8
         },
         "mode": "markers",
         "name": "Incidents",
         "text": [
          2,
          2,
          1,
          1,
          1,
          2,
          3,
          3,
          2,
          2,
          1,
          2,
          3,
          1,
          1,
          3,
          3,
          3,
          3,
          3
         ],
         "type": "scattermapbox"
        },
        {
         "lat": [
          4.6255967,
          4.62001895904541
         ],
         "lon": [
          -74.1818917,
          -74.16114807128906
         ],
         "mode": "lines",
         "type": "scattermapbox"
        },
        {
         "lat": [
          4.7375905,
          4.749125957489014
         ],
         "lon": [
          -74.0998077,
          -74.10057830810547
         ],
         "mode": "lines",
         "type": "scattermapbox"
        },
        {
         "lat": [
          4.6203844,
          4.62001895904541
         ],
         "lon": [
          -74.1696859,
          -74.16114807128906
         ],
         "mode": "lines",
         "type": "scattermapbox"
        },
        {
         "lat": [
          4.5738665,
          4.564809799194336
         ],
         "lon": [
          -74.1503911,
          -74.12882995605469
         ],
         "mode": "lines",
         "type": "scattermapbox"
        },
        {
         "lat": [
          4.7094835,
          4.686480522155762
         ],
         "lon": [
          -74.1109658,
          -74.10216522216797
         ],
         "mode": "lines",
         "type": "scattermapbox"
        },
        {
         "lat": [
          4.737635,
          4.719904899597168
         ],
         "lon": [
          -74.02274,
          -74.03254699707031
         ],
         "mode": "lines",
         "type": "scattermapbox"
        },
        {
         "lat": [
          4.5942812,
          4.584422111511231
         ],
         "lon": [
          -74.0761027,
          -74.07255554199219
         ],
         "mode": "lines",
         "type": "scattermapbox"
        },
        {
         "lat": [
          4.7181933,
          4.719904899597168
         ],
         "lon": [
          -74.0475883,
          -74.03254699707031
         ],
         "mode": "lines",
         "type": "scattermapbox"
        },
        {
         "lat": [
          4.6042938,
          4.589162826538086
         ],
         "lon": [
          -74.106194,
          -74.10900115966797
         ],
         "mode": "lines",
         "type": "scattermapbox"
        },
        {
         "lat": [
          4.598692,
          4.595011234283447
         ],
         "lon": [
          -74.1887659,
          -74.14762878417969
         ],
         "mode": "lines",
         "type": "scattermapbox"
        },
        {
         "lat": [
          4.6224128,
          4.626443386077881
         ],
         "lon": [
          -74.1219772,
          -74.12286376953125
         ],
         "mode": "lines",
         "type": "scattermapbox"
        },
        {
         "lat": [
          4.7181333,
          4.719904899597168
         ],
         "lon": [
          -74.0476167,
          -74.03254699707031
         ],
         "mode": "lines",
         "type": "scattermapbox"
        },
        {
         "lat": [
          4.6689295,
          4.680356502532959
         ],
         "lon": [
          -74.0977513,
          -74.10017395019531
         ],
         "mode": "lines",
         "type": "scattermapbox"
        },
        {
         "lat": [
          4.5853017,
          4.583502292633057
         ],
         "lon": [
          -74.13743,
          -74.11334228515625
         ],
         "mode": "lines",
         "type": "scattermapbox"
        },
        {
         "lat": [
          4.5884833,
          4.578937530517578
         ],
         "lon": [
          -74.116035,
          -74.1205825805664
         ],
         "mode": "lines",
         "type": "scattermapbox"
        },
        {
         "lat": [
          4.6418601,
          4.661743640899658
         ],
         "lon": [
          -74.1249476,
          -74.13790130615234
         ],
         "mode": "lines",
         "type": "scattermapbox"
        },
        {
         "lat": [
          4.69338,
          4.686480522155762
         ],
         "lon": [
          -74.1073633,
          -74.10216522216797
         ],
         "mode": "lines",
         "type": "scattermapbox"
        },
        {
         "lat": [
          4.713882,
          4.674635887145996
         ],
         "lon": [
          -74.1171809,
          -74.14395141601562
         ],
         "mode": "lines",
         "type": "scattermapbox"
        },
        {
         "lat": [
          4.695283,
          4.719904899597168
         ],
         "lon": [
          -74.0294282,
          -74.03254699707031
         ],
         "mode": "lines",
         "type": "scattermapbox"
        },
        {
         "lat": [
          4.6529467,
          4.674635887145996
         ],
         "lon": [
          -74.1134333,
          -74.14395141601562
         ],
         "mode": "lines",
         "type": "scattermapbox"
        },
        {
         "lat": [
          4.5992851,
          4.583502292633057
         ],
         "lon": [
          -74.1050928,
          -74.11334228515625
         ],
         "mode": "lines",
         "type": "scattermapbox"
        },
        {
         "lat": [
          4.6787917,
          4.719904899597168
         ],
         "lon": [
          -74.0559967,
          -74.03254699707031
         ],
         "mode": "lines",
         "type": "scattermapbox"
        },
        {
         "lat": [
          4.5752613,
          4.578937530517578
         ],
         "lon": [
          -74.1361866,
          -74.1205825805664
         ],
         "mode": "lines",
         "type": "scattermapbox"
        },
        {
         "lat": [
          4.69468,
          4.675656318664551
         ],
         "lon": [
          -74.16959,
          -74.15107727050781
         ],
         "mode": "lines",
         "type": "scattermapbox"
        },
        {
         "lat": [
          4.7440683,
          4.742080211639404
         ],
         "lon": [
          -74.0870917,
          -74.0855712890625
         ],
         "mode": "lines",
         "type": "scattermapbox"
        },
        {
         "lat": [
          4.5663336,
          4.564809799194336
         ],
         "lon": [
          -74.1294221,
          -74.12882995605469
         ],
         "mode": "lines",
         "type": "scattermapbox"
        },
        {
         "lat": [
          4.6583469,
          4.694759368896484
         ],
         "lon": [
          -74.0581021,
          -74.08782958984375
         ],
         "mode": "lines",
         "type": "scattermapbox"
        },
        {
         "lat": [
          4.7534617,
          4.742080211639404
         ],
         "lon": [
          -74.044945,
          -74.0855712890625
         ],
         "mode": "lines",
         "type": "scattermapbox"
        },
        {
         "lat": [
          4.7640118,
          4.719904899597168
         ],
         "lon": [
          -74.0275877,
          -74.03254699707031
         ],
         "mode": "lines",
         "type": "scattermapbox"
        },
        {
         "lat": [
          4.699467,
          4.749125957489014
         ],
         "lon": [
          -74.0962829,
          -74.10057830810547
         ],
         "mode": "lines",
         "type": "scattermapbox"
        },
        {
         "lat": [
          4.6169051,
          4.62001895904541
         ],
         "lon": [
          -74.1707179,
          -74.16114807128906
         ],
         "mode": "lines",
         "type": "scattermapbox"
        },
        {
         "lat": [
          4.6048183,
          4.589162826538086
         ],
         "lon": [
          -74.120495,
          -74.10900115966797
         ],
         "mode": "lines",
         "type": "scattermapbox"
        },
        {
         "lat": [
          4.6112467,
          4.618958950042725
         ],
         "lon": [
          -74.1610383,
          -74.14481353759766
         ],
         "mode": "lines",
         "type": "scattermapbox"
        },
        {
         "lat": [
          4.7536483,
          4.742080211639404
         ],
         "lon": [
          -74.044865,
          -74.0855712890625
         ],
         "mode": "lines",
         "type": "scattermapbox"
        },
        {
         "lat": [
          4.5848997,
          4.583502292633057
         ],
         "lon": [
          -74.1331428,
          -74.11334228515625
         ],
         "mode": "lines",
         "type": "scattermapbox"
        },
        {
         "lat": [
          4.5464683,
          4.564809799194336
         ],
         "lon": [
          -74.1373583,
          -74.12882995605469
         ],
         "mode": "lines",
         "type": "scattermapbox"
        },
        {
         "lat": [
          4.6591217,
          4.674635887145996
         ],
         "lon": [
          -74.1304767,
          -74.14395141601562
         ],
         "mode": "lines",
         "type": "scattermapbox"
        },
        {
         "lat": [
          4.59902,
          4.584422111511231
         ],
         "lon": [
          -74.0746267,
          -74.07255554199219
         ],
         "mode": "lines",
         "type": "scattermapbox"
        },
        {
         "lat": [
          4.6324917,
          4.643462657928467
         ],
         "lon": [
          -74.1350483,
          -74.13732147216797
         ],
         "mode": "lines",
         "type": "scattermapbox"
        },
        {
         "lat": [
          4.7046868,
          4.686480522155762
         ],
         "lon": [
          -74.1036668,
          -74.10216522216797
         ],
         "mode": "lines",
         "type": "scattermapbox"
        },
        {
         "lat": [
          4.670275,
          4.675656318664551
         ],
         "lon": [
          -74.1425302,
          -74.15107727050781
         ],
         "mode": "lines",
         "type": "scattermapbox"
        },
        {
         "lat": [
          4.6194683,
          4.661743640899658
         ],
         "lon": [
          -74.0955183,
          -74.13790130615234
         ],
         "mode": "lines",
         "type": "scattermapbox"
        }
       ],
       "layout": {
        "autosize": true,
        "height": 800,
        "hovermode": "closest",
        "mapbox": {
         "bearing": 0,
         "center": {
          "lat": 4.624335,
          "lon": -74.063644
         },
         "pitch": 0,
         "style": "open-street-map",
         "zoom": 11
        },
        "showlegend": true,
        "template": {
         "data": {
          "bar": [
           {
            "error_x": {
             "color": "#2a3f5f"
            },
            "error_y": {
             "color": "#2a3f5f"
            },
            "marker": {
             "line": {
              "color": "#E5ECF6",
              "width": 0.5
             },
             "pattern": {
              "fillmode": "overlay",
              "size": 10,
              "solidity": 0.2
             }
            },
            "type": "bar"
           }
          ],
          "barpolar": [
           {
            "marker": {
             "line": {
              "color": "#E5ECF6",
              "width": 0.5
             },
             "pattern": {
              "fillmode": "overlay",
              "size": 10,
              "solidity": 0.2
             }
            },
            "type": "barpolar"
           }
          ],
          "carpet": [
           {
            "aaxis": {
             "endlinecolor": "#2a3f5f",
             "gridcolor": "white",
             "linecolor": "white",
             "minorgridcolor": "white",
             "startlinecolor": "#2a3f5f"
            },
            "baxis": {
             "endlinecolor": "#2a3f5f",
             "gridcolor": "white",
             "linecolor": "white",
             "minorgridcolor": "white",
             "startlinecolor": "#2a3f5f"
            },
            "type": "carpet"
           }
          ],
          "choropleth": [
           {
            "colorbar": {
             "outlinewidth": 0,
             "ticks": ""
            },
            "type": "choropleth"
           }
          ],
          "contour": [
           {
            "colorbar": {
             "outlinewidth": 0,
             "ticks": ""
            },
            "colorscale": [
             [
              0,
              "#0d0887"
             ],
             [
              0.1111111111111111,
              "#46039f"
             ],
             [
              0.2222222222222222,
              "#7201a8"
             ],
             [
              0.3333333333333333,
              "#9c179e"
             ],
             [
              0.4444444444444444,
              "#bd3786"
             ],
             [
              0.5555555555555556,
              "#d8576b"
             ],
             [
              0.6666666666666666,
              "#ed7953"
             ],
             [
              0.7777777777777778,
              "#fb9f3a"
             ],
             [
              0.8888888888888888,
              "#fdca26"
             ],
             [
              1,
              "#f0f921"
             ]
            ],
            "type": "contour"
           }
          ],
          "contourcarpet": [
           {
            "colorbar": {
             "outlinewidth": 0,
             "ticks": ""
            },
            "type": "contourcarpet"
           }
          ],
          "heatmap": [
           {
            "colorbar": {
             "outlinewidth": 0,
             "ticks": ""
            },
            "colorscale": [
             [
              0,
              "#0d0887"
             ],
             [
              0.1111111111111111,
              "#46039f"
             ],
             [
              0.2222222222222222,
              "#7201a8"
             ],
             [
              0.3333333333333333,
              "#9c179e"
             ],
             [
              0.4444444444444444,
              "#bd3786"
             ],
             [
              0.5555555555555556,
              "#d8576b"
             ],
             [
              0.6666666666666666,
              "#ed7953"
             ],
             [
              0.7777777777777778,
              "#fb9f3a"
             ],
             [
              0.8888888888888888,
              "#fdca26"
             ],
             [
              1,
              "#f0f921"
             ]
            ],
            "type": "heatmap"
           }
          ],
          "heatmapgl": [
           {
            "colorbar": {
             "outlinewidth": 0,
             "ticks": ""
            },
            "colorscale": [
             [
              0,
              "#0d0887"
             ],
             [
              0.1111111111111111,
              "#46039f"
             ],
             [
              0.2222222222222222,
              "#7201a8"
             ],
             [
              0.3333333333333333,
              "#9c179e"
             ],
             [
              0.4444444444444444,
              "#bd3786"
             ],
             [
              0.5555555555555556,
              "#d8576b"
             ],
             [
              0.6666666666666666,
              "#ed7953"
             ],
             [
              0.7777777777777778,
              "#fb9f3a"
             ],
             [
              0.8888888888888888,
              "#fdca26"
             ],
             [
              1,
              "#f0f921"
             ]
            ],
            "type": "heatmapgl"
           }
          ],
          "histogram": [
           {
            "marker": {
             "pattern": {
              "fillmode": "overlay",
              "size": 10,
              "solidity": 0.2
             }
            },
            "type": "histogram"
           }
          ],
          "histogram2d": [
           {
            "colorbar": {
             "outlinewidth": 0,
             "ticks": ""
            },
            "colorscale": [
             [
              0,
              "#0d0887"
             ],
             [
              0.1111111111111111,
              "#46039f"
             ],
             [
              0.2222222222222222,
              "#7201a8"
             ],
             [
              0.3333333333333333,
              "#9c179e"
             ],
             [
              0.4444444444444444,
              "#bd3786"
             ],
             [
              0.5555555555555556,
              "#d8576b"
             ],
             [
              0.6666666666666666,
              "#ed7953"
             ],
             [
              0.7777777777777778,
              "#fb9f3a"
             ],
             [
              0.8888888888888888,
              "#fdca26"
             ],
             [
              1,
              "#f0f921"
             ]
            ],
            "type": "histogram2d"
           }
          ],
          "histogram2dcontour": [
           {
            "colorbar": {
             "outlinewidth": 0,
             "ticks": ""
            },
            "colorscale": [
             [
              0,
              "#0d0887"
             ],
             [
              0.1111111111111111,
              "#46039f"
             ],
             [
              0.2222222222222222,
              "#7201a8"
             ],
             [
              0.3333333333333333,
              "#9c179e"
             ],
             [
              0.4444444444444444,
              "#bd3786"
             ],
             [
              0.5555555555555556,
              "#d8576b"
             ],
             [
              0.6666666666666666,
              "#ed7953"
             ],
             [
              0.7777777777777778,
              "#fb9f3a"
             ],
             [
              0.8888888888888888,
              "#fdca26"
             ],
             [
              1,
              "#f0f921"
             ]
            ],
            "type": "histogram2dcontour"
           }
          ],
          "mesh3d": [
           {
            "colorbar": {
             "outlinewidth": 0,
             "ticks": ""
            },
            "type": "mesh3d"
           }
          ],
          "parcoords": [
           {
            "line": {
             "colorbar": {
              "outlinewidth": 0,
              "ticks": ""
             }
            },
            "type": "parcoords"
           }
          ],
          "pie": [
           {
            "automargin": true,
            "type": "pie"
           }
          ],
          "scatter": [
           {
            "marker": {
             "colorbar": {
              "outlinewidth": 0,
              "ticks": ""
             }
            },
            "type": "scatter"
           }
          ],
          "scatter3d": [
           {
            "line": {
             "colorbar": {
              "outlinewidth": 0,
              "ticks": ""
             }
            },
            "marker": {
             "colorbar": {
              "outlinewidth": 0,
              "ticks": ""
             }
            },
            "type": "scatter3d"
           }
          ],
          "scattercarpet": [
           {
            "marker": {
             "colorbar": {
              "outlinewidth": 0,
              "ticks": ""
             }
            },
            "type": "scattercarpet"
           }
          ],
          "scattergeo": [
           {
            "marker": {
             "colorbar": {
              "outlinewidth": 0,
              "ticks": ""
             }
            },
            "type": "scattergeo"
           }
          ],
          "scattergl": [
           {
            "marker": {
             "colorbar": {
              "outlinewidth": 0,
              "ticks": ""
             }
            },
            "type": "scattergl"
           }
          ],
          "scattermapbox": [
           {
            "marker": {
             "colorbar": {
              "outlinewidth": 0,
              "ticks": ""
             }
            },
            "type": "scattermapbox"
           }
          ],
          "scatterpolar": [
           {
            "marker": {
             "colorbar": {
              "outlinewidth": 0,
              "ticks": ""
             }
            },
            "type": "scatterpolar"
           }
          ],
          "scatterpolargl": [
           {
            "marker": {
             "colorbar": {
              "outlinewidth": 0,
              "ticks": ""
             }
            },
            "type": "scatterpolargl"
           }
          ],
          "scatterternary": [
           {
            "marker": {
             "colorbar": {
              "outlinewidth": 0,
              "ticks": ""
             }
            },
            "type": "scatterternary"
           }
          ],
          "surface": [
           {
            "colorbar": {
             "outlinewidth": 0,
             "ticks": ""
            },
            "colorscale": [
             [
              0,
              "#0d0887"
             ],
             [
              0.1111111111111111,
              "#46039f"
             ],
             [
              0.2222222222222222,
              "#7201a8"
             ],
             [
              0.3333333333333333,
              "#9c179e"
             ],
             [
              0.4444444444444444,
              "#bd3786"
             ],
             [
              0.5555555555555556,
              "#d8576b"
             ],
             [
              0.6666666666666666,
              "#ed7953"
             ],
             [
              0.7777777777777778,
              "#fb9f3a"
             ],
             [
              0.8888888888888888,
              "#fdca26"
             ],
             [
              1,
              "#f0f921"
             ]
            ],
            "type": "surface"
           }
          ],
          "table": [
           {
            "cells": {
             "fill": {
              "color": "#EBF0F8"
             },
             "line": {
              "color": "white"
             }
            },
            "header": {
             "fill": {
              "color": "#C8D4E3"
             },
             "line": {
              "color": "white"
             }
            },
            "type": "table"
           }
          ]
         },
         "layout": {
          "annotationdefaults": {
           "arrowcolor": "#2a3f5f",
           "arrowhead": 0,
           "arrowwidth": 1
          },
          "autotypenumbers": "strict",
          "coloraxis": {
           "colorbar": {
            "outlinewidth": 0,
            "ticks": ""
           }
          },
          "colorscale": {
           "diverging": [
            [
             0,
             "#8e0152"
            ],
            [
             0.1,
             "#c51b7d"
            ],
            [
             0.2,
             "#de77ae"
            ],
            [
             0.3,
             "#f1b6da"
            ],
            [
             0.4,
             "#fde0ef"
            ],
            [
             0.5,
             "#f7f7f7"
            ],
            [
             0.6,
             "#e6f5d0"
            ],
            [
             0.7,
             "#b8e186"
            ],
            [
             0.8,
             "#7fbc41"
            ],
            [
             0.9,
             "#4d9221"
            ],
            [
             1,
             "#276419"
            ]
           ],
           "sequential": [
            [
             0,
             "#0d0887"
            ],
            [
             0.1111111111111111,
             "#46039f"
            ],
            [
             0.2222222222222222,
             "#7201a8"
            ],
            [
             0.3333333333333333,
             "#9c179e"
            ],
            [
             0.4444444444444444,
             "#bd3786"
            ],
            [
             0.5555555555555556,
             "#d8576b"
            ],
            [
             0.6666666666666666,
             "#ed7953"
            ],
            [
             0.7777777777777778,
             "#fb9f3a"
            ],
            [
             0.8888888888888888,
             "#fdca26"
            ],
            [
             1,
             "#f0f921"
            ]
           ],
           "sequentialminus": [
            [
             0,
             "#0d0887"
            ],
            [
             0.1111111111111111,
             "#46039f"
            ],
            [
             0.2222222222222222,
             "#7201a8"
            ],
            [
             0.3333333333333333,
             "#9c179e"
            ],
            [
             0.4444444444444444,
             "#bd3786"
            ],
            [
             0.5555555555555556,
             "#d8576b"
            ],
            [
             0.6666666666666666,
             "#ed7953"
            ],
            [
             0.7777777777777778,
             "#fb9f3a"
            ],
            [
             0.8888888888888888,
             "#fdca26"
            ],
            [
             1,
             "#f0f921"
            ]
           ]
          },
          "colorway": [
           "#636efa",
           "#EF553B",
           "#00cc96",
           "#ab63fa",
           "#FFA15A",
           "#19d3f3",
           "#FF6692",
           "#B6E880",
           "#FF97FF",
           "#FECB52"
          ],
          "font": {
           "color": "#2a3f5f"
          },
          "geo": {
           "bgcolor": "white",
           "lakecolor": "white",
           "landcolor": "#E5ECF6",
           "showlakes": true,
           "showland": true,
           "subunitcolor": "white"
          },
          "hoverlabel": {
           "align": "left"
          },
          "hovermode": "closest",
          "mapbox": {
           "style": "light"
          },
          "paper_bgcolor": "white",
          "plot_bgcolor": "#E5ECF6",
          "polar": {
           "angularaxis": {
            "gridcolor": "white",
            "linecolor": "white",
            "ticks": ""
           },
           "bgcolor": "#E5ECF6",
           "radialaxis": {
            "gridcolor": "white",
            "linecolor": "white",
            "ticks": ""
           }
          },
          "scene": {
           "xaxis": {
            "backgroundcolor": "#E5ECF6",
            "gridcolor": "white",
            "gridwidth": 2,
            "linecolor": "white",
            "showbackground": true,
            "ticks": "",
            "zerolinecolor": "white"
           },
           "yaxis": {
            "backgroundcolor": "#E5ECF6",
            "gridcolor": "white",
            "gridwidth": 2,
            "linecolor": "white",
            "showbackground": true,
            "ticks": "",
            "zerolinecolor": "white"
           },
           "zaxis": {
            "backgroundcolor": "#E5ECF6",
            "gridcolor": "white",
            "gridwidth": 2,
            "linecolor": "white",
            "showbackground": true,
            "ticks": "",
            "zerolinecolor": "white"
           }
          },
          "shapedefaults": {
           "line": {
            "color": "#2a3f5f"
           }
          },
          "ternary": {
           "aaxis": {
            "gridcolor": "white",
            "linecolor": "white",
            "ticks": ""
           },
           "baxis": {
            "gridcolor": "white",
            "linecolor": "white",
            "ticks": ""
           },
           "bgcolor": "#E5ECF6",
           "caxis": {
            "gridcolor": "white",
            "linecolor": "white",
            "ticks": ""
           }
          },
          "title": {
           "x": 0.05
          },
          "xaxis": {
           "automargin": true,
           "gridcolor": "white",
           "linecolor": "white",
           "ticks": "",
           "title": {
            "standoff": 15
           },
           "zerolinecolor": "white",
           "zerolinewidth": 2
          },
          "yaxis": {
           "automargin": true,
           "gridcolor": "white",
           "linecolor": "white",
           "ticks": "",
           "title": {
            "standoff": 15
           },
           "zerolinecolor": "white",
           "zerolinewidth": 2
          }
         }
        },
        "title": {
         "text": "Incident and Agents in the 2022-05-15"
        }
       }
      }
     },
     "metadata": {},
     "output_type": "display_data"
    }
   ],
   "source": [
    "fig = go.Figure(data=[go.Scattermapbox(\n",
    "                            lat=agentsdf_subset_hour[\"latitude\"],\n",
    "                            lon=agentsdf_subset_hour[\"longitude\"],\n",
    "                            mode='markers',\n",
    "                            marker=go.scattermapbox.Marker(\n",
    "                                size=8,\n",
    "                                color='rgb(255, 0, 0)',\n",
    "                                opacity=0.7),\n",
    "                            name=\"Agents\"), \n",
    "                      go.Scattermapbox(\n",
    "                            lat=incidentsdf_subset_hour[\"latitude\"],\n",
    "                            lon=incidentsdf_subset_hour[\"longitude\"],\n",
    "                            mode='markers',\n",
    "                            marker=go.scattermapbox.Marker(\n",
    "                                size=8,\n",
    "                                color='rgb(0, 0, 255)',\n",
    "                                opacity=0.7),\n",
    "                            name=\"Incidents\",\n",
    "                            text=b)] + lines,\n",
    "\n",
    "                layout=go.Layout(\n",
    "                    title=f\"Incident and Agents in the {fixed_day}\",\n",
    "                    autosize=True,\n",
    "                    hovermode='closest',\n",
    "                    showlegend=True,\n",
    "                    mapbox=dict(\n",
    "                        bearing=0,\n",
    "                        center=dict(\n",
    "                            lat=4.624335,\n",
    "                            lon=-74.063644),\n",
    "                        pitch=0,\n",
    "                        zoom=11,\n",
    "                        style='open-street-map'),\n",
    "                    height=800,\n",
    "                    ),\n",
    "            )\n",
    "\n",
    "fig.show()"
   ]
  },
  {
   "cell_type": "markdown",
   "metadata": {},
   "source": [
    "## Conclusions\n"
   ]
  },
  {
   "cell_type": "markdown",
   "metadata": {},
   "source": [
    "As it was shown, it is possible to reduce the total time spent on traffic-jams caused by incidents, by making the right allocations. Each of the two parts the proyect showed are essential for a way to completlely optimize the time spent taking care of incidents, we hope this can be continued to work on and developed further on, as there is still room for add-ons that may help bring down the wasted time. \\\n",
    "The parts it was divided in also portrayed how optimization problems often need to be split into different problems or stages. An idea of what could be developed later on is a way to minimize the quantity of active traffic police officers at a certain time, or maximize available officers in a certain area where incidents are more common.\\\n",
    "This of course also applies to any of the other similar applications this process could have, some of which were mentioned previously. We hope we can make real use of this algorithm, as we know Bogotá's mobility secretariat doesn't have an optimization method yet for this specific kind of ressource allocation."
   ]
  }
 ],
 "metadata": {
  "kernelspec": {
   "display_name": "Python 3.10.4 ('optimization')",
   "language": "python",
   "name": "python3"
  },
  "language_info": {
   "codemirror_mode": {
    "name": "ipython",
    "version": 3
   },
   "file_extension": ".py",
   "mimetype": "text/x-python",
   "name": "python",
   "nbconvert_exporter": "python",
   "pygments_lexer": "ipython3",
   "version": "3.10.4"
  },
  "orig_nbformat": 4,
  "vscode": {
   "interpreter": {
    "hash": "de77474a33fd8f1ee12bf12da6b5b7652dc21eff8e6790427496dec9667dc888"
   }
  }
 },
 "nbformat": 4,
 "nbformat_minor": 2
}
