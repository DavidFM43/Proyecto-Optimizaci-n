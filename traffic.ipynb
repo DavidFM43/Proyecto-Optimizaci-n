{
 "cells": [
  {
   "cell_type": "markdown",
   "metadata": {},
   "source": [
    "# **Traffic Incidents optimization**"
   ]
  },
  {
   "cell_type": "markdown",
   "metadata": {},
   "source": [
    "## **Context**"
   ]
  },
  {
   "cell_type": "markdown",
   "metadata": {},
   "source": [
    "In some high-density traffic cities like Bogotá, slow attention to traffic incidents remains an issue, and a method to deal with it is yet to be implemented. Quick response is important for most drivers. Those involved in accidents would have higher chances of survival, and even those never involved in an incident would see the benefit of faster moving traffic.\n",
    "\n",
    "Let us define what we mean by traffic incident or accident. Firstly, an accident implies the happening of a crash, which could be one of a car against an object, or between vehicles. On the other hand, incident is a more general term, it refers to any event that negatively affects traffic flow, so in those terms, an accident is a specific kind of incident.\n",
    "\n",
    "In 2019, Bogotá had the alarming rate of a traffic accident every five to six minutes, and in 2018 there were a total of 50 800 traffic incidents, a number excessively high, that if it were to be reduced, a great quantity of time would be saved. This of course puts interest on projects trying to fix this problem, which can take many different approaches and focal points. Among these are \n",
    "\n"
   ]
  },
  {
   "cell_type": "markdown",
   "metadata": {},
   "source": [
    "## **Objectives**"
   ]
  },
  {
   "cell_type": "markdown",
   "metadata": {},
   "source": [
    "## **Model formulation**"
   ]
  },
  {
   "cell_type": "markdown",
   "metadata": {},
   "source": [
    "El modelo para la solución a nuestro problema se divide en 2 partes, la primera parte  se encarga de  maximizar los pesos totales  de la gravedad de los incidentes que se abordarán con los recursos de respuesta actualmente  disponible, y la  segunda parte se encarga de minimizar el tiempo total de viaje de la respuesta de todas las unidades.\n",
    "\n",
    "$\\textbf{Fase 1:}$\n",
    "La función objetivo en esta fase es: \n",
    "\n",
    "$(1a)$ $$\\max \\sum_{j=1}^{N_i}a_{s(j)}z_j$$\n",
    "\n",
    "bajo las restricciones:\n",
    "\n",
    "$(1b)$ $$\\sum_{i=1}^{N_t} x_{ij}\\geq b_{s(j)} z_j,\\hspace{1cm} \\forall j\\in N_i$$ \n",
    "\n",
    "$(1c)$  $$\\sum_{i=1}^{N_i} x_{ij}\\leq 1,\\hspace{1cm} \\forall i\\in RU $$ \n",
    "\n",
    "$(1d)$  $$x_{ij}=0 \\text{ o } 1, \\hspace{1cm} \\forall i\\in RU, \\forall j\\in N_i$$\n",
    "\n",
    "$(1e)$   $$z_{j}=0 \\text{ o } 1, \\hspace{1cm}, \\forall j\\in N_i$$\n",
    "\n",
    "$\\textbf{Fase 2: }$ La función objetivo en esta parte es:\n",
    "\n",
    "$(2a)$ $$\\min \\sum_{i=1}^{N_t}\\sum_{j=1}^{N_i} x_{ij}t_{ij}(t)$$\n",
    "\n",
    "bajo las restricciones: \n",
    "\n",
    "$(2b)$ $$\\sum_{i=1}^{N_t} x_{ij}\\geq b_{s(j)} z_j,\\hspace{1cm} \\forall j\\in N_i$$ \n",
    "\n",
    "$(2c)$  $$\\sum_{i=1}^{N_i} x_{ij}\\leq 1,\\hspace{1cm} \\forall i\\in RU $$ \n",
    "\n",
    "$(2d)$  $$x_{ij}=0 \\text{ o } 1, \\hspace{1cm} \\forall i\\in RU, \\forall j\\in N_i$$\n",
    "\n",
    "\n",
    "Donde \n",
    "\n",
    "$t_{ij}(t): $ tiempo de viaje del camino más corte entre los puntos $i$, $j$ en el paso de tiempo $t$\n",
    "\n",
    "$S(j): $ La función que devuelve la prioridad de un incidente dado $j$ (este es un número entre 1 y 4, donde 1 es la menor prioridad)\n",
    "\n",
    "$a_l: $ El peso de la gravedad de los incidentes con l-ésima prioridad\n",
    "\n",
    "$b_l:$ El número de grúas necesarias para ser despachadas a un incidente con l-ésima prioridad(se necesitan 2 para una prioridad de 4, 1 para una prioridad de 3, 1 para una prioridad de 2, y 0 para una prioridad de 1)\n",
    "\n",
    "$N_i:$ El número de incidentes que están esperando grúas \n",
    "\n",
    "$N_t:$ El número de grúas en todo en sistema\n",
    "\n",
    "$RU: $ Unidades de respuesta \n",
    "\n",
    "\n",
    "Variables de decisión\n",
    "\n",
    "$z_j=1$  Si el incidente j-ésimo será tratado por ciertas grúas, de lo contrario 0\n",
    "\n",
    "$x_{ij}=1$ Si la grúa i se despacha al incidente j, de lo contrario 0 \n",
    "\n",
    "En la fase 1 del modelo, la función objetivo (1a) es maximizar los pesos totales de la gravedad de los incidentes a tratar\n",
    "sin exceder la limitación de número de unidades de respuesta  disponibles. La restricción (1b) garantiza que se envíe una cantidad suficiente\n",
    "de grúas a cada lugar del incidente. La restricción (1c) indica que una grúa solo puede atender un solo incidente en un\n",
    "momento dado. Las restricciones (1d) y (1e) representan restricciones de enteros, la ecuación (2a) se encarga de minimizar el tipo de viaje estimado de las unidades que se requieren para moverse desde sus ubicaciones actuales a las ubicaciones de los incidentes asignados.\n",
    "\n",
    "Este problema pertenece a la programación lineal entera (puesto que la función objetivo es lineal, tanto en la fase 1 como en la fase 2 es un producto punto entre 2 vectores, y las restricciones son lineales y las variables de decisión son entera), dado que este problema en el fondo es lineal tiene solución por medio de algoritmos que involucren convexidad, pero por las restricciones enteras resulta que este problema no siempre va a tener solución de hecho es un problema NP-completo."
   ]
  },
  {
   "cell_type": "markdown",
   "metadata": {},
   "source": [
    "## **Model implementation**"
   ]
  },
  {
   "cell_type": "markdown",
   "metadata": {},
   "source": [
    "Imports"
   ]
  },
  {
   "cell_type": "code",
   "execution_count": null,
   "metadata": {},
   "outputs": [],
   "source": [
    "import cvxpy as cp\n",
    "import numpy as np\n",
    "import pandas as pd\n",
    "# np.set_printoptions(precision=3, suppress=True)"
   ]
  },
  {
   "cell_type": "markdown",
   "metadata": {},
   "source": [
    "First step is to maximize the severities of the incidents under current response resources(Number of available agents)"
   ]
  },
  {
   "cell_type": "code",
   "execution_count": null,
   "metadata": {},
   "outputs": [],
   "source": [
    "t = pd.read_csv(\"durations.csv\").iloc[:,1:]\n",
    "i = t.shape[0] # number of agents\n",
    "j = t.shape[1] # number of incidents\n",
    "\n",
    "b = np.array([np.random.randint(1, 4) for i in range(j)])"
   ]
  },
  {
   "cell_type": "code",
   "execution_count": null,
   "metadata": {},
   "outputs": [],
   "source": [
    "x = cp.Variable((i, j), boolean=True) # agents-incidents matrix\n",
    "z = cp.Variable(j, boolean=True) # incidents coverage vector\n",
    "\n",
    "objective = cp.Maximize(b@z) \n",
    "\n",
    "constraints = [cp.sum(x, axis=0) >= cp.multiply(b, z), # required agents per incidents\n",
    "               cp.sum(x, axis=1) <= 1 # one agent covers at max. one incident\n",
    "               ]\n",
    "               \n",
    "problem = cp.Problem(objective, constraints)\n",
    "\n",
    "problem.solve(verbose=0)"
   ]
  },
  {
   "cell_type": "code",
   "execution_count": null,
   "metadata": {},
   "outputs": [],
   "source": [
    "print(\"Agents :\\n\", x.value, end=\"\\n\\n\")\n",
    "print(\"Incidents:\\n\", z.value)"
   ]
  },
  {
   "cell_type": "markdown",
   "metadata": {},
   "source": [
    "Next step is to minize the total travel time of all the agents"
   ]
  },
  {
   "cell_type": "code",
   "execution_count": null,
   "metadata": {},
   "outputs": [],
   "source": [
    "objective = cp.Minimize(cp.sum(cp.sum(cp.multiply(x, t), axis=0)))\n",
    "\n",
    "\n",
    "constraints = [cp.sum(x, axis=0) >= cp.multiply(b, z.value), # required agents per incidents\n",
    "               cp.sum(x, axis=1) <= 1 # one agent covers at max. one incident\n",
    "               ]\n",
    "               \n",
    "problem = cp.Problem(objective, constraints)\n",
    "\n",
    "problem.solve()"
   ]
  },
  {
   "cell_type": "code",
   "execution_count": null,
   "metadata": {},
   "outputs": [],
   "source": [
    "np.sum(x.value, axis=1)"
   ]
  },
  {
   "cell_type": "markdown",
   "metadata": {},
   "source": [
    "## **Model in practice**"
   ]
  },
  {
   "cell_type": "code",
   "execution_count": 1,
   "metadata": {},
   "outputs": [],
   "source": [
    "import pandas as pd\n",
    "import json\n",
    "import plotly.graph_objects as go\n",
    "import requests\n",
    "import folium\n",
    "import plotly.express as px\n",
    "import matplotlib.pyplot as plt"
   ]
  },
  {
   "cell_type": "code",
   "execution_count": 23,
   "metadata": {},
   "outputs": [
    {
     "data": {
      "text/html": [
       "<div>\n",
       "<style scoped>\n",
       "    .dataframe tbody tr th:only-of-type {\n",
       "        vertical-align: middle;\n",
       "    }\n",
       "\n",
       "    .dataframe tbody tr th {\n",
       "        vertical-align: top;\n",
       "    }\n",
       "\n",
       "    .dataframe thead th {\n",
       "        text-align: right;\n",
       "    }\n",
       "</style>\n",
       "<table border=\"1\" class=\"dataframe\">\n",
       "  <thead>\n",
       "    <tr style=\"text-align: right;\">\n",
       "      <th></th>\n",
       "      <th></th>\n",
       "      <th>priority</th>\n",
       "      <th>latitude</th>\n",
       "      <th>longitude</th>\n",
       "      <th>implicated</th>\n",
       "      <th>incident_time</th>\n",
       "    </tr>\n",
       "    <tr>\n",
       "      <th>interval</th>\n",
       "      <th>id</th>\n",
       "      <th></th>\n",
       "      <th></th>\n",
       "      <th></th>\n",
       "      <th></th>\n",
       "      <th></th>\n",
       "    </tr>\n",
       "  </thead>\n",
       "  <tbody>\n",
       "    <tr>\n",
       "      <th rowspan=\"2\" valign=\"top\">2022-04-30 23:00:00</th>\n",
       "      <th>57518</th>\n",
       "      <td>2</td>\n",
       "      <td>4.705279</td>\n",
       "      <td>-74.127686</td>\n",
       "      <td>2</td>\n",
       "      <td>2022-04-30 23:59:00</td>\n",
       "    </tr>\n",
       "    <tr>\n",
       "      <th>57519</th>\n",
       "      <td>1</td>\n",
       "      <td>4.600571</td>\n",
       "      <td>-74.143379</td>\n",
       "      <td>3</td>\n",
       "      <td>2022-04-30 23:54:00</td>\n",
       "    </tr>\n",
       "    <tr>\n",
       "      <th rowspan=\"3\" valign=\"top\">2022-05-01 00:00:00</th>\n",
       "      <th>57520</th>\n",
       "      <td>1</td>\n",
       "      <td>4.647777</td>\n",
       "      <td>-74.137123</td>\n",
       "      <td>1</td>\n",
       "      <td>2022-05-01 00:08:00</td>\n",
       "    </tr>\n",
       "    <tr>\n",
       "      <th>57521</th>\n",
       "      <td>1</td>\n",
       "      <td>4.720405</td>\n",
       "      <td>-74.075302</td>\n",
       "      <td>2</td>\n",
       "      <td>2022-05-01 00:10:00</td>\n",
       "    </tr>\n",
       "    <tr>\n",
       "      <th>57522</th>\n",
       "      <td>1</td>\n",
       "      <td>4.614258</td>\n",
       "      <td>-74.167252</td>\n",
       "      <td>2</td>\n",
       "      <td>2022-05-01 00:11:00</td>\n",
       "    </tr>\n",
       "  </tbody>\n",
       "</table>\n",
       "</div>"
      ],
      "text/plain": [
       "                           priority  latitude  longitude  implicated  \\\n",
       "interval            id                                                 \n",
       "2022-04-30 23:00:00 57518         2  4.705279 -74.127686           2   \n",
       "                    57519         1  4.600571 -74.143379           3   \n",
       "2022-05-01 00:00:00 57520         1  4.647777 -74.137123           1   \n",
       "                    57521         1  4.720405 -74.075302           2   \n",
       "                    57522         1  4.614258 -74.167252           2   \n",
       "\n",
       "                                incident_time  \n",
       "interval            id                         \n",
       "2022-04-30 23:00:00 57518 2022-04-30 23:59:00  \n",
       "                    57519 2022-04-30 23:54:00  \n",
       "2022-05-01 00:00:00 57520 2022-05-01 00:08:00  \n",
       "                    57521 2022-05-01 00:10:00  \n",
       "                    57522 2022-05-01 00:11:00  "
      ]
     },
     "execution_count": 23,
     "metadata": {},
     "output_type": "execute_result"
    }
   ],
   "source": [
    "incidentsdf = pd.read_csv('incidents_may.csv', usecols=[\"id\", \"priority\", \"implicated\", \"incident_time\", \"latitude\", \"longitude\"])\n",
    "\n",
    "# drop duplicates\n",
    "incidentsdf = incidentsdf.drop_duplicates(subset=\"id\", keep=\"first\")\n",
    "\n",
    "# cast incident_time to datetime\n",
    "incidentsdf[\"incident_time\"] = pd.to_datetime(incidentsdf[\"incident_time\"])\n",
    "\n",
    "# fill nan to 0 and cast implicated to int\n",
    "incidentsdf[\"implicated\"] = incidentsdf[\"implicated\"].fillna(0)\n",
    "incidentsdf[\"implicated\"] = incidentsdf[\"implicated\"].astype(int)\n",
    "\n",
    "# calculate intervals and create column\n",
    "new = incidentsdf.groupby(pd.Grouper(key=\"incident_time\", freq='1H')).apply(lambda x: x['incident_time'])\n",
    "incidentsdf[\"interval\"] = new.index.get_level_values(0)\n",
    "\n",
    "# multiindex by interval, then id\n",
    "incidentsdf = incidentsdf.set_index([\"interval\", \"id\"])\n",
    "\n",
    "# print head\n",
    "incidentsdf.head()"
   ]
  },
  {
   "cell_type": "code",
   "execution_count": 15,
   "metadata": {},
   "outputs": [
    {
     "data": {
      "text/plain": [
       "interval\n",
       "2022-05-20 18:00:00    50\n",
       "2022-05-19 18:00:00    48\n",
       "2022-05-24 17:00:00    48\n",
       "2022-05-23 10:00:00    46\n",
       "2022-05-20 20:00:00    44\n",
       "                       ..\n",
       "2022-05-10 02:00:00     1\n",
       "2022-05-23 02:00:00     1\n",
       "2022-05-12 01:00:00     1\n",
       "2022-05-11 04:00:00     1\n",
       "2022-05-06 00:00:00     1\n",
       "Length: 592, dtype: int64"
      ]
     },
     "execution_count": 15,
     "metadata": {},
     "output_type": "execute_result"
    }
   ],
   "source": [
    "# number of incindents per interval\n",
    "incidentsdf.groupby([\"interval\"]).size().sort_values(ascending=False)"
   ]
  },
  {
   "cell_type": "code",
   "execution_count": 24,
   "metadata": {},
   "outputs": [
    {
     "data": {
      "text/html": [
       "<div>\n",
       "<style scoped>\n",
       "    .dataframe tbody tr th:only-of-type {\n",
       "        vertical-align: middle;\n",
       "    }\n",
       "\n",
       "    .dataframe tbody tr th {\n",
       "        vertical-align: top;\n",
       "    }\n",
       "\n",
       "    .dataframe thead th {\n",
       "        text-align: right;\n",
       "    }\n",
       "</style>\n",
       "<table border=\"1\" class=\"dataframe\">\n",
       "  <thead>\n",
       "    <tr style=\"text-align: right;\">\n",
       "      <th></th>\n",
       "      <th></th>\n",
       "      <th>time_stamp</th>\n",
       "      <th>latitude</th>\n",
       "      <th>longitude</th>\n",
       "    </tr>\n",
       "    <tr>\n",
       "      <th>interval</th>\n",
       "      <th>dev_id</th>\n",
       "      <th></th>\n",
       "      <th></th>\n",
       "      <th></th>\n",
       "    </tr>\n",
       "  </thead>\n",
       "  <tbody>\n",
       "    <tr>\n",
       "      <th rowspan=\"5\" valign=\"top\">2022-05-01</th>\n",
       "      <th>868033050102534</th>\n",
       "      <td>2022-05-01 00:01:42</td>\n",
       "      <td>4.650030</td>\n",
       "      <td>-74.147322</td>\n",
       "    </tr>\n",
       "    <tr>\n",
       "      <th>868033050090085</th>\n",
       "      <td>2022-05-01 00:01:47</td>\n",
       "      <td>4.581688</td>\n",
       "      <td>-74.128348</td>\n",
       "    </tr>\n",
       "    <tr>\n",
       "      <th>868033050103508</th>\n",
       "      <td>2022-05-01 00:01:52</td>\n",
       "      <td>4.551098</td>\n",
       "      <td>-74.147635</td>\n",
       "    </tr>\n",
       "    <tr>\n",
       "      <th>868033050101650</th>\n",
       "      <td>2022-05-01 00:01:55</td>\n",
       "      <td>4.619840</td>\n",
       "      <td>-74.159668</td>\n",
       "    </tr>\n",
       "    <tr>\n",
       "      <th>868033050102989</th>\n",
       "      <td>2022-05-01 00:01:56</td>\n",
       "      <td>4.651116</td>\n",
       "      <td>-74.136658</td>\n",
       "    </tr>\n",
       "  </tbody>\n",
       "</table>\n",
       "</div>"
      ],
      "text/plain": [
       "                                    time_stamp  latitude  longitude\n",
       "interval   dev_id                                                  \n",
       "2022-05-01 868033050102534 2022-05-01 00:01:42  4.650030 -74.147322\n",
       "           868033050090085 2022-05-01 00:01:47  4.581688 -74.128348\n",
       "           868033050103508 2022-05-01 00:01:52  4.551098 -74.147635\n",
       "           868033050101650 2022-05-01 00:01:55  4.619840 -74.159668\n",
       "           868033050102989 2022-05-01 00:01:56  4.651116 -74.136658"
      ]
     },
     "execution_count": 24,
     "metadata": {},
     "output_type": "execute_result"
    }
   ],
   "source": [
    "agentsdf = pd.read_csv('agents_may.csv', usecols=[\"dev_id\", \"time_stamp\", \"latitude\", \"longitude\"])\n",
    "\n",
    "# cast time_stamp to datetime\n",
    "agentsdf[\"time_stamp\"] = pd.to_datetime(agentsdf[\"time_stamp\"])\n",
    "\n",
    "# calculate intervals and create column\n",
    "new = agentsdf.groupby(pd.Grouper(key=\"time_stamp\", freq='1H')).apply(lambda x: x['time_stamp'])\n",
    "agentsdf[\"interval\"] = new.index.get_level_values(0)\n",
    "\n",
    "# multiindex by interval, then id\n",
    "agentsdf = agentsdf.set_index([\"interval\", \"dev_id\"]).reset_index().drop_duplicates(subset=[\"interval\", \"dev_id\"], keep=\"last\").set_index([\"interval\", \"dev_id\"])\n",
    "\n",
    "# print head\n",
    "agentsdf.head()"
   ]
  },
  {
   "cell_type": "code",
   "execution_count": 25,
   "metadata": {},
   "outputs": [
    {
     "data": {
      "text/plain": [
       "interval             id   \n",
       "2022-04-30 23:00:00  57518       -74.127685546875,4.705278873443604\n",
       "                     57519    -74.14337921142578,4.6005706787109375\n",
       "2022-05-01 00:00:00  57520    -74.13712310791016,4.6477766036987305\n",
       "                     57521     -74.07530212402344,4.720405101776123\n",
       "                     57522     -74.16725158691406,4.614258289337158\n",
       "dtype: object"
      ]
     },
     "execution_count": 25,
     "metadata": {},
     "output_type": "execute_result"
    }
   ],
   "source": [
    "# format incident locations according to the routing API\n",
    "incidents_locations = incidentsdf[[\"longitude\",\"latitude\"]].apply(lambda x: ','.join(x.values.astype(str)), axis=1)\n",
    "incidents_locations.head()"
   ]
  },
  {
   "cell_type": "code",
   "execution_count": 26,
   "metadata": {},
   "outputs": [
    {
     "data": {
      "text/plain": [
       "interval             dev_id         \n",
       "2022-05-01 00:00:00  868033050102534    -74.1473218,4.6500299\n",
       "                     868033050090085    -74.1283484,4.5816876\n",
       "                     868033050103508    -74.1476347,4.5510981\n",
       "                     868033050101650      -74.1596683,4.61984\n",
       "                     868033050102989    -74.1366581,4.6511155\n",
       "                                                ...          \n",
       "2022-05-30 23:00:00  868033050100140    -74.1179133,4.5588983\n",
       "                     868033050099250    -74.1772431,4.6360906\n",
       "                     868033050099821    -74.0850125,4.5963301\n",
       "                     868033050090317      -74.15399,4.6363333\n",
       "                     868033050101932     -74.1399241,4.617186\n",
       "Length: 86101, dtype: object"
      ]
     },
     "execution_count": 26,
     "metadata": {},
     "output_type": "execute_result"
    }
   ],
   "source": [
    "# format agent locations according to the routing API\n",
    "agents_locations = agentsdf[[\"longitude\",\"latitude\"]].apply(lambda x: ','.join(x.values.astype(str)), axis=1)\n",
    "agents_locations"
   ]
  },
  {
   "cell_type": "code",
   "execution_count": 19,
   "metadata": {},
   "outputs": [],
   "source": [
    "incidents_sample = incidents_locations.sample(1000, random_state=0)\n",
    "agents_sample = agents_locations.sample(1000, random_state=0)"
   ]
  },
  {
   "cell_type": "code",
   "execution_count": 20,
   "metadata": {},
   "outputs": [],
   "source": [
    "incidents_sample = incidents_locations.xs(\"2022-05-01 01:00:00\")\n",
    "agents_sample = agents_locations.xs(\"2022-05-01 01:00:00\")"
   ]
  },
  {
   "cell_type": "code",
   "execution_count": 27,
   "metadata": {},
   "outputs": [
    {
     "data": {
      "text/html": [
       "<div>\n",
       "<style scoped>\n",
       "    .dataframe tbody tr th:only-of-type {\n",
       "        vertical-align: middle;\n",
       "    }\n",
       "\n",
       "    .dataframe tbody tr th {\n",
       "        vertical-align: top;\n",
       "    }\n",
       "\n",
       "    .dataframe thead th {\n",
       "        text-align: right;\n",
       "    }\n",
       "</style>\n",
       "<table border=\"1\" class=\"dataframe\">\n",
       "  <thead>\n",
       "    <tr style=\"text-align: right;\">\n",
       "      <th></th>\n",
       "      <th></th>\n",
       "      <th>priority</th>\n",
       "      <th>latitude</th>\n",
       "      <th>longitude</th>\n",
       "      <th>implicated</th>\n",
       "      <th>incident_time</th>\n",
       "    </tr>\n",
       "    <tr>\n",
       "      <th>interval</th>\n",
       "      <th>id</th>\n",
       "      <th></th>\n",
       "      <th></th>\n",
       "      <th></th>\n",
       "      <th></th>\n",
       "      <th></th>\n",
       "    </tr>\n",
       "  </thead>\n",
       "  <tbody>\n",
       "    <tr>\n",
       "      <th rowspan=\"5\" valign=\"top\">2022-05-15 00:00:00</th>\n",
       "      <th>63576</th>\n",
       "      <td>2</td>\n",
       "      <td>4.711182</td>\n",
       "      <td>-74.125687</td>\n",
       "      <td>2</td>\n",
       "      <td>2022-05-15 00:03:00</td>\n",
       "    </tr>\n",
       "    <tr>\n",
       "      <th>63577</th>\n",
       "      <td>2</td>\n",
       "      <td>4.668450</td>\n",
       "      <td>-74.120399</td>\n",
       "      <td>2</td>\n",
       "      <td>2022-05-15 00:03:00</td>\n",
       "    </tr>\n",
       "    <tr>\n",
       "      <th>63578</th>\n",
       "      <td>0</td>\n",
       "      <td>4.615568</td>\n",
       "      <td>-74.187256</td>\n",
       "      <td>1</td>\n",
       "      <td>2022-05-15 15:05:00</td>\n",
       "    </tr>\n",
       "    <tr>\n",
       "      <th>63579</th>\n",
       "      <td>1</td>\n",
       "      <td>4.571099</td>\n",
       "      <td>-74.089355</td>\n",
       "      <td>2</td>\n",
       "      <td>2022-05-15 00:08:00</td>\n",
       "    </tr>\n",
       "    <tr>\n",
       "      <th>63580</th>\n",
       "      <td>1</td>\n",
       "      <td>4.615561</td>\n",
       "      <td>-74.161598</td>\n",
       "      <td>2</td>\n",
       "      <td>2022-05-15 00:12:00</td>\n",
       "    </tr>\n",
       "    <tr>\n",
       "      <th>...</th>\n",
       "      <th>...</th>\n",
       "      <td>...</td>\n",
       "      <td>...</td>\n",
       "      <td>...</td>\n",
       "      <td>...</td>\n",
       "      <td>...</td>\n",
       "    </tr>\n",
       "    <tr>\n",
       "      <th>2022-05-15 22:00:00</th>\n",
       "      <th>63904</th>\n",
       "      <td>2</td>\n",
       "      <td>4.679541</td>\n",
       "      <td>-74.109406</td>\n",
       "      <td>0</td>\n",
       "      <td>2022-05-15 23:22:00</td>\n",
       "    </tr>\n",
       "    <tr>\n",
       "      <th rowspan=\"4\" valign=\"top\">2022-05-15 23:00:00</th>\n",
       "      <th>63905</th>\n",
       "      <td>2</td>\n",
       "      <td>4.569134</td>\n",
       "      <td>-74.186516</td>\n",
       "      <td>2</td>\n",
       "      <td>2022-05-15 23:26:00</td>\n",
       "    </tr>\n",
       "    <tr>\n",
       "      <th>63906</th>\n",
       "      <td>1</td>\n",
       "      <td>4.665658</td>\n",
       "      <td>-74.130547</td>\n",
       "      <td>4</td>\n",
       "      <td>2022-05-15 23:27:00</td>\n",
       "    </tr>\n",
       "    <tr>\n",
       "      <th>63907</th>\n",
       "      <td>2</td>\n",
       "      <td>4.725343</td>\n",
       "      <td>-74.088745</td>\n",
       "      <td>0</td>\n",
       "      <td>2022-05-15 23:40:00</td>\n",
       "    </tr>\n",
       "    <tr>\n",
       "      <th>63908</th>\n",
       "      <td>1</td>\n",
       "      <td>4.557262</td>\n",
       "      <td>-74.138222</td>\n",
       "      <td>2</td>\n",
       "      <td>2022-05-15 00:50:00</td>\n",
       "    </tr>\n",
       "  </tbody>\n",
       "</table>\n",
       "<p>333 rows × 5 columns</p>\n",
       "</div>"
      ],
      "text/plain": [
       "                           priority  latitude  longitude  implicated  \\\n",
       "interval            id                                                 \n",
       "2022-05-15 00:00:00 63576         2  4.711182 -74.125687           2   \n",
       "                    63577         2  4.668450 -74.120399           2   \n",
       "                    63578         0  4.615568 -74.187256           1   \n",
       "                    63579         1  4.571099 -74.089355           2   \n",
       "                    63580         1  4.615561 -74.161598           2   \n",
       "...                             ...       ...        ...         ...   \n",
       "2022-05-15 22:00:00 63904         2  4.679541 -74.109406           0   \n",
       "2022-05-15 23:00:00 63905         2  4.569134 -74.186516           2   \n",
       "                    63906         1  4.665658 -74.130547           4   \n",
       "                    63907         2  4.725343 -74.088745           0   \n",
       "                    63908         1  4.557262 -74.138222           2   \n",
       "\n",
       "                                incident_time  \n",
       "interval            id                         \n",
       "2022-05-15 00:00:00 63576 2022-05-15 00:03:00  \n",
       "                    63577 2022-05-15 00:03:00  \n",
       "                    63578 2022-05-15 15:05:00  \n",
       "                    63579 2022-05-15 00:08:00  \n",
       "                    63580 2022-05-15 00:12:00  \n",
       "...                                       ...  \n",
       "2022-05-15 22:00:00 63904 2022-05-15 23:22:00  \n",
       "2022-05-15 23:00:00 63905 2022-05-15 23:26:00  \n",
       "                    63906 2022-05-15 23:27:00  \n",
       "                    63907 2022-05-15 23:40:00  \n",
       "                    63908 2022-05-15 00:50:00  \n",
       "\n",
       "[333 rows x 5 columns]"
      ]
     },
     "execution_count": 27,
     "metadata": {},
     "output_type": "execute_result"
    }
   ],
   "source": [
    "incidentsdf[incidentsdf[\"incident_time\"].dt.to_period(\"d\") == \"2022-05-15\"]"
   ]
  },
  {
   "cell_type": "code",
   "execution_count": 21,
   "metadata": {},
   "outputs": [],
   "source": [
    "# select a subset of one day to display\n",
    "incidentsdf_subset = incidentsdf[incidentsdf[\"incident_time\"].dt.to_period(\"d\") == \"2022-05-15\"].reset_index().copy()\n",
    "agentsdf_subset = agentsdf[agentsdf[\"time_stamp\"].dt.to_period(\"d\") == \"2022-05-15\"].reset_index().copy()\n",
    "# add hour colums for slider purposes\n",
    "incidentsdf_subset[\"hour\"] = incidentsdf_subset[\"incident_time\"].dt.hour.astype(str)\n",
    "agentsdf_subset[\"hour\"] = agentsdf_subset[\"time_stamp\"].dt.hour.astype(str)"
   ]
  },
  {
   "cell_type": "code",
   "execution_count": 22,
   "metadata": {},
   "outputs": [
    {
     "data": {
      "text/html": [
       "<div>\n",
       "<style scoped>\n",
       "    .dataframe tbody tr th:only-of-type {\n",
       "        vertical-align: middle;\n",
       "    }\n",
       "\n",
       "    .dataframe tbody tr th {\n",
       "        vertical-align: top;\n",
       "    }\n",
       "\n",
       "    .dataframe thead th {\n",
       "        text-align: right;\n",
       "    }\n",
       "</style>\n",
       "<table border=\"1\" class=\"dataframe\">\n",
       "  <thead>\n",
       "    <tr style=\"text-align: right;\">\n",
       "      <th></th>\n",
       "      <th>interval</th>\n",
       "      <th>id</th>\n",
       "      <th>priority</th>\n",
       "      <th>latitude</th>\n",
       "      <th>longitude</th>\n",
       "      <th>implicated</th>\n",
       "      <th>incident_time</th>\n",
       "      <th>hour</th>\n",
       "    </tr>\n",
       "  </thead>\n",
       "  <tbody>\n",
       "    <tr>\n",
       "      <th>0</th>\n",
       "      <td>2022-05-15 00:00:00</td>\n",
       "      <td>63576</td>\n",
       "      <td>2</td>\n",
       "      <td>4.711182</td>\n",
       "      <td>-74.125687</td>\n",
       "      <td>2</td>\n",
       "      <td>2022-05-15 00:03:00</td>\n",
       "      <td>0</td>\n",
       "    </tr>\n",
       "    <tr>\n",
       "      <th>1</th>\n",
       "      <td>2022-05-15 00:00:00</td>\n",
       "      <td>63577</td>\n",
       "      <td>2</td>\n",
       "      <td>4.668450</td>\n",
       "      <td>-74.120399</td>\n",
       "      <td>2</td>\n",
       "      <td>2022-05-15 00:03:00</td>\n",
       "      <td>0</td>\n",
       "    </tr>\n",
       "    <tr>\n",
       "      <th>2</th>\n",
       "      <td>2022-05-15 00:00:00</td>\n",
       "      <td>63578</td>\n",
       "      <td>0</td>\n",
       "      <td>4.615568</td>\n",
       "      <td>-74.187256</td>\n",
       "      <td>1</td>\n",
       "      <td>2022-05-15 15:05:00</td>\n",
       "      <td>15</td>\n",
       "    </tr>\n",
       "    <tr>\n",
       "      <th>3</th>\n",
       "      <td>2022-05-15 00:00:00</td>\n",
       "      <td>63579</td>\n",
       "      <td>1</td>\n",
       "      <td>4.571099</td>\n",
       "      <td>-74.089355</td>\n",
       "      <td>2</td>\n",
       "      <td>2022-05-15 00:08:00</td>\n",
       "      <td>0</td>\n",
       "    </tr>\n",
       "    <tr>\n",
       "      <th>4</th>\n",
       "      <td>2022-05-15 00:00:00</td>\n",
       "      <td>63580</td>\n",
       "      <td>1</td>\n",
       "      <td>4.615561</td>\n",
       "      <td>-74.161598</td>\n",
       "      <td>2</td>\n",
       "      <td>2022-05-15 00:12:00</td>\n",
       "      <td>0</td>\n",
       "    </tr>\n",
       "    <tr>\n",
       "      <th>...</th>\n",
       "      <td>...</td>\n",
       "      <td>...</td>\n",
       "      <td>...</td>\n",
       "      <td>...</td>\n",
       "      <td>...</td>\n",
       "      <td>...</td>\n",
       "      <td>...</td>\n",
       "      <td>...</td>\n",
       "    </tr>\n",
       "    <tr>\n",
       "      <th>328</th>\n",
       "      <td>2022-05-15 22:00:00</td>\n",
       "      <td>63904</td>\n",
       "      <td>2</td>\n",
       "      <td>4.679541</td>\n",
       "      <td>-74.109406</td>\n",
       "      <td>0</td>\n",
       "      <td>2022-05-15 23:22:00</td>\n",
       "      <td>23</td>\n",
       "    </tr>\n",
       "    <tr>\n",
       "      <th>329</th>\n",
       "      <td>2022-05-15 23:00:00</td>\n",
       "      <td>63905</td>\n",
       "      <td>2</td>\n",
       "      <td>4.569134</td>\n",
       "      <td>-74.186516</td>\n",
       "      <td>2</td>\n",
       "      <td>2022-05-15 23:26:00</td>\n",
       "      <td>23</td>\n",
       "    </tr>\n",
       "    <tr>\n",
       "      <th>330</th>\n",
       "      <td>2022-05-15 23:00:00</td>\n",
       "      <td>63906</td>\n",
       "      <td>1</td>\n",
       "      <td>4.665658</td>\n",
       "      <td>-74.130547</td>\n",
       "      <td>4</td>\n",
       "      <td>2022-05-15 23:27:00</td>\n",
       "      <td>23</td>\n",
       "    </tr>\n",
       "    <tr>\n",
       "      <th>331</th>\n",
       "      <td>2022-05-15 23:00:00</td>\n",
       "      <td>63907</td>\n",
       "      <td>2</td>\n",
       "      <td>4.725343</td>\n",
       "      <td>-74.088745</td>\n",
       "      <td>0</td>\n",
       "      <td>2022-05-15 23:40:00</td>\n",
       "      <td>23</td>\n",
       "    </tr>\n",
       "    <tr>\n",
       "      <th>332</th>\n",
       "      <td>2022-05-15 23:00:00</td>\n",
       "      <td>63908</td>\n",
       "      <td>1</td>\n",
       "      <td>4.557262</td>\n",
       "      <td>-74.138222</td>\n",
       "      <td>2</td>\n",
       "      <td>2022-05-15 00:50:00</td>\n",
       "      <td>0</td>\n",
       "    </tr>\n",
       "  </tbody>\n",
       "</table>\n",
       "<p>333 rows × 8 columns</p>\n",
       "</div>"
      ],
      "text/plain": [
       "               interval     id  priority  latitude  longitude  implicated  \\\n",
       "0   2022-05-15 00:00:00  63576         2  4.711182 -74.125687           2   \n",
       "1   2022-05-15 00:00:00  63577         2  4.668450 -74.120399           2   \n",
       "2   2022-05-15 00:00:00  63578         0  4.615568 -74.187256           1   \n",
       "3   2022-05-15 00:00:00  63579         1  4.571099 -74.089355           2   \n",
       "4   2022-05-15 00:00:00  63580         1  4.615561 -74.161598           2   \n",
       "..                  ...    ...       ...       ...        ...         ...   \n",
       "328 2022-05-15 22:00:00  63904         2  4.679541 -74.109406           0   \n",
       "329 2022-05-15 23:00:00  63905         2  4.569134 -74.186516           2   \n",
       "330 2022-05-15 23:00:00  63906         1  4.665658 -74.130547           4   \n",
       "331 2022-05-15 23:00:00  63907         2  4.725343 -74.088745           0   \n",
       "332 2022-05-15 23:00:00  63908         1  4.557262 -74.138222           2   \n",
       "\n",
       "          incident_time hour  \n",
       "0   2022-05-15 00:03:00    0  \n",
       "1   2022-05-15 00:03:00    0  \n",
       "2   2022-05-15 15:05:00   15  \n",
       "3   2022-05-15 00:08:00    0  \n",
       "4   2022-05-15 00:12:00    0  \n",
       "..                  ...  ...  \n",
       "328 2022-05-15 23:22:00   23  \n",
       "329 2022-05-15 23:26:00   23  \n",
       "330 2022-05-15 23:27:00   23  \n",
       "331 2022-05-15 23:40:00   23  \n",
       "332 2022-05-15 00:50:00    0  \n",
       "\n",
       "[333 rows x 8 columns]"
      ]
     },
     "execution_count": 22,
     "metadata": {},
     "output_type": "execute_result"
    }
   ],
   "source": [
    "incidentsdf_subset"
   ]
  },
  {
   "cell_type": "code",
   "execution_count": 13,
   "metadata": {},
   "outputs": [
    {
     "data": {
      "application/vnd.plotly.v1+json": {
       "config": {
        "plotlyServerURL": "https://plot.ly"
       },
       "data": [
        {
         "lat": [
          4.612185,
          4.6100281,
          4.6425904,
          4.612451,
          4.6467887,
          4.6143667,
          4.6500251,
          4.7682233,
          4.6171333,
          4.6224082,
          4.6432983,
          4.6184974,
          4.5948333,
          4.6149867,
          4.7095467,
          4.6356699,
          4.6968925,
          4.6312973
         ],
         "lon": [
          -74.1612417,
          -74.1419852,
          -74.12847,
          -74.1746927,
          -74.1687497,
          -74.11079,
          -74.1473394,
          -74.032265,
          -74.1374183,
          -74.1220686,
          -74.107885,
          -74.0869571,
          -74.128735,
          -74.1627083,
          -74.2210367,
          -74.1495259,
          -74.1403013,
          -74.1546772
         ],
         "marker": {
          "color": "rgb(255, 0, 0)",
          "opacity": 0.7,
          "size": 8
         },
         "mode": "markers",
         "name": "Agents",
         "type": "scattermapbox"
        },
        {
         "lat": [
          4.679540634155273,
          4.569133758544922,
          4.6656575202941895,
          4.725343227386475
         ],
         "lon": [
          -74.10940551757812,
          -74.18651580810547,
          -74.13054656982422,
          -74.0887451171875
         ],
         "marker": {
          "color": "rgb(0, 0, 255)",
          "opacity": 0.7,
          "size": 8
         },
         "mode": "markers",
         "name": "Incidents",
         "type": "scattermapbox"
        }
       ],
       "frames": [
        {
         "data": [
          {
           "lat": [
            4.7182193,
            4.6618975,
            4.7138703,
            4.7273083,
            4.5977981,
            4.6008149,
            4.6491067,
            4.6058285,
            4.7357798,
            4.5468542,
            4.5766229,
            4.6048073,
            4.7319789,
            4.6373505,
            4.6686993,
            4.610075,
            4.6185287,
            4.5982896,
            4.5913708,
            4.7639842,
            4.5975933,
            4.5972387,
            4.6146097,
            4.7443333,
            4.5808476,
            4.5870233,
            4.5699667,
            4.6662613,
            4.6340033,
            4.7289235,
            4.70209,
            4.6168874
           ],
           "lon": [
            -74.0573678,
            -74.0768264,
            -74.1171796,
            -74.1032533,
            -74.0851146,
            -74.1861975,
            -74.07946,
            -74.1719909,
            -74.1006879,
            -74.1082986,
            -74.1503863,
            -74.1479364,
            -74.0690788,
            -74.1838495,
            -74.0527494,
            -74.168585,
            -74.102506,
            -74.140554,
            -74.0655673,
            -74.0241403,
            -74.10767,
            -74.1115189,
            -74.1136777,
            -74.047595,
            -74.1682006,
            -74.154575,
            -74.1440833,
            -74.1307859,
            -74.0738417,
            -74.2656652,
            -74.1116983,
            -74.1707251
           ],
           "marker": {
            "color": "rgb(255, 0, 0)",
            "opacity": 0.7,
            "size": 8
           },
           "mode": "markers",
           "name": "Agents",
           "type": "scattermapbox"
          },
          {
           "lat": [
            4.711182117462158,
            4.668450355529785,
            4.571099281311035,
            4.615560531616211,
            4.615081787109375,
            4.614508628845215,
            4.593765735626221,
            4.557262420654297
           ],
           "lon": [
            -74.12568664550781,
            -74.12039947509766,
            -74.08935546875,
            -74.1615982055664,
            -74.16263580322266,
            -74.16738891601562,
            -74.14527893066406,
            -74.13822174072266
           ],
           "marker": {
            "color": "rgb(0, 0, 255)",
            "opacity": 0.7,
            "size": 8
           },
           "mode": "markers",
           "name": "Incidents",
           "type": "scattermapbox"
          }
         ]
        },
        {
         "data": [
          {
           "lat": [
            4.5766484,
            4.5939617,
            4.6011764,
            4.6976167,
            4.7168971,
            4.6591217,
            4.6134465,
            4.6278292,
            4.64968,
            4.5982567,
            4.5878367,
            4.7138968,
            4.7090967,
            4.6117818,
            4.70482,
            4.6158211,
            4.6100019,
            4.72606,
            4.7190627,
            4.6662613,
            4.615895,
            4.5774725,
            4.6275567,
            4.7639842,
            4.5520634,
            4.5136603,
            4.59423,
            5.6406046
           ],
           "lon": [
            -74.0955488,
            -74.1589767,
            -74.188399,
            -74.1416183,
            -74.0909169,
            -74.1304767,
            -74.1711076,
            -74.1135352,
            -74.0841117,
            -74.0790517,
            -74.1449867,
            -74.1171959,
            -74.220465,
            -74.1060909,
            -74.113795,
            -74.1872241,
            -74.1141205,
            -74.1045117,
            -74.0550484,
            -74.1307859,
            -74.0981233,
            -74.1105833,
            -74.106985,
            -74.0241403,
            -74.1094976,
            -74.1156908,
            -74.069325,
            -73.5264667
           ],
           "marker": {
            "color": "rgb(255, 0, 0)",
            "opacity": 0.7,
            "size": 8
           },
           "mode": "markers",
           "name": "Agents",
           "type": "scattermapbox"
          },
          {
           "lat": [
            4.619862079620361,
            4.764862060546875,
            4.712726593017578,
            4.624926567077637,
            4.668622970581055,
            4.637330055236816,
            4.606982231140137,
            4.591319561004639,
            4.628884792327881,
            4.598271369934082,
            4.611900329589844,
            4.637351989746094
           ],
           "lon": [
            -74.17003631591797,
            -74.02581787109375,
            -74.03275299072266,
            -74.19892120361328,
            -74.05992126464844,
            -74.11803436279297,
            -74.07742309570312,
            -74.09355926513672,
            -74.12236022949219,
            -74.16090393066406,
            -74.17745208740234,
            -74.11833190917969
           ],
           "marker": {
            "color": "rgb(0, 0, 255)",
            "opacity": 0.7,
            "size": 8
           },
           "mode": "markers",
           "name": "Incidents",
           "type": "scattermapbox"
          }
         ]
        },
        {
         "data": [
          {
           "lat": [
            4.5781945,
            4.6662613,
            4.6936499,
            4.6362,
            4.6468168,
            4.6425754,
            4.5967287,
            4.5520634,
            4.6726277,
            4.7411061,
            4.6043767,
            4.6298325,
            4.5870233,
            4.634581,
            4.5915517,
            4.6519856,
            4.6078267,
            4.6080233,
            4.5789699,
            4.5701643,
            4.6078185,
            4.5638141,
            5.6406046,
            4.5957433,
            4.7102992,
            4.5926681
           ],
           "lon": [
            -74.1430447,
            -74.1307859,
            -74.1223752,
            -74.1772083,
            -74.168765,
            -74.1285037,
            -74.1775761,
            -74.1094976,
            -74.0592148,
            -74.0589717,
            -74.1873417,
            -74.132988,
            -74.154575,
            -74.1634477,
            -74.1450933,
            -74.1128201,
            -74.1066167,
            -74.107,
            -74.1983052,
            -74.1392272,
            -74.108118,
            -74.1436467,
            -73.5264667,
            -74.0806267,
            -74.1223822,
            -74.089816
           ],
           "marker": {
            "color": "rgb(255, 0, 0)",
            "opacity": 0.7,
            "size": 8
           },
           "mode": "markers",
           "name": "Agents",
           "type": "scattermapbox"
          },
          {
           "lat": [
            4.557809829711914,
            4.721714019775391,
            4.613260269165039,
            4.595458507537842,
            4.563513278961182,
            4.640211582183838
           ],
           "lon": [
            -74.12208557128906,
            -74.08972930908203,
            -74.20851135253906,
            -74.0857925415039,
            -74.10823822021484,
            -74.06507873535156
           ],
           "marker": {
            "color": "rgb(0, 0, 255)",
            "opacity": 0.7,
            "size": 8
           },
           "mode": "markers",
           "name": "Incidents",
           "type": "scattermapbox"
          }
         ]
        },
        {
         "data": [
          {
           "lat": [
            4.6743388,
            4.6089983,
            4.6095205,
            4.606805,
            4.6512376,
            4.7120769,
            4.649285,
            4.656689,
            4.7102992,
            4.6196533,
            4.6419768,
            4.611932,
            4.5261617,
            4.6986183,
            4.5520634,
            4.6020583,
            4.6089133,
            4.5808428,
            4.7168955,
            4.5866617,
            4.60871,
            4.7367567,
            4.7138733,
            4.6500179
           ],
           "lon": [
            -74.1428971,
            -74.1026483,
            -74.1885468,
            -74.1791679,
            -74.164341,
            -74.1382165,
            -74.1769333,
            -74.0686518,
            -74.1223822,
            -74.170195,
            -74.0760097,
            -74.1944176,
            -74.1127467,
            -74.14321,
            -74.1094976,
            -74.13939,
            -74.1576633,
            -74.1682011,
            -74.0909201,
            -74.1998367,
            -74.0727717,
            -74.0797317,
            -74.1171797,
            -74.1473139
           ],
           "marker": {
            "color": "rgb(255, 0, 0)",
            "opacity": 0.7,
            "size": 8
           },
           "mode": "markers",
           "name": "Agents",
           "type": "scattermapbox"
          },
          {
           "lat": [
            4.581630706787109,
            4.595458507537842,
            4.737720966339111,
            4.726970195770264
           ],
           "lon": [
            -74.1187515258789,
            -74.0857925415039,
            -74.0849838256836,
            -74.09449768066406
           ],
           "marker": {
            "color": "rgb(0, 0, 255)",
            "opacity": 0.7,
            "size": 8
           },
           "mode": "markers",
           "name": "Incidents",
           "type": "scattermapbox"
          }
         ]
        },
        {
         "data": [
          {
           "lat": [
            4.6126406,
            4.697565,
            4.501622,
            4.5261133,
            4.6429733,
            4.6498467,
            4.729775,
            4.5738614,
            4.6515847,
            4.5789633,
            4.7289235,
            5.6450986,
            4.5683695,
            4.615375,
            4.6020583,
            4.5325801,
            4.6046993,
            4.6040942,
            4.649365,
            4.658831,
            4.6492167,
            4.622
           ],
           "lon": [
            -74.21298,
            -74.1412433,
            -74.1157817,
            -74.1125267,
            -74.0788578,
            -74.0802867,
            -74.0478668,
            -74.1389805,
            -74.1128106,
            -74.0912583,
            -74.2656652,
            -73.5176311,
            -74.0891064,
            -74.1868583,
            -74.13939,
            -74.1425302,
            -74.09665,
            -74.1071032,
            -74.0795033,
            -74.0575705,
            -74.176955,
            -74.1494217
           ],
           "marker": {
            "color": "rgb(255, 0, 0)",
            "opacity": 0.7,
            "size": 8
           },
           "mode": "markers",
           "name": "Agents",
           "type": "scattermapbox"
          },
          {
           "lat": [
            4.6511640548706055,
            4.646847724914551,
            4.697005748748779,
            4.708889007568359,
            4.624240398406982,
            4.653903484344482,
            4.524176120758057,
            4.6313066482543945,
            4.706799030303955,
            4.5425519943237305,
            4.769060134887695,
            4.63873291015625,
            4.737889289855957,
            4.667274951934815,
            4.683706283569336,
            4.630399703979492
           ],
           "lon": [
            -74.06217193603516,
            -74.06021118164062,
            -74.08384704589844,
            -74.06448364257812,
            -74.17901611328125,
            -74.10344696044922,
            -74.12249755859375,
            -74.18838500976562,
            -74.05436706542969,
            -74.08391571044922,
            -74.04390716552734,
            -74.1905517578125,
            -74.08504486083984,
            -74.11869049072266,
            -74.09134674072266,
            -74.16796112060547
           ],
           "marker": {
            "color": "rgb(0, 0, 255)",
            "opacity": 0.7,
            "size": 8
           },
           "mode": "markers",
           "name": "Incidents",
           "type": "scattermapbox"
          }
         ]
        },
        {
         "data": [
          {
           "lat": [
            4.6512567,
            4.6794517,
            4.6975692,
            4.6218382,
            4.6095195,
            4.6494517,
            4.6152585,
            4.5229136,
            4.6100019,
            4.6164325,
            4.61642,
            4.6671547,
            4.6123983,
            4.6168316,
            4.5948117,
            4.61444,
            4.595555,
            4.6343,
            4.6272449,
            4.6342583,
            4.6267316,
            5.6450986,
            4.6394477,
            4.5325801,
            4.6802505,
            4.59463,
            4.604288,
            4.7377183,
            4.6028383,
            4.58201,
            4.5944617,
            4.5550401,
            4.6799233,
            4.6291717,
            4.6955737
           ],
           "lon": [
            -74.1643319,
            -74.0956683,
            -74.0951817,
            -74.1033802,
            -74.1885457,
            -74.15157,
            -74.0863728,
            -74.1238002,
            -74.1141205,
            -74.0987824,
            -74.0987383,
            -74.1289508,
            -74.0945467,
            -74.1544427,
            -74.0780317,
            -74.1003209,
            -74.1260783,
            -74.1656817,
            -74.1249386,
            -74.0762083,
            -74.1248318,
            -73.5176311,
            -74.1516871,
            -74.1425302,
            -74.0614065,
            -74.07794,
            -74.1302651,
            -74.08042,
            -74.1793583,
            -74.13329,
            -74.1357183,
            -74.1065366,
            -74.0579433,
            -74.1235567,
            -74.1400007
           ],
           "marker": {
            "color": "rgb(255, 0, 0)",
            "opacity": 0.7,
            "size": 8
           },
           "mode": "markers",
           "name": "Agents",
           "type": "scattermapbox"
          },
          {
           "lat": [
            4.684780120849609,
            4.609814643859863,
            4.629308223724365,
            4.627455234527588,
            4.610971450805664
           ],
           "lon": [
            -74.05756378173828,
            -74.06787109375,
            -74.12244415283203,
            -74.10745239257812,
            -74.18223571777344
           ],
           "marker": {
            "color": "rgb(0, 0, 255)",
            "opacity": 0.7,
            "size": 8
           },
           "mode": "markers",
           "name": "Incidents",
           "type": "scattermapbox"
          }
         ]
        },
        {
         "data": [
          {
           "lat": [
            4.5944617,
            4.6087275,
            4.6163517,
            4.5982375,
            4.6168183,
            4.61567,
            4.6191517,
            4.6803767,
            4.6100019,
            4.602015,
            4.5751638,
            4.6010535,
            4.5870812,
            4.60648,
            4.59042,
            5.6406046,
            4.6145145,
            4.6174033,
            4.5854567,
            4.570025,
            4.5808533,
            4.7357798,
            4.5957544,
            4.6070483,
            4.6155169,
            4.678295,
            4.594215,
            4.5259333,
            4.6667045,
            4.5857841,
            4.55411,
            4.5886067,
            4.7273917,
            4.5996917,
            4.6698495,
            4.7572724,
            4.61554,
            4.6689295,
            4.6522552,
            4.6140617,
            4.6497433,
            4.5520634,
            4.7043883,
            4.6153733,
            4.5954629,
            4.6776892,
            4.6272683,
            4.6099687,
            4.5840738,
            4.7357775,
            4.6227667,
            4.6040933,
            4.6161558,
            4.7572724,
            4.5955138,
            4.6197112,
            4.4781605,
            4.6094318,
            4.61578,
            4.6492167
           ],
           "lon": [
            -74.1357183,
            -74.1083771,
            -74.0984717,
            -74.1407276,
            -74.09861,
            -74.0983583,
            -74.1430917,
            -74.05807,
            -74.1141205,
            -74.1395383,
            -74.1107094,
            -74.1035254,
            -74.0835008,
            -74.1159883,
            -74.0789331,
            -73.5264667,
            -74.100257,
            -74.1004967,
            -74.1332789,
            -74.1439717,
            -74.1682056,
            -74.1006879,
            -74.1131528,
            -74.1241883,
            -74.0984586,
            -74.05638,
            -74.12186,
            -74.1126817,
            -74.0736762,
            -74.1551371,
            -74.0847275,
            -74.1974367,
            -74.0503983,
            -74.075525,
            -74.146389,
            -74.045251,
            -74.098315,
            -74.0977513,
            -74.11313,
            -74.110785,
            -74.079945,
            -74.1094976,
            -74.113925,
            -74.1139023,
            -74.0795708,
            -74.0581741,
            -74.0673717,
            -74.1288638,
            -74.1576974,
            -74.1274277,
            -74.09342,
            -74.1001967,
            -74.0977168,
            -74.045251,
            -74.1670578,
            -74.1051985,
            -74.0945221,
            -74.1814277,
            -74.0982483,
            -74.176955
           ],
           "marker": {
            "color": "rgb(255, 0, 0)",
            "opacity": 0.7,
            "size": 8
           },
           "mode": "markers",
           "name": "Agents",
           "type": "scattermapbox"
          },
          {
           "lat": [
            4.667993545532227,
            4.758011341094971,
            4.604458332061768,
            4.649033069610596,
            4.5151190757751465,
            4.628507137298584,
            4.59604549407959,
            4.724581241607666,
            4.763920307159424,
            4.646127223968506,
            4.727888584136963,
            4.578139781951904,
            4.485190391540527
           ],
           "lon": [
            -74.14874267578125,
            -74.04509735107422,
            -74.07942199707031,
            -74.12714385986328,
            -74.11648559570312,
            -74.17078399658203,
            -74.16197967529297,
            -74.07705688476562,
            -74.03134155273438,
            -74.1301498413086,
            -74.1253890991211,
            -74.15607452392578,
            -74.10355377197266
           ],
           "marker": {
            "color": "rgb(0, 0, 255)",
            "opacity": 0.7,
            "size": 8
           },
           "mode": "markers",
           "name": "Incidents",
           "type": "scattermapbox"
          }
         ]
        },
        {
         "data": [
          {
           "lat": [
            4.615966,
            4.623295,
            4.5940364,
            4.5955337,
            4.723755,
            4.7410898,
            4.6054067,
            4.7376317,
            4.65435,
            4.5016304,
            4.642561,
            4.588025,
            4.60921,
            4.6152602,
            4.5580217,
            4.765567,
            4.6162506,
            4.65278,
            4.6428823,
            4.5811204,
            4.6944467,
            4.6131083,
            4.5902338,
            4.5453827,
            4.6116267,
            4.7203576,
            4.6581312,
            4.6140617,
            4.573021,
            4.68481,
            4.5520634,
            4.6052167,
            4.6087393,
            4.5801017,
            4.7084667,
            4.7594859,
            4.5451624,
            4.630445,
            4.5817342,
            4.6048073,
            4.57629,
            4.648505,
            4.6312776,
            4.6164183,
            4.7048983,
            4.6652738,
            4.7572724,
            4.6156817,
            4.6508,
            4.7572724,
            4.7168946,
            4.598505,
            4.5963318,
            4.5815633,
            4.5899619,
            4.6259562,
            4.7422955,
            4.75268,
            4.6165685,
            4.7440033
           ],
           "lon": [
            -74.0978373,
            -74.1024467,
            -74.1486984,
            -74.1667758,
            -74.0969917,
            -74.0589793,
            -74.1866576,
            -74.1260667,
            -74.11441,
            -74.1157684,
            -74.1285532,
            -74.14455,
            -74.180645,
            -74.1051856,
            -74.1236383,
            -74.0790291,
            -74.0977513,
            -74.1133517,
            -74.1447321,
            -74.1417962,
            -74.169275,
            -74.091535,
            -74.1179398,
            -74.120935,
            -74.0760183,
            -74.0848756,
            -74.1329974,
            -74.110785,
            -74.24571,
            -74.1339,
            -74.1094976,
            -74.1094333,
            -74.1083976,
            -74.15031,
            -74.110935,
            -74.0446992,
            -74.1208761,
            -74.1556333,
            -74.1284449,
            -74.1479364,
            -74.1535933,
            -74.0975233,
            -74.1552592,
            -74.0987463,
            -74.1133083,
            -74.0610393,
            -74.045251,
            -74.098485,
            -74.0619283,
            -74.045251,
            -74.0909162,
            -74.1177433,
            -74.0916847,
            -74.1310583,
            -74.1985218,
            -74.087759,
            -74.1388602,
            -74.0903583,
            -74.1868,
            -74.0865233
           ],
           "marker": {
            "color": "rgb(255, 0, 0)",
            "opacity": 0.7,
            "size": 8
           },
           "mode": "markers",
           "name": "Agents",
           "type": "scattermapbox"
          },
          {
           "lat": [
            4.596035480499268,
            4.720500946044922,
            4.710030555725098,
            4.639309883117676,
            4.604847431182861,
            4.599655628204346,
            4.735466480255127,
            4.609838485717773,
            4.637311458587647,
            4.593716144561768,
            4.738250255584717,
            4.621854305267334,
            4.716438293457031,
            4.667898178100586,
            4.777798175811768,
            4.747550964355469,
            4.59869909286499,
            4.595202922821045
           ],
           "lon": [
            -74.1580581665039,
            -74.07512664794922,
            -74.094482421875,
            -74.13568115234375,
            -74.1917495727539,
            -74.16209411621094,
            -74.10337829589844,
            -74.07196807861328,
            -74.1183090209961,
            -74.12677764892578,
            -74.08638763427734,
            -74.05848693847656,
            -74.09674835205078,
            -74.05152130126953,
            -74.04183197021484,
            -74.10089874267578,
            -74.0845718383789,
            -74.1473617553711
           ],
           "marker": {
            "color": "rgb(0, 0, 255)",
            "opacity": 0.7,
            "size": 8
           },
           "mode": "markers",
           "name": "Incidents",
           "type": "scattermapbox"
          }
         ]
        },
        {
         "data": [
          {
           "lat": [
            4.5761079,
            4.7595733,
            4.5898817,
            4.63066,
            4.6063392,
            4.5963318,
            4.6197282,
            4.5870467,
            4.6253,
            4.6185733,
            4.5805142,
            4.6278133,
            4.6201812,
            4.7708596,
            4.614495,
            4.6525248,
            4.66321,
            4.6216533,
            4.5797756,
            4.5974407,
            4.6174968,
            4.6095291,
            4.6493183,
            4.6140617,
            4.6031649,
            5.6450986,
            4.6073459,
            4.5509533,
            4.6508,
            4.6118994,
            4.6653467,
            4.5451367,
            4.5839733,
            4.6468112,
            4.6261365,
            4.6742388,
            4.6418747,
            4.7685161,
            4.7050056,
            4.62532,
            4.7724997,
            4.6164337,
            4.6881294,
            4.5520634,
            4.6158224,
            4.5570127,
            4.6097168,
            4.7220883
           ],
           "lon": [
            -74.1536348,
            -74.0448533,
            -74.118155,
            -74.1555317,
            -74.0980797,
            -74.0916847,
            -74.0999538,
            -74.122805,
            -74.194495,
            -74.1091483,
            -74.1425302,
            -74.07912,
            -74.119775,
            -74.041879,
            -74.1106483,
            -74.1135356,
            -74.0610417,
            -74.09085,
            -74.1511934,
            -74.1798558,
            -74.0977513,
            -74.1172057,
            -74.104555,
            -74.110785,
            -74.1113329,
            -73.5176311,
            -74.0841897,
            -74.1477526,
            -74.0619283,
            -74.1945671,
            -74.1097917,
            -74.12089,
            -74.1117317,
            -74.1687504,
            -74.0875211,
            -74.0816143,
            -74.1249487,
            -74.0320319,
            -74.2060211,
            -74.08779,
            -74.0419463,
            -74.1647123,
            -74.0514931,
            -74.1094976,
            -74.0979656,
            -74.1219772,
            -74.1085538,
            -74.0644033
           ],
           "marker": {
            "color": "rgb(255, 0, 0)",
            "opacity": 0.7,
            "size": 8
           },
           "mode": "markers",
           "name": "Agents",
           "type": "scattermapbox"
          },
          {
           "lat": [
            4.618696212768555,
            4.66633415222168,
            4.630840301513672,
            4.69085168838501,
            4.572155952453613,
            4.679454803466797,
            4.762457847595215,
            4.526815891265869,
            4.604503631591797
           ],
           "lon": [
            -74.18632507324219,
            -74.01365661621094,
            -74.20370483398438,
            -74.0926742553711,
            -74.09808349609375,
            -74.10047912597656,
            -74.0682144165039,
            -74.08708190917969,
            -74.09539031982422
           ],
           "marker": {
            "color": "rgb(0, 0, 255)",
            "opacity": 0.7,
            "size": 8
           },
           "mode": "markers",
           "name": "Incidents",
           "type": "scattermapbox"
          }
         ]
        },
        {
         "data": [
          {
           "lat": [
            4.5814979,
            4.6146079,
            4.6291483,
            4.671685,
            4.6001947,
            4.6671547,
            4.6140617,
            4.6588421,
            4.6630583,
            4.6200628,
            4.5445542,
            4.7538383,
            4.586555,
            4.61641,
            4.6232533,
            4.6164362,
            4.6468112,
            4.6172472,
            4.681245,
            4.5959807,
            4.760475,
            4.6975177,
            4.6390433,
            4.595595,
            4.6213386,
            4.6526453,
            4.6332009,
            4.7047033,
            4.7731567,
            5.4884387,
            4.6977688,
            4.6781237,
            4.6117718,
            4.5853981,
            4.639689,
            4.5455581,
            4.5966783,
            4.6845734,
            4.6383183,
            4.5818567,
            4.7289235,
            4.6154487,
            4.5920041,
            4.6161517,
            4.5902421,
            4.714506,
            4.61838,
            4.5510916
           ],
           "lon": [
            -74.1172057,
            -74.1136839,
            -74.0894767,
            -74.0581783,
            -74.081373,
            -74.1289508,
            -74.110785,
            -74.1065611,
            -74.0610133,
            -74.1721331,
            -74.1192958,
            -74.0579717,
            -74.1999817,
            -74.0986667,
            -74.1948817,
            -74.1647154,
            -74.1687504,
            -74.1382986,
            -74.1204517,
            -74.0830674,
            -74.0437367,
            -74.1424667,
            -74.114935,
            -74.0733267,
            -74.0912479,
            -74.1137126,
            -74.1762165,
            -74.11375,
            -74.0411183,
            -73.4793392,
            -74.1414546,
            -74.1407629,
            -74.1060863,
            -74.062316,
            -74.1414292,
            -74.1384932,
            -74.15431,
            -74.1568335,
            -74.1415983,
            -74.0899767,
            -74.2656652,
            -74.1172057,
            -74.1410622,
            -74.0981,
            -74.1183068,
            -74.2232719,
            -74.1091305,
            -74.1476467
           ],
           "marker": {
            "color": "rgb(255, 0, 0)",
            "opacity": 0.7,
            "size": 8
           },
           "mode": "markers",
           "name": "Agents",
           "type": "scattermapbox"
          },
          {
           "lat": [
            4.661438465118408,
            4.513833045959473,
            4.603055000305176,
            4.581827163696289,
            4.580506324768066,
            4.807321548461914,
            4.757629871368408,
            4.64923620223999,
            4.597247123718262,
            4.579835414886475,
            4.66963005065918,
            4.577205181121826,
            4.65362548828125
           ],
           "lon": [
            -74.1157455444336,
            -74.11566925048828,
            -74.12114715576172,
            -74.08271789550781,
            -74.14226531982422,
            -74.03680419921875,
            -74.04517364501953,
            -74.12664031982422,
            -74.1793212890625,
            -74.1084976196289,
            -74.06632232666016,
            -74.11326599121094,
            -74.10334014892578
           ],
           "marker": {
            "color": "rgb(0, 0, 255)",
            "opacity": 0.7,
            "size": 8
           },
           "mode": "markers",
           "name": "Incidents",
           "type": "scattermapbox"
          }
         ]
        },
        {
         "data": [
          {
           "lat": [
            4.6975733,
            4.604308,
            4.6145853,
            4.5781797,
            4.7533967,
            4.5450367,
            4.5858783,
            4.6492167,
            4.5857283,
            4.5817353,
            4.5877282,
            4.5859667,
            4.6116797,
            4.5254865,
            5.4139478,
            4.6168305,
            4.633825,
            4.7467867,
            4.635249,
            4.590205,
            4.7846534,
            4.705332,
            4.5886517,
            4.5912262,
            4.6131717,
            4.5956024,
            4.6128257,
            4.616892,
            4.6164055,
            4.6665151,
            4.6332005,
            4.6845096,
            4.6301779,
            4.5946542,
            4.69471,
            4.6275033,
            4.7597623,
            4.617522,
            4.631785,
            4.6139567,
            4.5954645,
            4.591475,
            4.5929894,
            4.7597641,
            4.6716117,
            4.6048073,
            4.7607759,
            4.5856173,
            4.5582967,
            4.6058055,
            4.73052
           ],
           "lon": [
            -74.1421017,
            -74.161613,
            -74.1837914,
            -74.143056,
            -74.12418,
            -74.1209733,
            -74.1379467,
            -74.176955,
            -74.11035,
            -74.1282829,
            -74.190258,
            -74.061585,
            -74.1437003,
            -74.0873024,
            -73.4612217,
            -74.1094976,
            -74.079765,
            -74.0954683,
            -74.1381261,
            -74.1179567,
            -74.041521,
            -74.1069282,
            -74.1168387,
            -74.0793962,
            -74.1673208,
            -74.166823,
            -74.0705851,
            -74.1707398,
            -74.0977451,
            -74.0742565,
            -74.1762204,
            -74.1537022,
            -74.1390884,
            -74.0861187,
            -74.1694517,
            -74.0863867,
            -74.0448838,
            -74.0988525,
            -74.1533067,
            -74.1106983,
            -74.1674126,
            -74.1241417,
            -74.1356496,
            -74.0457635,
            -74.0584733,
            -74.1479364,
            -74.0447606,
            -74.1104517,
            -74.0956783,
            -74.1719858,
            -74.0500167
           ],
           "marker": {
            "color": "rgb(255, 0, 0)",
            "opacity": 0.7,
            "size": 8
           },
           "mode": "markers",
           "name": "Agents",
           "type": "scattermapbox"
          },
          {
           "lat": [
            4.735379695892334,
            4.787565231323242,
            4.719406127929688,
            4.6664204597473145,
            4.768012523651123,
            4.578948020935059,
            4.5771074295043945,
            4.617066860198975,
            4.625959396362305,
            4.696834564208984
           ],
           "lon": [
            -74.08536529541016,
            -74.04070281982422,
            -74.1196060180664,
            -74.13123321533203,
            -74.04338836669922,
            -74.13465118408203,
            -74.12981414794922,
            -74.15277099609375,
            -74.07080078125,
            -74.03150177001953
           ],
           "marker": {
            "color": "rgb(0, 0, 255)",
            "opacity": 0.7,
            "size": 8
           },
           "mode": "markers",
           "name": "Incidents",
           "type": "scattermapbox"
          }
         ]
        },
        {
         "data": [
          {
           "lat": [
            4.6101717,
            4.6042938,
            4.649565,
            4.6164974,
            4.587375,
            4.5956812,
            4.73052,
            4.5779142,
            4.5704517,
            4.6139567,
            4.6200592,
            4.5808533,
            4.6697166,
            4.6276633,
            4.5809001,
            4.5153633,
            4.5779183,
            4.613655,
            4.7538383,
            4.5147317,
            4.6164351,
            4.5804616,
            4.694645,
            4.6498576,
            4.6187417,
            4.73335,
            4.6193122,
            4.5771941,
            4.6146119,
            4.7532533,
            4.5932956,
            4.6095291,
            4.6487258,
            4.6512995,
            4.7288749,
            4.5637417,
            4.761094,
            4.6968783,
            4.7357798,
            4.6022767,
            4.5794684,
            4.628208,
            4.6720918,
            4.6185667,
            4.6261633,
            4.7155367,
            4.7227867,
            4.5865908,
            4.5850964,
            4.7533074,
            4.6324917,
            4.6042794,
            4.633905
           ],
           "lon": [
            -74.1385533,
            -74.106194,
            -74.09544,
            -74.0977953,
            -74.12838,
            -74.1109658,
            -74.0500167,
            -74.0966169,
            -74.1255633,
            -74.1106983,
            -74.1721381,
            -74.1682056,
            -74.0664664,
            -74.0987183,
            -74.1183068,
            -74.1165467,
            -74.0994767,
            -74.110895,
            -74.0579717,
            -74.1174717,
            -74.164716,
            -74.0787438,
            -74.1695233,
            -74.1658405,
            -74.1024683,
            -74.0439533,
            -74.0871675,
            -74.1506937,
            -74.113676,
            -74.0450367,
            -74.1585483,
            -74.1172057,
            -74.1100452,
            -74.164311,
            -74.2812261,
            -74.1077217,
            -74.0922029,
            -74.1413267,
            -74.1006879,
            -74.06784,
            -74.1124318,
            -74.1164716,
            -74.0167483,
            -74.1019917,
            -74.0884455,
            -74.0780567,
            -74.1219167,
            -74.1996621,
            -74.109376,
            -74.0457307,
            -74.1350483,
            -74.1303062,
            -74.0899913
           ],
           "marker": {
            "color": "rgb(255, 0, 0)",
            "opacity": 0.7,
            "size": 8
           },
           "mode": "markers",
           "name": "Agents",
           "type": "scattermapbox"
          },
          {
           "lat": [
            4.595442771911621,
            4.6309967041015625,
            4.73740291595459,
            4.50656270980835,
            4.49882173538208,
            4.595647811889648,
            4.637125015258789,
            4.538775444030762,
            4.6595377922058105,
            4.77665901184082,
            4.578693866729736,
            4.6970534324646,
            4.640368938446045,
            4.5017924308776855,
            4.570099353790283
           ],
           "lon": [
            -74.14109802246094,
            -74.16719818115234,
            -74.04852294921875,
            -74.10626983642578,
            -74.1031494140625,
            -74.1618881225586,
            -74.13867950439453,
            -74.13209533691406,
            -74.13594818115234,
            -74.04251861572266,
            -74.13567352294922,
            -74.1146011352539,
            -74.15589141845703,
            -74.11334228515625,
            -74.12334442138672
           ],
           "marker": {
            "color": "rgb(0, 0, 255)",
            "opacity": 0.7,
            "size": 8
           },
           "mode": "markers",
           "name": "Incidents",
           "type": "scattermapbox"
          }
         ]
        },
        {
         "data": [
          {
           "lat": [
            4.6781273,
            4.683977,
            4.6165033,
            4.6781502,
            4.5877304,
            4.6178156,
            4.5640327,
            4.634581,
            4.6164222,
            4.7556533,
            4.616855,
            4.6102211,
            4.585141,
            4.5786967,
            4.603202,
            4.6150227,
            4.5971193,
            4.581515,
            4.5947293,
            4.5439967,
            4.7053064,
            4.6701266,
            4.7453661,
            4.536865,
            4.6183968,
            4.6274217,
            4.7503098,
            4.5982914,
            4.5779148,
            4.5694217,
            4.6203844,
            4.7090174,
            4.5817667,
            4.58522,
            4.73489,
            4.67217,
            4.49884,
            4.6317442,
            4.5967811,
            4.6727431,
            4.5854722,
            4.6106874,
            4.5853889,
            4.6526417,
            4.606697,
            4.6596788,
            4.7752017,
            4.5949837,
            4.5805355,
            4.6179483,
            4.6512995,
            4.587375,
            4.6154082,
            4.6200617,
            4.6662613,
            4.7532916,
            4.7497067,
            4.5849088,
            4.6170367,
            4.6655817,
            4.5893055,
            4.5932817,
            4.58598,
            4.6231527,
            4.5808493,
            4.5455581,
            4.6347283,
            4.66275,
            4.6594751,
            4.7532964,
            4.5953012,
            4.6095291
           ],
           "lon": [
            -74.1425205,
            -74.0970894,
            -74.0982167,
            -74.140792,
            -74.1902575,
            -74.1116999,
            -74.1439563,
            -74.1634477,
            -74.0978311,
            -74.0453617,
            -74.09842,
            -74.1385922,
            -74.1094159,
            -74.12941,
            -74.1002127,
            -74.1050654,
            -74.0937369,
            -74.1256617,
            -74.0861213,
            -74.1355633,
            -74.105827,
            -74.0551648,
            -74.09665,
            -74.13855,
            -74.1098647,
            -74.0903817,
            -74.0432875,
            -74.1805795,
            -74.0966259,
            -74.12357,
            -74.1696859,
            -74.0531635,
            -74.1282928,
            -74.1369667,
            -74.0856833,
            -74.0700417,
            -74.1033767,
            -74.0800397,
            -74.0771935,
            -74.0197931,
            -74.1103268,
            -74.2093114,
            -74.0623474,
            -74.1131033,
            -74.1117829,
            -74.0617737,
            -74.042925,
            -74.1458371,
            -74.1986721,
            -74.11122,
            -74.164311,
            -74.12838,
            -74.1017892,
            -74.1721378,
            -74.1307859,
            -74.0450962,
            -74.04741,
            -74.133181,
            -74.1115617,
            -74.0568383,
            -74.1203986,
            -74.158591,
            -74.13377,
            -74.0930671,
            -74.1682032,
            -74.1384932,
            -74.16241,
            -74.0626217,
            -74.0618945,
            -74.04509,
            -74.0792799,
            -74.1172057
           ],
           "marker": {
            "color": "rgb(255, 0, 0)",
            "opacity": 0.7,
            "size": 8
           },
           "mode": "markers",
           "name": "Agents",
           "type": "scattermapbox"
          },
          {
           "lat": [
            4.579400062561035,
            4.642887592315674,
            4.665625095367432,
            4.533382415771484,
            4.719387531280518,
            4.619975090026856,
            4.634762763977051,
            4.629268169403076,
            4.590093612670898,
            4.710346698760986,
            4.687553882598877,
            4.628320693969727,
            4.576735496520996,
            4.638096332550049,
            4.685914039611816
           ],
           "lon": [
            -74.0919189453125,
            -74.0581283569336,
            -74.0608139038086,
            -74.0827865600586,
            -74.11962890625,
            -74.1019515991211,
            -74.15655517578125,
            -74.12784576416016,
            -74.10823822021484,
            -74.07695770263672,
            -74.09488677978516,
            -74.17056274414062,
            -74.13065338134766,
            -74.2052993774414,
            -74.03704071044922
           ],
           "marker": {
            "color": "rgb(0, 0, 255)",
            "opacity": 0.7,
            "size": 8
           },
           "mode": "markers",
           "name": "Incidents",
           "type": "scattermapbox"
          }
         ]
        },
        {
         "data": [
          {
           "lat": [
            4.610075,
            4.6299583,
            4.5760538,
            4.6302952,
            4.6042938,
            4.6063529,
            4.6099483,
            4.58904,
            4.643,
            4.5683694,
            4.5932819,
            4.6996147,
            4.6201767,
            4.6450563,
            4.61948,
            4.6430396,
            4.6441851,
            4.5966016,
            4.6709283,
            4.6155441,
            4.6158783,
            4.6291533,
            4.4984217,
            4.7682483,
            4.5808451,
            4.7453661,
            4.6183968,
            4.56726,
            4.5944691,
            4.7319633,
            4.583819,
            4.6183942,
            4.6327333,
            4.6153467,
            4.6063167,
            4.5713067,
            4.5601358,
            4.61769,
            4.6066715,
            4.683977,
            4.6273663,
            4.6627707,
            4.5761168,
            4.6330093,
            4.5571217,
            4.5009637,
            4.793085,
            4.7532871,
            4.597116,
            4.6324917,
            4.580465,
            4.5520634,
            4.648945,
            4.6996378,
            4.6039883,
            4.5017281,
            4.6185605,
            4.7083192,
            4.5771941,
            4.6951833,
            4.615815,
            4.5818409,
            4.7533167,
            4.7046383,
            4.7698467,
            4.5569175,
            4.615015,
            4.5857717,
            4.7532325,
            4.6115991,
            4.6641344,
            4.5790939,
            4.5751669,
            4.6363983,
            4.6512995,
            4.6058307
           ],
           "lon": [
            -74.168585,
            -74.111375,
            -74.0958089,
            -74.1395942,
            -74.106194,
            -74.124104,
            -74.1139733,
            -74.0806267,
            -74.1740717,
            -74.0891172,
            -74.1585439,
            -74.1053517,
            -74.08705,
            -74.1475679,
            -74.087775,
            -74.0566334,
            -74.1206477,
            -74.1802577,
            -74.0707767,
            -74.1171454,
            -74.1101917,
            -74.1258617,
            -74.103005,
            -74.043395,
            -74.1681934,
            -74.09665,
            -74.1098647,
            -74.15171,
            -74.0761664,
            -74.067675,
            -74.1234454,
            -74.1091832,
            -74.0642167,
            -74.109945,
            -74.114915,
            -74.1244933,
            -74.0975911,
            -74.1111567,
            -74.111783,
            -74.0970894,
            -74.1069282,
            -74.0625847,
            -74.1546406,
            -74.067648,
            -74.1224967,
            -74.1054599,
            -74.038435,
            -74.0450843,
            -74.0937428,
            -74.1350483,
            -74.0787459,
            -74.1094976,
            -74.12671,
            -74.1036245,
            -74.110095,
            -74.1134895,
            -74.1205341,
            -74.2147489,
            -74.1506937,
            -74.14196,
            -74.1072733,
            -74.1282356,
            -74.0456583,
            -74.1134767,
            -74.032735,
            -74.1074158,
            -74.0932483,
            -74.110865,
            -74.0456459,
            -74.1223428,
            -74.0522274,
            -74.1072952,
            -74.1107047,
            -74.1808864,
            -74.164311,
            -74.1719975
           ],
           "marker": {
            "color": "rgb(255, 0, 0)",
            "opacity": 0.7,
            "size": 8
           },
           "mode": "markers",
           "name": "Agents",
           "type": "scattermapbox"
          },
          {
           "lat": [
            4.71732759475708,
            4.751465797424316,
            4.667107105255127,
            4.579406261444092,
            4.653269767761231,
            4.7071533203125,
            4.6959662437438965,
            4.646115303039551,
            4.615696907043457,
            4.625730037689209,
            4.604852676391602,
            4.623661518096924,
            4.73216724395752,
            4.680020332336426,
            4.608146190643311,
            4.59554386138916,
            4.629444122314453,
            4.7183451652526855,
            4.7333574295043945,
            4.743048667907715,
            4.566404819488525,
            4.711905956268311,
            4.631433963775635,
            4.696288585662842
           ],
           "lon": [
            -74.14033508300781,
            -74.04580688476562,
            -74.13591766357422,
            -74.1431884765625,
            -74.142822265625,
            -74.13771057128906,
            -74.08802032470703,
            -74.13013458251953,
            -74.08832550048828,
            -74.09171295166016,
            -74.18804931640625,
            -74.09359741210938,
            -74.04108428955078,
            -74.08765411376953,
            -74.08084869384766,
            -74.16188049316406,
            -74.19192504882812,
            -74.04695129394531,
            -74.09662628173828,
            -74.10977172851562,
            -74.1292953491211,
            -74.078369140625,
            -74.16676330566406,
            -74.02896881103516
           ],
           "marker": {
            "color": "rgb(0, 0, 255)",
            "opacity": 0.7,
            "size": 8
           },
           "mode": "markers",
           "name": "Incidents",
           "type": "scattermapbox"
          }
         ]
        },
        {
         "data": [
          {
           "lat": [
            4.615275,
            4.5965607,
            4.585415,
            4.6478383,
            4.6222376,
            4.5852642,
            4.7503821,
            4.6326702,
            4.6162583,
            4.7139077,
            4.6126117,
            4.6204928,
            4.6175375,
            4.6158275,
            4.6178156,
            4.7019773,
            4.6500617,
            4.6291933,
            4.6391912,
            4.6185605,
            4.6324917,
            4.6662613,
            4.5017523,
            4.7321467,
            4.5481309,
            4.6441411,
            4.6152917,
            4.5601358,
            4.6155441,
            4.6117755,
            4.5779483,
            4.5480429,
            4.5089901,
            4.606697,
            4.6291717,
            4.6099857,
            4.615584,
            4.609095,
            4.5781978,
            4.61388,
            4.5665726,
            4.6338283,
            4.6183968,
            4.6027091,
            4.613655,
            4.6494433,
            4.7453661,
            4.6284449,
            4.5907299,
            4.6281308,
            4.683977,
            4.6160183,
            4.5974767,
            4.72323,
            4.65324
           ],
           "lon": [
            -74.09653,
            -74.1334299,
            -74.087595,
            -74.0786183,
            -74.1006879,
            -74.132254,
            -74.0430743,
            -74.148035,
            -74.0984767,
            -74.1171966,
            -74.0918733,
            -74.119775,
            -74.1131682,
            -74.1073428,
            -74.1116999,
            -74.1304963,
            -74.0618217,
            -74.12425,
            -74.0654452,
            -74.1205341,
            -74.1350483,
            -74.1307859,
            -74.1132464,
            -74.049735,
            -74.1087608,
            -74.0997837,
            -74.1056,
            -74.0975911,
            -74.1171454,
            -74.1060889,
            -74.1116999,
            -74.1105988,
            -74.1168387,
            -74.1117829,
            -74.1235567,
            -74.1104126,
            -74.1151157,
            -74.1084683,
            -74.1430202,
            -74.110525,
            -74.1164977,
            -74.1099283,
            -74.1098647,
            -74.1220614,
            -74.110895,
            -74.07997,
            -74.09665,
            -74.0860042,
            -74.092207,
            -74.0855749,
            -74.0970894,
            -74.0985417,
            -74.0793933,
            -74.051265,
            -74.050658
           ],
           "marker": {
            "color": "rgb(255, 0, 0)",
            "opacity": 0.7,
            "size": 8
           },
           "mode": "markers",
           "name": "Agents",
           "type": "scattermapbox"
          },
          {
           "lat": [
            4.633738040924072,
            4.6656575202941895,
            4.708113670349121,
            4.624306678771973,
            4.656266212463379,
            4.618651866912842,
            4.687875747680664,
            4.611748695373535,
            4.645324230194092,
            4.698456764221191,
            4.738367080688477,
            4.595386505126953,
            4.578544616699219,
            4.646657466888428,
            4.650595664978027,
            4.647689342498779,
            4.62821102142334
           ],
           "lon": [
            -74.1375503540039,
            -74.13054656982422,
            -74.10468292236328,
            -74.08311462402344,
            -74.08826446533203,
            -74.10604858398438,
            -74.14541625976562,
            -74.16132354736328,
            -74.06123352050781,
            -74.05972290039062,
            -74.05194854736328,
            -74.1446762084961,
            -74.10614776611328,
            -74.17298889160156,
            -74.07051086425781,
            -74.1642074584961,
            -74.2024917602539
           ],
           "marker": {
            "color": "rgb(0, 0, 255)",
            "opacity": 0.7,
            "size": 8
           },
           "mode": "markers",
           "name": "Incidents",
           "type": "scattermapbox"
          }
         ]
        },
        {
         "data": [
          {
           "lat": [
            4.6255967,
            4.7375905,
            4.8772434,
            4.6203844,
            4.5738665,
            4.7094835,
            4.737635,
            4.6106874,
            4.5942812,
            4.5480429,
            4.7181933,
            4.6307712,
            4.6042938,
            4.5981143,
            4.598692,
            4.6224128,
            4.62252,
            4.6020035,
            4.6101133,
            4.608594,
            4.7181333,
            4.6689295,
            4.5853017,
            4.6518684,
            4.6498617,
            4.5884833,
            4.6752858,
            4.6418601,
            4.69338,
            4.713882,
            4.695283,
            4.5725896,
            4.5577488,
            4.6529467,
            4.5992851,
            4.6787917,
            4.5752613,
            4.69468,
            4.7440683,
            4.4997471,
            4.604701,
            4.6201105,
            4.5663336,
            4.6583469,
            4.61778,
            4.7534617,
            4.7640118,
            4.699467,
            4.6169051,
            4.6048183,
            4.614295,
            4.4998417,
            4.6112467,
            4.4980833,
            4.7536483,
            4.658831,
            4.55411,
            4.5848997,
            4.5464683,
            4.6591217,
            4.59902,
            4.5668367,
            4.6492183,
            4.6324917,
            4.6210093,
            4.6156466,
            4.6262317,
            4.6155517,
            4.7046868,
            4.5983867,
            4.670275,
            4.501005,
            4.6146817,
            4.6194683,
            4.6190523,
            4.5037502
           ],
           "lon": [
            -74.1818917,
            -74.0998077,
            -74.1352384,
            -74.1696859,
            -74.1503911,
            -74.1109658,
            -74.02274,
            -74.2093114,
            -74.0761027,
            -74.1105988,
            -74.0475883,
            -74.0991542,
            -74.106194,
            -74.0685331,
            -74.1887659,
            -74.1219772,
            -74.19293,
            -74.0793708,
            -74.1174333,
            -74.1091533,
            -74.0476167,
            -74.0977513,
            -74.13743,
            -74.0610393,
            -74.0617567,
            -74.116035,
            -74.0282633,
            -74.1249476,
            -74.1073633,
            -74.1171809,
            -74.0294282,
            -74.092734,
            -74.114207,
            -74.1134333,
            -74.1050928,
            -74.0559967,
            -74.1361866,
            -74.16959,
            -74.0870917,
            -74.1013017,
            -74.1880183,
            -74.08599,
            -74.1294221,
            -74.0581021,
            -74.1113783,
            -74.044945,
            -74.0275877,
            -74.0962829,
            -74.1707179,
            -74.120495,
            -74.1136817,
            -74.1014583,
            -74.1610383,
            -74.1028967,
            -74.044865,
            -74.0575705,
            -74.0847275,
            -74.1331428,
            -74.1373583,
            -74.1304767,
            -74.0746267,
            -74.1506033,
            -74.0629183,
            -74.1350483,
            -74.1875572,
            -74.0884497,
            -74.099685,
            -74.0884177,
            -74.1036668,
            -74.0800017,
            -74.1425302,
            -74.1043883,
            -74.10813,
            -74.0955183,
            -74.1165764,
            -74.1049649
           ],
           "marker": {
            "color": "rgb(255, 0, 0)",
            "opacity": 0.7,
            "size": 8
           },
           "mode": "markers",
           "name": "Agents",
           "type": "scattermapbox"
          },
          {
           "lat": [
            4.615567684173584,
            4.749125957489014,
            4.589162826538086,
            4.618958950042725,
            4.595011234283447,
            4.643462657928467,
            4.578937530517578,
            4.583502292633057,
            4.564809799194336,
            4.675656318664551,
            4.661743640899658,
            4.626443386077881,
            4.584422111511231,
            4.686480522155762,
            4.680356502532959,
            4.694759368896484,
            4.62001895904541,
            4.674635887145996,
            4.742080211639404,
            4.572216033935547
           ],
           "lon": [
            -74.187255859375,
            -74.10057830810547,
            -74.10900115966797,
            -74.14481353759766,
            -74.14762878417969,
            -74.13732147216797,
            -74.1205825805664,
            -74.11334228515625,
            -74.12882995605469,
            -74.15107727050781,
            -74.13790130615234,
            -74.12286376953125,
            -74.07255554199219,
            -74.10216522216797,
            -74.10017395019531,
            -74.08782958984375,
            -74.16114807128906,
            -74.14395141601562,
            -74.0855712890625,
            -74.15109252929688
           ],
           "marker": {
            "color": "rgb(0, 0, 255)",
            "opacity": 0.7,
            "size": 8
           },
           "mode": "markers",
           "name": "Incidents",
           "type": "scattermapbox"
          }
         ]
        },
        {
         "data": [
          {
           "lat": [
            4.50037,
            4.613615,
            4.4790333,
            4.6403218,
            4.6108776,
            4.5901467,
            4.5989783,
            4.6085264,
            4.6140983,
            4.584945,
            4.5146667,
            4.606478,
            4.6042938,
            4.6183968,
            4.7319623,
            4.6164292,
            4.560075,
            4.5825787,
            4.6551379,
            4.6704144,
            4.6502287,
            4.5951033,
            4.6056487,
            4.6689295,
            4.5695022,
            4.6884715,
            4.6198667,
            4.567745,
            4.7138651,
            4.6196167,
            4.7453661,
            4.5980351,
            4.7854817,
            4.5945804,
            4.7055868,
            4.6723087,
            4.60896,
            4.6279734,
            4.6087358,
            4.6803283,
            4.6200647,
            4.5520634,
            4.6953233,
            4.6195169,
            4.6992321,
            4.7288871,
            4.585355,
            4.5941133,
            4.7367183,
            4.675387,
            4.6544033,
            4.6138824,
            4.7010943,
            4.6534779,
            4.6752858,
            4.598835,
            4.6063467,
            4.7369567,
            4.5929954,
            4.645015,
            4.6217533,
            4.6092967,
            4.486435,
            4.583505,
            4.5725896,
            4.6484633,
            4.73987,
            4.5870817,
            4.600864,
            4.565755,
            4.6974583,
            4.599028
           ],
           "lon": [
            -74.1059933,
            -74.1046333,
            -74.0948933,
            -74.1555441,
            -74.0932296,
            -74.1244833,
            -74.0793283,
            -74.1072382,
            -74.1076017,
            -74.1379217,
            -74.1161287,
            -74.0836847,
            -74.106194,
            -74.1098647,
            -74.0683485,
            -74.0987804,
            -74.2430667,
            -74.1295385,
            -74.0626928,
            -74.1526177,
            -74.0623373,
            -74.1447917,
            -74.1205989,
            -74.0977513,
            -74.1018413,
            -74.0785167,
            -74.0867217,
            -74.1475267,
            -74.1171721,
            -74.0869883,
            -74.09665,
            -74.0793271,
            -74.028085,
            -74.1470167,
            -74.0488641,
            -74.0489754,
            -74.108555,
            -74.1133698,
            -74.1091003,
            -74.038465,
            -74.1721336,
            -74.1094976,
            -74.1400283,
            -74.0874594,
            -74.1042404,
            -74.2812572,
            -74.072255,
            -74.076355,
            -74.02482,
            -74.0675231,
            -74.0630583,
            -74.1168387,
            -74.0456182,
            -74.0632423,
            -74.0282633,
            -74.07938,
            -74.0837433,
            -74.079885,
            -74.135658,
            -74.0788567,
            -74.1229217,
            -74.1029067,
            -74.11962,
            -74.1579317,
            -74.092734,
            -74.097275,
            -74.049695,
            -74.1351483,
            -74.0720158,
            -74.1292083,
            -74.1413517,
            -74.0801304
           ],
           "marker": {
            "color": "rgb(255, 0, 0)",
            "opacity": 0.7,
            "size": 8
           },
           "mode": "markers",
           "name": "Agents",
           "type": "scattermapbox"
          },
          {
           "lat": [
            4.719904899597168,
            4.719904899597168,
            4.575785160064697,
            4.632702350616455,
            4.743387699127197,
            4.618695259094238,
            4.57632303237915,
            4.618259906768799,
            4.746356010437012,
            4.621035099029541,
            4.556220054626465,
            4.628559589385986,
            4.611050605773926,
            4.818822860717773,
            4.728018760681152,
            4.592953681945801,
            4.759010314941406,
            4.686472415924072,
            4.800594806671143,
            4.656580924987793,
            4.7452712059021,
            4.595497131347656,
            4.609916687011719,
            4.674019813537598
           ],
           "lon": [
            -74.03254699707031,
            -74.03254699707031,
            -74.10050964355469,
            -74.06635284423828,
            -74.02052307128906,
            -74.13970947265625,
            -74.1174087524414,
            -74.14688873291016,
            -74.0225601196289,
            -74.16609191894531,
            -74.1355972290039,
            -74.1854248046875,
            -74.08479309082031,
            -74.03104400634766,
            -74.10078430175781,
            -74.0947036743164,
            -74.06364440917969,
            -74.14466094970703,
            -74.03040313720703,
            -74.0698471069336,
            -74.09471893310547,
            -74.14016723632812,
            -74.19445037841797,
            -74.11693572998047
           ],
           "marker": {
            "color": "rgb(0, 0, 255)",
            "opacity": 0.7,
            "size": 8
           },
           "mode": "markers",
           "name": "Incidents",
           "type": "scattermapbox"
          }
         ]
        },
        {
         "data": [
          {
           "lat": [
            4.6644069,
            4.6065054,
            4.585355,
            4.5804923,
            4.562035,
            4.651281,
            4.5618648,
            4.6135434,
            4.5852762,
            4.712078,
            4.6178156,
            4.617345,
            4.6955757,
            4.6254071,
            4.5850073,
            4.6695211,
            4.6137117,
            4.5769543,
            4.6544083,
            4.5866283,
            4.6006238,
            4.6089283,
            4.6207392,
            4.634581,
            4.5992851,
            4.7420965,
            4.5944883,
            4.6147633,
            4.6133187,
            4.5601567,
            4.7019914,
            4.5853956,
            4.6106874,
            4.596674,
            4.638905,
            4.6812383,
            4.6871133,
            4.5673167,
            4.6215248,
            4.6164071,
            4.4856717,
            4.6484167,
            4.5942366,
            4.628225,
            4.5949933,
            4.6991379,
            4.65553,
            4.7492721,
            4.6187153,
            4.61418,
            4.55604,
            4.5822933,
            4.7173567,
            4.5895,
            4.57516,
            4.6296215,
            4.6188533,
            4.4911617,
            4.6474683,
            4.6770667,
            4.6729899
           ],
           "lon": [
            -74.1315199,
            -74.0836975,
            -74.072255,
            -74.1305181,
            -74.1103183,
            -74.1643081,
            -74.1108188,
            -74.1079943,
            -74.0722333,
            -74.1382185,
            -74.1116999,
            -74.1058833,
            -74.139579,
            -74.1575764,
            -74.0797633,
            -74.1460944,
            -74.1109833,
            -74.0952323,
            -74.063075,
            -74.1996467,
            -74.1777584,
            -74.108575,
            -74.0877536,
            -74.1634477,
            -74.1050928,
            -74.0904095,
            -74.0763683,
            -74.104985,
            -74.1984713,
            -74.0975583,
            -74.1305263,
            -74.0623259,
            -74.2093114,
            -74.1135352,
            -74.0791783,
            -74.1039916,
            -74.159495,
            -74.1514767,
            -74.137279,
            -74.0978411,
            -74.1198,
            -74.09746,
            -74.0762373,
            -74.135985,
            -74.158645,
            -74.0955488,
            -74.0624017,
            -74.039374,
            -74.1238124,
            -74.113495,
            -74.13545,
            -74.1220133,
            -74.0314283,
            -74.1223033,
            -74.12079,
            -74.1373921,
            -74.0881717,
            -74.1189767,
            -74.1489183,
            -74.035135,
            -74.0845358
           ],
           "marker": {
            "color": "rgb(255, 0, 0)",
            "opacity": 0.7,
            "size": 8
           },
           "mode": "markers",
           "name": "Agents",
           "type": "scattermapbox"
          },
          {
           "lat": [
            4.618958950042725,
            4.614597320556641,
            4.58519983291626,
            4.61340856552124,
            4.69279146194458,
            4.593562126159668,
            4.692584991455078,
            4.596457004547119,
            4.69476318359375,
            4.713223457336426,
            4.571990489959717,
            4.751033306121826,
            4.562366485595703,
            4.728747367858887,
            4.572011947631836,
            4.562709808349609,
            4.595386505126953,
            4.604137897491455,
            4.590696811676025,
            4.643787384033203,
            4.543036937713623
           ],
           "lon": [
            -74.14481353759766,
            -74.15567779541016,
            -74.09419250488281,
            -74.20016479492188,
            -74.16168212890625,
            -74.1242904663086,
            -74.14967346191406,
            -74.17460632324219,
            -74.09830474853516,
            -74.11521911621094,
            -74.09208679199219,
            -74.10912322998047,
            -74.09661865234375,
            -74.08840942382812,
            -74.09793853759766,
            -74.14334106445312,
            -74.1446762084961,
            -74.12389373779297,
            -74.10433959960938,
            -74.18756103515625,
            -74.11495971679688
           ],
           "marker": {
            "color": "rgb(0, 0, 255)",
            "opacity": 0.7,
            "size": 8
           },
           "mode": "markers",
           "name": "Incidents",
           "type": "scattermapbox"
          }
         ]
        },
        {
         "data": [
          {
           "lat": [
            4.7493467,
            4.5035833,
            4.5618648,
            4.4857817,
            4.7562617,
            4.6180017,
            4.7047283,
            4.584065,
            4.6960483,
            4.6081739,
            4.6389017,
            4.7138697,
            4.716095,
            4.7228435,
            4.6002416,
            4.5853934,
            4.65024,
            4.5965275,
            4.6461267,
            4.6138824,
            4.6601113,
            4.598735,
            4.6085872,
            4.6130467,
            4.764295,
            4.6502267,
            4.62149,
            4.6099957,
            4.6167683,
            4.6164489,
            4.6282416,
            4.5797317,
            4.5945533,
            4.8192132,
            4.6492067,
            5.0604517,
            4.6161567,
            4.6741367,
            4.601745,
            4.5786208,
            4.6995732,
            4.6682283,
            4.8257883,
            4.61552
           ],
           "lon": [
            -74.0939717,
            -74.1174065,
            -74.1108188,
            -74.1200517,
            -74.02498,
            -74.087475,
            -74.1137567,
            -74.157682,
            -74.07311,
            -74.1066061,
            -74.1150333,
            -74.1171729,
            -74.02862,
            -74.0506878,
            -74.188399,
            -74.0623338,
            -74.0954017,
            -74.133379,
            -74.130715,
            -74.1168387,
            -74.05312,
            -74.0863883,
            -74.1091191,
            -74.0927333,
            -74.0274767,
            -74.06201,
            -74.091118,
            -74.1104071,
            -74.0993817,
            -74.1647121,
            -74.1179398,
            -74.1170083,
            -74.07621,
            -74.0349695,
            -74.1768583,
            -73.9932017,
            -74.098225,
            -74.0372233,
            -74.10262,
            -74.1139023,
            -74.1142693,
            -74.14886,
            -74.03465,
            -74.10537
           ],
           "marker": {
            "color": "rgb(255, 0, 0)",
            "opacity": 0.7,
            "size": 8
           },
           "mode": "markers",
           "name": "Agents",
           "type": "scattermapbox"
          },
          {
           "lat": [
            4.759984493255615,
            4.673806190490723,
            4.547527313232422,
            4.755641937255859,
            4.753592491149902,
            4.607078075408936,
            4.714132785797119,
            4.714132785797119,
            4.694306373596191,
            4.5967559814453125,
            4.652578353881836,
            4.602137088775635,
            4.618695259094238,
            4.645260810852051,
            4.758481979370117,
            4.670402526855469,
            4.628791332244873,
            4.70842981338501,
            4.589547157287598,
            4.716589450836182,
            4.4678730964660645
           ],
           "lon": [
            -74.0933609008789,
            -74.07994842529297,
            -74.017578125,
            -74.1032485961914,
            -74.0899658203125,
            -74.0691146850586,
            -74.14131164550781,
            -74.14131164550781,
            -74.09136199951172,
            -74.17938995361328,
            -74.12390899658203,
            -74.12923431396484,
            -74.13970947265625,
            -74.15746307373047,
            -74.03318786621094,
            -74.11463928222656,
            -74.11813354492188,
            -74.0326156616211,
            -74.09142303466797,
            -74.11772155761719,
            -74.15286254882812
           ],
           "marker": {
            "color": "rgb(0, 0, 255)",
            "opacity": 0.7,
            "size": 8
           },
           "mode": "markers",
           "name": "Incidents",
           "type": "scattermapbox"
          }
         ]
        },
        {
         "data": [
          {
           "lat": [
            4.6968883,
            5.06041,
            4.5759759,
            4.696575,
            4.6134067,
            4.5975235,
            4.5651018,
            4.598675,
            4.7408459,
            4.5840434,
            4.6224128,
            4.6058162,
            4.596155,
            4.5858467,
            4.693895,
            4.4857583,
            4.6046196,
            4.4788345,
            4.7675033,
            4.5970872,
            4.500585,
            4.5853989,
            4.652977,
            4.5982767,
            4.6146142,
            4.6287032,
            4.6468284,
            4.6523346,
            4.6702683,
            4.6326702,
            4.6200567,
            4.586195,
            4.6742483,
            4.6492017,
            4.5808451,
            4.580102,
            4.6156333,
            4.62326,
            4.6225317,
            4.6884757,
            4.6169126,
            4.5846217,
            4.575199,
            4.6020533,
            4.580905,
            4.5858833,
            4.6466267,
            4.5993574,
            4.6163933,
            4.608075,
            4.6729417,
            4.578505,
            4.6626257,
            4.6163183,
            4.5916733,
            4.591705,
            4.7288941,
            4.7360813,
            4.610016,
            4.6923017,
            4.5800783,
            4.5923859,
            4.5619083,
            4.6625433,
            4.5481353,
            4.5953368,
            4.70541,
            4.6094318,
            4.629313,
            4.6486417,
            4.5930298,
            4.5875667,
            4.7645817
           ],
           "lon": [
            -74.1414117,
            -73.9933133,
            -74.1545246,
            -74.1180967,
            -74.111,
            -74.1765424,
            -74.1080293,
            -74.1249967,
            -74.0476212,
            -74.133355,
            -74.1219772,
            -74.1719842,
            -74.1580517,
            -74.1337567,
            -74.1203583,
            -74.1201833,
            -74.161613,
            -74.0952208,
            -74.0267883,
            -74.1789737,
            -74.11709,
            -74.0623073,
            -74.1091305,
            -74.0791017,
            -74.1136728,
            -74.1381261,
            -74.1687708,
            -74.0957967,
            -74.1145568,
            -74.148035,
            -74.172136,
            -74.1357733,
            -74.0819083,
            -74.17741,
            -74.1681934,
            -74.1919479,
            -74.1691517,
            -74.1946817,
            -74.1928433,
            -74.0785563,
            -74.1707046,
            -74.0885383,
            -74.1107045,
            -74.1393383,
            -74.2110433,
            -74.1107667,
            -74.097915,
            -74.1051744,
            -74.098505,
            -74.0956833,
            -74.0379983,
            -74.1293783,
            -74.0626725,
            -74.0984583,
            -74.1238683,
            -74.0705783,
            -74.281241,
            -74.2648553,
            -74.1419984,
            -74.0658733,
            -74.112475,
            -74.0893082,
            -74.0983683,
            -74.0587499,
            -74.1087749,
            -74.0768025,
            -74.1073535,
            -74.1814277,
            -74.1352374,
            -74.0619867,
            -74.1414683,
            -74.1226617,
            -74.02782
           ],
           "marker": {
            "color": "rgb(255, 0, 0)",
            "opacity": 0.7,
            "size": 8
           },
           "mode": "markers",
           "name": "Agents",
           "type": "scattermapbox"
          },
          {
           "lat": [
            4.818822860717773,
            4.595386505126953,
            4.72093391418457,
            4.613033771514893,
            4.622215747833252,
            4.508086681365967,
            4.508086681365967,
            4.74721622467041,
            4.639347553253174,
            4.673806190490723,
            4.640921115875244,
            4.629860877990723,
            4.578330993652344,
            4.575625419616699,
            4.748134613037109,
            4.539846420288086,
            4.620584964752197,
            4.733658313751221
           ],
           "lon": [
            -74.03104400634766,
            -74.1446762084961,
            -74.12603759765625,
            -74.07688903808594,
            -74.11031341552734,
            -74.10582733154297,
            -74.10582733154297,
            -74.0929946899414,
            -74.13587188720703,
            -74.07994842529297,
            -74.15585327148438,
            -74.18824768066406,
            -74.09806060791016,
            -74.0945816040039,
            -74.10985565185547,
            -74.08381652832031,
            -74.1253662109375,
            -74.01908111572266
           ],
           "marker": {
            "color": "rgb(0, 0, 255)",
            "opacity": 0.7,
            "size": 8
           },
           "mode": "markers",
           "name": "Incidents",
           "type": "scattermapbox"
          }
         ]
        },
        {
         "data": [
          {
           "lat": [
            4.77085,
            4.5953368,
            4.6369136,
            4.586815,
            4.609095,
            4.6718474,
            4.6099774,
            4.6186733,
            4.6829517,
            4.5975123,
            4.6287032,
            4.705884,
            4.6225317,
            4.58289,
            4.6689295,
            4.6161667,
            4.630155,
            4.75071,
            4.6492017,
            4.7360813,
            4.6169659,
            4.5808518,
            4.6129,
            4.6187153,
            4.5767968,
            4.5959915,
            4.7189258,
            4.695615,
            4.6805117,
            4.7288941,
            4.8166483,
            4.5861618,
            4.5985867,
            4.5901417,
            4.6669706,
            4.634581,
            4.7324931,
            4.6737133,
            4.5969217,
            4.80602,
            4.5936406,
            4.5864317,
            4.596135,
            4.6163417,
            4.618765,
            4.5857341,
            4.4901089,
            4.6404967,
            4.74435,
            4.749315,
            4.5794888,
            4.6175375,
            4.6326702,
            4.62142,
            4.585286,
            4.7319623,
            4.6559317,
            4.7290054,
            4.5850947,
            4.6116723,
            4.8098305,
            4.69884,
            4.5035785,
            4.604308,
            4.6161068,
            4.6197594,
            4.6058411,
            4.753165,
            4.6200587
           ],
           "lon": [
            -74.0322517,
            -74.0768025,
            -74.154833,
            -74.1351917,
            -74.1025933,
            -74.0700874,
            -74.1104345,
            -74.1028,
            -74.15649,
            -74.1762345,
            -74.1381261,
            -74.1073098,
            -74.1928433,
            -74.1367417,
            -74.0977513,
            -74.09818,
            -74.1554833,
            -74.0443367,
            -74.17741,
            -74.2648553,
            -74.1058125,
            -74.1681963,
            -74.0931333,
            -74.1238124,
            -74.2313622,
            -74.1520718,
            -74.0471194,
            -74.1155567,
            -74.0585567,
            -74.281241,
            -74.0306833,
            -74.1549601,
            -74.079605,
            -74.122605,
            -74.148035,
            -74.1634477,
            -74.1055426,
            -74.038595,
            -74.1070983,
            -74.0377833,
            -74.1222056,
            -74.1992617,
            -74.1582167,
            -74.097175,
            -74.1023467,
            -74.1107802,
            -74.0992365,
            -74.066325,
            -74.020442,
            -74.039095,
            -74.1123909,
            -74.1131682,
            -74.148035,
            -74.0915083,
            -74.110822,
            -74.0683485,
            -74.1105233,
            -74.2657998,
            -74.1093698,
            -74.1436869,
            -74.0378227,
            -74.1410567,
            -74.1174025,
            -74.161613,
            -74.1050928,
            -74.0870853,
            -74.1719973,
            -74.0461517,
            -74.1721388
           ],
           "marker": {
            "color": "rgb(255, 0, 0)",
            "opacity": 0.7,
            "size": 8
           },
           "mode": "markers",
           "name": "Agents",
           "type": "scattermapbox"
          },
          {
           "lat": [
            4.598923206329346,
            4.645976066589356,
            4.507930278778076,
            4.614001750946045,
            4.620060443878174,
            4.638947010040283,
            4.58743143081665,
            4.578690052032471,
            4.715568542480469,
            4.542963981628418,
            4.618695259094238,
            4.5841474533081055,
            4.7106242179870605,
            4.626585006713867,
            4.62139892578125,
            4.628791332244873,
            4.753506183624268,
            4.5584797859191895,
            4.646624565124512,
            4.6101393699646
           ],
           "lon": [
            -74.14466094970703,
            -74.0575180053711,
            -74.10749816894531,
            -74.18147277832031,
            -74.13394927978516,
            -74.1527328491211,
            -74.17505645751953,
            -74.1593017578125,
            -74.10006713867188,
            -74.09748077392578,
            -74.13970947265625,
            -74.09061431884766,
            -74.12493896484375,
            -74.1697769165039,
            -74.06702423095703,
            -74.11813354492188,
            -74.04664611816406,
            -74.09526824951172,
            -74.1555404663086,
            -74.0661849975586
           ],
           "marker": {
            "color": "rgb(0, 0, 255)",
            "opacity": 0.7,
            "size": 8
           },
           "mode": "markers",
           "name": "Incidents",
           "type": "scattermapbox"
          }
         ]
        },
        {
         "data": [
          {
           "lat": [
            4.6146211,
            4.631765,
            4.6140395,
            4.6183417,
            4.6193982,
            4.7433433,
            4.6198701,
            4.6191941,
            4.6151783,
            4.7120754,
            4.6341067,
            4.5860962,
            4.6165449,
            4.5962334,
            4.547687,
            4.6162758,
            4.5759223,
            4.616555,
            4.6735167,
            4.5850989,
            4.6626083,
            4.618855,
            4.6184467,
            4.5794233,
            4.7182193,
            4.628875,
            4.597,
            4.5934517,
            4.5808648,
            4.5954496,
            4.5846567,
            4.5772629,
            4.616259,
            4.7684767,
            4.6680133,
            4.7122067,
            4.555955,
            4.6512691,
            4.6156965,
            4.5840284,
            4.5949733,
            4.5860442,
            4.5805355,
            4.6862067,
            4.6164137,
            4.6077017,
            4.7453661,
            4.6164983,
            4.5828333,
            4.6100096,
            4.58709,
            4.5939033,
            4.61643,
            4.616318,
            4.6320294,
            4.5963267,
            4.6212609,
            4.602125,
            4.7423785,
            4.5971283,
            4.6859092,
            4.6311258,
            4.7357798,
            4.6655918,
            4.6085887,
            4.6500339,
            4.728921
           ],
           "lon": [
            -74.1136736,
            -74.0745133,
            -74.1010143,
            -74.1023383,
            -74.1431612,
            -74.0868717,
            -74.0888202,
            -74.1038508,
            -74.136475,
            -74.1382139,
            -74.165775,
            -74.1109947,
            -74.0980236,
            -74.1261777,
            -74.1362911,
            -74.0988525,
            -74.0961099,
            -74.0983817,
            -74.06842,
            -74.1093821,
            -74.0762883,
            -74.1024133,
            -74.1029367,
            -74.148125,
            -74.0573678,
            -74.1366433,
            -74.182145,
            -74.129145,
            -74.1682346,
            -74.0767954,
            -74.14137,
            -74.1502369,
            -74.0981184,
            -74.031995,
            -74.1486183,
            -74.0298283,
            -74.1376433,
            -74.1643125,
            -74.0984814,
            -74.1576883,
            -74.128935,
            -74.133677,
            -74.1986721,
            -74.1587633,
            -74.0986969,
            -74.1000783,
            -74.09665,
            -74.0983983,
            -74.1567767,
            -74.1104101,
            -74.12848,
            -74.1291667,
            -74.0988117,
            -74.0980227,
            -74.1449263,
            -74.1575183,
            -74.0988525,
            -74.1783275,
            -74.022891,
            -74.1794383,
            -74.1036245,
            -74.1502867,
            -74.1006879,
            -74.0454914,
            -74.0998011,
            -74.1473083,
            -74.2812553
           ],
           "marker": {
            "color": "rgb(255, 0, 0)",
            "opacity": 0.7,
            "size": 8
           },
           "mode": "markers",
           "name": "Agents",
           "type": "scattermapbox"
          },
          {
           "lat": [
            4.619220733642578,
            4.716864585876465,
            4.629574298858643,
            4.591538429260254,
            4.604137897491455,
            4.590040683746338,
            4.689120769500732,
            4.596768379211426,
            4.557981491088867
           ],
           "lon": [
            -74.1685791015625,
            -74.14306640625,
            -74.18890380859375,
            -74.18182373046875,
            -74.12389373779297,
            -74.1126937866211,
            -74.10530090332031,
            -74.17742156982422,
            -74.11988067626953
           ],
           "marker": {
            "color": "rgb(0, 0, 255)",
            "opacity": 0.7,
            "size": 8
           },
           "mode": "markers",
           "name": "Incidents",
           "type": "scattermapbox"
          }
         ]
        },
        {
         "data": [
          {
           "lat": [
            4.6316763,
            4.5807233,
            4.59883,
            4.622635,
            4.6193667,
            4.60699,
            4.6689295,
            4.587015,
            4.6246641,
            4.6162583,
            4.6160467,
            4.60799,
            4.5948599,
            4.6358039,
            4.5946117,
            4.5965441,
            4.6823917,
            4.6341067,
            4.5883125,
            4.6898383,
            4.59679,
            4.6661242,
            4.6767183,
            4.6171567,
            4.64705,
            4.5956317,
            4.6898379,
            4.7510816,
            4.5808657,
            4.5926226,
            4.6100111,
            4.5938983,
            4.6425755,
            4.4960553,
            4.6164717,
            4.6139183,
            4.6968925,
            4.7357798,
            4.5669364,
            4.5948333,
            4.6644069
           ],
           "lon": [
            -74.1454661,
            -74.11176,
            -74.1341783,
            -74.1924383,
            -74.1036551,
            -74.0979267,
            -74.0977513,
            -74.1351667,
            -74.0662142,
            -74.0984767,
            -74.098335,
            -74.16544,
            -74.1880602,
            -74.0791689,
            -74.1124417,
            -74.1773269,
            -74.0631367,
            -74.165775,
            -74.0796784,
            -74.1062483,
            -74.1137117,
            -74.0573678,
            -74.0302183,
            -74.1379017,
            -74.078375,
            -74.15212,
            -74.106263,
            -74.1156409,
            -74.1682218,
            -74.127728,
            -74.1103869,
            -74.1238233,
            -74.1285068,
            -74.1083964,
            -74.09858,
            -74.1080617,
            -74.1403013,
            -74.1006879,
            -74.1279365,
            -74.128735,
            -74.1315199
           ],
           "marker": {
            "color": "rgb(255, 0, 0)",
            "opacity": 0.7,
            "size": 8
           },
           "mode": "markers",
           "name": "Agents",
           "type": "scattermapbox"
          },
          {
           "lat": [
            4.677666664123535,
            4.627293109893799,
            4.602004528045654,
            4.693684101104736,
            4.615081787109375,
            4.685744285583496,
            4.7439703941345215,
            4.625308513641357,
            4.7042236328125,
            4.5388503074646,
            4.670006275177002
           ],
           "lon": [
            -74.11813354492188,
            -74.17076110839844,
            -74.12081909179688,
            -74.03314971923828,
            -74.16263580322266,
            -74.09624481201172,
            -74.1048583984375,
            -74.19913482666016,
            -74.0539779663086,
            -74.150634765625,
            -74.02035522460938
           ],
           "marker": {
            "color": "rgb(0, 0, 255)",
            "opacity": 0.7,
            "size": 8
           },
           "mode": "markers",
           "name": "Incidents",
           "type": "scattermapbox"
          }
         ]
        },
        {
         "data": [
          {
           "lat": [
            4.612185,
            4.6100281,
            4.6425904,
            4.612451,
            4.6467887,
            4.6143667,
            4.6500251,
            4.7682233,
            4.6171333,
            4.6224082,
            4.6432983,
            4.6184974,
            4.5948333,
            4.6149867,
            4.7095467,
            4.6356699,
            4.6968925,
            4.6312973
           ],
           "lon": [
            -74.1612417,
            -74.1419852,
            -74.12847,
            -74.1746927,
            -74.1687497,
            -74.11079,
            -74.1473394,
            -74.032265,
            -74.1374183,
            -74.1220686,
            -74.107885,
            -74.0869571,
            -74.128735,
            -74.1627083,
            -74.2210367,
            -74.1495259,
            -74.1403013,
            -74.1546772
           ],
           "marker": {
            "color": "rgb(255, 0, 0)",
            "opacity": 0.7,
            "size": 8
           },
           "mode": "markers",
           "name": "Agents",
           "type": "scattermapbox"
          },
          {
           "lat": [
            4.679540634155273,
            4.569133758544922,
            4.6656575202941895,
            4.725343227386475
           ],
           "lon": [
            -74.10940551757812,
            -74.18651580810547,
            -74.13054656982422,
            -74.0887451171875
           ],
           "marker": {
            "color": "rgb(0, 0, 255)",
            "opacity": 0.7,
            "size": 8
           },
           "mode": "markers",
           "name": "Incidents",
           "type": "scattermapbox"
          }
         ]
        }
       ],
       "layout": {
        "autosize": true,
        "height": 800,
        "hovermode": "closest",
        "mapbox": {
         "bearing": 0,
         "center": {
          "lat": 4.624335,
          "lon": -74.063644
         },
         "pitch": 0,
         "style": "open-street-map",
         "zoom": 11
        },
        "showlegend": true,
        "sliders": [
         {
          "active": 0,
          "currentvalue": {
           "font": {
            "size": 20
           },
           "prefix": "Hour: ",
           "visible": true,
           "xanchor": "right"
          },
          "len": 0.9,
          "pad": {
           "b": 10,
           "t": 10
          },
          "steps": [
           {
            "args": [
             [
              0
             ],
             {
              "frame": {
               "duration": 300,
               "redraw": true
              },
              "mode": "immediate",
              "transition": {
               "duration": 300
              }
             }
            ],
            "label": "0",
            "method": "update"
           },
           {
            "args": [
             [
              1
             ],
             {
              "frame": {
               "duration": 300,
               "redraw": true
              },
              "mode": "immediate",
              "transition": {
               "duration": 300
              }
             }
            ],
            "label": "1",
            "method": "update"
           },
           {
            "args": [
             [
              2
             ],
             {
              "frame": {
               "duration": 300,
               "redraw": true
              },
              "mode": "immediate",
              "transition": {
               "duration": 300
              }
             }
            ],
            "label": "2",
            "method": "update"
           },
           {
            "args": [
             [
              3
             ],
             {
              "frame": {
               "duration": 300,
               "redraw": true
              },
              "mode": "immediate",
              "transition": {
               "duration": 300
              }
             }
            ],
            "label": "3",
            "method": "update"
           },
           {
            "args": [
             [
              4
             ],
             {
              "frame": {
               "duration": 300,
               "redraw": true
              },
              "mode": "immediate",
              "transition": {
               "duration": 300
              }
             }
            ],
            "label": "4",
            "method": "update"
           },
           {
            "args": [
             [
              5
             ],
             {
              "frame": {
               "duration": 300,
               "redraw": true
              },
              "mode": "immediate",
              "transition": {
               "duration": 300
              }
             }
            ],
            "label": "5",
            "method": "update"
           },
           {
            "args": [
             [
              6
             ],
             {
              "frame": {
               "duration": 300,
               "redraw": true
              },
              "mode": "immediate",
              "transition": {
               "duration": 300
              }
             }
            ],
            "label": "6",
            "method": "update"
           },
           {
            "args": [
             [
              7
             ],
             {
              "frame": {
               "duration": 300,
               "redraw": true
              },
              "mode": "immediate",
              "transition": {
               "duration": 300
              }
             }
            ],
            "label": "7",
            "method": "update"
           },
           {
            "args": [
             [
              8
             ],
             {
              "frame": {
               "duration": 300,
               "redraw": true
              },
              "mode": "immediate",
              "transition": {
               "duration": 300
              }
             }
            ],
            "label": "8",
            "method": "update"
           },
           {
            "args": [
             [
              9
             ],
             {
              "frame": {
               "duration": 300,
               "redraw": true
              },
              "mode": "immediate",
              "transition": {
               "duration": 300
              }
             }
            ],
            "label": "9",
            "method": "update"
           },
           {
            "args": [
             [
              10
             ],
             {
              "frame": {
               "duration": 300,
               "redraw": true
              },
              "mode": "immediate",
              "transition": {
               "duration": 300
              }
             }
            ],
            "label": "10",
            "method": "update"
           },
           {
            "args": [
             [
              11
             ],
             {
              "frame": {
               "duration": 300,
               "redraw": true
              },
              "mode": "immediate",
              "transition": {
               "duration": 300
              }
             }
            ],
            "label": "11",
            "method": "update"
           },
           {
            "args": [
             [
              12
             ],
             {
              "frame": {
               "duration": 300,
               "redraw": true
              },
              "mode": "immediate",
              "transition": {
               "duration": 300
              }
             }
            ],
            "label": "12",
            "method": "update"
           },
           {
            "args": [
             [
              13
             ],
             {
              "frame": {
               "duration": 300,
               "redraw": true
              },
              "mode": "immediate",
              "transition": {
               "duration": 300
              }
             }
            ],
            "label": "13",
            "method": "update"
           },
           {
            "args": [
             [
              14
             ],
             {
              "frame": {
               "duration": 300,
               "redraw": true
              },
              "mode": "immediate",
              "transition": {
               "duration": 300
              }
             }
            ],
            "label": "14",
            "method": "update"
           },
           {
            "args": [
             [
              15
             ],
             {
              "frame": {
               "duration": 300,
               "redraw": true
              },
              "mode": "immediate",
              "transition": {
               "duration": 300
              }
             }
            ],
            "label": "15",
            "method": "update"
           },
           {
            "args": [
             [
              16
             ],
             {
              "frame": {
               "duration": 300,
               "redraw": true
              },
              "mode": "immediate",
              "transition": {
               "duration": 300
              }
             }
            ],
            "label": "16",
            "method": "update"
           },
           {
            "args": [
             [
              17
             ],
             {
              "frame": {
               "duration": 300,
               "redraw": true
              },
              "mode": "immediate",
              "transition": {
               "duration": 300
              }
             }
            ],
            "label": "17",
            "method": "update"
           },
           {
            "args": [
             [
              18
             ],
             {
              "frame": {
               "duration": 300,
               "redraw": true
              },
              "mode": "immediate",
              "transition": {
               "duration": 300
              }
             }
            ],
            "label": "18",
            "method": "update"
           },
           {
            "args": [
             [
              19
             ],
             {
              "frame": {
               "duration": 300,
               "redraw": true
              },
              "mode": "immediate",
              "transition": {
               "duration": 300
              }
             }
            ],
            "label": "19",
            "method": "update"
           },
           {
            "args": [
             [
              20
             ],
             {
              "frame": {
               "duration": 300,
               "redraw": true
              },
              "mode": "immediate",
              "transition": {
               "duration": 300
              }
             }
            ],
            "label": "20",
            "method": "update"
           },
           {
            "args": [
             [
              21
             ],
             {
              "frame": {
               "duration": 300,
               "redraw": true
              },
              "mode": "immediate",
              "transition": {
               "duration": 300
              }
             }
            ],
            "label": "21",
            "method": "update"
           },
           {
            "args": [
             [
              22
             ],
             {
              "frame": {
               "duration": 300,
               "redraw": true
              },
              "mode": "immediate",
              "transition": {
               "duration": 300
              }
             }
            ],
            "label": "22",
            "method": "update"
           },
           {
            "args": [
             [
              23
             ],
             {
              "frame": {
               "duration": 300,
               "redraw": true
              },
              "mode": "immediate",
              "transition": {
               "duration": 300
              }
             }
            ],
            "label": "23",
            "method": "update"
           }
          ],
          "transition": {
           "duration": 300,
           "easing": "cubic-in-out"
          },
          "x": 0.1,
          "xanchor": "left",
          "y": 0,
          "yanchor": "top"
         }
        ],
        "template": {
         "data": {
          "bar": [
           {
            "error_x": {
             "color": "#2a3f5f"
            },
            "error_y": {
             "color": "#2a3f5f"
            },
            "marker": {
             "line": {
              "color": "#E5ECF6",
              "width": 0.5
             },
             "pattern": {
              "fillmode": "overlay",
              "size": 10,
              "solidity": 0.2
             }
            },
            "type": "bar"
           }
          ],
          "barpolar": [
           {
            "marker": {
             "line": {
              "color": "#E5ECF6",
              "width": 0.5
             },
             "pattern": {
              "fillmode": "overlay",
              "size": 10,
              "solidity": 0.2
             }
            },
            "type": "barpolar"
           }
          ],
          "carpet": [
           {
            "aaxis": {
             "endlinecolor": "#2a3f5f",
             "gridcolor": "white",
             "linecolor": "white",
             "minorgridcolor": "white",
             "startlinecolor": "#2a3f5f"
            },
            "baxis": {
             "endlinecolor": "#2a3f5f",
             "gridcolor": "white",
             "linecolor": "white",
             "minorgridcolor": "white",
             "startlinecolor": "#2a3f5f"
            },
            "type": "carpet"
           }
          ],
          "choropleth": [
           {
            "colorbar": {
             "outlinewidth": 0,
             "ticks": ""
            },
            "type": "choropleth"
           }
          ],
          "contour": [
           {
            "colorbar": {
             "outlinewidth": 0,
             "ticks": ""
            },
            "colorscale": [
             [
              0,
              "#0d0887"
             ],
             [
              0.1111111111111111,
              "#46039f"
             ],
             [
              0.2222222222222222,
              "#7201a8"
             ],
             [
              0.3333333333333333,
              "#9c179e"
             ],
             [
              0.4444444444444444,
              "#bd3786"
             ],
             [
              0.5555555555555556,
              "#d8576b"
             ],
             [
              0.6666666666666666,
              "#ed7953"
             ],
             [
              0.7777777777777778,
              "#fb9f3a"
             ],
             [
              0.8888888888888888,
              "#fdca26"
             ],
             [
              1,
              "#f0f921"
             ]
            ],
            "type": "contour"
           }
          ],
          "contourcarpet": [
           {
            "colorbar": {
             "outlinewidth": 0,
             "ticks": ""
            },
            "type": "contourcarpet"
           }
          ],
          "heatmap": [
           {
            "colorbar": {
             "outlinewidth": 0,
             "ticks": ""
            },
            "colorscale": [
             [
              0,
              "#0d0887"
             ],
             [
              0.1111111111111111,
              "#46039f"
             ],
             [
              0.2222222222222222,
              "#7201a8"
             ],
             [
              0.3333333333333333,
              "#9c179e"
             ],
             [
              0.4444444444444444,
              "#bd3786"
             ],
             [
              0.5555555555555556,
              "#d8576b"
             ],
             [
              0.6666666666666666,
              "#ed7953"
             ],
             [
              0.7777777777777778,
              "#fb9f3a"
             ],
             [
              0.8888888888888888,
              "#fdca26"
             ],
             [
              1,
              "#f0f921"
             ]
            ],
            "type": "heatmap"
           }
          ],
          "heatmapgl": [
           {
            "colorbar": {
             "outlinewidth": 0,
             "ticks": ""
            },
            "colorscale": [
             [
              0,
              "#0d0887"
             ],
             [
              0.1111111111111111,
              "#46039f"
             ],
             [
              0.2222222222222222,
              "#7201a8"
             ],
             [
              0.3333333333333333,
              "#9c179e"
             ],
             [
              0.4444444444444444,
              "#bd3786"
             ],
             [
              0.5555555555555556,
              "#d8576b"
             ],
             [
              0.6666666666666666,
              "#ed7953"
             ],
             [
              0.7777777777777778,
              "#fb9f3a"
             ],
             [
              0.8888888888888888,
              "#fdca26"
             ],
             [
              1,
              "#f0f921"
             ]
            ],
            "type": "heatmapgl"
           }
          ],
          "histogram": [
           {
            "marker": {
             "pattern": {
              "fillmode": "overlay",
              "size": 10,
              "solidity": 0.2
             }
            },
            "type": "histogram"
           }
          ],
          "histogram2d": [
           {
            "colorbar": {
             "outlinewidth": 0,
             "ticks": ""
            },
            "colorscale": [
             [
              0,
              "#0d0887"
             ],
             [
              0.1111111111111111,
              "#46039f"
             ],
             [
              0.2222222222222222,
              "#7201a8"
             ],
             [
              0.3333333333333333,
              "#9c179e"
             ],
             [
              0.4444444444444444,
              "#bd3786"
             ],
             [
              0.5555555555555556,
              "#d8576b"
             ],
             [
              0.6666666666666666,
              "#ed7953"
             ],
             [
              0.7777777777777778,
              "#fb9f3a"
             ],
             [
              0.8888888888888888,
              "#fdca26"
             ],
             [
              1,
              "#f0f921"
             ]
            ],
            "type": "histogram2d"
           }
          ],
          "histogram2dcontour": [
           {
            "colorbar": {
             "outlinewidth": 0,
             "ticks": ""
            },
            "colorscale": [
             [
              0,
              "#0d0887"
             ],
             [
              0.1111111111111111,
              "#46039f"
             ],
             [
              0.2222222222222222,
              "#7201a8"
             ],
             [
              0.3333333333333333,
              "#9c179e"
             ],
             [
              0.4444444444444444,
              "#bd3786"
             ],
             [
              0.5555555555555556,
              "#d8576b"
             ],
             [
              0.6666666666666666,
              "#ed7953"
             ],
             [
              0.7777777777777778,
              "#fb9f3a"
             ],
             [
              0.8888888888888888,
              "#fdca26"
             ],
             [
              1,
              "#f0f921"
             ]
            ],
            "type": "histogram2dcontour"
           }
          ],
          "mesh3d": [
           {
            "colorbar": {
             "outlinewidth": 0,
             "ticks": ""
            },
            "type": "mesh3d"
           }
          ],
          "parcoords": [
           {
            "line": {
             "colorbar": {
              "outlinewidth": 0,
              "ticks": ""
             }
            },
            "type": "parcoords"
           }
          ],
          "pie": [
           {
            "automargin": true,
            "type": "pie"
           }
          ],
          "scatter": [
           {
            "marker": {
             "colorbar": {
              "outlinewidth": 0,
              "ticks": ""
             }
            },
            "type": "scatter"
           }
          ],
          "scatter3d": [
           {
            "line": {
             "colorbar": {
              "outlinewidth": 0,
              "ticks": ""
             }
            },
            "marker": {
             "colorbar": {
              "outlinewidth": 0,
              "ticks": ""
             }
            },
            "type": "scatter3d"
           }
          ],
          "scattercarpet": [
           {
            "marker": {
             "colorbar": {
              "outlinewidth": 0,
              "ticks": ""
             }
            },
            "type": "scattercarpet"
           }
          ],
          "scattergeo": [
           {
            "marker": {
             "colorbar": {
              "outlinewidth": 0,
              "ticks": ""
             }
            },
            "type": "scattergeo"
           }
          ],
          "scattergl": [
           {
            "marker": {
             "colorbar": {
              "outlinewidth": 0,
              "ticks": ""
             }
            },
            "type": "scattergl"
           }
          ],
          "scattermapbox": [
           {
            "marker": {
             "colorbar": {
              "outlinewidth": 0,
              "ticks": ""
             }
            },
            "type": "scattermapbox"
           }
          ],
          "scatterpolar": [
           {
            "marker": {
             "colorbar": {
              "outlinewidth": 0,
              "ticks": ""
             }
            },
            "type": "scatterpolar"
           }
          ],
          "scatterpolargl": [
           {
            "marker": {
             "colorbar": {
              "outlinewidth": 0,
              "ticks": ""
             }
            },
            "type": "scatterpolargl"
           }
          ],
          "scatterternary": [
           {
            "marker": {
             "colorbar": {
              "outlinewidth": 0,
              "ticks": ""
             }
            },
            "type": "scatterternary"
           }
          ],
          "surface": [
           {
            "colorbar": {
             "outlinewidth": 0,
             "ticks": ""
            },
            "colorscale": [
             [
              0,
              "#0d0887"
             ],
             [
              0.1111111111111111,
              "#46039f"
             ],
             [
              0.2222222222222222,
              "#7201a8"
             ],
             [
              0.3333333333333333,
              "#9c179e"
             ],
             [
              0.4444444444444444,
              "#bd3786"
             ],
             [
              0.5555555555555556,
              "#d8576b"
             ],
             [
              0.6666666666666666,
              "#ed7953"
             ],
             [
              0.7777777777777778,
              "#fb9f3a"
             ],
             [
              0.8888888888888888,
              "#fdca26"
             ],
             [
              1,
              "#f0f921"
             ]
            ],
            "type": "surface"
           }
          ],
          "table": [
           {
            "cells": {
             "fill": {
              "color": "#EBF0F8"
             },
             "line": {
              "color": "white"
             }
            },
            "header": {
             "fill": {
              "color": "#C8D4E3"
             },
             "line": {
              "color": "white"
             }
            },
            "type": "table"
           }
          ]
         },
         "layout": {
          "annotationdefaults": {
           "arrowcolor": "#2a3f5f",
           "arrowhead": 0,
           "arrowwidth": 1
          },
          "autotypenumbers": "strict",
          "coloraxis": {
           "colorbar": {
            "outlinewidth": 0,
            "ticks": ""
           }
          },
          "colorscale": {
           "diverging": [
            [
             0,
             "#8e0152"
            ],
            [
             0.1,
             "#c51b7d"
            ],
            [
             0.2,
             "#de77ae"
            ],
            [
             0.3,
             "#f1b6da"
            ],
            [
             0.4,
             "#fde0ef"
            ],
            [
             0.5,
             "#f7f7f7"
            ],
            [
             0.6,
             "#e6f5d0"
            ],
            [
             0.7,
             "#b8e186"
            ],
            [
             0.8,
             "#7fbc41"
            ],
            [
             0.9,
             "#4d9221"
            ],
            [
             1,
             "#276419"
            ]
           ],
           "sequential": [
            [
             0,
             "#0d0887"
            ],
            [
             0.1111111111111111,
             "#46039f"
            ],
            [
             0.2222222222222222,
             "#7201a8"
            ],
            [
             0.3333333333333333,
             "#9c179e"
            ],
            [
             0.4444444444444444,
             "#bd3786"
            ],
            [
             0.5555555555555556,
             "#d8576b"
            ],
            [
             0.6666666666666666,
             "#ed7953"
            ],
            [
             0.7777777777777778,
             "#fb9f3a"
            ],
            [
             0.8888888888888888,
             "#fdca26"
            ],
            [
             1,
             "#f0f921"
            ]
           ],
           "sequentialminus": [
            [
             0,
             "#0d0887"
            ],
            [
             0.1111111111111111,
             "#46039f"
            ],
            [
             0.2222222222222222,
             "#7201a8"
            ],
            [
             0.3333333333333333,
             "#9c179e"
            ],
            [
             0.4444444444444444,
             "#bd3786"
            ],
            [
             0.5555555555555556,
             "#d8576b"
            ],
            [
             0.6666666666666666,
             "#ed7953"
            ],
            [
             0.7777777777777778,
             "#fb9f3a"
            ],
            [
             0.8888888888888888,
             "#fdca26"
            ],
            [
             1,
             "#f0f921"
            ]
           ]
          },
          "colorway": [
           "#636efa",
           "#EF553B",
           "#00cc96",
           "#ab63fa",
           "#FFA15A",
           "#19d3f3",
           "#FF6692",
           "#B6E880",
           "#FF97FF",
           "#FECB52"
          ],
          "font": {
           "color": "#2a3f5f"
          },
          "geo": {
           "bgcolor": "white",
           "lakecolor": "white",
           "landcolor": "#E5ECF6",
           "showlakes": true,
           "showland": true,
           "subunitcolor": "white"
          },
          "hoverlabel": {
           "align": "left"
          },
          "hovermode": "closest",
          "mapbox": {
           "style": "light"
          },
          "paper_bgcolor": "white",
          "plot_bgcolor": "#E5ECF6",
          "polar": {
           "angularaxis": {
            "gridcolor": "white",
            "linecolor": "white",
            "ticks": ""
           },
           "bgcolor": "#E5ECF6",
           "radialaxis": {
            "gridcolor": "white",
            "linecolor": "white",
            "ticks": ""
           }
          },
          "scene": {
           "xaxis": {
            "backgroundcolor": "#E5ECF6",
            "gridcolor": "white",
            "gridwidth": 2,
            "linecolor": "white",
            "showbackground": true,
            "ticks": "",
            "zerolinecolor": "white"
           },
           "yaxis": {
            "backgroundcolor": "#E5ECF6",
            "gridcolor": "white",
            "gridwidth": 2,
            "linecolor": "white",
            "showbackground": true,
            "ticks": "",
            "zerolinecolor": "white"
           },
           "zaxis": {
            "backgroundcolor": "#E5ECF6",
            "gridcolor": "white",
            "gridwidth": 2,
            "linecolor": "white",
            "showbackground": true,
            "ticks": "",
            "zerolinecolor": "white"
           }
          },
          "shapedefaults": {
           "line": {
            "color": "#2a3f5f"
           }
          },
          "ternary": {
           "aaxis": {
            "gridcolor": "white",
            "linecolor": "white",
            "ticks": ""
           },
           "baxis": {
            "gridcolor": "white",
            "linecolor": "white",
            "ticks": ""
           },
           "bgcolor": "#E5ECF6",
           "caxis": {
            "gridcolor": "white",
            "linecolor": "white",
            "ticks": ""
           }
          },
          "title": {
           "x": 0.05
          },
          "xaxis": {
           "automargin": true,
           "gridcolor": "white",
           "linecolor": "white",
           "ticks": "",
           "title": {
            "standoff": 15
           },
           "zerolinecolor": "white",
           "zerolinewidth": 2
          },
          "yaxis": {
           "automargin": true,
           "gridcolor": "white",
           "linecolor": "white",
           "ticks": "",
           "title": {
            "standoff": 15
           },
           "zerolinecolor": "white",
           "zerolinewidth": 2
          }
         }
        },
        "title": {
         "text": "Siniestros e Inicidentes"
        },
        "updatemenus": [
         {
          "buttons": [
           {
            "args": [
             null,
             {
              "frame": {
               "duration": 500,
               "redraw": true
              },
              "fromcurrent": true,
              "transition": {
               "duration": 300,
               "easing": "quadratic-in-out"
              }
             }
            ],
            "label": "Play",
            "method": "animate"
           },
           {
            "args": [
             [
              null
             ],
             {
              "frame": {
               "duration": 0,
               "redraw": true
              },
              "mode": "immediate",
              "transition": {
               "duration": 0
              }
             }
            ],
            "label": "Pause",
            "method": "animate"
           }
          ],
          "direction": "left",
          "pad": {
           "r": 10,
           "t": 87
          },
          "showactive": false,
          "type": "buttons",
          "x": 0.1,
          "xanchor": "right",
          "y": 0,
          "yanchor": "top"
         }
        ]
       }
      }
     },
     "metadata": {},
     "output_type": "display_data"
    }
   ],
   "source": [
    "hour = 0\n",
    "agentsdf_subset_hour = agentsdf_subset[agentsdf_subset[\"hour\"] == hour] \n",
    "incidentsdf_subset_hour = incidentsdf_subset[incidentsdf_subset[\"hour\"] == hour] \n",
    "\n",
    "hours = list(range(24))\n",
    "map_frames = []\n",
    "\n",
    "for hour in hours:\n",
    "    agentsdf_subset_hour = agentsdf_subset[agentsdf_subset[\"hour\"] == hour] \n",
    "    incidentsdf_subset_hour = incidentsdf_subset[incidentsdf_subset[\"hour\"] == hour] \n",
    "    map_frames.append(go.Frame(data=[go.Scattermapbox(\n",
    "                                        lat=agentsdf_subset_hour[\"latitude\"],\n",
    "                                        lon=agentsdf_subset_hour[\"longitude\"],\n",
    "                                        mode='markers',\n",
    "                                        marker=go.scattermapbox.Marker(\n",
    "                                                size=8,\n",
    "                                                color='rgb(255, 0, 0)',\n",
    "                                                opacity=0.7),\n",
    "                                        name=\"Agents\"), \n",
    "                                    go.Scattermapbox(\n",
    "                                        lat=incidentsdf_subset_hour[\"latitude\"],\n",
    "                                        lon=incidentsdf_subset_hour[\"longitude\"],\n",
    "                                        mode='markers',\n",
    "                                        marker=go.scattermapbox.Marker(\n",
    "                                            size=8,\n",
    "                                            color='rgb(0, 0, 255)',\n",
    "                                            opacity=0.7),\n",
    "                                        name=\"Incidents\")]))\n",
    "\n",
    "hour_steps = []\n",
    "for hour in hours:\n",
    "    slider_step = {\"args\": [\n",
    "                    [hour],\n",
    "                    {\"frame\": {\"duration\": 300, \"redraw\": True},\n",
    "                    \"mode\": \"immediate\",\n",
    "                    \"transition\": {\"duration\": 300}}\n",
    "                    ],\n",
    "                    \"label\": str(hour),\n",
    "                    \"method\": \"update\"} \n",
    "    hour_steps.append(slider_step)\n",
    "\n",
    "hour_slider = {\n",
    "    \"active\": 0,\n",
    "    \"yanchor\": \"top\",\n",
    "    \"xanchor\": \"left\",\n",
    "    \"currentvalue\": {\n",
    "        \"font\": {\"size\": 20},\n",
    "        \"prefix\": \"Hour: \",\n",
    "        \"visible\": True,\n",
    "        \"xanchor\": \"right\"\n",
    "    },\n",
    "    \"transition\": {\"duration\": 300, \"easing\": \"cubic-in-out\"},\n",
    "    \"pad\": {\"b\": 10, \"t\": 10},\n",
    "    \"len\": 0.9,\n",
    "    \"x\": 0.1,\n",
    "    \"y\": 0,\n",
    "    \"steps\": hour_steps\n",
    "}\n",
    "\n",
    "fig = go.Figure(data=[go.Scattermapbox(\n",
    "                            lat=agentsdf_subset_hour[\"latitude\"],\n",
    "                            lon=agentsdf_subset_hour[\"longitude\"],\n",
    "                            mode='markers',\n",
    "                            marker=go.scattermapbox.Marker(\n",
    "                                size=8,\n",
    "                                color='rgb(255, 0, 0)',\n",
    "                                opacity=0.7),\n",
    "                            name=\"Agents\"), \n",
    "                      go.Scattermapbox(\n",
    "                            lat=incidentsdf_subset_hour[\"latitude\"],\n",
    "                            lon=incidentsdf_subset_hour[\"longitude\"],\n",
    "                            mode='markers',\n",
    "                            marker=go.scattermapbox.Marker(\n",
    "                                size=8,\n",
    "                                color='rgb(0, 0, 255)',\n",
    "                                opacity=0.7),\n",
    "                            name=\"Incidents\")],\n",
    "                layout=go.Layout(\n",
    "                    title=\"Siniestros e Inicidentes\",\n",
    "                    updatemenus=[{\n",
    "                        \"type\":\"buttons\",\n",
    "                        \"buttons\":[{\n",
    "                            \"args\": [None, {\"frame\": {\"duration\": 500, \"redraw\": True},\n",
    "                                            \"fromcurrent\": True, \"transition\": {\"duration\": 300,\n",
    "                                                                                \"easing\": \"quadratic-in-out\"}}],\n",
    "                            \"label\": \"Play\",\n",
    "                            \"method\": \"animate\"\n",
    "                        },\n",
    "                        {\n",
    "                            \"args\": [[None], {\"frame\": {\"duration\": 0, \"redraw\": True},\n",
    "                                            \"mode\": \"immediate\",\n",
    "                                            \"transition\": {\"duration\": 0}}],\n",
    "                            \"label\": \"Pause\",\n",
    "                            \"method\": \"animate\"\n",
    "                        }],\n",
    "                        \"direction\": \"left\",\n",
    "                        \"pad\": {\"r\": 10, \"t\": 87},\n",
    "                        \"showactive\": False,\n",
    "                        \"type\": \"buttons\",\n",
    "                        \"x\": 0.1,\n",
    "                        \"xanchor\": \"right\",\n",
    "                        \"y\": 0,\n",
    "                        \"yanchor\": \"top\"}],\n",
    "                    autosize=True,\n",
    "                    hovermode='closest',\n",
    "                    showlegend=True,\n",
    "                    mapbox=dict(\n",
    "                        bearing=0,\n",
    "                        center=dict(\n",
    "                            lat=4.624335,\n",
    "                            lon=-74.063644),\n",
    "                        pitch=0,\n",
    "                        zoom=11,\n",
    "                        style='open-street-map'),\n",
    "                    height=800,\n",
    "                    sliders=[hour_slider]),\n",
    "                frames=map_frames\n",
    "            )\n",
    "\n",
    "fig.show()"
   ]
  },
  {
   "cell_type": "code",
   "execution_count": 11,
   "metadata": {},
   "outputs": [
    {
     "data": {
      "text/html": [
       "<div style=\"width:100%;\"><div style=\"position:relative;width:100%;height:0;padding-bottom:60%;\"><span style=\"color:#565656\">Make this Notebook Trusted to load map: File -> Trust Notebook</span><iframe srcdoc=\"&lt;!DOCTYPE html&gt;\n",
       "&lt;head&gt;    \n",
       "    &lt;meta http-equiv=&quot;content-type&quot; content=&quot;text/html; charset=UTF-8&quot; /&gt;\n",
       "    \n",
       "        &lt;script&gt;\n",
       "            L_NO_TOUCH = false;\n",
       "            L_DISABLE_3D = false;\n",
       "        &lt;/script&gt;\n",
       "    \n",
       "    &lt;style&gt;html, body {width: 100%;height: 100%;margin: 0;padding: 0;}&lt;/style&gt;\n",
       "    &lt;style&gt;#map {position:absolute;top:0;bottom:0;right:0;left:0;}&lt;/style&gt;\n",
       "    &lt;script src=&quot;https://cdn.jsdelivr.net/npm/leaflet@1.6.0/dist/leaflet.js&quot;&gt;&lt;/script&gt;\n",
       "    &lt;script src=&quot;https://code.jquery.com/jquery-1.12.4.min.js&quot;&gt;&lt;/script&gt;\n",
       "    &lt;script src=&quot;https://maxcdn.bootstrapcdn.com/bootstrap/3.2.0/js/bootstrap.min.js&quot;&gt;&lt;/script&gt;\n",
       "    &lt;script src=&quot;https://cdnjs.cloudflare.com/ajax/libs/Leaflet.awesome-markers/2.0.2/leaflet.awesome-markers.js&quot;&gt;&lt;/script&gt;\n",
       "    &lt;link rel=&quot;stylesheet&quot; href=&quot;https://cdn.jsdelivr.net/npm/leaflet@1.6.0/dist/leaflet.css&quot;/&gt;\n",
       "    &lt;link rel=&quot;stylesheet&quot; href=&quot;https://maxcdn.bootstrapcdn.com/bootstrap/3.2.0/css/bootstrap.min.css&quot;/&gt;\n",
       "    &lt;link rel=&quot;stylesheet&quot; href=&quot;https://maxcdn.bootstrapcdn.com/bootstrap/3.2.0/css/bootstrap-theme.min.css&quot;/&gt;\n",
       "    &lt;link rel=&quot;stylesheet&quot; href=&quot;https://maxcdn.bootstrapcdn.com/font-awesome/4.6.3/css/font-awesome.min.css&quot;/&gt;\n",
       "    &lt;link rel=&quot;stylesheet&quot; href=&quot;https://cdnjs.cloudflare.com/ajax/libs/Leaflet.awesome-markers/2.0.2/leaflet.awesome-markers.css&quot;/&gt;\n",
       "    &lt;link rel=&quot;stylesheet&quot; href=&quot;https://cdn.jsdelivr.net/gh/python-visualization/folium/folium/templates/leaflet.awesome.rotate.min.css&quot;/&gt;\n",
       "    \n",
       "            &lt;meta name=&quot;viewport&quot; content=&quot;width=device-width,\n",
       "                initial-scale=1.0, maximum-scale=1.0, user-scalable=no&quot; /&gt;\n",
       "            &lt;style&gt;\n",
       "                #map_87e71216fd25ff06427a56ad183a77f5 {\n",
       "                    position: relative;\n",
       "                    width: 100.0%;\n",
       "                    height: 100.0%;\n",
       "                    left: 0.0%;\n",
       "                    top: 0.0%;\n",
       "                }\n",
       "            &lt;/style&gt;\n",
       "        \n",
       "&lt;/head&gt;\n",
       "&lt;body&gt;    \n",
       "    \n",
       "            &lt;div class=&quot;folium-map&quot; id=&quot;map_87e71216fd25ff06427a56ad183a77f5&quot; &gt;&lt;/div&gt;\n",
       "        \n",
       "&lt;/body&gt;\n",
       "&lt;script&gt;    \n",
       "    \n",
       "            var map_87e71216fd25ff06427a56ad183a77f5 = L.map(\n",
       "                &quot;map_87e71216fd25ff06427a56ad183a77f5&quot;,\n",
       "                {\n",
       "                    center: [4.6534649, -74.0836453],\n",
       "                    crs: L.CRS.EPSG3857,\n",
       "                    zoom: 12,\n",
       "                    zoomControl: true,\n",
       "                    preferCanvas: false,\n",
       "                }\n",
       "            );\n",
       "\n",
       "            \n",
       "\n",
       "        \n",
       "    \n",
       "            var tile_layer_553c59f627016a5370bc129ae6c114aa = L.tileLayer(\n",
       "                &quot;https://cartodb-basemaps-{s}.global.ssl.fastly.net/light_all/{z}/{x}/{y}.png&quot;,\n",
       "                {&quot;attribution&quot;: &quot;\\u0026copy; \\u003ca href=\\&quot;http://www.openstreetmap.org/copyright\\&quot;\\u003eOpenStreetMap\\u003c/a\\u003e contributors \\u0026copy; \\u003ca href=\\&quot;http://cartodb.com/attributions\\&quot;\\u003eCartoDB\\u003c/a\\u003e, CartoDB \\u003ca href =\\&quot;http://cartodb.com/attributions\\&quot;\\u003eattributions\\u003c/a\\u003e&quot;, &quot;detectRetina&quot;: false, &quot;maxNativeZoom&quot;: 18, &quot;maxZoom&quot;: 18, &quot;minZoom&quot;: 0, &quot;noWrap&quot;: false, &quot;opacity&quot;: 1, &quot;subdomains&quot;: &quot;abc&quot;, &quot;tms&quot;: false}\n",
       "            ).addTo(map_87e71216fd25ff06427a56ad183a77f5);\n",
       "        \n",
       "    \n",
       "            var feature_group_a3fae91464b6830f082b3871b05594c9 = L.featureGroup(\n",
       "                {}\n",
       "            ).addTo(map_87e71216fd25ff06427a56ad183a77f5);\n",
       "        \n",
       "    \n",
       "            var circle_marker_ef40782527a2bc785618888a885d3cf4 = L.circleMarker(\n",
       "                [4.681146621704102, -74.11123657226562],\n",
       "                {&quot;bubblingMouseEvents&quot;: true, &quot;color&quot;: &quot;red&quot;, &quot;dashArray&quot;: null, &quot;dashOffset&quot;: null, &quot;fill&quot;: true, &quot;fillColor&quot;: &quot;red&quot;, &quot;fillOpacity&quot;: 0.3, &quot;fillRule&quot;: &quot;evenodd&quot;, &quot;lineCap&quot;: &quot;round&quot;, &quot;lineJoin&quot;: &quot;round&quot;, &quot;opacity&quot;: 1.0, &quot;radius&quot;: 1, &quot;stroke&quot;: true, &quot;weight&quot;: 3}\n",
       "            ).addTo(feature_group_a3fae91464b6830f082b3871b05594c9);\n",
       "        \n",
       "    \n",
       "            var circle_marker_f52da2b6f1760f1c9537d14d1a4e1c6f = L.circleMarker(\n",
       "                [4.668676376342773, -74.11922454833984],\n",
       "                {&quot;bubblingMouseEvents&quot;: true, &quot;color&quot;: &quot;red&quot;, &quot;dashArray&quot;: null, &quot;dashOffset&quot;: null, &quot;fill&quot;: true, &quot;fillColor&quot;: &quot;red&quot;, &quot;fillOpacity&quot;: 0.3, &quot;fillRule&quot;: &quot;evenodd&quot;, &quot;lineCap&quot;: &quot;round&quot;, &quot;lineJoin&quot;: &quot;round&quot;, &quot;opacity&quot;: 1.0, &quot;radius&quot;: 1, &quot;stroke&quot;: true, &quot;weight&quot;: 3}\n",
       "            ).addTo(feature_group_a3fae91464b6830f082b3871b05594c9);\n",
       "        \n",
       "    \n",
       "            var circle_marker_92cc0511b808b4f06eec15840abf8d03 = L.circleMarker(\n",
       "                [4.621780872344971, -74.18736267089844],\n",
       "                {&quot;bubblingMouseEvents&quot;: true, &quot;color&quot;: &quot;red&quot;, &quot;dashArray&quot;: null, &quot;dashOffset&quot;: null, &quot;fill&quot;: true, &quot;fillColor&quot;: &quot;red&quot;, &quot;fillOpacity&quot;: 0.3, &quot;fillRule&quot;: &quot;evenodd&quot;, &quot;lineCap&quot;: &quot;round&quot;, &quot;lineJoin&quot;: &quot;round&quot;, &quot;opacity&quot;: 1.0, &quot;radius&quot;: 1, &quot;stroke&quot;: true, &quot;weight&quot;: 3}\n",
       "            ).addTo(feature_group_a3fae91464b6830f082b3871b05594c9);\n",
       "        \n",
       "    \n",
       "            var circle_marker_0542d5ab3bd5d2ee8704970780d8168f = L.circleMarker(\n",
       "                [4.597104549407959, -74.17829132080078],\n",
       "                {&quot;bubblingMouseEvents&quot;: true, &quot;color&quot;: &quot;red&quot;, &quot;dashArray&quot;: null, &quot;dashOffset&quot;: null, &quot;fill&quot;: true, &quot;fillColor&quot;: &quot;red&quot;, &quot;fillOpacity&quot;: 0.3, &quot;fillRule&quot;: &quot;evenodd&quot;, &quot;lineCap&quot;: &quot;round&quot;, &quot;lineJoin&quot;: &quot;round&quot;, &quot;opacity&quot;: 1.0, &quot;radius&quot;: 1, &quot;stroke&quot;: true, &quot;weight&quot;: 3}\n",
       "            ).addTo(feature_group_a3fae91464b6830f082b3871b05594c9);\n",
       "        \n",
       "    \n",
       "            var circle_marker_78264a2ffadf1be889312eba45a9988c = L.circleMarker(\n",
       "                [4.604316234588623, -74.07024383544922],\n",
       "                {&quot;bubblingMouseEvents&quot;: true, &quot;color&quot;: &quot;red&quot;, &quot;dashArray&quot;: null, &quot;dashOffset&quot;: null, &quot;fill&quot;: true, &quot;fillColor&quot;: &quot;red&quot;, &quot;fillOpacity&quot;: 0.3, &quot;fillRule&quot;: &quot;evenodd&quot;, &quot;lineCap&quot;: &quot;round&quot;, &quot;lineJoin&quot;: &quot;round&quot;, &quot;opacity&quot;: 1.0, &quot;radius&quot;: 1, &quot;stroke&quot;: true, &quot;weight&quot;: 3}\n",
       "            ).addTo(feature_group_a3fae91464b6830f082b3871b05594c9);\n",
       "        \n",
       "    \n",
       "            var circle_marker_a50a9f22473b34888034428609452388 = L.circleMarker(\n",
       "                [4.550992965698242, -74.1416015625],\n",
       "                {&quot;bubblingMouseEvents&quot;: true, &quot;color&quot;: &quot;red&quot;, &quot;dashArray&quot;: null, &quot;dashOffset&quot;: null, &quot;fill&quot;: true, &quot;fillColor&quot;: &quot;red&quot;, &quot;fillOpacity&quot;: 0.3, &quot;fillRule&quot;: &quot;evenodd&quot;, &quot;lineCap&quot;: &quot;round&quot;, &quot;lineJoin&quot;: &quot;round&quot;, &quot;opacity&quot;: 1.0, &quot;radius&quot;: 1, &quot;stroke&quot;: true, &quot;weight&quot;: 3}\n",
       "            ).addTo(feature_group_a3fae91464b6830f082b3871b05594c9);\n",
       "        \n",
       "    \n",
       "            var circle_marker_e419f1159b5218809d8673287681d7b1 = L.circleMarker(\n",
       "                [4.56264591217041, -74.14993286132812],\n",
       "                {&quot;bubblingMouseEvents&quot;: true, &quot;color&quot;: &quot;red&quot;, &quot;dashArray&quot;: null, &quot;dashOffset&quot;: null, &quot;fill&quot;: true, &quot;fillColor&quot;: &quot;red&quot;, &quot;fillOpacity&quot;: 0.3, &quot;fillRule&quot;: &quot;evenodd&quot;, &quot;lineCap&quot;: &quot;round&quot;, &quot;lineJoin&quot;: &quot;round&quot;, &quot;opacity&quot;: 1.0, &quot;radius&quot;: 1, &quot;stroke&quot;: true, &quot;weight&quot;: 3}\n",
       "            ).addTo(feature_group_a3fae91464b6830f082b3871b05594c9);\n",
       "        \n",
       "    \n",
       "            var circle_marker_9716556ec6afc041c914ffe7f8edbb08 = L.circleMarker(\n",
       "                [4.578229427337647, -74.15193176269531],\n",
       "                {&quot;bubblingMouseEvents&quot;: true, &quot;color&quot;: &quot;red&quot;, &quot;dashArray&quot;: null, &quot;dashOffset&quot;: null, &quot;fill&quot;: true, &quot;fillColor&quot;: &quot;red&quot;, &quot;fillOpacity&quot;: 0.3, &quot;fillRule&quot;: &quot;evenodd&quot;, &quot;lineCap&quot;: &quot;round&quot;, &quot;lineJoin&quot;: &quot;round&quot;, &quot;opacity&quot;: 1.0, &quot;radius&quot;: 1, &quot;stroke&quot;: true, &quot;weight&quot;: 3}\n",
       "            ).addTo(feature_group_a3fae91464b6830f082b3871b05594c9);\n",
       "        \n",
       "    \n",
       "            var circle_marker_a02200188b4fd7e4a98940fed5b3b4e6 = L.circleMarker(\n",
       "                [4.5955491065979, -74.16399383544922],\n",
       "                {&quot;bubblingMouseEvents&quot;: true, &quot;color&quot;: &quot;red&quot;, &quot;dashArray&quot;: null, &quot;dashOffset&quot;: null, &quot;fill&quot;: true, &quot;fillColor&quot;: &quot;red&quot;, &quot;fillOpacity&quot;: 0.3, &quot;fillRule&quot;: &quot;evenodd&quot;, &quot;lineCap&quot;: &quot;round&quot;, &quot;lineJoin&quot;: &quot;round&quot;, &quot;opacity&quot;: 1.0, &quot;radius&quot;: 1, &quot;stroke&quot;: true, &quot;weight&quot;: 3}\n",
       "            ).addTo(feature_group_a3fae91464b6830f082b3871b05594c9);\n",
       "        \n",
       "    \n",
       "            var circle_marker_89db9197c30ed4fa61bb0500c2d33b20 = L.circleMarker(\n",
       "                [4.546347141265869, -74.10365295410156],\n",
       "                {&quot;bubblingMouseEvents&quot;: true, &quot;color&quot;: &quot;red&quot;, &quot;dashArray&quot;: null, &quot;dashOffset&quot;: null, &quot;fill&quot;: true, &quot;fillColor&quot;: &quot;red&quot;, &quot;fillOpacity&quot;: 0.3, &quot;fillRule&quot;: &quot;evenodd&quot;, &quot;lineCap&quot;: &quot;round&quot;, &quot;lineJoin&quot;: &quot;round&quot;, &quot;opacity&quot;: 1.0, &quot;radius&quot;: 1, &quot;stroke&quot;: true, &quot;weight&quot;: 3}\n",
       "            ).addTo(feature_group_a3fae91464b6830f082b3871b05594c9);\n",
       "        \n",
       "    \n",
       "            var circle_marker_5f531399b59cd73271d00e2e35dc6342 = L.circleMarker(\n",
       "                [4.722286224365234, -74.05162811279297],\n",
       "                {&quot;bubblingMouseEvents&quot;: true, &quot;color&quot;: &quot;red&quot;, &quot;dashArray&quot;: null, &quot;dashOffset&quot;: null, &quot;fill&quot;: true, &quot;fillColor&quot;: &quot;red&quot;, &quot;fillOpacity&quot;: 0.3, &quot;fillRule&quot;: &quot;evenodd&quot;, &quot;lineCap&quot;: &quot;round&quot;, &quot;lineJoin&quot;: &quot;round&quot;, &quot;opacity&quot;: 1.0, &quot;radius&quot;: 1, &quot;stroke&quot;: true, &quot;weight&quot;: 3}\n",
       "            ).addTo(feature_group_a3fae91464b6830f082b3871b05594c9);\n",
       "        \n",
       "    \n",
       "            var circle_marker_51e1983fb2796839f0de40dd4d530c3d = L.circleMarker(\n",
       "                [4.664573669433594, -74.04696655273438],\n",
       "                {&quot;bubblingMouseEvents&quot;: true, &quot;color&quot;: &quot;red&quot;, &quot;dashArray&quot;: null, &quot;dashOffset&quot;: null, &quot;fill&quot;: true, &quot;fillColor&quot;: &quot;red&quot;, &quot;fillOpacity&quot;: 0.3, &quot;fillRule&quot;: &quot;evenodd&quot;, &quot;lineCap&quot;: &quot;round&quot;, &quot;lineJoin&quot;: &quot;round&quot;, &quot;opacity&quot;: 1.0, &quot;radius&quot;: 1, &quot;stroke&quot;: true, &quot;weight&quot;: 3}\n",
       "            ).addTo(feature_group_a3fae91464b6830f082b3871b05594c9);\n",
       "        \n",
       "    \n",
       "            var circle_marker_b65ac09808f88cdb98493cddf2e4784d = L.circleMarker(\n",
       "                [4.625897407531738, -74.1770248413086],\n",
       "                {&quot;bubblingMouseEvents&quot;: true, &quot;color&quot;: &quot;red&quot;, &quot;dashArray&quot;: null, &quot;dashOffset&quot;: null, &quot;fill&quot;: true, &quot;fillColor&quot;: &quot;red&quot;, &quot;fillOpacity&quot;: 0.3, &quot;fillRule&quot;: &quot;evenodd&quot;, &quot;lineCap&quot;: &quot;round&quot;, &quot;lineJoin&quot;: &quot;round&quot;, &quot;opacity&quot;: 1.0, &quot;radius&quot;: 1, &quot;stroke&quot;: true, &quot;weight&quot;: 3}\n",
       "            ).addTo(feature_group_a3fae91464b6830f082b3871b05594c9);\n",
       "        \n",
       "    \n",
       "            var circle_marker_bd97bebf156f25df307677ff4c47c153 = L.circleMarker(\n",
       "                [4.555251598358154, -74.0972900390625],\n",
       "                {&quot;bubblingMouseEvents&quot;: true, &quot;color&quot;: &quot;red&quot;, &quot;dashArray&quot;: null, &quot;dashOffset&quot;: null, &quot;fill&quot;: true, &quot;fillColor&quot;: &quot;red&quot;, &quot;fillOpacity&quot;: 0.3, &quot;fillRule&quot;: &quot;evenodd&quot;, &quot;lineCap&quot;: &quot;round&quot;, &quot;lineJoin&quot;: &quot;round&quot;, &quot;opacity&quot;: 1.0, &quot;radius&quot;: 1, &quot;stroke&quot;: true, &quot;weight&quot;: 3}\n",
       "            ).addTo(feature_group_a3fae91464b6830f082b3871b05594c9);\n",
       "        \n",
       "    \n",
       "            var circle_marker_b5c8993b8969b5b65cce633f85de1b51 = L.circleMarker(\n",
       "                [4.619846820831299, -74.11215209960938],\n",
       "                {&quot;bubblingMouseEvents&quot;: true, &quot;color&quot;: &quot;red&quot;, &quot;dashArray&quot;: null, &quot;dashOffset&quot;: null, &quot;fill&quot;: true, &quot;fillColor&quot;: &quot;red&quot;, &quot;fillOpacity&quot;: 0.3, &quot;fillRule&quot;: &quot;evenodd&quot;, &quot;lineCap&quot;: &quot;round&quot;, &quot;lineJoin&quot;: &quot;round&quot;, &quot;opacity&quot;: 1.0, &quot;radius&quot;: 1, &quot;stroke&quot;: true, &quot;weight&quot;: 3}\n",
       "            ).addTo(feature_group_a3fae91464b6830f082b3871b05594c9);\n",
       "        \n",
       "    \n",
       "            var feature_group_df94cf8dee1ca81977059535af914771 = L.featureGroup(\n",
       "                {}\n",
       "            ).addTo(map_87e71216fd25ff06427a56ad183a77f5);\n",
       "        \n",
       "    \n",
       "            var circle_marker_5fa5e335c319acef73a2b657d9f640ea = L.circleMarker(\n",
       "                [4.615981, -74.0995867],\n",
       "                {&quot;bubblingMouseEvents&quot;: true, &quot;color&quot;: &quot;blue&quot;, &quot;dashArray&quot;: null, &quot;dashOffset&quot;: null, &quot;fill&quot;: true, &quot;fillColor&quot;: &quot;blue&quot;, &quot;fillOpacity&quot;: 0.3, &quot;fillRule&quot;: &quot;evenodd&quot;, &quot;lineCap&quot;: &quot;round&quot;, &quot;lineJoin&quot;: &quot;round&quot;, &quot;opacity&quot;: 1.0, &quot;radius&quot;: 1, &quot;stroke&quot;: true, &quot;weight&quot;: 3}\n",
       "            ).addTo(feature_group_df94cf8dee1ca81977059535af914771);\n",
       "        \n",
       "    \n",
       "            var circle_marker_5faf22a75cecd463a72445e64b78148a = L.circleMarker(\n",
       "                [4.6196585, -74.1241795],\n",
       "                {&quot;bubblingMouseEvents&quot;: true, &quot;color&quot;: &quot;blue&quot;, &quot;dashArray&quot;: null, &quot;dashOffset&quot;: null, &quot;fill&quot;: true, &quot;fillColor&quot;: &quot;blue&quot;, &quot;fillOpacity&quot;: 0.3, &quot;fillRule&quot;: &quot;evenodd&quot;, &quot;lineCap&quot;: &quot;round&quot;, &quot;lineJoin&quot;: &quot;round&quot;, &quot;opacity&quot;: 1.0, &quot;radius&quot;: 1, &quot;stroke&quot;: true, &quot;weight&quot;: 3}\n",
       "            ).addTo(feature_group_df94cf8dee1ca81977059535af914771);\n",
       "        \n",
       "    \n",
       "            var circle_marker_e91209d188ced755fbffe8b31e29c468 = L.circleMarker(\n",
       "                [4.6298267, -74.1059283],\n",
       "                {&quot;bubblingMouseEvents&quot;: true, &quot;color&quot;: &quot;blue&quot;, &quot;dashArray&quot;: null, &quot;dashOffset&quot;: null, &quot;fill&quot;: true, &quot;fillColor&quot;: &quot;blue&quot;, &quot;fillOpacity&quot;: 0.3, &quot;fillRule&quot;: &quot;evenodd&quot;, &quot;lineCap&quot;: &quot;round&quot;, &quot;lineJoin&quot;: &quot;round&quot;, &quot;opacity&quot;: 1.0, &quot;radius&quot;: 1, &quot;stroke&quot;: true, &quot;weight&quot;: 3}\n",
       "            ).addTo(feature_group_df94cf8dee1ca81977059535af914771);\n",
       "        \n",
       "    \n",
       "            var circle_marker_e37587a197733636bc7da54ed2f6edc4 = L.circleMarker(\n",
       "                [4.6511155, -74.1366581],\n",
       "                {&quot;bubblingMouseEvents&quot;: true, &quot;color&quot;: &quot;blue&quot;, &quot;dashArray&quot;: null, &quot;dashOffset&quot;: null, &quot;fill&quot;: true, &quot;fillColor&quot;: &quot;blue&quot;, &quot;fillOpacity&quot;: 0.3, &quot;fillRule&quot;: &quot;evenodd&quot;, &quot;lineCap&quot;: &quot;round&quot;, &quot;lineJoin&quot;: &quot;round&quot;, &quot;opacity&quot;: 1.0, &quot;radius&quot;: 1, &quot;stroke&quot;: true, &quot;weight&quot;: 3}\n",
       "            ).addTo(feature_group_df94cf8dee1ca81977059535af914771);\n",
       "        \n",
       "    \n",
       "            var circle_marker_d932d2006eac820afd24184d2a933635 = L.circleMarker(\n",
       "                [4.5804683, -74.1561167],\n",
       "                {&quot;bubblingMouseEvents&quot;: true, &quot;color&quot;: &quot;blue&quot;, &quot;dashArray&quot;: null, &quot;dashOffset&quot;: null, &quot;fill&quot;: true, &quot;fillColor&quot;: &quot;blue&quot;, &quot;fillOpacity&quot;: 0.3, &quot;fillRule&quot;: &quot;evenodd&quot;, &quot;lineCap&quot;: &quot;round&quot;, &quot;lineJoin&quot;: &quot;round&quot;, &quot;opacity&quot;: 1.0, &quot;radius&quot;: 1, &quot;stroke&quot;: true, &quot;weight&quot;: 3}\n",
       "            ).addTo(feature_group_df94cf8dee1ca81977059535af914771);\n",
       "        \n",
       "    \n",
       "            var circle_marker_d7ca295abec13bdf37524576b14e9ad1 = L.circleMarker(\n",
       "                [4.58698, -74.1352133],\n",
       "                {&quot;bubblingMouseEvents&quot;: true, &quot;color&quot;: &quot;blue&quot;, &quot;dashArray&quot;: null, &quot;dashOffset&quot;: null, &quot;fill&quot;: true, &quot;fillColor&quot;: &quot;blue&quot;, &quot;fillOpacity&quot;: 0.3, &quot;fillRule&quot;: &quot;evenodd&quot;, &quot;lineCap&quot;: &quot;round&quot;, &quot;lineJoin&quot;: &quot;round&quot;, &quot;opacity&quot;: 1.0, &quot;radius&quot;: 1, &quot;stroke&quot;: true, &quot;weight&quot;: 3}\n",
       "            ).addTo(feature_group_df94cf8dee1ca81977059535af914771);\n",
       "        \n",
       "    \n",
       "            var circle_marker_03f701980335c549968287641d9ef288 = L.circleMarker(\n",
       "                [4.5796633, -74.1092917],\n",
       "                {&quot;bubblingMouseEvents&quot;: true, &quot;color&quot;: &quot;blue&quot;, &quot;dashArray&quot;: null, &quot;dashOffset&quot;: null, &quot;fill&quot;: true, &quot;fillColor&quot;: &quot;blue&quot;, &quot;fillOpacity&quot;: 0.3, &quot;fillRule&quot;: &quot;evenodd&quot;, &quot;lineCap&quot;: &quot;round&quot;, &quot;lineJoin&quot;: &quot;round&quot;, &quot;opacity&quot;: 1.0, &quot;radius&quot;: 1, &quot;stroke&quot;: true, &quot;weight&quot;: 3}\n",
       "            ).addTo(feature_group_df94cf8dee1ca81977059535af914771);\n",
       "        \n",
       "    \n",
       "            var circle_marker_47eb9cef9306af5fb258715f1bf7633d = L.circleMarker(\n",
       "                [4.5866167, -74.106445],\n",
       "                {&quot;bubblingMouseEvents&quot;: true, &quot;color&quot;: &quot;blue&quot;, &quot;dashArray&quot;: null, &quot;dashOffset&quot;: null, &quot;fill&quot;: true, &quot;fillColor&quot;: &quot;blue&quot;, &quot;fillOpacity&quot;: 0.3, &quot;fillRule&quot;: &quot;evenodd&quot;, &quot;lineCap&quot;: &quot;round&quot;, &quot;lineJoin&quot;: &quot;round&quot;, &quot;opacity&quot;: 1.0, &quot;radius&quot;: 1, &quot;stroke&quot;: true, &quot;weight&quot;: 3}\n",
       "            ).addTo(feature_group_df94cf8dee1ca81977059535af914771);\n",
       "        \n",
       "    \n",
       "            var circle_marker_85eca16ce33a2e9bd72dab690ca498a4 = L.circleMarker(\n",
       "                [4.6694361, -74.1161715],\n",
       "                {&quot;bubblingMouseEvents&quot;: true, &quot;color&quot;: &quot;blue&quot;, &quot;dashArray&quot;: null, &quot;dashOffset&quot;: null, &quot;fill&quot;: true, &quot;fillColor&quot;: &quot;blue&quot;, &quot;fillOpacity&quot;: 0.3, &quot;fillRule&quot;: &quot;evenodd&quot;, &quot;lineCap&quot;: &quot;round&quot;, &quot;lineJoin&quot;: &quot;round&quot;, &quot;opacity&quot;: 1.0, &quot;radius&quot;: 1, &quot;stroke&quot;: true, &quot;weight&quot;: 3}\n",
       "            ).addTo(feature_group_df94cf8dee1ca81977059535af914771);\n",
       "        \n",
       "    \n",
       "            var circle_marker_650d61cf3339b624479b879e79d22546 = L.circleMarker(\n",
       "                [4.61031, -74.116225],\n",
       "                {&quot;bubblingMouseEvents&quot;: true, &quot;color&quot;: &quot;blue&quot;, &quot;dashArray&quot;: null, &quot;dashOffset&quot;: null, &quot;fill&quot;: true, &quot;fillColor&quot;: &quot;blue&quot;, &quot;fillOpacity&quot;: 0.3, &quot;fillRule&quot;: &quot;evenodd&quot;, &quot;lineCap&quot;: &quot;round&quot;, &quot;lineJoin&quot;: &quot;round&quot;, &quot;opacity&quot;: 1.0, &quot;radius&quot;: 1, &quot;stroke&quot;: true, &quot;weight&quot;: 3}\n",
       "            ).addTo(feature_group_df94cf8dee1ca81977059535af914771);\n",
       "        \n",
       "    \n",
       "            var circle_marker_91bdde83f8a6d686286b840929b182e5 = L.circleMarker(\n",
       "                [4.5883178, -74.1547399],\n",
       "                {&quot;bubblingMouseEvents&quot;: true, &quot;color&quot;: &quot;blue&quot;, &quot;dashArray&quot;: null, &quot;dashOffset&quot;: null, &quot;fill&quot;: true, &quot;fillColor&quot;: &quot;blue&quot;, &quot;fillOpacity&quot;: 0.3, &quot;fillRule&quot;: &quot;evenodd&quot;, &quot;lineCap&quot;: &quot;round&quot;, &quot;lineJoin&quot;: &quot;round&quot;, &quot;opacity&quot;: 1.0, &quot;radius&quot;: 1, &quot;stroke&quot;: true, &quot;weight&quot;: 3}\n",
       "            ).addTo(feature_group_df94cf8dee1ca81977059535af914771);\n",
       "        \n",
       "    \n",
       "            var circle_marker_e00cd41db4e15190cac0185a84aea87d = L.circleMarker(\n",
       "                [4.5983103, -74.140527],\n",
       "                {&quot;bubblingMouseEvents&quot;: true, &quot;color&quot;: &quot;blue&quot;, &quot;dashArray&quot;: null, &quot;dashOffset&quot;: null, &quot;fill&quot;: true, &quot;fillColor&quot;: &quot;blue&quot;, &quot;fillOpacity&quot;: 0.3, &quot;fillRule&quot;: &quot;evenodd&quot;, &quot;lineCap&quot;: &quot;round&quot;, &quot;lineJoin&quot;: &quot;round&quot;, &quot;opacity&quot;: 1.0, &quot;radius&quot;: 1, &quot;stroke&quot;: true, &quot;weight&quot;: 3}\n",
       "            ).addTo(feature_group_df94cf8dee1ca81977059535af914771);\n",
       "        \n",
       "    \n",
       "            var circle_marker_c3c7821aaf605acf8b84c17c3eec5378 = L.circleMarker(\n",
       "                [4.5868611, -74.1100911],\n",
       "                {&quot;bubblingMouseEvents&quot;: true, &quot;color&quot;: &quot;blue&quot;, &quot;dashArray&quot;: null, &quot;dashOffset&quot;: null, &quot;fill&quot;: true, &quot;fillColor&quot;: &quot;blue&quot;, &quot;fillOpacity&quot;: 0.3, &quot;fillRule&quot;: &quot;evenodd&quot;, &quot;lineCap&quot;: &quot;round&quot;, &quot;lineJoin&quot;: &quot;round&quot;, &quot;opacity&quot;: 1.0, &quot;radius&quot;: 1, &quot;stroke&quot;: true, &quot;weight&quot;: 3}\n",
       "            ).addTo(feature_group_df94cf8dee1ca81977059535af914771);\n",
       "        \n",
       "    \n",
       "            var circle_marker_38b17ceec31c29911a838e5a495b6986 = L.circleMarker(\n",
       "                [4.6157602, -74.1172057],\n",
       "                {&quot;bubblingMouseEvents&quot;: true, &quot;color&quot;: &quot;blue&quot;, &quot;dashArray&quot;: null, &quot;dashOffset&quot;: null, &quot;fill&quot;: true, &quot;fillColor&quot;: &quot;blue&quot;, &quot;fillOpacity&quot;: 0.3, &quot;fillRule&quot;: &quot;evenodd&quot;, &quot;lineCap&quot;: &quot;round&quot;, &quot;lineJoin&quot;: &quot;round&quot;, &quot;opacity&quot;: 1.0, &quot;radius&quot;: 1, &quot;stroke&quot;: true, &quot;weight&quot;: 3}\n",
       "            ).addTo(feature_group_df94cf8dee1ca81977059535af914771);\n",
       "        \n",
       "    \n",
       "            var circle_marker_ab220261dc548a88f7ee168dabd7dba1 = L.circleMarker(\n",
       "                [4.5763805, -74.1354525],\n",
       "                {&quot;bubblingMouseEvents&quot;: true, &quot;color&quot;: &quot;blue&quot;, &quot;dashArray&quot;: null, &quot;dashOffset&quot;: null, &quot;fill&quot;: true, &quot;fillColor&quot;: &quot;blue&quot;, &quot;fillOpacity&quot;: 0.3, &quot;fillRule&quot;: &quot;evenodd&quot;, &quot;lineCap&quot;: &quot;round&quot;, &quot;lineJoin&quot;: &quot;round&quot;, &quot;opacity&quot;: 1.0, &quot;radius&quot;: 1, &quot;stroke&quot;: true, &quot;weight&quot;: 3}\n",
       "            ).addTo(feature_group_df94cf8dee1ca81977059535af914771);\n",
       "        \n",
       "    \n",
       "            var circle_marker_2f89729a1c26ff57103e166d55cbee18 = L.circleMarker(\n",
       "                [4.6522242, -74.1131562],\n",
       "                {&quot;bubblingMouseEvents&quot;: true, &quot;color&quot;: &quot;blue&quot;, &quot;dashArray&quot;: null, &quot;dashOffset&quot;: null, &quot;fill&quot;: true, &quot;fillColor&quot;: &quot;blue&quot;, &quot;fillOpacity&quot;: 0.3, &quot;fillRule&quot;: &quot;evenodd&quot;, &quot;lineCap&quot;: &quot;round&quot;, &quot;lineJoin&quot;: &quot;round&quot;, &quot;opacity&quot;: 1.0, &quot;radius&quot;: 1, &quot;stroke&quot;: true, &quot;weight&quot;: 3}\n",
       "            ).addTo(feature_group_df94cf8dee1ca81977059535af914771);\n",
       "        \n",
       "    \n",
       "            var circle_marker_d3adcbd6788d79a58d3429e34ce3f68f = L.circleMarker(\n",
       "                [4.6000139, -74.0812621],\n",
       "                {&quot;bubblingMouseEvents&quot;: true, &quot;color&quot;: &quot;blue&quot;, &quot;dashArray&quot;: null, &quot;dashOffset&quot;: null, &quot;fill&quot;: true, &quot;fillColor&quot;: &quot;blue&quot;, &quot;fillOpacity&quot;: 0.3, &quot;fillRule&quot;: &quot;evenodd&quot;, &quot;lineCap&quot;: &quot;round&quot;, &quot;lineJoin&quot;: &quot;round&quot;, &quot;opacity&quot;: 1.0, &quot;radius&quot;: 1, &quot;stroke&quot;: true, &quot;weight&quot;: 3}\n",
       "            ).addTo(feature_group_df94cf8dee1ca81977059535af914771);\n",
       "        \n",
       "    \n",
       "            var circle_marker_dd1d3e9f1eedb8bc49e664033533148f = L.circleMarker(\n",
       "                [4.6822799, -74.1045128],\n",
       "                {&quot;bubblingMouseEvents&quot;: true, &quot;color&quot;: &quot;blue&quot;, &quot;dashArray&quot;: null, &quot;dashOffset&quot;: null, &quot;fill&quot;: true, &quot;fillColor&quot;: &quot;blue&quot;, &quot;fillOpacity&quot;: 0.3, &quot;fillRule&quot;: &quot;evenodd&quot;, &quot;lineCap&quot;: &quot;round&quot;, &quot;lineJoin&quot;: &quot;round&quot;, &quot;opacity&quot;: 1.0, &quot;radius&quot;: 1, &quot;stroke&quot;: true, &quot;weight&quot;: 3}\n",
       "            ).addTo(feature_group_df94cf8dee1ca81977059535af914771);\n",
       "        \n",
       "    \n",
       "            var circle_marker_86a9a088a9db9ef1e6ca66b57d9f3877 = L.circleMarker(\n",
       "                [4.5516463, -74.108515],\n",
       "                {&quot;bubblingMouseEvents&quot;: true, &quot;color&quot;: &quot;blue&quot;, &quot;dashArray&quot;: null, &quot;dashOffset&quot;: null, &quot;fill&quot;: true, &quot;fillColor&quot;: &quot;blue&quot;, &quot;fillOpacity&quot;: 0.3, &quot;fillRule&quot;: &quot;evenodd&quot;, &quot;lineCap&quot;: &quot;round&quot;, &quot;lineJoin&quot;: &quot;round&quot;, &quot;opacity&quot;: 1.0, &quot;radius&quot;: 1, &quot;stroke&quot;: true, &quot;weight&quot;: 3}\n",
       "            ).addTo(feature_group_df94cf8dee1ca81977059535af914771);\n",
       "        \n",
       "    \n",
       "            var circle_marker_45ece16f697ecf2231f2e5563f9f7a36 = L.circleMarker(\n",
       "                [4.5891261, -74.1377591],\n",
       "                {&quot;bubblingMouseEvents&quot;: true, &quot;color&quot;: &quot;blue&quot;, &quot;dashArray&quot;: null, &quot;dashOffset&quot;: null, &quot;fill&quot;: true, &quot;fillColor&quot;: &quot;blue&quot;, &quot;fillOpacity&quot;: 0.3, &quot;fillRule&quot;: &quot;evenodd&quot;, &quot;lineCap&quot;: &quot;round&quot;, &quot;lineJoin&quot;: &quot;round&quot;, &quot;opacity&quot;: 1.0, &quot;radius&quot;: 1, &quot;stroke&quot;: true, &quot;weight&quot;: 3}\n",
       "            ).addTo(feature_group_df94cf8dee1ca81977059535af914771);\n",
       "        \n",
       "    \n",
       "            var circle_marker_23e37e3c016ae7cdfa05ddd86976ba86 = L.circleMarker(\n",
       "                [4.5808575, -74.1681975],\n",
       "                {&quot;bubblingMouseEvents&quot;: true, &quot;color&quot;: &quot;blue&quot;, &quot;dashArray&quot;: null, &quot;dashOffset&quot;: null, &quot;fill&quot;: true, &quot;fillColor&quot;: &quot;blue&quot;, &quot;fillOpacity&quot;: 0.3, &quot;fillRule&quot;: &quot;evenodd&quot;, &quot;lineCap&quot;: &quot;round&quot;, &quot;lineJoin&quot;: &quot;round&quot;, &quot;opacity&quot;: 1.0, &quot;radius&quot;: 1, &quot;stroke&quot;: true, &quot;weight&quot;: 3}\n",
       "            ).addTo(feature_group_df94cf8dee1ca81977059535af914771);\n",
       "        \n",
       "    \n",
       "            var circle_marker_1fbd946f6c8ac94f9d6ad9b4230b9bba = L.circleMarker(\n",
       "                [4.6184283, -74.1028983],\n",
       "                {&quot;bubblingMouseEvents&quot;: true, &quot;color&quot;: &quot;blue&quot;, &quot;dashArray&quot;: null, &quot;dashOffset&quot;: null, &quot;fill&quot;: true, &quot;fillColor&quot;: &quot;blue&quot;, &quot;fillOpacity&quot;: 0.3, &quot;fillRule&quot;: &quot;evenodd&quot;, &quot;lineCap&quot;: &quot;round&quot;, &quot;lineJoin&quot;: &quot;round&quot;, &quot;opacity&quot;: 1.0, &quot;radius&quot;: 1, &quot;stroke&quot;: true, &quot;weight&quot;: 3}\n",
       "            ).addTo(feature_group_df94cf8dee1ca81977059535af914771);\n",
       "        \n",
       "    \n",
       "            var circle_marker_aba31f3200eb6aba013785690bb0d48d = L.circleMarker(\n",
       "                [4.7138533, -74.11724],\n",
       "                {&quot;bubblingMouseEvents&quot;: true, &quot;color&quot;: &quot;blue&quot;, &quot;dashArray&quot;: null, &quot;dashOffset&quot;: null, &quot;fill&quot;: true, &quot;fillColor&quot;: &quot;blue&quot;, &quot;fillOpacity&quot;: 0.3, &quot;fillRule&quot;: &quot;evenodd&quot;, &quot;lineCap&quot;: &quot;round&quot;, &quot;lineJoin&quot;: &quot;round&quot;, &quot;opacity&quot;: 1.0, &quot;radius&quot;: 1, &quot;stroke&quot;: true, &quot;weight&quot;: 3}\n",
       "            ).addTo(feature_group_df94cf8dee1ca81977059535af914771);\n",
       "        \n",
       "    \n",
       "            var circle_marker_b3afbbce0a4daaa463dd568cf0fb4c96 = L.circleMarker(\n",
       "                [4.5862667, -74.1380083],\n",
       "                {&quot;bubblingMouseEvents&quot;: true, &quot;color&quot;: &quot;blue&quot;, &quot;dashArray&quot;: null, &quot;dashOffset&quot;: null, &quot;fill&quot;: true, &quot;fillColor&quot;: &quot;blue&quot;, &quot;fillOpacity&quot;: 0.3, &quot;fillRule&quot;: &quot;evenodd&quot;, &quot;lineCap&quot;: &quot;round&quot;, &quot;lineJoin&quot;: &quot;round&quot;, &quot;opacity&quot;: 1.0, &quot;radius&quot;: 1, &quot;stroke&quot;: true, &quot;weight&quot;: 3}\n",
       "            ).addTo(feature_group_df94cf8dee1ca81977059535af914771);\n",
       "        \n",
       "    \n",
       "            var circle_marker_d71c4a202fafe9c59647aa13f02e9557 = L.circleMarker(\n",
       "                [4.7024305, -74.1337581],\n",
       "                {&quot;bubblingMouseEvents&quot;: true, &quot;color&quot;: &quot;blue&quot;, &quot;dashArray&quot;: null, &quot;dashOffset&quot;: null, &quot;fill&quot;: true, &quot;fillColor&quot;: &quot;blue&quot;, &quot;fillOpacity&quot;: 0.3, &quot;fillRule&quot;: &quot;evenodd&quot;, &quot;lineCap&quot;: &quot;round&quot;, &quot;lineJoin&quot;: &quot;round&quot;, &quot;opacity&quot;: 1.0, &quot;radius&quot;: 1, &quot;stroke&quot;: true, &quot;weight&quot;: 3}\n",
       "            ).addTo(feature_group_df94cf8dee1ca81977059535af914771);\n",
       "        \n",
       "    \n",
       "            var circle_marker_38514e232d770a40bbb98ae2da149d0c = L.circleMarker(\n",
       "                [4.6204234, -74.1167681],\n",
       "                {&quot;bubblingMouseEvents&quot;: true, &quot;color&quot;: &quot;blue&quot;, &quot;dashArray&quot;: null, &quot;dashOffset&quot;: null, &quot;fill&quot;: true, &quot;fillColor&quot;: &quot;blue&quot;, &quot;fillOpacity&quot;: 0.3, &quot;fillRule&quot;: &quot;evenodd&quot;, &quot;lineCap&quot;: &quot;round&quot;, &quot;lineJoin&quot;: &quot;round&quot;, &quot;opacity&quot;: 1.0, &quot;radius&quot;: 1, &quot;stroke&quot;: true, &quot;weight&quot;: 3}\n",
       "            ).addTo(feature_group_df94cf8dee1ca81977059535af914771);\n",
       "        \n",
       "    \n",
       "            var circle_marker_343270b878e366de5391a98b04a60b0c = L.circleMarker(\n",
       "                [4.6502737, -74.1519302],\n",
       "                {&quot;bubblingMouseEvents&quot;: true, &quot;color&quot;: &quot;blue&quot;, &quot;dashArray&quot;: null, &quot;dashOffset&quot;: null, &quot;fill&quot;: true, &quot;fillColor&quot;: &quot;blue&quot;, &quot;fillOpacity&quot;: 0.3, &quot;fillRule&quot;: &quot;evenodd&quot;, &quot;lineCap&quot;: &quot;round&quot;, &quot;lineJoin&quot;: &quot;round&quot;, &quot;opacity&quot;: 1.0, &quot;radius&quot;: 1, &quot;stroke&quot;: true, &quot;weight&quot;: 3}\n",
       "            ).addTo(feature_group_df94cf8dee1ca81977059535af914771);\n",
       "        \n",
       "    \n",
       "            var circle_marker_023fadef619c87b2a42d45241bb81f30 = L.circleMarker(\n",
       "                [4.6001233, -74.1210833],\n",
       "                {&quot;bubblingMouseEvents&quot;: true, &quot;color&quot;: &quot;blue&quot;, &quot;dashArray&quot;: null, &quot;dashOffset&quot;: null, &quot;fill&quot;: true, &quot;fillColor&quot;: &quot;blue&quot;, &quot;fillOpacity&quot;: 0.3, &quot;fillRule&quot;: &quot;evenodd&quot;, &quot;lineCap&quot;: &quot;round&quot;, &quot;lineJoin&quot;: &quot;round&quot;, &quot;opacity&quot;: 1.0, &quot;radius&quot;: 1, &quot;stroke&quot;: true, &quot;weight&quot;: 3}\n",
       "            ).addTo(feature_group_df94cf8dee1ca81977059535af914771);\n",
       "        \n",
       "    \n",
       "            var circle_marker_34debbef4bb57f72673547e41616c1ec = L.circleMarker(\n",
       "                [4.63264, -74.1353083],\n",
       "                {&quot;bubblingMouseEvents&quot;: true, &quot;color&quot;: &quot;blue&quot;, &quot;dashArray&quot;: null, &quot;dashOffset&quot;: null, &quot;fill&quot;: true, &quot;fillColor&quot;: &quot;blue&quot;, &quot;fillOpacity&quot;: 0.3, &quot;fillRule&quot;: &quot;evenodd&quot;, &quot;lineCap&quot;: &quot;round&quot;, &quot;lineJoin&quot;: &quot;round&quot;, &quot;opacity&quot;: 1.0, &quot;radius&quot;: 1, &quot;stroke&quot;: true, &quot;weight&quot;: 3}\n",
       "            ).addTo(feature_group_df94cf8dee1ca81977059535af914771);\n",
       "        \n",
       "    \n",
       "            var circle_marker_1b5c3b6916d398b50d674d8a0cfe6951 = L.circleMarker(\n",
       "                [4.5574569, -74.1217769],\n",
       "                {&quot;bubblingMouseEvents&quot;: true, &quot;color&quot;: &quot;blue&quot;, &quot;dashArray&quot;: null, &quot;dashOffset&quot;: null, &quot;fill&quot;: true, &quot;fillColor&quot;: &quot;blue&quot;, &quot;fillOpacity&quot;: 0.3, &quot;fillRule&quot;: &quot;evenodd&quot;, &quot;lineCap&quot;: &quot;round&quot;, &quot;lineJoin&quot;: &quot;round&quot;, &quot;opacity&quot;: 1.0, &quot;radius&quot;: 1, &quot;stroke&quot;: true, &quot;weight&quot;: 3}\n",
       "            ).addTo(feature_group_df94cf8dee1ca81977059535af914771);\n",
       "        \n",
       "    \n",
       "            var circle_marker_b464a2619eed09c09058464b76abe626 = L.circleMarker(\n",
       "                [4.6713906, -74.0546768],\n",
       "                {&quot;bubblingMouseEvents&quot;: true, &quot;color&quot;: &quot;blue&quot;, &quot;dashArray&quot;: null, &quot;dashOffset&quot;: null, &quot;fill&quot;: true, &quot;fillColor&quot;: &quot;blue&quot;, &quot;fillOpacity&quot;: 0.3, &quot;fillRule&quot;: &quot;evenodd&quot;, &quot;lineCap&quot;: &quot;round&quot;, &quot;lineJoin&quot;: &quot;round&quot;, &quot;opacity&quot;: 1.0, &quot;radius&quot;: 1, &quot;stroke&quot;: true, &quot;weight&quot;: 3}\n",
       "            ).addTo(feature_group_df94cf8dee1ca81977059535af914771);\n",
       "        \n",
       "    \n",
       "            var circle_marker_e4b97b21920716db24c004409e75a68b = L.circleMarker(\n",
       "                [4.5840831, -74.1334068],\n",
       "                {&quot;bubblingMouseEvents&quot;: true, &quot;color&quot;: &quot;blue&quot;, &quot;dashArray&quot;: null, &quot;dashOffset&quot;: null, &quot;fill&quot;: true, &quot;fillColor&quot;: &quot;blue&quot;, &quot;fillOpacity&quot;: 0.3, &quot;fillRule&quot;: &quot;evenodd&quot;, &quot;lineCap&quot;: &quot;round&quot;, &quot;lineJoin&quot;: &quot;round&quot;, &quot;opacity&quot;: 1.0, &quot;radius&quot;: 1, &quot;stroke&quot;: true, &quot;weight&quot;: 3}\n",
       "            ).addTo(feature_group_df94cf8dee1ca81977059535af914771);\n",
       "        \n",
       "    \n",
       "            var circle_marker_165a659b11d8f7ba2440fa1b8ee38019 = L.circleMarker(\n",
       "                [4.6411838, -74.1970551],\n",
       "                {&quot;bubblingMouseEvents&quot;: true, &quot;color&quot;: &quot;blue&quot;, &quot;dashArray&quot;: null, &quot;dashOffset&quot;: null, &quot;fill&quot;: true, &quot;fillColor&quot;: &quot;blue&quot;, &quot;fillOpacity&quot;: 0.3, &quot;fillRule&quot;: &quot;evenodd&quot;, &quot;lineCap&quot;: &quot;round&quot;, &quot;lineJoin&quot;: &quot;round&quot;, &quot;opacity&quot;: 1.0, &quot;radius&quot;: 1, &quot;stroke&quot;: true, &quot;weight&quot;: 3}\n",
       "            ).addTo(feature_group_df94cf8dee1ca81977059535af914771);\n",
       "        \n",
       "    \n",
       "            var circle_marker_c04e2f295adaf57f1dedc868cd2ee935 = L.circleMarker(\n",
       "                [4.6077622, -74.1080293],\n",
       "                {&quot;bubblingMouseEvents&quot;: true, &quot;color&quot;: &quot;blue&quot;, &quot;dashArray&quot;: null, &quot;dashOffset&quot;: null, &quot;fill&quot;: true, &quot;fillColor&quot;: &quot;blue&quot;, &quot;fillOpacity&quot;: 0.3, &quot;fillRule&quot;: &quot;evenodd&quot;, &quot;lineCap&quot;: &quot;round&quot;, &quot;lineJoin&quot;: &quot;round&quot;, &quot;opacity&quot;: 1.0, &quot;radius&quot;: 1, &quot;stroke&quot;: true, &quot;weight&quot;: 3}\n",
       "            ).addTo(feature_group_df94cf8dee1ca81977059535af914771);\n",
       "        \n",
       "    \n",
       "            var circle_marker_8cd82f9e5111010a5bd42e26e9c3eae3 = L.circleMarker(\n",
       "                [4.5798129, -74.0812033],\n",
       "                {&quot;bubblingMouseEvents&quot;: true, &quot;color&quot;: &quot;blue&quot;, &quot;dashArray&quot;: null, &quot;dashOffset&quot;: null, &quot;fill&quot;: true, &quot;fillColor&quot;: &quot;blue&quot;, &quot;fillOpacity&quot;: 0.3, &quot;fillRule&quot;: &quot;evenodd&quot;, &quot;lineCap&quot;: &quot;round&quot;, &quot;lineJoin&quot;: &quot;round&quot;, &quot;opacity&quot;: 1.0, &quot;radius&quot;: 1, &quot;stroke&quot;: true, &quot;weight&quot;: 3}\n",
       "            ).addTo(feature_group_df94cf8dee1ca81977059535af914771);\n",
       "        \n",
       "    \n",
       "            var circle_marker_87eefb3df2c8b76f56bce03b76658928 = L.circleMarker(\n",
       "                [4.586195, -74.133665],\n",
       "                {&quot;bubblingMouseEvents&quot;: true, &quot;color&quot;: &quot;blue&quot;, &quot;dashArray&quot;: null, &quot;dashOffset&quot;: null, &quot;fill&quot;: true, &quot;fillColor&quot;: &quot;blue&quot;, &quot;fillOpacity&quot;: 0.3, &quot;fillRule&quot;: &quot;evenodd&quot;, &quot;lineCap&quot;: &quot;round&quot;, &quot;lineJoin&quot;: &quot;round&quot;, &quot;opacity&quot;: 1.0, &quot;radius&quot;: 1, &quot;stroke&quot;: true, &quot;weight&quot;: 3}\n",
       "            ).addTo(feature_group_df94cf8dee1ca81977059535af914771);\n",
       "        \n",
       "    \n",
       "            var circle_marker_abfb3abd44fe864448642663b44d9e32 = L.circleMarker(\n",
       "                [4.615795, -74.106885],\n",
       "                {&quot;bubblingMouseEvents&quot;: true, &quot;color&quot;: &quot;blue&quot;, &quot;dashArray&quot;: null, &quot;dashOffset&quot;: null, &quot;fill&quot;: true, &quot;fillColor&quot;: &quot;blue&quot;, &quot;fillOpacity&quot;: 0.3, &quot;fillRule&quot;: &quot;evenodd&quot;, &quot;lineCap&quot;: &quot;round&quot;, &quot;lineJoin&quot;: &quot;round&quot;, &quot;opacity&quot;: 1.0, &quot;radius&quot;: 1, &quot;stroke&quot;: true, &quot;weight&quot;: 3}\n",
       "            ).addTo(feature_group_df94cf8dee1ca81977059535af914771);\n",
       "        \n",
       "    \n",
       "            var circle_marker_effae4ae29dde1489eefc4eff167a99a = L.circleMarker(\n",
       "                [4.6157967, -74.0997067],\n",
       "                {&quot;bubblingMouseEvents&quot;: true, &quot;color&quot;: &quot;blue&quot;, &quot;dashArray&quot;: null, &quot;dashOffset&quot;: null, &quot;fill&quot;: true, &quot;fillColor&quot;: &quot;blue&quot;, &quot;fillOpacity&quot;: 0.3, &quot;fillRule&quot;: &quot;evenodd&quot;, &quot;lineCap&quot;: &quot;round&quot;, &quot;lineJoin&quot;: &quot;round&quot;, &quot;opacity&quot;: 1.0, &quot;radius&quot;: 1, &quot;stroke&quot;: true, &quot;weight&quot;: 3}\n",
       "            ).addTo(feature_group_df94cf8dee1ca81977059535af914771);\n",
       "        \n",
       "    \n",
       "            var circle_marker_fa2862dd1168c069b10bdc559073f81d = L.circleMarker(\n",
       "                [4.6500037, -74.1473483],\n",
       "                {&quot;bubblingMouseEvents&quot;: true, &quot;color&quot;: &quot;blue&quot;, &quot;dashArray&quot;: null, &quot;dashOffset&quot;: null, &quot;fill&quot;: true, &quot;fillColor&quot;: &quot;blue&quot;, &quot;fillOpacity&quot;: 0.3, &quot;fillRule&quot;: &quot;evenodd&quot;, &quot;lineCap&quot;: &quot;round&quot;, &quot;lineJoin&quot;: &quot;round&quot;, &quot;opacity&quot;: 1.0, &quot;radius&quot;: 1, &quot;stroke&quot;: true, &quot;weight&quot;: 3}\n",
       "            ).addTo(feature_group_df94cf8dee1ca81977059535af914771);\n",
       "        \n",
       "    \n",
       "            var circle_marker_51fafc7ac0d67d0ac58edc082e9203a7 = L.circleMarker(\n",
       "                [4.6230483, -74.1945733],\n",
       "                {&quot;bubblingMouseEvents&quot;: true, &quot;color&quot;: &quot;blue&quot;, &quot;dashArray&quot;: null, &quot;dashOffset&quot;: null, &quot;fill&quot;: true, &quot;fillColor&quot;: &quot;blue&quot;, &quot;fillOpacity&quot;: 0.3, &quot;fillRule&quot;: &quot;evenodd&quot;, &quot;lineCap&quot;: &quot;round&quot;, &quot;lineJoin&quot;: &quot;round&quot;, &quot;opacity&quot;: 1.0, &quot;radius&quot;: 1, &quot;stroke&quot;: true, &quot;weight&quot;: 3}\n",
       "            ).addTo(feature_group_df94cf8dee1ca81977059535af914771);\n",
       "        \n",
       "    \n",
       "            var circle_marker_807cca1ed5c150cf807ec1dbc3306fb9 = L.circleMarker(\n",
       "                [4.6056567, -74.1075067],\n",
       "                {&quot;bubblingMouseEvents&quot;: true, &quot;color&quot;: &quot;blue&quot;, &quot;dashArray&quot;: null, &quot;dashOffset&quot;: null, &quot;fill&quot;: true, &quot;fillColor&quot;: &quot;blue&quot;, &quot;fillOpacity&quot;: 0.3, &quot;fillRule&quot;: &quot;evenodd&quot;, &quot;lineCap&quot;: &quot;round&quot;, &quot;lineJoin&quot;: &quot;round&quot;, &quot;opacity&quot;: 1.0, &quot;radius&quot;: 1, &quot;stroke&quot;: true, &quot;weight&quot;: 3}\n",
       "            ).addTo(feature_group_df94cf8dee1ca81977059535af914771);\n",
       "        \n",
       "    \n",
       "            var circle_marker_4decd668dc02de1802f11d33e19d4f1a = L.circleMarker(\n",
       "                [4.5760111, -74.1029428],\n",
       "                {&quot;bubblingMouseEvents&quot;: true, &quot;color&quot;: &quot;blue&quot;, &quot;dashArray&quot;: null, &quot;dashOffset&quot;: null, &quot;fill&quot;: true, &quot;fillColor&quot;: &quot;blue&quot;, &quot;fillOpacity&quot;: 0.3, &quot;fillRule&quot;: &quot;evenodd&quot;, &quot;lineCap&quot;: &quot;round&quot;, &quot;lineJoin&quot;: &quot;round&quot;, &quot;opacity&quot;: 1.0, &quot;radius&quot;: 1, &quot;stroke&quot;: true, &quot;weight&quot;: 3}\n",
       "            ).addTo(feature_group_df94cf8dee1ca81977059535af914771);\n",
       "        \n",
       "    \n",
       "            var circle_marker_8ffe8af885deb75e8c59ec8fc8d8770a = L.circleMarker(\n",
       "                [4.7589017, -74.1254],\n",
       "                {&quot;bubblingMouseEvents&quot;: true, &quot;color&quot;: &quot;blue&quot;, &quot;dashArray&quot;: null, &quot;dashOffset&quot;: null, &quot;fill&quot;: true, &quot;fillColor&quot;: &quot;blue&quot;, &quot;fillOpacity&quot;: 0.3, &quot;fillRule&quot;: &quot;evenodd&quot;, &quot;lineCap&quot;: &quot;round&quot;, &quot;lineJoin&quot;: &quot;round&quot;, &quot;opacity&quot;: 1.0, &quot;radius&quot;: 1, &quot;stroke&quot;: true, &quot;weight&quot;: 3}\n",
       "            ).addTo(feature_group_df94cf8dee1ca81977059535af914771);\n",
       "        \n",
       "    \n",
       "            var circle_marker_87ce3e828850e15f5fa5b46148fdb24b = L.circleMarker(\n",
       "                [4.6165278, -74.1868048],\n",
       "                {&quot;bubblingMouseEvents&quot;: true, &quot;color&quot;: &quot;blue&quot;, &quot;dashArray&quot;: null, &quot;dashOffset&quot;: null, &quot;fill&quot;: true, &quot;fillColor&quot;: &quot;blue&quot;, &quot;fillOpacity&quot;: 0.3, &quot;fillRule&quot;: &quot;evenodd&quot;, &quot;lineCap&quot;: &quot;round&quot;, &quot;lineJoin&quot;: &quot;round&quot;, &quot;opacity&quot;: 1.0, &quot;radius&quot;: 1, &quot;stroke&quot;: true, &quot;weight&quot;: 3}\n",
       "            ).addTo(feature_group_df94cf8dee1ca81977059535af914771);\n",
       "        \n",
       "    \n",
       "            var circle_marker_fb0cf1e953c7fd974f10de234ceddf26 = L.circleMarker(\n",
       "                [4.704675, -74.1142467],\n",
       "                {&quot;bubblingMouseEvents&quot;: true, &quot;color&quot;: &quot;blue&quot;, &quot;dashArray&quot;: null, &quot;dashOffset&quot;: null, &quot;fill&quot;: true, &quot;fillColor&quot;: &quot;blue&quot;, &quot;fillOpacity&quot;: 0.3, &quot;fillRule&quot;: &quot;evenodd&quot;, &quot;lineCap&quot;: &quot;round&quot;, &quot;lineJoin&quot;: &quot;round&quot;, &quot;opacity&quot;: 1.0, &quot;radius&quot;: 1, &quot;stroke&quot;: true, &quot;weight&quot;: 3}\n",
       "            ).addTo(feature_group_df94cf8dee1ca81977059535af914771);\n",
       "        \n",
       "    \n",
       "            var circle_marker_9549a8fe78aa5de973af644c9cb95c3d = L.circleMarker(\n",
       "                [4.618825, -74.1023717],\n",
       "                {&quot;bubblingMouseEvents&quot;: true, &quot;color&quot;: &quot;blue&quot;, &quot;dashArray&quot;: null, &quot;dashOffset&quot;: null, &quot;fill&quot;: true, &quot;fillColor&quot;: &quot;blue&quot;, &quot;fillOpacity&quot;: 0.3, &quot;fillRule&quot;: &quot;evenodd&quot;, &quot;lineCap&quot;: &quot;round&quot;, &quot;lineJoin&quot;: &quot;round&quot;, &quot;opacity&quot;: 1.0, &quot;radius&quot;: 1, &quot;stroke&quot;: true, &quot;weight&quot;: 3}\n",
       "            ).addTo(feature_group_df94cf8dee1ca81977059535af914771);\n",
       "        \n",
       "    \n",
       "            var circle_marker_d478565999b59f9e238a3314e0543d24 = L.circleMarker(\n",
       "                [4.6624718, -74.0471331],\n",
       "                {&quot;bubblingMouseEvents&quot;: true, &quot;color&quot;: &quot;blue&quot;, &quot;dashArray&quot;: null, &quot;dashOffset&quot;: null, &quot;fill&quot;: true, &quot;fillColor&quot;: &quot;blue&quot;, &quot;fillOpacity&quot;: 0.3, &quot;fillRule&quot;: &quot;evenodd&quot;, &quot;lineCap&quot;: &quot;round&quot;, &quot;lineJoin&quot;: &quot;round&quot;, &quot;opacity&quot;: 1.0, &quot;radius&quot;: 1, &quot;stroke&quot;: true, &quot;weight&quot;: 3}\n",
       "            ).addTo(feature_group_df94cf8dee1ca81977059535af914771);\n",
       "        \n",
       "    \n",
       "            var circle_marker_21268eac562d449aa0ee1153c38d65f5 = L.circleMarker(\n",
       "                [4.59334, -74.08969],\n",
       "                {&quot;bubblingMouseEvents&quot;: true, &quot;color&quot;: &quot;blue&quot;, &quot;dashArray&quot;: null, &quot;dashOffset&quot;: null, &quot;fill&quot;: true, &quot;fillColor&quot;: &quot;blue&quot;, &quot;fillOpacity&quot;: 0.3, &quot;fillRule&quot;: &quot;evenodd&quot;, &quot;lineCap&quot;: &quot;round&quot;, &quot;lineJoin&quot;: &quot;round&quot;, &quot;opacity&quot;: 1.0, &quot;radius&quot;: 1, &quot;stroke&quot;: true, &quot;weight&quot;: 3}\n",
       "            ).addTo(feature_group_df94cf8dee1ca81977059535af914771);\n",
       "        \n",
       "    \n",
       "            var circle_marker_b15479fdc8aa896270c1e1c03fc7c8b6 = L.circleMarker(\n",
       "                [4.6164329, -74.0979346],\n",
       "                {&quot;bubblingMouseEvents&quot;: true, &quot;color&quot;: &quot;blue&quot;, &quot;dashArray&quot;: null, &quot;dashOffset&quot;: null, &quot;fill&quot;: true, &quot;fillColor&quot;: &quot;blue&quot;, &quot;fillOpacity&quot;: 0.3, &quot;fillRule&quot;: &quot;evenodd&quot;, &quot;lineCap&quot;: &quot;round&quot;, &quot;lineJoin&quot;: &quot;round&quot;, &quot;opacity&quot;: 1.0, &quot;radius&quot;: 1, &quot;stroke&quot;: true, &quot;weight&quot;: 3}\n",
       "            ).addTo(feature_group_df94cf8dee1ca81977059535af914771);\n",
       "        \n",
       "    \n",
       "            var circle_marker_6f4fec94ed09d5f748c7c4e9d515853c = L.circleMarker(\n",
       "                [4.6622886, -74.0470406],\n",
       "                {&quot;bubblingMouseEvents&quot;: true, &quot;color&quot;: &quot;blue&quot;, &quot;dashArray&quot;: null, &quot;dashOffset&quot;: null, &quot;fill&quot;: true, &quot;fillColor&quot;: &quot;blue&quot;, &quot;fillOpacity&quot;: 0.3, &quot;fillRule&quot;: &quot;evenodd&quot;, &quot;lineCap&quot;: &quot;round&quot;, &quot;lineJoin&quot;: &quot;round&quot;, &quot;opacity&quot;: 1.0, &quot;radius&quot;: 1, &quot;stroke&quot;: true, &quot;weight&quot;: 3}\n",
       "            ).addTo(feature_group_df94cf8dee1ca81977059535af914771);\n",
       "        \n",
       "    \n",
       "            var circle_marker_bcc9eec4bb11079a35e0548a188d829c = L.circleMarker(\n",
       "                [4.6808654, -74.1515253],\n",
       "                {&quot;bubblingMouseEvents&quot;: true, &quot;color&quot;: &quot;blue&quot;, &quot;dashArray&quot;: null, &quot;dashOffset&quot;: null, &quot;fill&quot;: true, &quot;fillColor&quot;: &quot;blue&quot;, &quot;fillOpacity&quot;: 0.3, &quot;fillRule&quot;: &quot;evenodd&quot;, &quot;lineCap&quot;: &quot;round&quot;, &quot;lineJoin&quot;: &quot;round&quot;, &quot;opacity&quot;: 1.0, &quot;radius&quot;: 1, &quot;stroke&quot;: true, &quot;weight&quot;: 3}\n",
       "            ).addTo(feature_group_df94cf8dee1ca81977059535af914771);\n",
       "        \n",
       "    \n",
       "            var circle_marker_8060b4497511da669062207f47c088ea = L.circleMarker(\n",
       "                [4.5589141, -74.0987004],\n",
       "                {&quot;bubblingMouseEvents&quot;: true, &quot;color&quot;: &quot;blue&quot;, &quot;dashArray&quot;: null, &quot;dashOffset&quot;: null, &quot;fill&quot;: true, &quot;fillColor&quot;: &quot;blue&quot;, &quot;fillOpacity&quot;: 0.3, &quot;fillRule&quot;: &quot;evenodd&quot;, &quot;lineCap&quot;: &quot;round&quot;, &quot;lineJoin&quot;: &quot;round&quot;, &quot;opacity&quot;: 1.0, &quot;radius&quot;: 1, &quot;stroke&quot;: true, &quot;weight&quot;: 3}\n",
       "            ).addTo(feature_group_df94cf8dee1ca81977059535af914771);\n",
       "        \n",
       "    \n",
       "            var circle_marker_09a70a9acdc88f19186611679959e525 = L.circleMarker(\n",
       "                [4.59633, -74.080455],\n",
       "                {&quot;bubblingMouseEvents&quot;: true, &quot;color&quot;: &quot;blue&quot;, &quot;dashArray&quot;: null, &quot;dashOffset&quot;: null, &quot;fill&quot;: true, &quot;fillColor&quot;: &quot;blue&quot;, &quot;fillOpacity&quot;: 0.3, &quot;fillRule&quot;: &quot;evenodd&quot;, &quot;lineCap&quot;: &quot;round&quot;, &quot;lineJoin&quot;: &quot;round&quot;, &quot;opacity&quot;: 1.0, &quot;radius&quot;: 1, &quot;stroke&quot;: true, &quot;weight&quot;: 3}\n",
       "            ).addTo(feature_group_df94cf8dee1ca81977059535af914771);\n",
       "        \n",
       "    \n",
       "            var circle_marker_2de9155b80d0645463fbd7cb7f163ca8 = L.circleMarker(\n",
       "                [4.6089342, -74.1083027],\n",
       "                {&quot;bubblingMouseEvents&quot;: true, &quot;color&quot;: &quot;blue&quot;, &quot;dashArray&quot;: null, &quot;dashOffset&quot;: null, &quot;fill&quot;: true, &quot;fillColor&quot;: &quot;blue&quot;, &quot;fillOpacity&quot;: 0.3, &quot;fillRule&quot;: &quot;evenodd&quot;, &quot;lineCap&quot;: &quot;round&quot;, &quot;lineJoin&quot;: &quot;round&quot;, &quot;opacity&quot;: 1.0, &quot;radius&quot;: 1, &quot;stroke&quot;: true, &quot;weight&quot;: 3}\n",
       "            ).addTo(feature_group_df94cf8dee1ca81977059535af914771);\n",
       "        \n",
       "    \n",
       "            var circle_marker_c18ecaeff72c019cadc324e7e7a6ea9e = L.circleMarker(\n",
       "                [4.5650883, -74.1081137],\n",
       "                {&quot;bubblingMouseEvents&quot;: true, &quot;color&quot;: &quot;blue&quot;, &quot;dashArray&quot;: null, &quot;dashOffset&quot;: null, &quot;fill&quot;: true, &quot;fillColor&quot;: &quot;blue&quot;, &quot;fillOpacity&quot;: 0.3, &quot;fillRule&quot;: &quot;evenodd&quot;, &quot;lineCap&quot;: &quot;round&quot;, &quot;lineJoin&quot;: &quot;round&quot;, &quot;opacity&quot;: 1.0, &quot;radius&quot;: 1, &quot;stroke&quot;: true, &quot;weight&quot;: 3}\n",
       "            ).addTo(feature_group_df94cf8dee1ca81977059535af914771);\n",
       "        \n",
       "    \n",
       "            var circle_marker_a290c4e0f0a8e3ca36ef81adb8b4f142 = L.circleMarker(\n",
       "                [4.5654479, -74.1015664],\n",
       "                {&quot;bubblingMouseEvents&quot;: true, &quot;color&quot;: &quot;blue&quot;, &quot;dashArray&quot;: null, &quot;dashOffset&quot;: null, &quot;fill&quot;: true, &quot;fillColor&quot;: &quot;blue&quot;, &quot;fillOpacity&quot;: 0.3, &quot;fillRule&quot;: &quot;evenodd&quot;, &quot;lineCap&quot;: &quot;round&quot;, &quot;lineJoin&quot;: &quot;round&quot;, &quot;opacity&quot;: 1.0, &quot;radius&quot;: 1, &quot;stroke&quot;: true, &quot;weight&quot;: 3}\n",
       "            ).addTo(feature_group_df94cf8dee1ca81977059535af914771);\n",
       "        \n",
       "    \n",
       "            var circle_marker_5172719505f01d0eae0dd2e54762ee59 = L.circleMarker(\n",
       "                [4.619235, -74.10643],\n",
       "                {&quot;bubblingMouseEvents&quot;: true, &quot;color&quot;: &quot;blue&quot;, &quot;dashArray&quot;: null, &quot;dashOffset&quot;: null, &quot;fill&quot;: true, &quot;fillColor&quot;: &quot;blue&quot;, &quot;fillOpacity&quot;: 0.3, &quot;fillRule&quot;: &quot;evenodd&quot;, &quot;lineCap&quot;: &quot;round&quot;, &quot;lineJoin&quot;: &quot;round&quot;, &quot;opacity&quot;: 1.0, &quot;radius&quot;: 1, &quot;stroke&quot;: true, &quot;weight&quot;: 3}\n",
       "            ).addTo(feature_group_df94cf8dee1ca81977059535af914771);\n",
       "        \n",
       "    \n",
       "            var circle_marker_f4e3210b1aee39362f6994742481fe09 = L.circleMarker(\n",
       "                [4.6931036, -74.1687766],\n",
       "                {&quot;bubblingMouseEvents&quot;: true, &quot;color&quot;: &quot;blue&quot;, &quot;dashArray&quot;: null, &quot;dashOffset&quot;: null, &quot;fill&quot;: true, &quot;fillColor&quot;: &quot;blue&quot;, &quot;fillOpacity&quot;: 0.3, &quot;fillRule&quot;: &quot;evenodd&quot;, &quot;lineCap&quot;: &quot;round&quot;, &quot;lineJoin&quot;: &quot;round&quot;, &quot;opacity&quot;: 1.0, &quot;radius&quot;: 1, &quot;stroke&quot;: true, &quot;weight&quot;: 3}\n",
       "            ).addTo(feature_group_df94cf8dee1ca81977059535af914771);\n",
       "        \n",
       "    \n",
       "            var circle_marker_f4b10e7b77e70df4ebee9a388f198381 = L.circleMarker(\n",
       "                [4.7395747, -74.0490769],\n",
       "                {&quot;bubblingMouseEvents&quot;: true, &quot;color&quot;: &quot;blue&quot;, &quot;dashArray&quot;: null, &quot;dashOffset&quot;: null, &quot;fill&quot;: true, &quot;fillColor&quot;: &quot;blue&quot;, &quot;fillOpacity&quot;: 0.3, &quot;fillRule&quot;: &quot;evenodd&quot;, &quot;lineCap&quot;: &quot;round&quot;, &quot;lineJoin&quot;: &quot;round&quot;, &quot;opacity&quot;: 1.0, &quot;radius&quot;: 1, &quot;stroke&quot;: true, &quot;weight&quot;: 3}\n",
       "            ).addTo(feature_group_df94cf8dee1ca81977059535af914771);\n",
       "        \n",
       "    \n",
       "            var circle_marker_8bd25663eed4f53e184c3843f929588a = L.circleMarker(\n",
       "                [4.5817106, -74.1284672],\n",
       "                {&quot;bubblingMouseEvents&quot;: true, &quot;color&quot;: &quot;blue&quot;, &quot;dashArray&quot;: null, &quot;dashOffset&quot;: null, &quot;fill&quot;: true, &quot;fillColor&quot;: &quot;blue&quot;, &quot;fillOpacity&quot;: 0.3, &quot;fillRule&quot;: &quot;evenodd&quot;, &quot;lineCap&quot;: &quot;round&quot;, &quot;lineJoin&quot;: &quot;round&quot;, &quot;opacity&quot;: 1.0, &quot;radius&quot;: 1, &quot;stroke&quot;: true, &quot;weight&quot;: 3}\n",
       "            ).addTo(feature_group_df94cf8dee1ca81977059535af914771);\n",
       "        \n",
       "    \n",
       "            var circle_marker_01dfa49c98939949b74006028a8611e3 = L.circleMarker(\n",
       "                [4.5800895, -74.2009945],\n",
       "                {&quot;bubblingMouseEvents&quot;: true, &quot;color&quot;: &quot;blue&quot;, &quot;dashArray&quot;: null, &quot;dashOffset&quot;: null, &quot;fill&quot;: true, &quot;fillColor&quot;: &quot;blue&quot;, &quot;fillOpacity&quot;: 0.3, &quot;fillRule&quot;: &quot;evenodd&quot;, &quot;lineCap&quot;: &quot;round&quot;, &quot;lineJoin&quot;: &quot;round&quot;, &quot;opacity&quot;: 1.0, &quot;radius&quot;: 1, &quot;stroke&quot;: true, &quot;weight&quot;: 3}\n",
       "            ).addTo(feature_group_df94cf8dee1ca81977059535af914771);\n",
       "        \n",
       "    \n",
       "            var circle_marker_cb29c4b701a1ce8334cf52a2898f494d = L.circleMarker(\n",
       "                [4.5986754, -74.1880321],\n",
       "                {&quot;bubblingMouseEvents&quot;: true, &quot;color&quot;: &quot;blue&quot;, &quot;dashArray&quot;: null, &quot;dashOffset&quot;: null, &quot;fill&quot;: true, &quot;fillColor&quot;: &quot;blue&quot;, &quot;fillOpacity&quot;: 0.3, &quot;fillRule&quot;: &quot;evenodd&quot;, &quot;lineCap&quot;: &quot;round&quot;, &quot;lineJoin&quot;: &quot;round&quot;, &quot;opacity&quot;: 1.0, &quot;radius&quot;: 1, &quot;stroke&quot;: true, &quot;weight&quot;: 3}\n",
       "            ).addTo(feature_group_df94cf8dee1ca81977059535af914771);\n",
       "        \n",
       "    \n",
       "            var layer_control_6ff8cd9f58933359b6b12e37b065f977 = {\n",
       "                base_layers : {\n",
       "                    &quot;cartodbpositron&quot; : tile_layer_553c59f627016a5370bc129ae6c114aa,\n",
       "                },\n",
       "                overlays :  {\n",
       "                    &quot;Incidents&quot; : feature_group_a3fae91464b6830f082b3871b05594c9,\n",
       "                    &quot;Agents&quot; : feature_group_df94cf8dee1ca81977059535af914771,\n",
       "                },\n",
       "            };\n",
       "            L.control.layers(\n",
       "                layer_control_6ff8cd9f58933359b6b12e37b065f977.base_layers,\n",
       "                layer_control_6ff8cd9f58933359b6b12e37b065f977.overlays,\n",
       "                {&quot;autoZIndex&quot;: true, &quot;collapsed&quot;: true, &quot;position&quot;: &quot;topright&quot;}\n",
       "            ).addTo(map_87e71216fd25ff06427a56ad183a77f5);\n",
       "        \n",
       "&lt;/script&gt;\" style=\"position:absolute;width:100%;height:100%;left:0;top:0;border:none !important;\" allowfullscreen webkitallowfullscreen mozallowfullscreen></iframe></div></div>"
      ],
      "text/plain": [
       "<folium.folium.Map at 0x7f09197391e0>"
      ]
     },
     "execution_count": 11,
     "metadata": {},
     "output_type": "execute_result"
    }
   ],
   "source": [
    "folium_map = folium.Map(\n",
    "    location=[4.6534649, -74.0836453], zoom_start=12, tiles=\"CartoDB positron\"\n",
    ")\n",
    "\n",
    "incidents_feature_group = folium.FeatureGroup(name=\"Incidents\")\n",
    "for i in range(len(incidents_sample)):\n",
    "    marker = folium.CircleMarker(\n",
    "        location=incidents_sample.iloc[i].split(\",\")[::-1],\n",
    "        radius=1,\n",
    "        color=\"red\",\n",
    "        fill=True,\n",
    "        fill_opacity=0.3,\n",
    "    )\n",
    "    marker.add_to(incidents_feature_group)\n",
    "\n",
    "agents_feature_group = folium.FeatureGroup(name=\"Agents\")\n",
    "for i in range(len(agents_sample)):\n",
    "    marker = folium.CircleMarker(\n",
    "        location=agents_sample.iloc[i].split(\",\")[::-1],\n",
    "        radius=1,\n",
    "        color=\"blue\",\n",
    "        fill=True,\n",
    "        fill_opacity=0.3,\n",
    "    )\n",
    "    marker.add_to(agents_feature_group)\n",
    "\n",
    "incidents_feature_group.add_to(folium_map)\n",
    "agents_feature_group.add_to(folium_map)\n",
    "\n",
    "folium.LayerControl().add_to(folium_map)\n",
    "folium_map\n"
   ]
  },
  {
   "cell_type": "code",
   "execution_count": 12,
   "metadata": {},
   "outputs": [
    {
     "ename": "ConnectionError",
     "evalue": "HTTPConnectionPool(host='127.0.0.1', port=5000): Max retries exceeded with url: /table/v1/driving/-74.0995867,4.615981;-74.1241795,4.6196585;-74.1059283,4.6298267;-74.1366581,4.6511155;-74.1561167,4.5804683;-74.1352133,4.58698;-74.1092917,4.5796633;-74.106445,4.5866167;-74.1161715,4.6694361;-74.116225,4.61031;-74.1547399,4.5883178;-74.140527,4.5983103;-74.1100911,4.5868611;-74.1172057,4.6157602;-74.1354525,4.5763805;-74.1131562,4.6522242;-74.0812621,4.6000139;-74.1045128,4.6822799;-74.108515,4.5516463;-74.1377591,4.5891261;-74.1681975,4.5808575;-74.1028983,4.6184283;-74.11724,4.7138533;-74.1380083,4.5862667;-74.1337581,4.7024305;-74.1167681,4.6204234;-74.1519302,4.6502737;-74.1210833,4.6001233;-74.1353083,4.63264;-74.1217769,4.5574569;-74.0546768,4.6713906;-74.1334068,4.5840831;-74.1970551,4.6411838;-74.1080293,4.6077622;-74.0812033,4.5798129;-74.133665,4.586195;-74.106885,4.615795;-74.0997067,4.6157967;-74.1473483,4.6500037;-74.1945733,4.6230483;-74.1075067,4.6056567;-74.1029428,4.5760111;-74.1254,4.7589017;-74.1868048,4.6165278;-74.1142467,4.704675;-74.1023717,4.618825;-74.0471331,4.6624718;-74.08969,4.59334;-74.0979346,4.6164329;-74.0470406,4.6622886;-74.1515253,4.6808654;-74.0987004,4.5589141;-74.080455,4.59633;-74.1083027,4.6089342;-74.1081137,4.5650883;-74.1015664,4.5654479;-74.10643,4.619235;-74.1687766,4.6931036;-74.0490769,4.7395747;-74.1284672,4.5817106;-74.2009945,4.5800895;-74.1880321,4.5986754;-74.11123657226562,4.681146621704102;-74.11922454833984,4.668676376342773;-74.18736267089844,4.621780872344971;-74.17829132080078,4.597104549407959;-74.07024383544922,4.604316234588623;-74.1416015625,4.550992965698242;-74.14993286132812,4.56264591217041;-74.15193176269531,4.578229427337647;-74.16399383544922,4.5955491065979;-74.10365295410156,4.546347141265869;-74.05162811279297,4.722286224365234;-74.04696655273438,4.664573669433594;-74.1770248413086,4.625897407531738;-74.0972900390625,4.555251598358154;-74.11215209960938,4.619846820831299?sources=0;1;2;3;4;5;6;7;8;9;10;11;12;13;14;15;16;17;18;19;20;21;22;23;24;25;26;27;28;29;30;31;32;33;34;35;36;37;38;39;40;41;42;43;44;45;46;47;48;49;50;51;52;53;54;55;56;57;58;59;60;61&destinations=62;63;64;65;66;67;68;69;70;71;72;73;74;75;76 (Caused by NewConnectionError('<urllib3.connection.HTTPConnection object at 0x7f0917d4b0a0>: Failed to establish a new connection: [Errno 111] Connection refused'))",
     "output_type": "error",
     "traceback": [
      "\u001b[0;31m---------------------------------------------------------------------------\u001b[0m",
      "\u001b[0;31mConnectionRefusedError\u001b[0m                    Traceback (most recent call last)",
      "File \u001b[0;32m~/anaconda3/envs/optimization/lib/python3.10/site-packages/urllib3/connection.py:174\u001b[0m, in \u001b[0;36mHTTPConnection._new_conn\u001b[0;34m(self)\u001b[0m\n\u001b[1;32m    173\u001b[0m \u001b[39mtry\u001b[39;00m:\n\u001b[0;32m--> 174\u001b[0m     conn \u001b[39m=\u001b[39m connection\u001b[39m.\u001b[39;49mcreate_connection(\n\u001b[1;32m    175\u001b[0m         (\u001b[39mself\u001b[39;49m\u001b[39m.\u001b[39;49m_dns_host, \u001b[39mself\u001b[39;49m\u001b[39m.\u001b[39;49mport), \u001b[39mself\u001b[39;49m\u001b[39m.\u001b[39;49mtimeout, \u001b[39m*\u001b[39;49m\u001b[39m*\u001b[39;49mextra_kw\n\u001b[1;32m    176\u001b[0m     )\n\u001b[1;32m    178\u001b[0m \u001b[39mexcept\u001b[39;00m SocketTimeout:\n",
      "File \u001b[0;32m~/anaconda3/envs/optimization/lib/python3.10/site-packages/urllib3/util/connection.py:95\u001b[0m, in \u001b[0;36mcreate_connection\u001b[0;34m(address, timeout, source_address, socket_options)\u001b[0m\n\u001b[1;32m     94\u001b[0m \u001b[39mif\u001b[39;00m err \u001b[39mis\u001b[39;00m \u001b[39mnot\u001b[39;00m \u001b[39mNone\u001b[39;00m:\n\u001b[0;32m---> 95\u001b[0m     \u001b[39mraise\u001b[39;00m err\n\u001b[1;32m     97\u001b[0m \u001b[39mraise\u001b[39;00m socket\u001b[39m.\u001b[39merror(\u001b[39m\"\u001b[39m\u001b[39mgetaddrinfo returns an empty list\u001b[39m\u001b[39m\"\u001b[39m)\n",
      "File \u001b[0;32m~/anaconda3/envs/optimization/lib/python3.10/site-packages/urllib3/util/connection.py:85\u001b[0m, in \u001b[0;36mcreate_connection\u001b[0;34m(address, timeout, source_address, socket_options)\u001b[0m\n\u001b[1;32m     84\u001b[0m     sock\u001b[39m.\u001b[39mbind(source_address)\n\u001b[0;32m---> 85\u001b[0m sock\u001b[39m.\u001b[39;49mconnect(sa)\n\u001b[1;32m     86\u001b[0m \u001b[39mreturn\u001b[39;00m sock\n",
      "\u001b[0;31mConnectionRefusedError\u001b[0m: [Errno 111] Connection refused",
      "\nDuring handling of the above exception, another exception occurred:\n",
      "\u001b[0;31mNewConnectionError\u001b[0m                        Traceback (most recent call last)",
      "File \u001b[0;32m~/anaconda3/envs/optimization/lib/python3.10/site-packages/urllib3/connectionpool.py:703\u001b[0m, in \u001b[0;36mHTTPConnectionPool.urlopen\u001b[0;34m(self, method, url, body, headers, retries, redirect, assert_same_host, timeout, pool_timeout, release_conn, chunked, body_pos, **response_kw)\u001b[0m\n\u001b[1;32m    702\u001b[0m \u001b[39m# Make the request on the httplib connection object.\u001b[39;00m\n\u001b[0;32m--> 703\u001b[0m httplib_response \u001b[39m=\u001b[39m \u001b[39mself\u001b[39;49m\u001b[39m.\u001b[39;49m_make_request(\n\u001b[1;32m    704\u001b[0m     conn,\n\u001b[1;32m    705\u001b[0m     method,\n\u001b[1;32m    706\u001b[0m     url,\n\u001b[1;32m    707\u001b[0m     timeout\u001b[39m=\u001b[39;49mtimeout_obj,\n\u001b[1;32m    708\u001b[0m     body\u001b[39m=\u001b[39;49mbody,\n\u001b[1;32m    709\u001b[0m     headers\u001b[39m=\u001b[39;49mheaders,\n\u001b[1;32m    710\u001b[0m     chunked\u001b[39m=\u001b[39;49mchunked,\n\u001b[1;32m    711\u001b[0m )\n\u001b[1;32m    713\u001b[0m \u001b[39m# If we're going to release the connection in ``finally:``, then\u001b[39;00m\n\u001b[1;32m    714\u001b[0m \u001b[39m# the response doesn't need to know about the connection. Otherwise\u001b[39;00m\n\u001b[1;32m    715\u001b[0m \u001b[39m# it will also try to release it and we'll have a double-release\u001b[39;00m\n\u001b[1;32m    716\u001b[0m \u001b[39m# mess.\u001b[39;00m\n",
      "File \u001b[0;32m~/anaconda3/envs/optimization/lib/python3.10/site-packages/urllib3/connectionpool.py:398\u001b[0m, in \u001b[0;36mHTTPConnectionPool._make_request\u001b[0;34m(self, conn, method, url, timeout, chunked, **httplib_request_kw)\u001b[0m\n\u001b[1;32m    397\u001b[0m     \u001b[39melse\u001b[39;00m:\n\u001b[0;32m--> 398\u001b[0m         conn\u001b[39m.\u001b[39;49mrequest(method, url, \u001b[39m*\u001b[39;49m\u001b[39m*\u001b[39;49mhttplib_request_kw)\n\u001b[1;32m    400\u001b[0m \u001b[39m# We are swallowing BrokenPipeError (errno.EPIPE) since the server is\u001b[39;00m\n\u001b[1;32m    401\u001b[0m \u001b[39m# legitimately able to close the connection after sending a valid response.\u001b[39;00m\n\u001b[1;32m    402\u001b[0m \u001b[39m# With this behaviour, the received response is still readable.\u001b[39;00m\n",
      "File \u001b[0;32m~/anaconda3/envs/optimization/lib/python3.10/site-packages/urllib3/connection.py:239\u001b[0m, in \u001b[0;36mHTTPConnection.request\u001b[0;34m(self, method, url, body, headers)\u001b[0m\n\u001b[1;32m    238\u001b[0m     headers[\u001b[39m\"\u001b[39m\u001b[39mUser-Agent\u001b[39m\u001b[39m\"\u001b[39m] \u001b[39m=\u001b[39m _get_default_user_agent()\n\u001b[0;32m--> 239\u001b[0m \u001b[39msuper\u001b[39;49m(HTTPConnection, \u001b[39mself\u001b[39;49m)\u001b[39m.\u001b[39;49mrequest(method, url, body\u001b[39m=\u001b[39;49mbody, headers\u001b[39m=\u001b[39;49mheaders)\n",
      "File \u001b[0;32m~/anaconda3/envs/optimization/lib/python3.10/http/client.py:1282\u001b[0m, in \u001b[0;36mHTTPConnection.request\u001b[0;34m(self, method, url, body, headers, encode_chunked)\u001b[0m\n\u001b[1;32m   1281\u001b[0m \u001b[39m\"\"\"Send a complete request to the server.\"\"\"\u001b[39;00m\n\u001b[0;32m-> 1282\u001b[0m \u001b[39mself\u001b[39;49m\u001b[39m.\u001b[39;49m_send_request(method, url, body, headers, encode_chunked)\n",
      "File \u001b[0;32m~/anaconda3/envs/optimization/lib/python3.10/http/client.py:1328\u001b[0m, in \u001b[0;36mHTTPConnection._send_request\u001b[0;34m(self, method, url, body, headers, encode_chunked)\u001b[0m\n\u001b[1;32m   1327\u001b[0m     body \u001b[39m=\u001b[39m _encode(body, \u001b[39m'\u001b[39m\u001b[39mbody\u001b[39m\u001b[39m'\u001b[39m)\n\u001b[0;32m-> 1328\u001b[0m \u001b[39mself\u001b[39;49m\u001b[39m.\u001b[39;49mendheaders(body, encode_chunked\u001b[39m=\u001b[39;49mencode_chunked)\n",
      "File \u001b[0;32m~/anaconda3/envs/optimization/lib/python3.10/http/client.py:1277\u001b[0m, in \u001b[0;36mHTTPConnection.endheaders\u001b[0;34m(self, message_body, encode_chunked)\u001b[0m\n\u001b[1;32m   1276\u001b[0m     \u001b[39mraise\u001b[39;00m CannotSendHeader()\n\u001b[0;32m-> 1277\u001b[0m \u001b[39mself\u001b[39;49m\u001b[39m.\u001b[39;49m_send_output(message_body, encode_chunked\u001b[39m=\u001b[39;49mencode_chunked)\n",
      "File \u001b[0;32m~/anaconda3/envs/optimization/lib/python3.10/http/client.py:1037\u001b[0m, in \u001b[0;36mHTTPConnection._send_output\u001b[0;34m(self, message_body, encode_chunked)\u001b[0m\n\u001b[1;32m   1036\u001b[0m \u001b[39mdel\u001b[39;00m \u001b[39mself\u001b[39m\u001b[39m.\u001b[39m_buffer[:]\n\u001b[0;32m-> 1037\u001b[0m \u001b[39mself\u001b[39;49m\u001b[39m.\u001b[39;49msend(msg)\n\u001b[1;32m   1039\u001b[0m \u001b[39mif\u001b[39;00m message_body \u001b[39mis\u001b[39;00m \u001b[39mnot\u001b[39;00m \u001b[39mNone\u001b[39;00m:\n\u001b[1;32m   1040\u001b[0m \n\u001b[1;32m   1041\u001b[0m     \u001b[39m# create a consistent interface to message_body\u001b[39;00m\n",
      "File \u001b[0;32m~/anaconda3/envs/optimization/lib/python3.10/http/client.py:975\u001b[0m, in \u001b[0;36mHTTPConnection.send\u001b[0;34m(self, data)\u001b[0m\n\u001b[1;32m    974\u001b[0m \u001b[39mif\u001b[39;00m \u001b[39mself\u001b[39m\u001b[39m.\u001b[39mauto_open:\n\u001b[0;32m--> 975\u001b[0m     \u001b[39mself\u001b[39;49m\u001b[39m.\u001b[39;49mconnect()\n\u001b[1;32m    976\u001b[0m \u001b[39melse\u001b[39;00m:\n",
      "File \u001b[0;32m~/anaconda3/envs/optimization/lib/python3.10/site-packages/urllib3/connection.py:205\u001b[0m, in \u001b[0;36mHTTPConnection.connect\u001b[0;34m(self)\u001b[0m\n\u001b[1;32m    204\u001b[0m \u001b[39mdef\u001b[39;00m \u001b[39mconnect\u001b[39m(\u001b[39mself\u001b[39m):\n\u001b[0;32m--> 205\u001b[0m     conn \u001b[39m=\u001b[39m \u001b[39mself\u001b[39;49m\u001b[39m.\u001b[39;49m_new_conn()\n\u001b[1;32m    206\u001b[0m     \u001b[39mself\u001b[39m\u001b[39m.\u001b[39m_prepare_conn(conn)\n",
      "File \u001b[0;32m~/anaconda3/envs/optimization/lib/python3.10/site-packages/urllib3/connection.py:186\u001b[0m, in \u001b[0;36mHTTPConnection._new_conn\u001b[0;34m(self)\u001b[0m\n\u001b[1;32m    185\u001b[0m \u001b[39mexcept\u001b[39;00m SocketError \u001b[39mas\u001b[39;00m e:\n\u001b[0;32m--> 186\u001b[0m     \u001b[39mraise\u001b[39;00m NewConnectionError(\n\u001b[1;32m    187\u001b[0m         \u001b[39mself\u001b[39m, \u001b[39m\"\u001b[39m\u001b[39mFailed to establish a new connection: \u001b[39m\u001b[39m%s\u001b[39;00m\u001b[39m\"\u001b[39m \u001b[39m%\u001b[39m e\n\u001b[1;32m    188\u001b[0m     )\n\u001b[1;32m    190\u001b[0m \u001b[39mreturn\u001b[39;00m conn\n",
      "\u001b[0;31mNewConnectionError\u001b[0m: <urllib3.connection.HTTPConnection object at 0x7f0917d4b0a0>: Failed to establish a new connection: [Errno 111] Connection refused",
      "\nDuring handling of the above exception, another exception occurred:\n",
      "\u001b[0;31mMaxRetryError\u001b[0m                             Traceback (most recent call last)",
      "File \u001b[0;32m~/anaconda3/envs/optimization/lib/python3.10/site-packages/requests/adapters.py:489\u001b[0m, in \u001b[0;36mHTTPAdapter.send\u001b[0;34m(self, request, stream, timeout, verify, cert, proxies)\u001b[0m\n\u001b[1;32m    488\u001b[0m \u001b[39mif\u001b[39;00m \u001b[39mnot\u001b[39;00m chunked:\n\u001b[0;32m--> 489\u001b[0m     resp \u001b[39m=\u001b[39m conn\u001b[39m.\u001b[39;49murlopen(\n\u001b[1;32m    490\u001b[0m         method\u001b[39m=\u001b[39;49mrequest\u001b[39m.\u001b[39;49mmethod,\n\u001b[1;32m    491\u001b[0m         url\u001b[39m=\u001b[39;49murl,\n\u001b[1;32m    492\u001b[0m         body\u001b[39m=\u001b[39;49mrequest\u001b[39m.\u001b[39;49mbody,\n\u001b[1;32m    493\u001b[0m         headers\u001b[39m=\u001b[39;49mrequest\u001b[39m.\u001b[39;49mheaders,\n\u001b[1;32m    494\u001b[0m         redirect\u001b[39m=\u001b[39;49m\u001b[39mFalse\u001b[39;49;00m,\n\u001b[1;32m    495\u001b[0m         assert_same_host\u001b[39m=\u001b[39;49m\u001b[39mFalse\u001b[39;49;00m,\n\u001b[1;32m    496\u001b[0m         preload_content\u001b[39m=\u001b[39;49m\u001b[39mFalse\u001b[39;49;00m,\n\u001b[1;32m    497\u001b[0m         decode_content\u001b[39m=\u001b[39;49m\u001b[39mFalse\u001b[39;49;00m,\n\u001b[1;32m    498\u001b[0m         retries\u001b[39m=\u001b[39;49m\u001b[39mself\u001b[39;49m\u001b[39m.\u001b[39;49mmax_retries,\n\u001b[1;32m    499\u001b[0m         timeout\u001b[39m=\u001b[39;49mtimeout,\n\u001b[1;32m    500\u001b[0m     )\n\u001b[1;32m    502\u001b[0m \u001b[39m# Send the request.\u001b[39;00m\n\u001b[1;32m    503\u001b[0m \u001b[39melse\u001b[39;00m:\n",
      "File \u001b[0;32m~/anaconda3/envs/optimization/lib/python3.10/site-packages/urllib3/connectionpool.py:785\u001b[0m, in \u001b[0;36mHTTPConnectionPool.urlopen\u001b[0;34m(self, method, url, body, headers, retries, redirect, assert_same_host, timeout, pool_timeout, release_conn, chunked, body_pos, **response_kw)\u001b[0m\n\u001b[1;32m    783\u001b[0m     e \u001b[39m=\u001b[39m ProtocolError(\u001b[39m\"\u001b[39m\u001b[39mConnection aborted.\u001b[39m\u001b[39m\"\u001b[39m, e)\n\u001b[0;32m--> 785\u001b[0m retries \u001b[39m=\u001b[39m retries\u001b[39m.\u001b[39;49mincrement(\n\u001b[1;32m    786\u001b[0m     method, url, error\u001b[39m=\u001b[39;49me, _pool\u001b[39m=\u001b[39;49m\u001b[39mself\u001b[39;49m, _stacktrace\u001b[39m=\u001b[39;49msys\u001b[39m.\u001b[39;49mexc_info()[\u001b[39m2\u001b[39;49m]\n\u001b[1;32m    787\u001b[0m )\n\u001b[1;32m    788\u001b[0m retries\u001b[39m.\u001b[39msleep()\n",
      "File \u001b[0;32m~/anaconda3/envs/optimization/lib/python3.10/site-packages/urllib3/util/retry.py:592\u001b[0m, in \u001b[0;36mRetry.increment\u001b[0;34m(self, method, url, response, error, _pool, _stacktrace)\u001b[0m\n\u001b[1;32m    591\u001b[0m \u001b[39mif\u001b[39;00m new_retry\u001b[39m.\u001b[39mis_exhausted():\n\u001b[0;32m--> 592\u001b[0m     \u001b[39mraise\u001b[39;00m MaxRetryError(_pool, url, error \u001b[39mor\u001b[39;00m ResponseError(cause))\n\u001b[1;32m    594\u001b[0m log\u001b[39m.\u001b[39mdebug(\u001b[39m\"\u001b[39m\u001b[39mIncremented Retry for (url=\u001b[39m\u001b[39m'\u001b[39m\u001b[39m%s\u001b[39;00m\u001b[39m'\u001b[39m\u001b[39m): \u001b[39m\u001b[39m%r\u001b[39;00m\u001b[39m\"\u001b[39m, url, new_retry)\n",
      "\u001b[0;31mMaxRetryError\u001b[0m: HTTPConnectionPool(host='127.0.0.1', port=5000): Max retries exceeded with url: /table/v1/driving/-74.0995867,4.615981;-74.1241795,4.6196585;-74.1059283,4.6298267;-74.1366581,4.6511155;-74.1561167,4.5804683;-74.1352133,4.58698;-74.1092917,4.5796633;-74.106445,4.5866167;-74.1161715,4.6694361;-74.116225,4.61031;-74.1547399,4.5883178;-74.140527,4.5983103;-74.1100911,4.5868611;-74.1172057,4.6157602;-74.1354525,4.5763805;-74.1131562,4.6522242;-74.0812621,4.6000139;-74.1045128,4.6822799;-74.108515,4.5516463;-74.1377591,4.5891261;-74.1681975,4.5808575;-74.1028983,4.6184283;-74.11724,4.7138533;-74.1380083,4.5862667;-74.1337581,4.7024305;-74.1167681,4.6204234;-74.1519302,4.6502737;-74.1210833,4.6001233;-74.1353083,4.63264;-74.1217769,4.5574569;-74.0546768,4.6713906;-74.1334068,4.5840831;-74.1970551,4.6411838;-74.1080293,4.6077622;-74.0812033,4.5798129;-74.133665,4.586195;-74.106885,4.615795;-74.0997067,4.6157967;-74.1473483,4.6500037;-74.1945733,4.6230483;-74.1075067,4.6056567;-74.1029428,4.5760111;-74.1254,4.7589017;-74.1868048,4.6165278;-74.1142467,4.704675;-74.1023717,4.618825;-74.0471331,4.6624718;-74.08969,4.59334;-74.0979346,4.6164329;-74.0470406,4.6622886;-74.1515253,4.6808654;-74.0987004,4.5589141;-74.080455,4.59633;-74.1083027,4.6089342;-74.1081137,4.5650883;-74.1015664,4.5654479;-74.10643,4.619235;-74.1687766,4.6931036;-74.0490769,4.7395747;-74.1284672,4.5817106;-74.2009945,4.5800895;-74.1880321,4.5986754;-74.11123657226562,4.681146621704102;-74.11922454833984,4.668676376342773;-74.18736267089844,4.621780872344971;-74.17829132080078,4.597104549407959;-74.07024383544922,4.604316234588623;-74.1416015625,4.550992965698242;-74.14993286132812,4.56264591217041;-74.15193176269531,4.578229427337647;-74.16399383544922,4.5955491065979;-74.10365295410156,4.546347141265869;-74.05162811279297,4.722286224365234;-74.04696655273438,4.664573669433594;-74.1770248413086,4.625897407531738;-74.0972900390625,4.555251598358154;-74.11215209960938,4.619846820831299?sources=0;1;2;3;4;5;6;7;8;9;10;11;12;13;14;15;16;17;18;19;20;21;22;23;24;25;26;27;28;29;30;31;32;33;34;35;36;37;38;39;40;41;42;43;44;45;46;47;48;49;50;51;52;53;54;55;56;57;58;59;60;61&destinations=62;63;64;65;66;67;68;69;70;71;72;73;74;75;76 (Caused by NewConnectionError('<urllib3.connection.HTTPConnection object at 0x7f0917d4b0a0>: Failed to establish a new connection: [Errno 111] Connection refused'))",
      "\nDuring handling of the above exception, another exception occurred:\n",
      "\u001b[0;31mConnectionError\u001b[0m                           Traceback (most recent call last)",
      "\u001b[1;32m/home/david/Uni/Sexto/Intro. Optimización/traffic-incident-optimization/traffic.ipynb Cell 29'\u001b[0m in \u001b[0;36m<cell line: 14>\u001b[0;34m()\u001b[0m\n\u001b[1;32m      <a href='vscode-notebook-cell:/home/david/Uni/Sexto/Intro.%20Optimizaci%C3%B3n/traffic-incident-optimization/traffic.ipynb#ch0000030?line=8'>9</a>\u001b[0m destinations \u001b[39m=\u001b[39m \u001b[39m\"\u001b[39m\u001b[39m;\u001b[39m\u001b[39m\"\u001b[39m\u001b[39m.\u001b[39mjoin(\n\u001b[1;32m     <a href='vscode-notebook-cell:/home/david/Uni/Sexto/Intro.%20Optimizaci%C3%B3n/traffic-incident-optimization/traffic.ipynb#ch0000030?line=9'>10</a>\u001b[0m     \u001b[39mstr\u001b[39m(i) \u001b[39mfor\u001b[39;00m i \u001b[39min\u001b[39;00m \u001b[39mrange\u001b[39m(agents_count, agents_count \u001b[39m+\u001b[39m incidents_count)\n\u001b[1;32m     <a href='vscode-notebook-cell:/home/david/Uni/Sexto/Intro.%20Optimizaci%C3%B3n/traffic-incident-optimization/traffic.ipynb#ch0000030?line=10'>11</a>\u001b[0m )\n\u001b[1;32m     <a href='vscode-notebook-cell:/home/david/Uni/Sexto/Intro.%20Optimizaci%C3%B3n/traffic-incident-optimization/traffic.ipynb#ch0000030?line=12'>13</a>\u001b[0m \u001b[39m#Ojo con correr esto sin estar corriendo el servicio.\u001b[39;00m\n\u001b[1;32m     <a href='vscode-notebook-cell:/home/david/Uni/Sexto/Intro.%20Optimizaci%C3%B3n/traffic-incident-optimization/traffic.ipynb#ch0000030?line=13'>14</a>\u001b[0m durations \u001b[39m=\u001b[39m json\u001b[39m.\u001b[39mloads(\n\u001b[0;32m---> <a href='vscode-notebook-cell:/home/david/Uni/Sexto/Intro.%20Optimizaci%C3%B3n/traffic-incident-optimization/traffic.ipynb#ch0000030?line=14'>15</a>\u001b[0m     requests\u001b[39m.\u001b[39;49mget(\n\u001b[1;32m     <a href='vscode-notebook-cell:/home/david/Uni/Sexto/Intro.%20Optimizaci%C3%B3n/traffic-incident-optimization/traffic.ipynb#ch0000030?line=15'>16</a>\u001b[0m         \u001b[39mf\u001b[39;49m\u001b[39m\"\u001b[39;49m\u001b[39mhttp://127.0.0.1:5000/table/v1/driving/\u001b[39;49m\u001b[39m{\u001b[39;49;00mcoordinates\u001b[39m}\u001b[39;49;00m\u001b[39m?sources=\u001b[39;49m\u001b[39m{\u001b[39;49;00msources\u001b[39m}\u001b[39;49;00m\u001b[39m&destinations=\u001b[39;49m\u001b[39m{\u001b[39;49;00mdestinations\u001b[39m}\u001b[39;49;00m\u001b[39m\"\u001b[39;49m\n\u001b[1;32m     <a href='vscode-notebook-cell:/home/david/Uni/Sexto/Intro.%20Optimizaci%C3%B3n/traffic-incident-optimization/traffic.ipynb#ch0000030?line=16'>17</a>\u001b[0m     )\u001b[39m.\u001b[39mtext\n\u001b[1;32m     <a href='vscode-notebook-cell:/home/david/Uni/Sexto/Intro.%20Optimizaci%C3%B3n/traffic-incident-optimization/traffic.ipynb#ch0000030?line=17'>18</a>\u001b[0m )[\u001b[39m\"\u001b[39m\u001b[39mdurations\u001b[39m\u001b[39m\"\u001b[39m]\n",
      "File \u001b[0;32m~/anaconda3/envs/optimization/lib/python3.10/site-packages/requests/api.py:73\u001b[0m, in \u001b[0;36mget\u001b[0;34m(url, params, **kwargs)\u001b[0m\n\u001b[1;32m     62\u001b[0m \u001b[39mdef\u001b[39;00m \u001b[39mget\u001b[39m(url, params\u001b[39m=\u001b[39m\u001b[39mNone\u001b[39;00m, \u001b[39m*\u001b[39m\u001b[39m*\u001b[39mkwargs):\n\u001b[1;32m     63\u001b[0m     \u001b[39mr\u001b[39m\u001b[39m\"\"\"Sends a GET request.\u001b[39;00m\n\u001b[1;32m     64\u001b[0m \n\u001b[1;32m     65\u001b[0m \u001b[39m    :param url: URL for the new :class:`Request` object.\u001b[39;00m\n\u001b[0;32m   (...)\u001b[0m\n\u001b[1;32m     70\u001b[0m \u001b[39m    :rtype: requests.Response\u001b[39;00m\n\u001b[1;32m     71\u001b[0m \u001b[39m    \"\"\"\u001b[39;00m\n\u001b[0;32m---> 73\u001b[0m     \u001b[39mreturn\u001b[39;00m request(\u001b[39m\"\u001b[39;49m\u001b[39mget\u001b[39;49m\u001b[39m\"\u001b[39;49m, url, params\u001b[39m=\u001b[39;49mparams, \u001b[39m*\u001b[39;49m\u001b[39m*\u001b[39;49mkwargs)\n",
      "File \u001b[0;32m~/anaconda3/envs/optimization/lib/python3.10/site-packages/requests/api.py:59\u001b[0m, in \u001b[0;36mrequest\u001b[0;34m(method, url, **kwargs)\u001b[0m\n\u001b[1;32m     55\u001b[0m \u001b[39m# By using the 'with' statement we are sure the session is closed, thus we\u001b[39;00m\n\u001b[1;32m     56\u001b[0m \u001b[39m# avoid leaving sockets open which can trigger a ResourceWarning in some\u001b[39;00m\n\u001b[1;32m     57\u001b[0m \u001b[39m# cases, and look like a memory leak in others.\u001b[39;00m\n\u001b[1;32m     58\u001b[0m \u001b[39mwith\u001b[39;00m sessions\u001b[39m.\u001b[39mSession() \u001b[39mas\u001b[39;00m session:\n\u001b[0;32m---> 59\u001b[0m     \u001b[39mreturn\u001b[39;00m session\u001b[39m.\u001b[39;49mrequest(method\u001b[39m=\u001b[39;49mmethod, url\u001b[39m=\u001b[39;49murl, \u001b[39m*\u001b[39;49m\u001b[39m*\u001b[39;49mkwargs)\n",
      "File \u001b[0;32m~/anaconda3/envs/optimization/lib/python3.10/site-packages/requests/sessions.py:587\u001b[0m, in \u001b[0;36mSession.request\u001b[0;34m(self, method, url, params, data, headers, cookies, files, auth, timeout, allow_redirects, proxies, hooks, stream, verify, cert, json)\u001b[0m\n\u001b[1;32m    582\u001b[0m send_kwargs \u001b[39m=\u001b[39m {\n\u001b[1;32m    583\u001b[0m     \u001b[39m\"\u001b[39m\u001b[39mtimeout\u001b[39m\u001b[39m\"\u001b[39m: timeout,\n\u001b[1;32m    584\u001b[0m     \u001b[39m\"\u001b[39m\u001b[39mallow_redirects\u001b[39m\u001b[39m\"\u001b[39m: allow_redirects,\n\u001b[1;32m    585\u001b[0m }\n\u001b[1;32m    586\u001b[0m send_kwargs\u001b[39m.\u001b[39mupdate(settings)\n\u001b[0;32m--> 587\u001b[0m resp \u001b[39m=\u001b[39m \u001b[39mself\u001b[39;49m\u001b[39m.\u001b[39;49msend(prep, \u001b[39m*\u001b[39;49m\u001b[39m*\u001b[39;49msend_kwargs)\n\u001b[1;32m    589\u001b[0m \u001b[39mreturn\u001b[39;00m resp\n",
      "File \u001b[0;32m~/anaconda3/envs/optimization/lib/python3.10/site-packages/requests/sessions.py:701\u001b[0m, in \u001b[0;36mSession.send\u001b[0;34m(self, request, **kwargs)\u001b[0m\n\u001b[1;32m    698\u001b[0m start \u001b[39m=\u001b[39m preferred_clock()\n\u001b[1;32m    700\u001b[0m \u001b[39m# Send the request\u001b[39;00m\n\u001b[0;32m--> 701\u001b[0m r \u001b[39m=\u001b[39m adapter\u001b[39m.\u001b[39;49msend(request, \u001b[39m*\u001b[39;49m\u001b[39m*\u001b[39;49mkwargs)\n\u001b[1;32m    703\u001b[0m \u001b[39m# Total elapsed time of the request (approximately)\u001b[39;00m\n\u001b[1;32m    704\u001b[0m elapsed \u001b[39m=\u001b[39m preferred_clock() \u001b[39m-\u001b[39m start\n",
      "File \u001b[0;32m~/anaconda3/envs/optimization/lib/python3.10/site-packages/requests/adapters.py:565\u001b[0m, in \u001b[0;36mHTTPAdapter.send\u001b[0;34m(self, request, stream, timeout, verify, cert, proxies)\u001b[0m\n\u001b[1;32m    561\u001b[0m     \u001b[39mif\u001b[39;00m \u001b[39misinstance\u001b[39m(e\u001b[39m.\u001b[39mreason, _SSLError):\n\u001b[1;32m    562\u001b[0m         \u001b[39m# This branch is for urllib3 v1.22 and later.\u001b[39;00m\n\u001b[1;32m    563\u001b[0m         \u001b[39mraise\u001b[39;00m SSLError(e, request\u001b[39m=\u001b[39mrequest)\n\u001b[0;32m--> 565\u001b[0m     \u001b[39mraise\u001b[39;00m \u001b[39mConnectionError\u001b[39;00m(e, request\u001b[39m=\u001b[39mrequest)\n\u001b[1;32m    567\u001b[0m \u001b[39mexcept\u001b[39;00m ClosedPoolError \u001b[39mas\u001b[39;00m e:\n\u001b[1;32m    568\u001b[0m     \u001b[39mraise\u001b[39;00m \u001b[39mConnectionError\u001b[39;00m(e, request\u001b[39m=\u001b[39mrequest)\n",
      "\u001b[0;31mConnectionError\u001b[0m: HTTPConnectionPool(host='127.0.0.1', port=5000): Max retries exceeded with url: /table/v1/driving/-74.0995867,4.615981;-74.1241795,4.6196585;-74.1059283,4.6298267;-74.1366581,4.6511155;-74.1561167,4.5804683;-74.1352133,4.58698;-74.1092917,4.5796633;-74.106445,4.5866167;-74.1161715,4.6694361;-74.116225,4.61031;-74.1547399,4.5883178;-74.140527,4.5983103;-74.1100911,4.5868611;-74.1172057,4.6157602;-74.1354525,4.5763805;-74.1131562,4.6522242;-74.0812621,4.6000139;-74.1045128,4.6822799;-74.108515,4.5516463;-74.1377591,4.5891261;-74.1681975,4.5808575;-74.1028983,4.6184283;-74.11724,4.7138533;-74.1380083,4.5862667;-74.1337581,4.7024305;-74.1167681,4.6204234;-74.1519302,4.6502737;-74.1210833,4.6001233;-74.1353083,4.63264;-74.1217769,4.5574569;-74.0546768,4.6713906;-74.1334068,4.5840831;-74.1970551,4.6411838;-74.1080293,4.6077622;-74.0812033,4.5798129;-74.133665,4.586195;-74.106885,4.615795;-74.0997067,4.6157967;-74.1473483,4.6500037;-74.1945733,4.6230483;-74.1075067,4.6056567;-74.1029428,4.5760111;-74.1254,4.7589017;-74.1868048,4.6165278;-74.1142467,4.704675;-74.1023717,4.618825;-74.0471331,4.6624718;-74.08969,4.59334;-74.0979346,4.6164329;-74.0470406,4.6622886;-74.1515253,4.6808654;-74.0987004,4.5589141;-74.080455,4.59633;-74.1083027,4.6089342;-74.1081137,4.5650883;-74.1015664,4.5654479;-74.10643,4.619235;-74.1687766,4.6931036;-74.0490769,4.7395747;-74.1284672,4.5817106;-74.2009945,4.5800895;-74.1880321,4.5986754;-74.11123657226562,4.681146621704102;-74.11922454833984,4.668676376342773;-74.18736267089844,4.621780872344971;-74.17829132080078,4.597104549407959;-74.07024383544922,4.604316234588623;-74.1416015625,4.550992965698242;-74.14993286132812,4.56264591217041;-74.15193176269531,4.578229427337647;-74.16399383544922,4.5955491065979;-74.10365295410156,4.546347141265869;-74.05162811279297,4.722286224365234;-74.04696655273438,4.664573669433594;-74.1770248413086,4.625897407531738;-74.0972900390625,4.555251598358154;-74.11215209960938,4.619846820831299?sources=0;1;2;3;4;5;6;7;8;9;10;11;12;13;14;15;16;17;18;19;20;21;22;23;24;25;26;27;28;29;30;31;32;33;34;35;36;37;38;39;40;41;42;43;44;45;46;47;48;49;50;51;52;53;54;55;56;57;58;59;60;61&destinations=62;63;64;65;66;67;68;69;70;71;72;73;74;75;76 (Caused by NewConnectionError('<urllib3.connection.HTTPConnection object at 0x7f0917d4b0a0>: Failed to establish a new connection: [Errno 111] Connection refused'))"
     ]
    }
   ],
   "source": [
    "agents_coordinates = \";\".join(agents_sample)\n",
    "incidents_coordinates = \";\".join(incidents_sample)\n",
    "coordinates = agents_coordinates + \";\" + incidents_coordinates\n",
    "\n",
    "agents_count = agents_sample.shape[0]\n",
    "sources = \";\".join(str(i) for i in range(agents_count))\n",
    "\n",
    "incidents_count = incidents_sample.shape[0]\n",
    "destinations = \";\".join(\n",
    "    str(i) for i in range(agents_count, agents_count + incidents_count)\n",
    ")\n",
    "\n",
    "#Ojo con correr esto sin estar corriendo el servicio.\n",
    "durations = json.loads(\n",
    "    requests.get(\n",
    "        f\"http://127.0.0.1:5000/table/v1/driving/{coordinates}?sources={sources}&destinations={destinations}\"\n",
    "    ).text\n",
    ")[\"durations\"]\n"
   ]
  },
  {
   "cell_type": "code",
   "execution_count": null,
   "metadata": {},
   "outputs": [],
   "source": [
    "#Finally, we can create a dataframe with the durations in seconds.}\n",
    "\n",
    "df = pd.DataFrame(durations)\n",
    "#df = df.apply(lambda x: x/60)\n",
    "\n",
    "#df = df.set_index(agents_sample.index.get_level_values(1))\n",
    "#df = df.set_axis(list(incidents_sample.index.get_level_values(1)), axis=1)\n",
    "\n",
    "df\n"
   ]
  },
  {
   "cell_type": "code",
   "execution_count": null,
   "metadata": {},
   "outputs": [],
   "source": [
    "df.to_csv(\"durations.csv\", index=False)"
   ]
  }
 ],
 "metadata": {
  "kernelspec": {
   "display_name": "Python 3.10.4 ('optimization')",
   "language": "python",
   "name": "python3"
  },
  "language_info": {
   "codemirror_mode": {
    "name": "ipython",
    "version": 3
   },
   "file_extension": ".py",
   "mimetype": "text/x-python",
   "name": "python",
   "nbconvert_exporter": "python",
   "pygments_lexer": "ipython3",
   "version": "3.10.4"
  },
  "orig_nbformat": 4,
  "vscode": {
   "interpreter": {
    "hash": "de77474a33fd8f1ee12bf12da6b5b7652dc21eff8e6790427496dec9667dc888"
   }
  }
 },
 "nbformat": 4,
 "nbformat_minor": 2
}
