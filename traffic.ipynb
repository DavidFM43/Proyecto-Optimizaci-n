{
 "cells": [
  {
   "cell_type": "markdown",
   "metadata": {},
   "source": [
    "# **Traffic Incidents optimization**"
   ]
  },
  {
   "cell_type": "markdown",
   "metadata": {},
   "source": [
    "## **Context**"
   ]
  },
  {
   "cell_type": "markdown",
   "metadata": {},
   "source": [
    "## **Objectives**"
   ]
  },
  {
   "cell_type": "markdown",
   "metadata": {},
   "source": [
    "## **Model formulation**"
   ]
  },
  {
   "cell_type": "markdown",
   "metadata": {},
   "source": [
    "## **Model implementation**"
   ]
  },
  {
   "cell_type": "markdown",
   "metadata": {},
   "source": [
    "Imports"
   ]
  },
  {
   "cell_type": "code",
   "execution_count": 2,
   "metadata": {},
   "outputs": [],
   "source": [
    "import cvxpy as cp\n",
    "import numpy as np\n",
    "# np.set_printoptions(precision=3, suppress=True)"
   ]
  },
  {
   "cell_type": "markdown",
   "metadata": {},
   "source": [
    "First step is to maximize the severities of the incidents under current response resources(Number of available agents)"
   ]
  },
  {
   "cell_type": "code",
   "execution_count": null,
   "metadata": {},
   "outputs": [],
   "source": [
    "i = 3 # number of agents\n",
    "j = 5  # number of incidents\n",
    "\n",
    "b = np.array([1, 2, 3, 2, 1]) # agents needed per incidents"
   ]
  },
  {
   "cell_type": "code",
   "execution_count": 7,
   "metadata": {},
   "outputs": [
    {
     "name": "stdout",
     "output_type": "stream",
     "text": [
      "Agents needed:\n",
      " [1 2 3 2 1]\n"
     ]
    }
   ],
   "source": [
    "print(\"Agents needed:\\n\", b, end=\"\\n\")"
   ]
  },
  {
   "cell_type": "code",
   "execution_count": 8,
   "metadata": {},
   "outputs": [
    {
     "name": "stdout",
     "output_type": "stream",
     "text": [
      "===============================================================================\n",
      "                                     CVXPY                                     \n",
      "                                     v1.2.1                                    \n",
      "===============================================================================\n",
      "(CVXPY) Jun 22 03:44:06 PM: Your problem has 20 variables, 2 constraints, and 0 parameters.\n",
      "(CVXPY) Jun 22 03:44:06 PM: It is compliant with the following grammars: DCP, DQCP\n",
      "(CVXPY) Jun 22 03:44:06 PM: (If you need to solve this problem multiple times, but with different data, consider using parameters.)\n",
      "(CVXPY) Jun 22 03:44:06 PM: CVXPY will first compile your problem; then, it will invoke a numerical solver to obtain a solution.\n",
      "-------------------------------------------------------------------------------\n",
      "                                  Compilation                                  \n",
      "-------------------------------------------------------------------------------\n",
      "(CVXPY) Jun 22 03:44:06 PM: Compiling problem (target solver=SCIP).\n",
      "(CVXPY) Jun 22 03:44:06 PM: Reduction chain: FlipObjective -> Dcp2Cone -> CvxAttr2Constr -> ConeMatrixStuffing -> SCIP\n",
      "(CVXPY) Jun 22 03:44:06 PM: Applying reduction FlipObjective\n",
      "(CVXPY) Jun 22 03:44:06 PM: Applying reduction Dcp2Cone\n",
      "(CVXPY) Jun 22 03:44:06 PM: Applying reduction CvxAttr2Constr\n",
      "(CVXPY) Jun 22 03:44:06 PM: Applying reduction ConeMatrixStuffing\n",
      "(CVXPY) Jun 22 03:44:06 PM: Applying reduction SCIP\n",
      "(CVXPY) Jun 22 03:44:06 PM: Finished problem compilation (took 3.486e-02 seconds).\n",
      "-------------------------------------------------------------------------------\n",
      "                                Numerical solver                               \n",
      "-------------------------------------------------------------------------------\n",
      "(CVXPY) Jun 22 03:44:06 PM: Invoking solver SCIP  to obtain a solution.\n",
      "-------------------------------------------------------------------------------\n",
      "                                    Summary                                    \n",
      "-------------------------------------------------------------------------------presolving:\n",
      "   (0.0s) symmetry computation started: requiring (bin +, int -, cont +), (fixed: bin -, int +, cont -)\n",
      "   (0.0s) symmetry computation finished: 4 generators found (max: 1500, log10 of symmetry group size: 1.4)\n",
      "presolving (0 rounds: 0 fast, 0 medium, 0 exhaustive):\n",
      " 0 deleted vars, 0 deleted constraints, 0 added constraints, 0 tightened bounds, 0 added holes, 0 changed sides, 0 changed coefficients\n",
      " 0 implications, 0 cliques\n",
      "presolved problem has 20 variables (20 bin, 0 int, 0 impl, 0 cont) and 8 constraints\n",
      "      8 constraints of type <linear>\n",
      "transformed objective value is always integral (scale: 1)\n",
      "Presolving Time: 0.00\n",
      "\n",
      " time | node  | left  |LP iter|LP it/n|mem/heur|mdpt |vars |cons |rows |cuts |sepa|confs|strbr|  dualbound   | primalbound  |  gap   | compl. \n",
      "* 0.0s|     1 |     0 |    16 |     - |    LP  |   0 |  20 |   8 |   8 |   0 |  0 |   0 |   0 |-3.000000e+00 |-3.000000e+00 |   0.00%| unknown\n",
      "  0.0s|     1 |     0 |    16 |     - |   898k |   0 |  20 |   8 |   8 |   0 |  0 |   0 |   0 |-3.000000e+00 |-3.000000e+00 |   0.00%| unknown\n",
      "\n",
      "SCIP Status        : problem is solved [optimal solution found]\n",
      "Solving Time (sec) : 0.00\n",
      "Solving Nodes      : 1\n",
      "Primal Bound       : -3.00000000000000e+00 (1 solutions)\n",
      "Dual Bound         : -3.00000000000000e+00\n",
      "Gap                : 0.00 %\n",
      "\n",
      "(CVXPY) Jun 22 03:44:06 PM: Problem status: optimal\n",
      "(CVXPY) Jun 22 03:44:06 PM: Optimal value: 3.000e+00\n",
      "(CVXPY) Jun 22 03:44:06 PM: Compilation took 3.486e-02 seconds\n",
      "(CVXPY) Jun 22 03:44:06 PM: Solver (including time spent in interface) took 1.309e-02 seconds\n"
     ]
    },
    {
     "data": {
      "text/plain": [
       "3.0"
      ]
     },
     "execution_count": 8,
     "metadata": {},
     "output_type": "execute_result"
    }
   ],
   "source": [
    "x = cp.Variable((i, j), boolean=True) # agents-incidents matrix\n",
    "z = cp.Variable(j, boolean=True) # incidents coverage vector\n",
    "\n",
    "objective = cp.Maximize(b@z) \n",
    "\n",
    "constraints = [cp.sum(x, axis=0) >= cp.multiply(b, z), # required agents per incidents\n",
    "               cp.sum(x, axis=1) <= 1 # one agent covers at max. one incident\n",
    "               ]\n",
    "               \n",
    "problem = cp.Problem(objective, constraints)\n",
    "\n",
    "problem.solve(verbose=1)"
   ]
  },
  {
   "cell_type": "code",
   "execution_count": 10,
   "metadata": {},
   "outputs": [
    {
     "name": "stdout",
     "output_type": "stream",
     "text": [
      "Agents :\n",
      " [[0. 0. 1. 0. 0.]\n",
      " [0. 0. 1. 0. 0.]\n",
      " [0. 0. 1. 0. 0.]]\n",
      "\n",
      "Incidents:\n",
      " [0. 0. 1. 0. 0.]\n"
     ]
    }
   ],
   "source": [
    "print(\"Agents :\\n\", x.value, end=\"\\n\\n\")\n",
    "print(\"Incidents:\\n\", z.value)"
   ]
  },
  {
   "cell_type": "markdown",
   "metadata": {},
   "source": [
    "Next step is to minize the total travel time of all the agents"
   ]
  },
  {
   "cell_type": "code",
   "execution_count": 13,
   "metadata": {},
   "outputs": [
    {
     "data": {
      "text/plain": [
       "array([[0.442, 0.677, 0.253, 0.004, 0.185],\n",
       "       [0.465, 0.379, 0.927, 0.277, 0.842],\n",
       "       [0.551, 0.216, 0.514, 0.136, 0.799]])"
      ]
     },
     "execution_count": 13,
     "metadata": {},
     "output_type": "execute_result"
    }
   ],
   "source": [
    "t = np.random.random((i, j))  # travel times matrix\n",
    "t"
   ]
  },
  {
   "cell_type": "code",
   "execution_count": 14,
   "metadata": {},
   "outputs": [
    {
     "data": {
      "text/plain": [
       "1.693996824207376"
      ]
     },
     "execution_count": 14,
     "metadata": {},
     "output_type": "execute_result"
    }
   ],
   "source": [
    "objective = cp.Minimize(cp.sum(cp.sum(cp.multiply(x, t), axis=0)))\n",
    "\n",
    "\n",
    "constraints = [cp.sum(x, axis=0) >= cp.multiply(b, z.value), # required agents per incidents\n",
    "               cp.sum(x, axis=1) <= 1 # one agent covers at max. one incident\n",
    "               ]\n",
    "               \n",
    "problem = cp.Problem(objective, constraints)\n",
    "\n",
    "problem.solve()"
   ]
  },
  {
   "cell_type": "code",
   "execution_count": 15,
   "metadata": {},
   "outputs": [
    {
     "data": {
      "text/plain": [
       "array([[0., 0., 1., 0., 0.],\n",
       "       [0., 0., 1., 0., 0.],\n",
       "       [0., 0., 1., 0., 0.]])"
      ]
     },
     "execution_count": 15,
     "metadata": {},
     "output_type": "execute_result"
    }
   ],
   "source": [
    "x.value"
   ]
  },
  {
   "cell_type": "markdown",
   "metadata": {},
   "source": [
    "## **Model in practice**"
   ]
  },
  {
   "cell_type": "code",
   "execution_count": 1,
   "metadata": {},
   "outputs": [],
   "source": [
    "import pandas as pd"
   ]
  },
  {
   "cell_type": "code",
   "execution_count": 2,
   "metadata": {},
   "outputs": [],
   "source": [
    "agents = pd.read_csv(\"agents_may.csv\")\n",
    "incidents = pd.read_csv(\"incidents_may.csv\")"
   ]
  },
  {
   "cell_type": "code",
   "execution_count": 3,
   "metadata": {},
   "outputs": [
    {
     "data": {
      "text/html": [
       "<div>\n",
       "<style scoped>\n",
       "    .dataframe tbody tr th:only-of-type {\n",
       "        vertical-align: middle;\n",
       "    }\n",
       "\n",
       "    .dataframe tbody tr th {\n",
       "        vertical-align: top;\n",
       "    }\n",
       "\n",
       "    .dataframe thead th {\n",
       "        text-align: right;\n",
       "    }\n",
       "</style>\n",
       "<table border=\"1\" class=\"dataframe\">\n",
       "  <thead>\n",
       "    <tr style=\"text-align: right;\">\n",
       "      <th></th>\n",
       "      <th>id</th>\n",
       "      <th>source</th>\n",
       "      <th>type</th>\n",
       "      <th>state</th>\n",
       "      <th>priority</th>\n",
       "      <th>gravity</th>\n",
       "      <th>class</th>\n",
       "      <th>object</th>\n",
       "      <th>latitude</th>\n",
       "      <th>longitude</th>\n",
       "      <th>...</th>\n",
       "      <th>address</th>\n",
       "      <th>zone_id</th>\n",
       "      <th>orient</th>\n",
       "      <th>incident_time</th>\n",
       "      <th>incident_day</th>\n",
       "      <th>incident_weekday</th>\n",
       "      <th>incident_hour</th>\n",
       "      <th>implicated_type</th>\n",
       "      <th>injured_count</th>\n",
       "      <th>dead_count</th>\n",
       "    </tr>\n",
       "  </thead>\n",
       "  <tbody>\n",
       "    <tr>\n",
       "      <th>0</th>\n",
       "      <td>57518</td>\n",
       "      <td>NUSE</td>\n",
       "      <td>Choque</td>\n",
       "      <td>Cerrado</td>\n",
       "      <td>2</td>\n",
       "      <td>Simple</td>\n",
       "      <td>Siniestro</td>\n",
       "      <td>NaN</td>\n",
       "      <td>4.705279</td>\n",
       "      <td>-74.127686</td>\n",
       "      <td>...</td>\n",
       "      <td>Carrera 110 Calle 69 B</td>\n",
       "      <td>Zona 1</td>\n",
       "      <td>Sur - Norte</td>\n",
       "      <td>2022-04-30 23:59:00</td>\n",
       "      <td>30</td>\n",
       "      <td>5</td>\n",
       "      <td>23</td>\n",
       "      <td>Automóvil</td>\n",
       "      <td>0.0</td>\n",
       "      <td>0.0</td>\n",
       "    </tr>\n",
       "    <tr>\n",
       "      <th>1</th>\n",
       "      <td>57518</td>\n",
       "      <td>NUSE</td>\n",
       "      <td>Choque</td>\n",
       "      <td>Cerrado</td>\n",
       "      <td>2</td>\n",
       "      <td>Simple</td>\n",
       "      <td>Siniestro</td>\n",
       "      <td>NaN</td>\n",
       "      <td>4.705279</td>\n",
       "      <td>-74.127686</td>\n",
       "      <td>...</td>\n",
       "      <td>Carrera 110 Calle 69 B</td>\n",
       "      <td>Zona 1</td>\n",
       "      <td>Sur - Norte</td>\n",
       "      <td>2022-04-30 23:59:00</td>\n",
       "      <td>30</td>\n",
       "      <td>5</td>\n",
       "      <td>23</td>\n",
       "      <td>Automóvil</td>\n",
       "      <td>0.0</td>\n",
       "      <td>0.0</td>\n",
       "    </tr>\n",
       "    <tr>\n",
       "      <th>2</th>\n",
       "      <td>57519</td>\n",
       "      <td>NUSE</td>\n",
       "      <td>Choque</td>\n",
       "      <td>Cerrado</td>\n",
       "      <td>1</td>\n",
       "      <td>Simple</td>\n",
       "      <td>Siniestro</td>\n",
       "      <td>NaN</td>\n",
       "      <td>4.600571</td>\n",
       "      <td>-74.143379</td>\n",
       "      <td>...</td>\n",
       "      <td>Carrera 68I Calle 43 B SUR</td>\n",
       "      <td>Zona 2</td>\n",
       "      <td>Norte - sur</td>\n",
       "      <td>2022-04-30 23:54:00</td>\n",
       "      <td>30</td>\n",
       "      <td>5</td>\n",
       "      <td>23</td>\n",
       "      <td>Automóvil</td>\n",
       "      <td>0.0</td>\n",
       "      <td>0.0</td>\n",
       "    </tr>\n",
       "    <tr>\n",
       "      <th>3</th>\n",
       "      <td>57519</td>\n",
       "      <td>NUSE</td>\n",
       "      <td>Choque</td>\n",
       "      <td>Cerrado</td>\n",
       "      <td>1</td>\n",
       "      <td>Simple</td>\n",
       "      <td>Siniestro</td>\n",
       "      <td>NaN</td>\n",
       "      <td>4.600571</td>\n",
       "      <td>-74.143379</td>\n",
       "      <td>...</td>\n",
       "      <td>Carrera 68I Calle 43 B SUR</td>\n",
       "      <td>Zona 2</td>\n",
       "      <td>Norte - sur</td>\n",
       "      <td>2022-04-30 23:54:00</td>\n",
       "      <td>30</td>\n",
       "      <td>5</td>\n",
       "      <td>23</td>\n",
       "      <td>Automóvil</td>\n",
       "      <td>0.0</td>\n",
       "      <td>0.0</td>\n",
       "    </tr>\n",
       "    <tr>\n",
       "      <th>4</th>\n",
       "      <td>57519</td>\n",
       "      <td>NUSE</td>\n",
       "      <td>Choque</td>\n",
       "      <td>Cerrado</td>\n",
       "      <td>1</td>\n",
       "      <td>Simple</td>\n",
       "      <td>Siniestro</td>\n",
       "      <td>NaN</td>\n",
       "      <td>4.600571</td>\n",
       "      <td>-74.143379</td>\n",
       "      <td>...</td>\n",
       "      <td>Carrera 68I Calle 43 B SUR</td>\n",
       "      <td>Zona 2</td>\n",
       "      <td>Norte - sur</td>\n",
       "      <td>2022-04-30 23:54:00</td>\n",
       "      <td>30</td>\n",
       "      <td>5</td>\n",
       "      <td>23</td>\n",
       "      <td>Automóvil</td>\n",
       "      <td>0.0</td>\n",
       "      <td>0.0</td>\n",
       "    </tr>\n",
       "  </tbody>\n",
       "</table>\n",
       "<p>5 rows × 23 columns</p>\n",
       "</div>"
      ],
      "text/plain": [
       "      id source    type    state  priority gravity      class object  \\\n",
       "0  57518   NUSE  Choque  Cerrado         2  Simple  Siniestro    NaN   \n",
       "1  57518   NUSE  Choque  Cerrado         2  Simple  Siniestro    NaN   \n",
       "2  57519   NUSE  Choque  Cerrado         1  Simple  Siniestro    NaN   \n",
       "3  57519   NUSE  Choque  Cerrado         1  Simple  Siniestro    NaN   \n",
       "4  57519   NUSE  Choque  Cerrado         1  Simple  Siniestro    NaN   \n",
       "\n",
       "   latitude  longitude  ...                     address zone_id       orient  \\\n",
       "0  4.705279 -74.127686  ...      Carrera 110 Calle 69 B  Zona 1  Sur - Norte   \n",
       "1  4.705279 -74.127686  ...      Carrera 110 Calle 69 B  Zona 1  Sur - Norte   \n",
       "2  4.600571 -74.143379  ...  Carrera 68I Calle 43 B SUR  Zona 2  Norte - sur   \n",
       "3  4.600571 -74.143379  ...  Carrera 68I Calle 43 B SUR  Zona 2  Norte - sur   \n",
       "4  4.600571 -74.143379  ...  Carrera 68I Calle 43 B SUR  Zona 2  Norte - sur   \n",
       "\n",
       "         incident_time incident_day incident_weekday incident_hour  \\\n",
       "0  2022-04-30 23:59:00           30                5            23   \n",
       "1  2022-04-30 23:59:00           30                5            23   \n",
       "2  2022-04-30 23:54:00           30                5            23   \n",
       "3  2022-04-30 23:54:00           30                5            23   \n",
       "4  2022-04-30 23:54:00           30                5            23   \n",
       "\n",
       "   implicated_type  injured_count  dead_count  \n",
       "0        Automóvil            0.0         0.0  \n",
       "1        Automóvil            0.0         0.0  \n",
       "2        Automóvil            0.0         0.0  \n",
       "3        Automóvil            0.0         0.0  \n",
       "4        Automóvil            0.0         0.0  \n",
       "\n",
       "[5 rows x 23 columns]"
      ]
     },
     "execution_count": 3,
     "metadata": {},
     "output_type": "execute_result"
    }
   ],
   "source": [
    "incidents.head()"
   ]
  },
  {
   "cell_type": "code",
   "execution_count": 4,
   "metadata": {},
   "outputs": [
    {
     "data": {
      "text/html": [
       "<div>\n",
       "<style scoped>\n",
       "    .dataframe tbody tr th:only-of-type {\n",
       "        vertical-align: middle;\n",
       "    }\n",
       "\n",
       "    .dataframe tbody tr th {\n",
       "        vertical-align: top;\n",
       "    }\n",
       "\n",
       "    .dataframe thead th {\n",
       "        text-align: right;\n",
       "    }\n",
       "</style>\n",
       "<table border=\"1\" class=\"dataframe\">\n",
       "  <thead>\n",
       "    <tr style=\"text-align: right;\">\n",
       "      <th></th>\n",
       "      <th>id</th>\n",
       "      <th>dev_id</th>\n",
       "      <th>read_time</th>\n",
       "      <th>time_stamp</th>\n",
       "      <th>speed</th>\n",
       "      <th>grp_name</th>\n",
       "      <th>localidad</th>\n",
       "      <th>latitude</th>\n",
       "      <th>longitude</th>\n",
       "      <th>devicegroupid</th>\n",
       "    </tr>\n",
       "  </thead>\n",
       "  <tbody>\n",
       "    <tr>\n",
       "      <th>0</th>\n",
       "      <td>1651381596</td>\n",
       "      <td>868033050089715</td>\n",
       "      <td>2022-05-01 00:06:36</td>\n",
       "      <td>2022-05-01 00:01:40</td>\n",
       "      <td>0.053087</td>\n",
       "      <td>S60</td>\n",
       "      <td>RAFAEL URIBE URIBE</td>\n",
       "      <td>4.551646</td>\n",
       "      <td>-74.108515</td>\n",
       "      <td>6</td>\n",
       "    </tr>\n",
       "    <tr>\n",
       "      <th>1</th>\n",
       "      <td>1651381596</td>\n",
       "      <td>868033050102534</td>\n",
       "      <td>2022-05-01 00:06:36</td>\n",
       "      <td>2022-05-01 00:01:42</td>\n",
       "      <td>0.000000</td>\n",
       "      <td>S60</td>\n",
       "      <td>KENNEDY</td>\n",
       "      <td>4.650030</td>\n",
       "      <td>-74.147322</td>\n",
       "      <td>6</td>\n",
       "    </tr>\n",
       "    <tr>\n",
       "      <th>2</th>\n",
       "      <td>1651381596</td>\n",
       "      <td>868033050090085</td>\n",
       "      <td>2022-05-01 00:06:36</td>\n",
       "      <td>2022-05-01 00:01:47</td>\n",
       "      <td>0.000000</td>\n",
       "      <td>S60</td>\n",
       "      <td>RAFAEL URIBE URIBE</td>\n",
       "      <td>4.581688</td>\n",
       "      <td>-74.128348</td>\n",
       "      <td>6</td>\n",
       "    </tr>\n",
       "    <tr>\n",
       "      <th>3</th>\n",
       "      <td>1651381596</td>\n",
       "      <td>868033050103508</td>\n",
       "      <td>2022-05-01 00:06:36</td>\n",
       "      <td>2022-05-01 00:01:52</td>\n",
       "      <td>0.000000</td>\n",
       "      <td>S60</td>\n",
       "      <td>CIUDAD BOLIVAR</td>\n",
       "      <td>4.551098</td>\n",
       "      <td>-74.147635</td>\n",
       "      <td>6</td>\n",
       "    </tr>\n",
       "    <tr>\n",
       "      <th>4</th>\n",
       "      <td>1651381596</td>\n",
       "      <td>868033050101650</td>\n",
       "      <td>2022-05-01 00:06:36</td>\n",
       "      <td>2022-05-01 00:01:55</td>\n",
       "      <td>0.000000</td>\n",
       "      <td>S60</td>\n",
       "      <td>KENNEDY</td>\n",
       "      <td>4.619840</td>\n",
       "      <td>-74.159668</td>\n",
       "      <td>6</td>\n",
       "    </tr>\n",
       "  </tbody>\n",
       "</table>\n",
       "</div>"
      ],
      "text/plain": [
       "           id           dev_id            read_time           time_stamp  \\\n",
       "0  1651381596  868033050089715  2022-05-01 00:06:36  2022-05-01 00:01:40   \n",
       "1  1651381596  868033050102534  2022-05-01 00:06:36  2022-05-01 00:01:42   \n",
       "2  1651381596  868033050090085  2022-05-01 00:06:36  2022-05-01 00:01:47   \n",
       "3  1651381596  868033050103508  2022-05-01 00:06:36  2022-05-01 00:01:52   \n",
       "4  1651381596  868033050101650  2022-05-01 00:06:36  2022-05-01 00:01:55   \n",
       "\n",
       "      speed grp_name           localidad  latitude  longitude  devicegroupid  \n",
       "0  0.053087      S60  RAFAEL URIBE URIBE  4.551646 -74.108515              6  \n",
       "1  0.000000      S60             KENNEDY  4.650030 -74.147322              6  \n",
       "2  0.000000      S60  RAFAEL URIBE URIBE  4.581688 -74.128348              6  \n",
       "3  0.000000      S60      CIUDAD BOLIVAR  4.551098 -74.147635              6  \n",
       "4  0.000000      S60             KENNEDY  4.619840 -74.159668              6  "
      ]
     },
     "execution_count": 4,
     "metadata": {},
     "output_type": "execute_result"
    }
   ],
   "source": [
    "agents.head()"
   ]
  }
 ],
 "metadata": {
  "kernelspec": {
   "display_name": "Python 3.10.4 ('optimization')",
   "language": "python",
   "name": "python3"
  },
  "language_info": {
   "codemirror_mode": {
    "name": "ipython",
    "version": 3
   },
   "file_extension": ".py",
   "mimetype": "text/x-python",
   "name": "python",
   "nbconvert_exporter": "python",
   "pygments_lexer": "ipython3",
   "version": "3.10.4"
  },
  "orig_nbformat": 4,
  "vscode": {
   "interpreter": {
    "hash": "de77474a33fd8f1ee12bf12da6b5b7652dc21eff8e6790427496dec9667dc888"
   }
  }
 },
 "nbformat": 4,
 "nbformat_minor": 2
}
